{
 "cells": [
  {
   "cell_type": "markdown",
   "metadata": {},
   "source": [
    "# 01 Classify images with AutoML using Vertex AI\n",
    "\n",
    "Key Concepts: \n",
    "- AutoML \n",
    "- Image Classification\n",
    "- Vertex AI\n",
    "\n",
    "# Objective \n",
    "Use an Image flower dataset to train an AutoML model that classifies image data.\n",
    "\n",
    "# Dataset\n",
    "The image files used are from the flower dataset. These input images are stored in a public GCS bucket with a CSV file for data import. This file has two columns: the first column lists an image's URI in GCS, and the second column contains the image's label. \n",
    "\n",
    "On the autoML console, “create dataset” and set the import file path to the CSV file.\n",
    "\n",
    "```bash\n",
    "gs://cloud-samples-data/ai-platform/flowers/flowers.csv \n",
    "``` \n",
    "\n",
    "## Training an AutoML Image Classification Model \n",
    "The AutoML training method allows the user to train the model with minimal effort and ML expertise.\n",
    "\n",
    "Node budget was set to 8 hours and training took several hours and a notification was sent after. Training completed in 30 minutes with an accuracy score of 0.98\n",
    "\n",
    "## Deployment\n",
    "After the AutoML image classification model completed training, the next step was to create an endpoint and deploy the model to the endpoint.  \n",
    "\n",
    "Endpoints can be created from the evaluation tab on the training page. This was named “automl_image”. The Model settings accepted the traffic split of 100% and 1 node was deployed to serve the endpoint prediction. \n",
    "\n",
    "After the model was deployed to this new endpoint, the next step was to send an image to the model for label prediction.\n",
    "\n",
    "## Prediction\n",
    "After the endpoint creation process finished, we sent a single image annotation (prediction) request in the console. This was done by using the “Test the model” section and uploading a picture for prediction. \n",
    "\n",
    "The precision recall value was 94.8%, Recall 93.7%, Confidence threshold score = 0.5. \n",
    "\n",
    "Each prediction was assigned a confidence score, which is an assessment of the model’s certainty that the predicted label is correct (positive). The confidence threshold returns predictions as positive if their confidence score is the selected value or higher. A higher confidence threshold increases precision but lowers recall, and vice versa.\n",
    "\n"
   ]
  }
 ],
 "metadata": {
  "kernelspec": {
   "display_name": "Python 3.8.9 64-bit",
   "language": "python",
   "name": "python3"
  },
  "language_info": {
   "name": "python",
   "version": "3.9.6"
  },
  "orig_nbformat": 4,
  "vscode": {
   "interpreter": {
    "hash": "31f2aee4e71d21fbe5cf8b01ff0e069b9275f58929596ceb00d14d90e3e16cd6"
   }
  }
 },
 "nbformat": 4,
 "nbformat_minor": 2
}
