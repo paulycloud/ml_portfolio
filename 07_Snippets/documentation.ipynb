{
 "cells": [
  {
   "cell_type": "markdown",
   "metadata": {},
   "source": [
    "###### Copyright \n",
    "**Author:** [Paul Kamau](https://github.com/paulycloud/ml_portfolio)<br>\n",
    "**Date created:** 2020/07/21<br>\n",
    "**Last modified:** 2021/07/16<br>\n",
    "**Title:** How to predict [prediction] on [dataset] data using a [ml algorithm type] model on [technology]\n",
    "**Description:** \n",
    "**Dataset:** \n",
    "\n",
    "### Summary\n",
    "\n",
    "This project uses a logisitic classification regression model to predict churn for real-time inference, with the data in BigQuery and model trained using BigQuery ML, registered to Vertex AI Model Registry, and deployed to an endpoint on Vertex AI for online predictions.\n",
    "\n",
    "This tutorial uses the following Google Cloud data analytics and ML services:\n",
    "\n",
    "## Key Concepts\n",
    "1. Logistic regression \n",
    "1. Explainable AI\n",
    "1. ML.EVALUATE\n",
    "1. ML PREDICT\n",
    "\n",
    "## Steps\n",
    "1. Create the dataset \n",
    "1. Use the SELECT statement to examine the data \n",
    "1. Use the CREATE VIEW statement to compile your training data\n",
    "1. Use the CREATE MODEL statement to create your logistic regression model. \n",
    "1. Use the ML.EVALUATE function to evaluate the model data\n",
    "1. Use the ML.PREDICT function to predict the income bracket for a given set of census participants.\n",
    "1. Use the ML.EXPLAIN_PREDICT function to explain prediction results with explainable AI Methods. \n",
    "1. Use the ML.GLOBAL_EXPLAIN function to know which features are the most important to determine the income bracket. \n",
    "\n",
    "## Results\n",
    "Prediction Value \n",
    "\n",
    "#### Execute notebook in Colab\n",
    "<a href=\"https://colab.research.google.com/github/paulycloud/ml_portfolio/blob/main/AutoML/01_image_classification/02_salad_categories/index.ipynb\">\n",
    "    <img src=\"https://cloud.google.com/ml-engine/images/colab-logo-32px.png\" alt=\"Colab logo\"> Run in Colab\n",
    "</a>\n"
   ]
  }
 ],
 "metadata": {
  "kernelspec": {
   "display_name": "Python 3.9.6 64-bit",
   "language": "python",
   "name": "python3"
  },
  "language_info": {
   "name": "python",
   "version": "3.9.6"
  },
  "orig_nbformat": 4,
  "vscode": {
   "interpreter": {
    "hash": "31f2aee4e71d21fbe5cf8b01ff0e069b9275f58929596ceb00d14d90e3e16cd6"
   }
  }
 },
 "nbformat": 4,
 "nbformat_minor": 2
}
