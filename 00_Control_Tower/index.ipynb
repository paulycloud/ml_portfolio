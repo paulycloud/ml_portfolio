{
 "cells": [
  {
   "cell_type": "code",
   "execution_count": null,
   "metadata": {},
   "outputs": [],
   "source": [
    "# GLOBAL model from endpoint and delete endpoint\n",
    "endpoints = vertex_ai.Endpoint.list()\n",
    "\n",
    "for x in endpoints:\n",
    "  x.undeploy_all()\n",
    "  x.delete()"
   ]
  }
 ],
 "metadata": {
  "language_info": {
   "name": "python"
  },
  "orig_nbformat": 4
 },
 "nbformat": 4,
 "nbformat_minor": 2
}
