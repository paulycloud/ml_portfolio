{
 "cells": [
  {
   "cell_type": "markdown",
   "metadata": {},
   "source": [
    "## AutoML\n",
    "\n",
    "```python\n",
    "# Project variables \n",
    "#\n",
    "# These are the project variable used in this ML Model: \n",
    "#\n",
    "\n",
    "PROJECT_ID = [\"project_id\"] # @param {type:\"string\"}\n",
    "automl_type = \"[\\\"image / text / tabular / video \\\"]\" # @param {type:\"string\"}\n",
    "model_display_name = \"automl_image_salad_model\"\n",
    "job_display_name = model_display_name + \"_job\"\n",
    "endpoint_display_name = model_display_name + \"_endpoint\"\n",
    "\n",
    "## datasets \n",
    "dataset_display_name = model_display_name + \"_dataset\"\n",
    "dataset_source_uri = \"gs://cloud-ml-data/NL-classification/happiness.csv\"\n",
    "dataset_source_public = \"https://storage.googleapis.com/cloud-ml-data/NL-classification/happiness.csv\"\n",
    "\n",
    "# bucket details\n",
    "BUCKET_NAME = \"auto-ml-tutorials\"\n",
    "BUCKET_URI = f\"gs://{BUCKET_NAME}/{automl_type}/\"\n",
    "OUTPUTBUCKET = f\"gs://auto_ml_datasets_predictions/{automl_type}/\"\n",
    "\n",
    "```"
   ]
  },
  {
   "cell_type": "markdown",
   "metadata": {},
   "source": [
    "# BigQueryML\n",
    "\n",
    "```python\n",
    "# Project variables \n",
    "#\n",
    "# These are the project variable used in this ML Model: \n",
    "#\n",
    "# Get your Google Cloud project ID from gcloud\n",
    "import os\n",
    "\n",
    "PROJECT_ID = [\"project_id\"] # @param {type:\"string\"}\n",
    "bqml_type = \"[\\\"log_reg / linear_reg / k-means \\\"]\" # @param {type:\"string\"}\n",
    "BQML_MODEL_NAME = \"bqml_log_reg_census_income_model\"\n",
    "job_display_name = BQML_MODEL_NAME + \"_job\"\n",
    "ENDPOINT_NAME = BQML_MODEL_NAME + \"_endpoint\"\n",
    "\n",
    "# datasets\n",
    "BQ_DATASET_NAME = BQML_MODEL_NAME + \"_dataset\"\n",
    "sql_create_dataset = f\"\"\"CREATE SCHEMA IF NOT EXISTS {BQ_DATASET_NAME}\"\"\"\n",
    "BQ_PUBLIC_DATASET = \"bigquery-public-data.ml_datasets.census_adult_income\"\n",
    "\n",
    "# bucket details\n",
    "BUCKET_NAME = \"bqml_tutorials\"\n",
    "BUCKET_URI = f\"gs://{BUCKET_NAME}/{bqml_type}/\"\n",
    "OUTPUTBUCKET = f\"gs://bqml_datasets_predictions/{bqml_type}/\"\n",
    "\n",
    "# Region \n",
    "REGION = [\"region\"] # @param {type: \"string\"}  #\"us-central1\"\n",
    "\n",
    "\n",
    "```"
   ]
  },
  {
   "cell_type": "markdown",
   "metadata": {},
   "source": [
    "# TensorFlow"
   ]
  }
 ],
 "metadata": {
  "kernelspec": {
   "display_name": "Python 3.9.6 64-bit",
   "language": "python",
   "name": "python3"
  },
  "language_info": {
   "name": "python",
   "version": "3.9.6"
  },
  "orig_nbformat": 4,
  "vscode": {
   "interpreter": {
    "hash": "31f2aee4e71d21fbe5cf8b01ff0e069b9275f58929596ceb00d14d90e3e16cd6"
   }
  }
 },
 "nbformat": 4,
 "nbformat_minor": 2
}
