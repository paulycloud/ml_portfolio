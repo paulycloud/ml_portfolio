{
 "cells": [
  {
   "cell_type": "markdown",
   "metadata": {},
   "source": [
    "## How to write titles \n",
    "\n",
    "How to predict [prediction] on [dataset] data using a [ml algorithm type] model on [technology]\n",
    " \n",
    "\n",
    "#### examples: \n",
    "- How to use logistic classification regression model to predict Churn on pre-processed Google Analytics 4 data using  BigQueryML"
   ]
  }
 ],
 "metadata": {
  "language_info": {
   "name": "python"
  },
  "orig_nbformat": 4
 },
 "nbformat": 4,
 "nbformat_minor": 2
}
