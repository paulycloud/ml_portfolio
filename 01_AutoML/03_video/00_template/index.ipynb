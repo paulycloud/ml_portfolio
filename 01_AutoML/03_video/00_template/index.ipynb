{
  "cells": [
    {
      "cell_type": "markdown",
      "metadata": {
        "id": "title"
      },
      "source": [
        "# How to use a AutoML Video  object tracking model for batch prediction\n",
        "\n",
        "##### Copyright\n",
        "**GUI Author:** [ Google Cloud](https://github.com/GoogleCloudPlatform/vertex-ai-samples/blob/main/notebooks/official/automl/sdk_automl_video_object_tracking_batch.ipynb)<br>\n",
        "**Notebook Adoption Author:** [Paul Kamau](https://paulkamau.com)<br>\n",
        "**Project Type:** AutoML Object Detection Video<br>\n",
        "**Date created:** 2022/12/10<br>\n",
        "**Dataset** The dataset used for this tutorial is the [Traffic](https://storage.googleapis.com/automl-video-demo-data/traffic_videos/traffic_videos_labels.csv) dataset. The version of the dataset you will use in this tutorial is stored in a public Cloud Storage bucket.\n",
        "\n",
        "This project demonstrates how to use the Vertex AI SDK for Python to create video object tracking models and do batch prediction using a Google Cloud [AutoML](https://cloud.google.com/vertex-ai/docs/start/automl-users) model.\n",
        "\n",
        "### Objective\n",
        "\n",
        "- Create an AutoML video object tracking model from a Python script\n",
        "- Create a Vertex `Dataset` resource.\n",
        "- Train the model.\n",
        "- View the model evaluation.\n",
        "- Make a batch prediction.\n",
        "\n",
        "### Dataset\n",
        "\n",
        "The dataset used for this tutorial is the [Traffic](https://storage.googleapis.com/automl-video-demo-data/traffic_videos/traffic_videos_labels.csv) dataset. The version of the dataset you will use in this tutorial is stored in a public Cloud Storage bucket.\n",
        "\n",
        "[![Colab](https://cloud.google.com/ml-engine/images/colab-logo-32px.png) Run in colab](https://colab.research.google.com/github/)"
      ]
    },
    {
      "cell_type": "markdown",
      "metadata": {
        "id": "install_aip:mbsdk"
      },
      "source": [
        "# Envrionment prep\n",
        "\n",
        "Install the latest version of Vertex SDK for Python."
      ]
    },
    {
      "cell_type": "code",
      "execution_count": 1,
      "metadata": {
        "id": "KxMQwcjs0Sjc"
      },
      "outputs": [],
      "source": [
        "import os\n",
        "\n",
        "# Google Cloud Notebook\n",
        "if os.path.exists(\"/opt/deeplearning/metadata/env_version\"):\n",
        "    USER_FLAG = \"--user\"\n",
        "else:\n",
        "    USER_FLAG = \"\""
      ]
    },
    {
      "cell_type": "markdown",
      "metadata": {
        "id": "install_storage"
      },
      "source": [
        "#### Import the Google Cloud SDK packages"
      ]
    },
    {
      "cell_type": "code",
      "execution_count": 8,
      "metadata": {
        "id": "-uhdcHfp0Sjc"
      },
      "outputs": [],
      "source": [
        "! pip3 install --upgrade google-cloud-aiplatform $USER_FLAG \"shapely<2\"\n",
        "! pip3 install -U google-cloud-storage $USER_FLAG\n",
        "\n",
        "import json\n",
        "import pandas as pd\n",
        "import google.cloud.aiplatform as aiplatform\n",
        "from google.cloud import storage"
      ]
    },
    {
      "cell_type": "markdown",
      "metadata": {
        "id": "restart"
      },
      "source": [
        "### Restart the kernel\n",
        "\n",
        "Once you've installed the additional packages, you need to restart the notebook kernel so it can find the packages."
      ]
    },
    {
      "cell_type": "code",
      "execution_count": 2,
      "metadata": {
        "id": "z_O39doT0Sjd"
      },
      "outputs": [],
      "source": [
        "\n",
        "if not os.getenv(\"IS_TESTING\"):\n",
        "    # Automatically restart kernel after installs\n",
        "    import IPython\n",
        "\n",
        "    app = IPython.Application.instance()\n",
        "    app.kernel.do_shutdown(True)"
      ]
    },
    {
      "cell_type": "markdown",
      "metadata": {
        "id": "before_you_begin:nogpu"
      },
      "source": [
        "## Before you begin\n",
        "\n",
        "### GPU runtime\n",
        "\n",
        "This tutorial does not require a GPU runtime.\n",
        "\n",
        "### Set up your Google Cloud project\n",
        "\n",
        "**The following steps are required, regardless of your notebook environment.**\n",
        "\n",
        "1. [Select or create a Google Cloud project](https://console.cloud.google.com/cloud-resource-manager). When you first create an account, you get a $300 free credit towards your compute/storage costs.\n",
        "\n",
        "2. [Make sure that billing is enabled for your project.](https://cloud.google.com/billing/docs/how-to/modify-project)\n",
        "\n",
        "3. [Enable the following APIs: Vertex AI APIs, Compute Engine APIs, and Cloud Storage.](https://console.cloud.google.com/flows/enableapi?apiid=ml.googleapis.com,compute_component,storage-component.googleapis.com)\n",
        "\n",
        "4. If you are running this notebook locally, you will need to install the [Cloud SDK]((https://cloud.google.com/sdk)).\n",
        "\n",
        "5. Enter your project ID in the cell below. Then run the  cell to make sure the\n",
        "Cloud SDK uses the right project for all the commands in this notebook.\n",
        "\n",
        "**Note**: Jupyter runs lines prefixed with `!` as shell commands, and it interpolates Python variables prefixed with `$`."
      ]
    },
    {
      "cell_type": "markdown",
      "metadata": {
        "id": "XrP0RAFP16OR"
      },
      "source": [
        "## Project variables\n",
        "These are the project variable used in this ML Model:"
      ]
    },
    {
      "cell_type": "code",
      "execution_count": 9,
      "metadata": {
        "id": "qaiY-asS10D4",
        "colab": {
          "base_uri": "https://localhost:8080/"
        },
        "outputId": "dd0c91b3-40ff-498a-9236-c7d20589ac7a"
      },
      "outputs": [
        {
          "output_type": "stream",
          "name": "stdout",
          "text": [
            "All project variables set. Lets go\n"
          ]
        }
      ],
      "source": [
        "# Project variables\n",
        "#\n",
        "# These are the project variable used in this ML Model:\n",
        "#\n",
        "PROJECT_ID = \"\" # @param {type:\"string\"}\n",
        "REGION = \"us-central1\" #@param [\"us-central1\", \"europe-west4\", \"asia-east1\", \"video\"]\n",
        "automl_type = \"video\" #@param [\"image\", \"text\", \"tabular\", \"video\"]\n",
        "model_display_name = \"automl_video_traffic_detection_model\"\n",
        "job_display_name = model_display_name + \"_job\"\n",
        "endpoint_display_name = model_display_name + \"_endpoint\"\n",
        "\n",
        "## datasets\n",
        "dataset_display_name = model_display_name + \"_dataset\"\n",
        "dataset_source_uri = \"gs://automl-video-demo-data/traffic_videos/traffic_videos_labels.csv\"\n",
        "dataset_source_public = \"https://storage.googleapis.com/automl-video-demo-data/traffic_videos/traffic_videos_labels.csv\"\n",
        "batch_display_name = model_display_name + \"_batch_prediction\"\n",
        "\n",
        "# bucket details\n",
        "BUCKET_NAME = \"auto-ml-tutorials\" #auto-ml bucket\n",
        "BUCKET_URI = f\"gs://{BUCKET_NAME}/{automl_type}/\" # automl bucket uri\n",
        "BUCKET_PREDICTION_OUTPUT = f\"gs://auto_ml_datasets_predictions/{automl_type}/\"\n",
        "BUCKET_INPUT_BATCHPREDICT = f\"gs://{BUCKET_NAME}/{automl_type}/{model_display_name}\" # contains the files to be used for batch prediction\n",
        "\n",
        "print(\"All project variables set. Lets go\")"
      ]
    },
    {
      "cell_type": "code",
      "execution_count": 4,
      "metadata": {
        "id": "jVof4_PZ0Sje"
      },
      "outputs": [],
      "source": [
        "# If you are running this notebook in Colab, run this cell and follow the\n",
        "# instructions to authenticate your GCP account. This provides access to your\n",
        "# Cloud Storage bucket and lets you submit training jobs and prediction\n",
        "# requests.\n",
        "\n",
        "import os\n",
        "import sys\n",
        "\n",
        "# If on Google Cloud Notebook, then don't execute this code\n",
        "if not os.path.exists(\"/opt/deeplearning/metadata/env_version\"):\n",
        "    if \"google.colab\" in sys.modules:\n",
        "        from google.colab import auth as google_auth\n",
        "\n",
        "        google_auth.authenticate_user()\n",
        "\n",
        "    # If you are running this notebook locally, replace the string below with the\n",
        "    # path to your service account key and run this cell to authenticate your GCP\n",
        "    # account.\n",
        "    elif not os.getenv(\"IS_TESTING\"):\n",
        "        %env GOOGLE_APPLICATION_CREDENTIALS ''"
      ]
    },
    {
      "cell_type": "markdown",
      "metadata": {
        "id": "bucket:mbsdk"
      },
      "source": [
        "### Create a Cloud Storage bucket\n",
        "\n",
        "**The following steps are required, regardless of your notebook environment.**\n",
        "\n",
        "When you initialize the Vertex SDK for Python, you specify a Cloud Storage staging bucket. The staging bucket is where all the data associated with your dataset and model resources are retained across sessions.\n",
        "\n",
        "Set the name of your Cloud Storage bucket below. Bucket names must be globally unique across all Google Cloud projects, including those outside of your organization."
      ]
    },
    {
      "cell_type": "markdown",
      "metadata": {
        "id": "create_bucket"
      },
      "source": [
        "**Only if your bucket doesn't already exist**: Run the following cell to create your Cloud Storage bucket."
      ]
    },
    {
      "cell_type": "code",
      "execution_count": null,
      "metadata": {
        "id": "OLUIsicM0Sje"
      },
      "outputs": [],
      "source": [
        "!gsutil mb -l $REGION -p $PROJECT_ID $BUCKET_URI"
      ]
    },
    {
      "cell_type": "markdown",
      "metadata": {
        "id": "validate_bucket"
      },
      "source": [
        "Finally, validate access to your Cloud Storage bucket by examining its contents:"
      ]
    },
    {
      "cell_type": "code",
      "execution_count": 5,
      "metadata": {
        "colab": {
          "base_uri": "https://localhost:8080/"
        },
        "id": "5RKmQnNj0Sje",
        "outputId": "4978a0c6-fef5-4292-f1ca-d9f948d55acf"
      },
      "outputs": [
        {
          "output_type": "stream",
          "name": "stdout",
          "text": [
            "         0  2022-07-23T20:52:09Z  gs://auto-ml-tutorials/video/#1658609529122789  metageneration=1\n",
            "     54106  2022-07-23T20:52:58Z  gs://auto-ml-tutorials/video/hmdb_split1_5classes_all.csv#1658609578821711  metageneration=1\n",
            "TOTAL: 2 objects, 54106 bytes (52.84 KiB)\n"
          ]
        }
      ],
      "source": [
        "!gsutil ls -al $BUCKET_URI"
      ]
    },
    {
      "cell_type": "markdown",
      "metadata": {
        "id": "init_aip:mbsdk"
      },
      "source": [
        "## Initialize Vertex SDK for Python\n",
        "\n",
        "Initialize the Vertex SDK for Python for your project and corresponding bucket."
      ]
    },
    {
      "cell_type": "code",
      "execution_count": 5,
      "metadata": {
        "id": "xOqyqg070Sje"
      },
      "outputs": [],
      "source": [
        "aiplatform.init(project=PROJECT_ID, staging_bucket=BUCKET_URI)"
      ]
    },
    {
      "cell_type": "markdown",
      "metadata": {
        "id": "tutorial_start:automl"
      },
      "source": [
        "# Build the Machine Learning Model\n",
        "\n",
        "Now you are ready to start creating your own AutoML video object tracking model."
      ]
    },
    {
      "cell_type": "markdown",
      "metadata": {
        "id": "import_file:u_dataset,csv"
      },
      "source": [
        "#### Location of Cloud Storage training data.\n",
        "\n",
        "Now set the variable `dataset_source_uri` to the location of the CSV index file in Cloud Storage."
      ]
    },
    {
      "cell_type": "code",
      "execution_count": 10,
      "metadata": {
        "id": "import_file:traffic,csv,vot"
      },
      "outputs": [],
      "source": [
        "dataset_source_uri = dataset_source_uri"
      ]
    },
    {
      "cell_type": "markdown",
      "metadata": {
        "id": "quick_peek:csv"
      },
      "source": [
        "#### Quick peek at your data\n",
        "\n",
        "This tutorial uses a version of the Traffic dataset that is stored in a public Cloud Storage bucket, using a CSV index file.\n",
        "\n",
        "Start by doing a quick peek at the data. You count the number of examples by counting the number of rows in the CSV index file  (`wc -l`) and then peek at the first few rows."
      ]
    },
    {
      "cell_type": "code",
      "execution_count": 69,
      "metadata": {
        "colab": {
          "base_uri": "https://localhost:8080/"
        },
        "id": "__UpYmzt0Sjf",
        "outputId": "72cba20b-7419-4fbd-d9b3-8dc653e736ad"
      },
      "outputs": [
        {
          "output_type": "stream",
          "name": "stdout",
          "text": [
            "total number of rows = ['685']\n",
            "\n",
            "5 rows sample\n",
            "   gs://automl-video-demo-data/traffic_videos/highway_005.mp4           sedan  1565750291672021  11.933333  0.509205  0.594283  Unnamed: 6  Unnamed: 7  0.728737  0.760959  Unnamed: 10  Unnamed: 11\n",
            "0  gs://automl-video-demo-data/traffic_videos/highway_005.mp4  pickup_suv_van  1565750291672171  17.566666  0.761241  0.498466         NaN         NaN  0.948839  0.668524          NaN          NaN\n",
            "1  gs://automl-video-demo-data/traffic_videos/highway_005.mp4  pickup_suv_van  1565750291672223  20.433333  0.000000  0.465235         NaN         NaN  0.142638  0.665644          NaN          NaN\n",
            "2  gs://automl-video-demo-data/traffic_videos/highway_005.mp4  pickup_suv_van  1565750291672347  25.766666  0.486523  0.592331         NaN         NaN  0.720611  0.776687          NaN          NaN\n",
            "3  gs://automl-video-demo-data/traffic_videos/highway_005.mp4  pickup_suv_van  1565750291672575  28.966666  0.578534  0.652778         NaN         NaN  0.828647  0.862967          NaN          NaN\n",
            "4  gs://automl-video-demo-data/traffic_videos/highway_005.mp4  pickup_suv_van  1565750291672549  28.966666  0.000000  0.518571         NaN         NaN  0.148841  0.737677          NaN          NaN\n"
          ]
        }
      ],
      "source": [
        "data_rows_count = ! gsutil cat $dataset_source_uri | wc -l\n",
        "print(f\"total number of rows = {data_rows_count}\")\n",
        "\n",
        "# Read the data\n",
        "dataset_sample = pd.read_csv(dataset_source_public,nrows=5)\n",
        "\n",
        "# Use the next code cell to print the first five rows of the data.\n",
        "dataset_sample.head()\n",
        "\n",
        "print(\"\\n5 rows sample\")\n",
        "print(dataset_sample.to_string())\n",
        "#print(dataset_sample.head())"
      ]
    },
    {
      "cell_type": "code",
      "source": [
        "## list columns\n",
        "print(\"\\nThese are the columns\")\n",
        "cols = list(pd.read_csv(dataset_source_public, nrows =1))\n",
        "for i in cols:\n",
        "       print(i)\n",
        "\n",
        "# Shape of training data (num_rows, num_columns)\n",
        "#print(dataset_sample.head())"
      ],
      "metadata": {
        "colab": {
          "base_uri": "https://localhost:8080/"
        },
        "id": "s6w31mhjbNHO",
        "outputId": "d2afacba-e47e-435b-8ab1-2707981d696f"
      },
      "execution_count": 67,
      "outputs": [
        {
          "output_type": "stream",
          "name": "stdout",
          "text": [
            "\n",
            "These are the columns\n",
            "gs://automl-video-demo-data/traffic_videos/highway_005.mp4\n",
            "sedan\n",
            "1565750291672021\n",
            "11.933333\n",
            "0.509205\n",
            "0.594283\n",
            "Unnamed: 6\n",
            "Unnamed: 7\n",
            "0.728737\n",
            "0.760959\n",
            "Unnamed: 10\n",
            "Unnamed: 11\n"
          ]
        }
      ]
    },
    {
      "cell_type": "markdown",
      "source": [
        "#### Here's a sample of the video\n",
        "\n",
        "Let's view a sample of the video using the function below."
      ],
      "metadata": {
        "id": "kze2J4r9MKy4"
      }
    },
    {
      "cell_type": "code",
      "source": [
        "from IPython.display import HTML\n",
        "\n",
        "# enter the video url in the variable below after '''https://storage.googleapis.com/'''\n",
        "video_url = \"https://storage.googleapis.com/automl-video-demo-data/traffic_videos/highway_005.mp4\"\n",
        "\n",
        "HTML(f\"\"\"\n",
        "<video width=\"320\" height=\"240\" controls>\n",
        "  <source src=\"{video_url}\" \"video/mp4\">\n",
        "</video>\n",
        "\"\"\")"
      ],
      "metadata": {
        "colab": {
          "base_uri": "https://localhost:8080/",
          "height": 261
        },
        "id": "9vwkycRDMI5j",
        "outputId": "9e38719a-3c24-4c39-af90-649522cc7195"
      },
      "execution_count": 24,
      "outputs": [
        {
          "output_type": "execute_result",
          "data": {
            "text/plain": [
              "<IPython.core.display.HTML object>"
            ],
            "text/html": [
              "\n",
              "<video width=\"320\" height=\"240\" controls>\n",
              "  <source src=\"https://storage.googleapis.com/automl-video-demo-data/traffic_videos/highway_005.mp4\" \"video/mp4\">\n",
              "</video>\n"
            ]
          },
          "metadata": {},
          "execution_count": 24
        }
      ]
    },
    {
      "cell_type": "markdown",
      "metadata": {
        "id": "create_dataset:video,vot"
      },
      "source": [
        "### Create the Dataset\n",
        "\n",
        "Next, create the `Dataset` resource using the `create` method for the `VideoDataset` class, which takes the following parameters:\n",
        "\n",
        "- `display_name`: The human readable name for the `Dataset` resource.\n",
        "- `gcs_source`: A list of one or more dataset index files to import the data items into the `Dataset` resource.\n",
        "\n",
        "This operation may take several minutes."
      ]
    },
    {
      "cell_type": "code",
      "execution_count": 25,
      "metadata": {
        "colab": {
          "base_uri": "https://localhost:8080/"
        },
        "id": "jyLNpOT00Sjf",
        "outputId": "3f2180fd-05bc-4e2f-f119-5f2f79b1c55f"
      },
      "outputs": [
        {
          "output_type": "stream",
          "name": "stdout",
          "text": [
            "Dataset Exists: automl_video_traffic_detection_model_dataset\n",
            "Review the Dataset in the Console:\n",
            "https://console.cloud.google.com/vertex-ai/locations/us-central1/datasets/projects/993987777814/locations/us-central1/datasets/928500186261487616?project=paulkamau\n"
          ]
        }
      ],
      "source": [
        "## Create dataset if it doesn't exist\n",
        "datasets = aiplatform.VideoDataset.list(filter = f\"display_name={dataset_display_name}\")\n",
        "\n",
        "if datasets:\n",
        "    dataset = datasets[0]\n",
        "    print(f\"Dataset Exists: {datasets[0].display_name}\")\n",
        "else:\n",
        "    dataset = aiplatform.ImageDataset.create (\n",
        "    display_name=dataset_display_name,\n",
        "    gcs_source=[dataset_source_uri],\n",
        "    import_schema_uri= aiplatform.schema.dataset.ioformat.video.object_tracking,\n",
        "    )\n",
        "    print(f\"Dataset Created: {dataset.display_name}\")\n",
        "\n",
        "print(f'Review the Dataset in the Console:\\nhttps://console.cloud.google.com/vertex-ai/locations/{REGION}/datasets/{datasets[0].resource_name}?project={PROJECT_ID}')\n"
      ]
    },
    {
      "cell_type": "markdown",
      "metadata": {
        "id": "create_automl_pipeline:video,vot"
      },
      "source": [
        "### Create and run training pipeline\n",
        "\n",
        "To train an AutoML model, you perform two steps: 1) create a training pipeline, and 2) run the pipeline.\n",
        "\n",
        "#### Create training pipeline\n",
        "\n",
        "An AutoML training pipeline is created with the `AutoMLVideoTrainingJob` class, with the following parameters:\n",
        "\n",
        "- `display_name`: The human readable name for the `TrainingJob` resource.\n",
        "- `prediction_type`: The type task to train the model for.\n",
        "  - `classification`: A video classification model.\n",
        "  - `object_tracking`: A video object tracking model.\n",
        "  - `action_recognition`: A video action recognition model.\n"
      ]
    },
    {
      "cell_type": "code",
      "execution_count": 26,
      "metadata": {
        "id": "Xi_Rq5Z90Sjf",
        "colab": {
          "base_uri": "https://localhost:8080/"
        },
        "outputId": "2365fc7b-541c-4590-e66a-93ea57c9031f"
      },
      "outputs": [
        {
          "output_type": "stream",
          "name": "stdout",
          "text": [
            "Jobs Exists: automl_video_traffic_detection_model_job\n",
            "Review the job in the Console:\n",
            "https://console.cloud.google.com/vertex-ai/locations/us-central1/jobs/projects/993987777814/locations/us-central1/trainingPipelines/6035150880263634944?project=paulkamau\n"
          ]
        }
      ],
      "source": [
        "# Define the training job and create one if it doesn't exit\n",
        "jobs = aiplatform.AutoMLVideoTrainingJob.list(filter = f\"display_name={job_display_name}\")\n",
        "\n",
        "if jobs:\n",
        "    job = jobs[0]\n",
        "    print(f\"Jobs Exists: {jobs[0].display_name}\")\n",
        "else:\n",
        "    job = aiplatform.AutoMLImageTrainingJob(\n",
        "    display_name=job_display_name,\n",
        "    prediction_type=\"object_tracking\",\n",
        "    )\n",
        "    print(f\"job Created: {job.display_name}\")\n",
        "\n",
        "print(f'Review the job in the Console:\\nhttps://console.cloud.google.com/vertex-ai/locations/{REGION}/jobs/{jobs[0].resource_name}?project={PROJECT_ID}')\n"
      ]
    },
    {
      "cell_type": "markdown",
      "metadata": {
        "id": "run_automl_pipeline:video"
      },
      "source": [
        "#### Run the training pipeline\n",
        "\n",
        "Next, you start the training job by invoking the method `run`, with the following parameters:\n",
        "\n",
        "- `dataset`: The `Dataset` resource to train the model.\n",
        "- `model_display_name`: The human readable name for the trained model.\n",
        "- `training_fraction_split`: The percentage of the dataset to use for training.\n",
        "- `test_fraction_split`: The percentage of the dataset to use for test (holdout data).\n",
        "\n",
        "The `run` method when completed returns the `Model` resource.\n",
        "\n",
        "The execution of the training pipeline will take upto 5 hours."
      ]
    },
    {
      "cell_type": "code",
      "execution_count": 43,
      "metadata": {
        "colab": {
          "base_uri": "https://localhost:8080/"
        },
        "id": "dcmVOwg40Sjf",
        "outputId": "a33724f5-c000-497a-cd14-2372bfdfb31f"
      },
      "outputs": [
        {
          "output_type": "stream",
          "name": "stdout",
          "text": [
            "Model Exists: automl_video_traffic_detection_model\n",
            "Review the Model in the Console:\n",
            "https://console.cloud.google.com/vertex-ai/locations/us-central1/models/7844632834135293952?project=paulkamau\n"
          ]
        }
      ],
      "source": [
        "# Create model job if it doesn't exist\n",
        "models = aiplatform.Model.list(filter = f\"display_name={model_display_name}\")\n",
        "\n",
        "if models:\n",
        "    model = models[0]\n",
        "    print(f\"Model Exists: {models[0].display_name}\")\n",
        "else:\n",
        "    model = job.run(\n",
        "    dataset=dataset,\n",
        "    model_display_name=model_display_name,\n",
        "    training_fraction_split=0.8,\n",
        "    test_fraction_split=0.2,\n",
        "    model_registry = \"vertex_ai\",\n",
        "    )\n",
        "    print(f\"Model created: {models[0].display_name}\")\n",
        "\n",
        "print(f'Review the Model in the Console:\\nhttps://console.cloud.google.com/vertex-ai/locations/{REGION}/models/{model.name}?project={PROJECT_ID}')\n"
      ]
    },
    {
      "cell_type": "markdown",
      "metadata": {
        "id": "evaluate_the_model:mbsdk"
      },
      "source": [
        "## Review model evaluation scores\n",
        "After your model has finished training, you can review the evaluation scores for it.\n",
        "\n",
        "First, you need to get a reference to the new model. As with datasets, you can either use the reference to the model variable you created when you deployed the model or you can list all of the models in your project."
      ]
    },
    {
      "cell_type": "code",
      "execution_count": 56,
      "metadata": {
        "id": "_gN4H2mO0Sjf",
        "colab": {
          "base_uri": "https://localhost:8080/"
        },
        "outputId": "7b1f30c1-e921-45b7-c277-4816826d9ce4"
      },
      "outputs": [
        {
          "output_type": "stream",
          "name": "stdout",
          "text": [
            "<google.cloud.aiplatform.model_evaluation.model_evaluation.ModelEvaluation object at 0x7f25dfd71160> \n",
            "resource name: projects/993987777814/locations/us-central1/models/7844632834135293952@1/evaluations/5156113667686662144\n",
            "Model's evaluation metrics from Training:\n",
            "\n",
            "metric: boundingBoxMetrics, value: [{'meanAveragePrecision': 0.29013765, 'confidenceMetrics': [{'f1Score': 0.4169279, 'precision': 0.26336634, 'recall': 1.0}, {'confidenceThreshold': 0.024151346, 'recall': 0.18045112, 'f1Score': 0.09073724, 'precision': 0.060606062}, {'recall': 0.18045112, 'precision': 0.060759492, 'confidenceThreshold': 0.02449486, 'f1Score': 0.09090909}, {'recall': 0.18045112, 'precision': 0.060913704, 'f1Score': 0.0910816, 'confidenceThreshold': 0.02516149}, {'f1Score': 0.091254756, 'confidenceThreshold': 0.026261719, 'recall': 0.18045112, 'precision': 0.061068702}, {'confidenceThreshold': 0.02633714, 'precision': 0.06122449, 'recall': 0.18045112, 'f1Score': 0.09142857}, {'confidenceThreshold': 0.02729636, 'recall': 0.18045112, 'precision': 0.061381076, 'f1Score': 0.091603056}, {'precision': 0.06153846, 'confidenceThreshold': 0.027449884, 'f1Score': 0.091778204, 'recall': 0.18045112}, {'confidenceThreshold': 0.027995437, 'precision': 0.06169666, 'f1Score': 0.09195402, 'recall': 0.18045112}, {'precision': 0.06185567, 'f1Score': 0.09213052, 'recall': 0.18045112, 'confidenceThreshold': 0.028589407}, {'recall': 0.18045112, 'precision': 0.062015504, 'f1Score': 0.092307694, 'confidenceThreshold': 0.029327786}, {'precision': 0.062176164, 'confidenceThreshold': 0.02950243, 'f1Score': 0.09248555, 'recall': 0.18045112}, {'f1Score': 0.09266409, 'confidenceThreshold': 0.030399559, 'precision': 0.062337663, 'recall': 0.18045112}, {'recall': 0.18045112, 'confidenceThreshold': 0.031149117, 'precision': 0.0625, 'f1Score': 0.092843324}, {'recall': 0.18045112, 'precision': 0.06266318, 'f1Score': 0.093023255, 'confidenceThreshold': 0.03132587}, {'recall': 0.18045112, 'confidenceThreshold': 0.03141461, 'precision': 0.06282722, 'f1Score': 0.09320388}, {'precision': 0.062992126, 'f1Score': 0.09338521, 'recall': 0.18045112, 'confidenceThreshold': 0.03150882}, {'confidenceThreshold': 0.03159197, 'precision': 0.06315789, 'f1Score': 0.09356725, 'recall': 0.18045112}, {'f1Score': 0.09375, 'precision': 0.06332454, 'recall': 0.18045112, 'confidenceThreshold': 0.032215867}, {'f1Score': 0.09393346, 'precision': 0.06349207, 'recall': 0.18045112, 'confidenceThreshold': 0.03225696}, {'precision': 0.06366048, 'confidenceThreshold': 0.032911673, 'f1Score': 0.09411765, 'recall': 0.18045112}, {'f1Score': 0.09430256, 'precision': 0.06382979, 'confidenceThreshold': 0.032987714, 'recall': 0.18045112}, {'recall': 0.18045112, 'precision': 0.064, 'confidenceThreshold': 0.03312848, 'f1Score': 0.09448819}, {'confidenceThreshold': 0.033291433, 'f1Score': 0.09467456, 'precision': 0.06417112, 'recall': 0.18045112}, {'confidenceThreshold': 0.033401884, 'precision': 0.06434316, 'f1Score': 0.09486166, 'recall': 0.18045112}, {'f1Score': 0.09504951, 'confidenceThreshold': 0.03391844, 'precision': 0.06451613, 'recall': 0.18045112}, {'recall': 0.18045112, 'f1Score': 0.0952381, 'precision': 0.06469002, 'confidenceThreshold': 0.034042213}, {'confidenceThreshold': 0.03408989, 'f1Score': 0.09542744, 'precision': 0.06486487, 'recall': 0.18045112}, {'confidenceThreshold': 0.034235273, 'f1Score': 0.09561753, 'precision': 0.06504065, 'recall': 0.18045112}, {'recall': 0.18045112, 'confidenceThreshold': 0.034427896, 'precision': 0.06521739, 'f1Score': 0.09580839}, {'precision': 0.065395094, 'confidenceThreshold': 0.035097286, 'recall': 0.18045112, 'f1Score': 0.096}, {'recall': 0.18045112, 'f1Score': 0.09619238, 'precision': 0.06557377, 'confidenceThreshold': 0.035409983}, {'precision': 0.06575342, 'confidenceThreshold': 0.035874475, 'f1Score': 0.09638554, 'recall': 0.18045112}, {'f1Score': 0.09657948, 'recall': 0.18045112, 'confidenceThreshold': 0.03600073, 'precision': 0.06593407}, {'f1Score': 0.09677419, 'precision': 0.0661157, 'confidenceThreshold': 0.036046352, 'recall': 0.18045112}, {'recall': 0.18045112, 'f1Score': 0.096969694, 'precision': 0.06629834, 'confidenceThreshold': 0.037468452}, {'f1Score': 0.097165994, 'precision': 0.06648199, 'recall': 0.18045112, 'confidenceThreshold': 0.037559196}, {'f1Score': 0.097363085, 'precision': 0.06666667, 'confidenceThreshold': 0.03805024, 'recall': 0.18045112}, {'confidenceThreshold': 0.03877485, 'f1Score': 0.09756097, 'recall': 0.18045112, 'precision': 0.06685237}, {'precision': 0.06703911, 'recall': 0.18045112, 'f1Score': 0.09775967, 'confidenceThreshold': 0.039304655}, {'f1Score': 0.09795918, 'recall': 0.18045112, 'confidenceThreshold': 0.039749198, 'precision': 0.067226894}, {'recall': 0.18045112, 'confidenceThreshold': 0.039775517, 'precision': 0.06741573, 'f1Score': 0.09815951}, {'recall': 0.18045112, 'f1Score': 0.09836066, 'confidenceThreshold': 0.040273596, 'precision': 0.06760564}, {'recall': 0.18045112, 'confidenceThreshold': 0.04127442, 'f1Score': 0.09856263, 'precision': 0.06779661}, {'confidenceThreshold': 0.041565128, 'recall': 0.18045112, 'precision': 0.06798867, 'f1Score': 0.09876543}, {'confidenceThreshold': 0.041644186, 'recall': 0.18045112, 'precision': 0.06818182, 'f1Score': 0.09896907}, {'f1Score': 0.09917355, 'precision': 0.06837607, 'recall': 0.18045112, 'confidenceThreshold': 0.042472575}, {'precision': 0.068571426, 'recall': 0.18045112, 'confidenceThreshold': 0.042681538, 'f1Score': 0.099378884}, {'confidenceThreshold': 0.042812403, 'recall': 0.18045112, 'f1Score': 0.099585064, 'precision': 0.068767905}, {'f1Score': 0.0997921, 'recall': 0.18045112, 'confidenceThreshold': 0.04284382, 'precision': 0.06896552}, {'f1Score': 0.1, 'precision': 0.06916427, 'confidenceThreshold': 0.04292245, 'recall': 0.18045112}, {'f1Score': 0.10020877, 'recall': 0.18045112, 'precision': 0.06936416, 'confidenceThreshold': 0.04300018}, {'confidenceThreshold': 0.04327967, 'precision': 0.069565214, 'recall': 0.18045112, 'f1Score': 0.10041841}, {'f1Score': 0.10062893, 'precision': 0.069767445, 'recall': 0.18045112, 'confidenceThreshold': 0.04329956}, {'precision': 0.069970846, 'confidenceThreshold': 0.04348631, 'f1Score': 0.10084034, 'recall': 0.18045112}, {'precision': 0.07017544, 'f1Score': 0.101052634, 'confidenceThreshold': 0.043547075, 'recall': 0.18045112}, {'confidenceThreshold': 0.04367367, 'f1Score': 0.101265825, 'precision': 0.07038123, 'recall': 0.18045112}, {'recall': 0.18045112, 'precision': 0.07058824, 'f1Score': 0.10147992, 'confidenceThreshold': 0.044780415}, {'recall': 0.18045112, 'confidenceThreshold': 0.04564349, 'precision': 0.07079646, 'f1Score': 0.10169491}, {'f1Score': 0.10191083, 'confidenceThreshold': 0.045650426, 'precision': 0.07100592, 'recall': 0.18045112}, {'confidenceThreshold': 0.0456849, 'recall': 0.18045112, 'precision': 0.07121662, 'f1Score': 0.10212766}, {'confidenceThreshold': 0.0468001, 'f1Score': 0.102345414, 'recall': 0.18045112, 'precision': 0.071428575}, {'recall': 0.18045112, 'f1Score': 0.102564104, 'confidenceThreshold': 0.04714838, 'precision': 0.07164179}, {'precision': 0.07185629, 'f1Score': 0.102783725, 'confidenceThreshold': 0.04879679, 'recall': 0.18045112}, {'confidenceThreshold': 0.049354415, 'f1Score': 0.10300429, 'recall': 0.18045112, 'precision': 0.072072074}, {'precision': 0.072289154, 'f1Score': 0.103225805, 'recall': 0.18045112, 'confidenceThreshold': 0.049495127}, {'recall': 0.18045112, 'confidenceThreshold': 0.051880345, 'f1Score': 0.10344828, 'precision': 0.07250755}, {'precision': 0.07272727, 'f1Score': 0.10367171, 'confidenceThreshold': 0.05261775, 'recall': 0.18045112}, {'f1Score': 0.103896104, 'confidenceThreshold': 0.053945396, 'precision': 0.07294833, 'recall': 0.18045112}, {'precision': 0.07317073, 'recall': 0.18045112, 'f1Score': 0.10412148, 'confidenceThreshold': 0.054663923}, {'confidenceThreshold': 0.054894652, 'precision': 0.07339449, 'recall': 0.18045112, 'f1Score': 0.104347825}, {'confidenceThreshold': 0.05511497, 'precision': 0.073619634, 'recall': 0.18045112, 'f1Score': 0.104575165}, {'recall': 0.18045112, 'confidenceThreshold': 0.05513623, 'f1Score': 0.104803495, 'precision': 0.073846154}, {'confidenceThreshold': 0.05604056, 'precision': 0.074074075, 'f1Score': 0.105032824, 'recall': 0.18045112}, {'precision': 0.0743034, 'f1Score': 0.10526316, 'recall': 0.18045112, 'confidenceThreshold': 0.056679625}, {'f1Score': 0.10549451, 'precision': 0.07453416, 'recall': 0.18045112, 'confidenceThreshold': 0.05773776}, {'confidenceThreshold': 0.05896695, 'f1Score': 0.105726875, 'recall': 0.18045112, 'precision': 0.07476635}, {'confidenceThreshold': 0.06254645, 'precision': 0.075, 'recall': 0.18045112, 'f1Score': 0.105960265}, {'confidenceThreshold': 0.063711785, 'recall': 0.18045112, 'f1Score': 0.10619469, 'precision': 0.075235106}, {'f1Score': 0.10643016, 'recall': 0.18045112, 'confidenceThreshold': 0.0644961, 'precision': 0.0754717}, {'recall': 0.18045112, 'confidenceThreshold': 0.06451468, 'f1Score': 0.10666667, 'precision': 0.07570978}, {'recall': 0.18045112, 'precision': 0.07594936, 'f1Score': 0.10690423, 'confidenceThreshold': 0.067594446}, {'f1Score': 0.10714286, 'precision': 0.07619048, 'recall': 0.18045112, 'confidenceThreshold': 0.06763531}, {'recall': 0.18045112, 'confidenceThreshold': 0.06913269, 'f1Score': 0.10738255, 'precision': 0.07643312}, {'f1Score': 0.10762332, 'confidenceThreshold': 0.07074656, 'precision': 0.076677315, 'recall': 0.18045112}, {'f1Score': 0.10786517, 'recall': 0.18045112, 'precision': 0.07692308, 'confidenceThreshold': 0.07127668}, {'confidenceThreshold': 0.07321625, 'f1Score': 0.10810811, 'precision': 0.07717042, 'recall': 0.18045112}, {'confidenceThreshold': 0.07369094, 'recall': 0.18045112, 'f1Score': 0.10835215, 'precision': 0.077419356}, {'recall': 0.18045112, 'f1Score': 0.108597286, 'precision': 0.0776699, 'confidenceThreshold': 0.074555956}, {'confidenceThreshold': 0.074644946, 'f1Score': 0.108843535, 'precision': 0.077922076, 'recall': 0.18045112}, {'f1Score': 0.10909091, 'recall': 0.18045112, 'confidenceThreshold': 0.07967212, 'precision': 0.078175895}, {'confidenceThreshold': 0.08128778, 'recall': 0.18045112, 'f1Score': 0.10933941, 'precision': 0.078431375}, {'confidenceThreshold': 0.083648935, 'f1Score': 0.10958904, 'precision': 0.078688525, 'recall': 0.18045112}, {'recall': 0.18045112, 'f1Score': 0.10983982, 'precision': 0.078947365, 'confidenceThreshold': 0.08537402}, {'f1Score': 0.110091746, 'recall': 0.18045112, 'confidenceThreshold': 0.08572759, 'precision': 0.07920792}, {'f1Score': 0.11034483, 'precision': 0.0794702, 'recall': 0.18045112, 'confidenceThreshold': 0.08775496}, {'precision': 0.07973422, 'f1Score': 0.11059908, 'recall': 0.18045112, 'confidenceThreshold': 0.1053225}, {'confidenceThreshold': 0.105926074, 'f1Score': 0.11085451, 'recall': 0.18045112, 'precision': 0.08}, {'f1Score': 0.11111111, 'confidenceThreshold': 0.11244958, 'recall': 0.18045112, 'precision': 0.080267556}, {'confidenceThreshold': 0.11371615, 'f1Score': 0.11136891, 'precision': 0.08053691, 'recall': 0.18045112}, {'f1Score': 0.11162791, 'precision': 0.08080808, 'confidenceThreshold': 0.11828821, 'recall': 0.18045112}, {'precision': 0.08108108, 'confidenceThreshold': 0.1276526, 'recall': 0.18045112, 'f1Score': 0.11188811}, {'confidenceThreshold': 0.13270988, 'precision': 0.08135593, 'f1Score': 0.11214953, 'recall': 0.18045112}, {'f1Score': 0.11241218, 'precision': 0.08163265, 'confidenceThreshold': 0.14303645, 'recall': 0.18045112}, {'precision': 0.081911266, 'f1Score': 0.112676054, 'recall': 0.18045112, 'confidenceThreshold': 0.14952622}, {'recall': 0.18045112, 'precision': 0.08219178, 'f1Score': 0.112941176, 'confidenceThreshold': 0.15536785}, {'f1Score': 0.11320755, 'precision': 0.082474224, 'confidenceThreshold': 0.16610584, 'recall': 0.18045112}, {'precision': 0.08275862, 'recall': 0.18045112, 'confidenceThreshold': 0.18135522, 'f1Score': 0.11347517}, {'confidenceThreshold': 0.18608925, 'precision': 0.08304498, 'f1Score': 0.11374407, 'recall': 0.18045112}, {'f1Score': 0.11401425, 'recall': 0.18045112, 'precision': 0.083333336, 'confidenceThreshold': 0.19343981}, {'recall': 0.18045112, 'f1Score': 0.114285715, 'confidenceThreshold': 0.2596121, 'precision': 0.08362369}, {'confidenceThreshold': 0.28655097, 'precision': 0.08391608, 'recall': 0.18045112, 'f1Score': 0.11455847}, {'recall': 0.18045112, 'confidenceThreshold': 0.29, 'f1Score': 0.114832535, 'precision': 0.08421053}, {'confidenceThreshold': 0.35599023, 'precision': 0.7777778, 'f1Score': 0.2625, 'recall': 0.15789473}, {'f1Score': 0.26415095, 'recall': 0.15789473, 'precision': 0.8076923, 'confidenceThreshold': 0.38242093}, {'confidenceThreshold': 0.46745023, 'recall': 0.15789473, 'f1Score': 0.2658228, 'precision': 0.84}, {'confidenceThreshold': 0.4697989, 'precision': 0.8333333, 'f1Score': 0.25477707, 'recall': 0.15037593}, {'confidenceThreshold': 0.5037444, 'f1Score': 0.25641027, 'precision': 0.8695652, 'recall': 0.15037593}, {'f1Score': 0.2451613, 'recall': 0.14285715, 'precision': 0.8636364, 'confidenceThreshold': 0.50899315}, {'confidenceThreshold': 0.52878565, 'recall': 0.13533835, 'precision': 0.85714287, 'f1Score': 0.23376623}, {'f1Score': 0.22222222, 'recall': 0.12781955, 'confidenceThreshold': 0.54443216, 'precision': 0.85}, {'recall': 0.12781955, 'precision': 0.8947368, 'confidenceThreshold': 0.5966348, 'f1Score': 0.2236842}, {'recall': 0.120300755, 'confidenceThreshold': 0.6099788, 'f1Score': 0.21192053, 'precision': 0.8888889}, {'confidenceThreshold': 0.6255893, 'recall': 0.11278196, 'precision': 0.88235295, 'f1Score': 0.2}, {'f1Score': 0.18791947, 'confidenceThreshold': 0.62692684, 'recall': 0.10526316, 'precision': 0.875}, {'f1Score': 0.17567568, 'confidenceThreshold': 0.62842053, 'precision': 0.8666667, 'recall': 0.09774436}, {'confidenceThreshold': 0.6489992, 'recall': 0.09022556, 'f1Score': 0.1632653, 'precision': 0.85714287}, {'confidenceThreshold': 0.683044, 'f1Score': 0.16438356, 'precision': 0.9230769, 'recall': 0.09022556}, {'f1Score': 0.15172414, 'precision': 0.9166667, 'confidenceThreshold': 0.691812, 'recall': 0.082706764}, {'f1Score': 0.1388889, 'recall': 0.075187966, 'precision': 0.90909094, 'confidenceThreshold': 0.6969459}, {'f1Score': 0.13986014, 'recall': 0.075187966, 'precision': 1.0, 'confidenceThreshold': 0.73260313}, {'recall': 0.067669176, 'precision': 1.0, 'confidenceThreshold': 0.732928, 'f1Score': 0.12676056}, {'confidenceThreshold': 0.73913705, 'f1Score': 0.11347517, 'recall': 0.060150377, 'precision': 1.0}, {'recall': 0.05263158, 'precision': 1.0, 'confidenceThreshold': 0.75577325, 'f1Score': 0.1}, {'precision': 1.0, 'recall': 0.04511278, 'f1Score': 0.086330935, 'confidenceThreshold': 0.8152144}, {'precision': 1.0, 'recall': 0.037593983, 'f1Score': 0.072463766, 'confidenceThreshold': 0.8304806}, {'recall': 0.030075189, 'precision': 1.0, 'f1Score': 0.05839416, 'confidenceThreshold': 0.8367683}, {'confidenceThreshold': 0.8428139, 'f1Score': 0.04411765, 'recall': 0.02255639, 'precision': 1.0}, {'confidenceThreshold': 0.84285015, 'recall': 0.015037594, 'precision': 1.0, 'f1Score': 0.02962963}, {'recall': 0.007518797, 'f1Score': 0.014925373, 'precision': 1.0, 'confidenceThreshold': 0.8584953}, {'precision': 1.0, 'confidenceThreshold': 1.0}], 'iouThreshold': 0.5}]\n",
            "\n",
            "metric: boundingBoxMeanAveragePrecision, value: 0.29013765\n",
            "\n"
          ]
        }
      ],
      "source": [
        "# Model Evaluations\n",
        "model_evaluations = model.list_model_evaluations()\n",
        "model_evaluation = list(model_evaluations)[0]\n",
        "print(model_evaluation)\n",
        "\n",
        "\n",
        "# Print the evaluation metrics\n",
        "for evaluation in model_evaluations:\n",
        "    evaluation = evaluation.to_dict()\n",
        "    print(\"Model's evaluation metrics from Training:\\n\")\n",
        "    metrics = evaluation[\"metrics\"]\n",
        "    for metric in metrics.keys():\n",
        "        print(f\"metric: {metric}, value: {metrics[metric]}\\n\")"
      ]
    },
    {
      "cell_type": "markdown",
      "metadata": {
        "id": "make_prediction"
      },
      "source": [
        "## Send a batch prediction request\n",
        "\n",
        "Send a batch prediction to your deployed model."
      ]
    },
    {
      "cell_type": "markdown",
      "metadata": {
        "id": "get_test_items:batch_prediction"
      },
      "source": [
        "### Get test item(s)\n",
        "\n",
        "Now do a batch prediction to your Vertex model. You will use arbitrary examples out of the dataset as a test items. Don't be concerned that the examples were likely used in training the model -- we just want to demonstrate how to make a prediction."
      ]
    },
    {
      "cell_type": "code",
      "execution_count": 57,
      "metadata": {
        "id": "get_test_items:automl,vot,csv"
      },
      "outputs": [],
      "source": [
        "test_items = ! gsutil cat $dataset_source_uri | head -n2\n",
        "cols_1 = test_items[0].split(\",\")\n",
        "cols_2 = test_items[1].split(\",\")\n",
        "if len(cols_1) > 12:\n",
        "    test_item_1 = str(cols_1[1])\n",
        "    test_item_2 = str(cols_2[1])\n",
        "    test_label_1 = str(cols_1[2])\n",
        "    test_label_2 = str(cols_2[2])\n",
        "else:\n",
        "    test_item_1 = str(cols_1[0])\n",
        "    test_item_2 = str(cols_2[0])\n",
        "    test_label_1 = str(cols_1[1])\n",
        "    test_label_2 = str(cols_2[1])"
      ]
    },
    {
      "cell_type": "code",
      "source": [
        "# Read the data\n",
        "dataset_sample = pd.read_csv(dataset_source_public)\n",
        "\n",
        "## read the last 2 rows\n",
        "dataset_sample = dataset_sample.iloc[-2:]\n",
        "\n",
        "# Use the next code cell to print the first five rows of the data.\n",
        "dataset_sample.head()"
      ],
      "metadata": {
        "colab": {
          "base_uri": "https://localhost:8080/",
          "height": 228
        },
        "id": "s5uvuurHZbIP",
        "outputId": "6e1d953c-1ce3-465a-d84a-887ef72b882b"
      },
      "execution_count": 70,
      "outputs": [
        {
          "output_type": "execute_result",
          "data": {
            "text/plain": [
              "    gs://automl-video-demo-data/traffic_videos/highway_005.mp4  \\\n",
              "682  gs://automl-video-demo-data/traffic_videos/hig...           \n",
              "683  gs://automl-video-demo-data/traffic_videos/hig...           \n",
              "\n",
              "              sedan  1565750291672021  11.933333  0.509205  0.594283  \\\n",
              "682           sedan  1565718790735127   6.033333       0.0  0.671533   \n",
              "683  pickup_suv_van  1565718790735325   9.200000       0.0  0.622585   \n",
              "\n",
              "     Unnamed: 6  Unnamed: 7  0.728737  0.760959  Unnamed: 10  Unnamed: 11  \n",
              "682         NaN         NaN  0.058931  0.803206          NaN          NaN  \n",
              "683         NaN         NaN  0.099136  0.816469          NaN          NaN  "
            ],
            "text/html": [
              "\n",
              "  <div id=\"df-112634c9-43ae-400c-923c-2a4552c77866\">\n",
              "    <div class=\"colab-df-container\">\n",
              "      <div>\n",
              "<style scoped>\n",
              "    .dataframe tbody tr th:only-of-type {\n",
              "        vertical-align: middle;\n",
              "    }\n",
              "\n",
              "    .dataframe tbody tr th {\n",
              "        vertical-align: top;\n",
              "    }\n",
              "\n",
              "    .dataframe thead th {\n",
              "        text-align: right;\n",
              "    }\n",
              "</style>\n",
              "<table border=\"1\" class=\"dataframe\">\n",
              "  <thead>\n",
              "    <tr style=\"text-align: right;\">\n",
              "      <th></th>\n",
              "      <th>gs://automl-video-demo-data/traffic_videos/highway_005.mp4</th>\n",
              "      <th>sedan</th>\n",
              "      <th>1565750291672021</th>\n",
              "      <th>11.933333</th>\n",
              "      <th>0.509205</th>\n",
              "      <th>0.594283</th>\n",
              "      <th>Unnamed: 6</th>\n",
              "      <th>Unnamed: 7</th>\n",
              "      <th>0.728737</th>\n",
              "      <th>0.760959</th>\n",
              "      <th>Unnamed: 10</th>\n",
              "      <th>Unnamed: 11</th>\n",
              "    </tr>\n",
              "  </thead>\n",
              "  <tbody>\n",
              "    <tr>\n",
              "      <th>682</th>\n",
              "      <td>gs://automl-video-demo-data/traffic_videos/hig...</td>\n",
              "      <td>sedan</td>\n",
              "      <td>1565718790735127</td>\n",
              "      <td>6.033333</td>\n",
              "      <td>0.0</td>\n",
              "      <td>0.671533</td>\n",
              "      <td>NaN</td>\n",
              "      <td>NaN</td>\n",
              "      <td>0.058931</td>\n",
              "      <td>0.803206</td>\n",
              "      <td>NaN</td>\n",
              "      <td>NaN</td>\n",
              "    </tr>\n",
              "    <tr>\n",
              "      <th>683</th>\n",
              "      <td>gs://automl-video-demo-data/traffic_videos/hig...</td>\n",
              "      <td>pickup_suv_van</td>\n",
              "      <td>1565718790735325</td>\n",
              "      <td>9.200000</td>\n",
              "      <td>0.0</td>\n",
              "      <td>0.622585</td>\n",
              "      <td>NaN</td>\n",
              "      <td>NaN</td>\n",
              "      <td>0.099136</td>\n",
              "      <td>0.816469</td>\n",
              "      <td>NaN</td>\n",
              "      <td>NaN</td>\n",
              "    </tr>\n",
              "  </tbody>\n",
              "</table>\n",
              "</div>\n",
              "      <button class=\"colab-df-convert\" onclick=\"convertToInteractive('df-112634c9-43ae-400c-923c-2a4552c77866')\"\n",
              "              title=\"Convert this dataframe to an interactive table.\"\n",
              "              style=\"display:none;\">\n",
              "        \n",
              "  <svg xmlns=\"http://www.w3.org/2000/svg\" height=\"24px\"viewBox=\"0 0 24 24\"\n",
              "       width=\"24px\">\n",
              "    <path d=\"M0 0h24v24H0V0z\" fill=\"none\"/>\n",
              "    <path d=\"M18.56 5.44l.94 2.06.94-2.06 2.06-.94-2.06-.94-.94-2.06-.94 2.06-2.06.94zm-11 1L8.5 8.5l.94-2.06 2.06-.94-2.06-.94L8.5 2.5l-.94 2.06-2.06.94zm10 10l.94 2.06.94-2.06 2.06-.94-2.06-.94-.94-2.06-.94 2.06-2.06.94z\"/><path d=\"M17.41 7.96l-1.37-1.37c-.4-.4-.92-.59-1.43-.59-.52 0-1.04.2-1.43.59L10.3 9.45l-7.72 7.72c-.78.78-.78 2.05 0 2.83L4 21.41c.39.39.9.59 1.41.59.51 0 1.02-.2 1.41-.59l7.78-7.78 2.81-2.81c.8-.78.8-2.07 0-2.86zM5.41 20L4 18.59l7.72-7.72 1.47 1.35L5.41 20z\"/>\n",
              "  </svg>\n",
              "      </button>\n",
              "      \n",
              "  <style>\n",
              "    .colab-df-container {\n",
              "      display:flex;\n",
              "      flex-wrap:wrap;\n",
              "      gap: 12px;\n",
              "    }\n",
              "\n",
              "    .colab-df-convert {\n",
              "      background-color: #E8F0FE;\n",
              "      border: none;\n",
              "      border-radius: 50%;\n",
              "      cursor: pointer;\n",
              "      display: none;\n",
              "      fill: #1967D2;\n",
              "      height: 32px;\n",
              "      padding: 0 0 0 0;\n",
              "      width: 32px;\n",
              "    }\n",
              "\n",
              "    .colab-df-convert:hover {\n",
              "      background-color: #E2EBFA;\n",
              "      box-shadow: 0px 1px 2px rgba(60, 64, 67, 0.3), 0px 1px 3px 1px rgba(60, 64, 67, 0.15);\n",
              "      fill: #174EA6;\n",
              "    }\n",
              "\n",
              "    [theme=dark] .colab-df-convert {\n",
              "      background-color: #3B4455;\n",
              "      fill: #D2E3FC;\n",
              "    }\n",
              "\n",
              "    [theme=dark] .colab-df-convert:hover {\n",
              "      background-color: #434B5C;\n",
              "      box-shadow: 0px 1px 3px 1px rgba(0, 0, 0, 0.15);\n",
              "      filter: drop-shadow(0px 1px 2px rgba(0, 0, 0, 0.3));\n",
              "      fill: #FFFFFF;\n",
              "    }\n",
              "  </style>\n",
              "\n",
              "      <script>\n",
              "        const buttonEl =\n",
              "          document.querySelector('#df-112634c9-43ae-400c-923c-2a4552c77866 button.colab-df-convert');\n",
              "        buttonEl.style.display =\n",
              "          google.colab.kernel.accessAllowed ? 'block' : 'none';\n",
              "\n",
              "        async function convertToInteractive(key) {\n",
              "          const element = document.querySelector('#df-112634c9-43ae-400c-923c-2a4552c77866');\n",
              "          const dataTable =\n",
              "            await google.colab.kernel.invokeFunction('convertToInteractive',\n",
              "                                                     [key], {});\n",
              "          if (!dataTable) return;\n",
              "\n",
              "          const docLinkHtml = 'Like what you see? Visit the ' +\n",
              "            '<a target=\"_blank\" href=https://colab.research.google.com/notebooks/data_table.ipynb>data table notebook</a>'\n",
              "            + ' to learn more about interactive tables.';\n",
              "          element.innerHTML = '';\n",
              "          dataTable['output_type'] = 'display_data';\n",
              "          await google.colab.output.renderOutput(dataTable, element);\n",
              "          const docLink = document.createElement('div');\n",
              "          docLink.innerHTML = docLinkHtml;\n",
              "          element.appendChild(docLink);\n",
              "        }\n",
              "      </script>\n",
              "    </div>\n",
              "  </div>\n",
              "  "
            ]
          },
          "metadata": {},
          "execution_count": 70
        }
      ]
    },
    {
      "cell_type": "markdown",
      "metadata": {
        "id": "make_batch_file:automl,video"
      },
      "source": [
        "### Make a batch input file\n",
        "\n",
        "Now make a batch input file, which you store in your local Cloud Storage bucket. The batch input file can be either CSV or JSONL. You will use JSONL in this tutorial. For JSONL file, you make one dictionary entry per line for each video. The dictionary contains the key/value pairs:\n",
        "\n",
        "- `content`: The Cloud Storage path to the video.\n",
        "- `mimeType`: The content type. In our example, it is a `avi` file.\n",
        "- `timeSegmentStart`: The start timestamp in the video to do prediction on. *Note*, the timestamp must be specified as a string and followed by s (second), m (minute) or h (hour).\n",
        "- `timeSegmentEnd`: The end timestamp in the video to do prediction on."
      ]
    },
    {
      "cell_type": "code",
      "execution_count": 75,
      "metadata": {
        "id": "bZDoAq_C0Sjf",
        "colab": {
          "base_uri": "https://localhost:8080/",
          "height": 502
        },
        "outputId": "1d1eec03-73fc-4cee-8110-5e374420011b"
      },
      "outputs": [
        {
          "output_type": "error",
          "ename": "NotFound",
          "evalue": "ignored",
          "traceback": [
            "\u001b[0;31m---------------------------------------------------------------------------\u001b[0m",
            "\u001b[0;31mInvalidResponse\u001b[0m                           Traceback (most recent call last)",
            "\u001b[0;32m/usr/local/lib/python3.8/dist-packages/google/cloud/storage/blob.py\u001b[0m in \u001b[0;36mupload_from_file\u001b[0;34m(self, file_obj, rewind, size, content_type, num_retries, client, predefined_acl, if_generation_match, if_generation_not_match, if_metageneration_match, if_metageneration_not_match, timeout, checksum, retry)\u001b[0m\n\u001b[1;32m   2538\u001b[0m         \u001b[0;32mtry\u001b[0m\u001b[0;34m:\u001b[0m\u001b[0;34m\u001b[0m\u001b[0;34m\u001b[0m\u001b[0m\n\u001b[0;32m-> 2539\u001b[0;31m             created_json = self._do_upload(\n\u001b[0m\u001b[1;32m   2540\u001b[0m                 \u001b[0mclient\u001b[0m\u001b[0;34m,\u001b[0m\u001b[0;34m\u001b[0m\u001b[0;34m\u001b[0m\u001b[0m\n",
            "\u001b[0;32m/usr/local/lib/python3.8/dist-packages/google/cloud/storage/blob.py\u001b[0m in \u001b[0;36m_do_upload\u001b[0;34m(self, client, stream, content_type, size, num_retries, predefined_acl, if_generation_match, if_generation_not_match, if_metageneration_match, if_metageneration_not_match, timeout, checksum, retry)\u001b[0m\n\u001b[1;32m   2353\u001b[0m         \u001b[0;32mif\u001b[0m \u001b[0msize\u001b[0m \u001b[0;32mis\u001b[0m \u001b[0;32mnot\u001b[0m \u001b[0;32mNone\u001b[0m \u001b[0;32mand\u001b[0m \u001b[0msize\u001b[0m \u001b[0;34m<=\u001b[0m \u001b[0m_MAX_MULTIPART_SIZE\u001b[0m\u001b[0;34m:\u001b[0m\u001b[0;34m\u001b[0m\u001b[0;34m\u001b[0m\u001b[0m\n\u001b[0;32m-> 2354\u001b[0;31m             response = self._do_multipart_upload(\n\u001b[0m\u001b[1;32m   2355\u001b[0m                 \u001b[0mclient\u001b[0m\u001b[0;34m,\u001b[0m\u001b[0;34m\u001b[0m\u001b[0;34m\u001b[0m\u001b[0m\n",
            "\u001b[0;32m/usr/local/lib/python3.8/dist-packages/google/cloud/storage/blob.py\u001b[0m in \u001b[0;36m_do_multipart_upload\u001b[0;34m(self, client, stream, content_type, size, num_retries, predefined_acl, if_generation_match, if_generation_not_match, if_metageneration_match, if_metageneration_not_match, timeout, checksum, retry)\u001b[0m\n\u001b[1;32m   1888\u001b[0m \u001b[0;34m\u001b[0m\u001b[0m\n\u001b[0;32m-> 1889\u001b[0;31m         response = upload.transmit(\n\u001b[0m\u001b[1;32m   1890\u001b[0m             \u001b[0mtransport\u001b[0m\u001b[0;34m,\u001b[0m \u001b[0mdata\u001b[0m\u001b[0;34m,\u001b[0m \u001b[0mobject_metadata\u001b[0m\u001b[0;34m,\u001b[0m \u001b[0mcontent_type\u001b[0m\u001b[0;34m,\u001b[0m \u001b[0mtimeout\u001b[0m\u001b[0;34m=\u001b[0m\u001b[0mtimeout\u001b[0m\u001b[0;34m\u001b[0m\u001b[0;34m\u001b[0m\u001b[0m\n",
            "\u001b[0;32m/usr/local/lib/python3.8/dist-packages/google/resumable_media/requests/upload.py\u001b[0m in \u001b[0;36mtransmit\u001b[0;34m(self, transport, data, metadata, content_type, timeout)\u001b[0m\n\u001b[1;32m    152\u001b[0m \u001b[0;34m\u001b[0m\u001b[0m\n\u001b[0;32m--> 153\u001b[0;31m         return _request_helpers.wait_and_retry(\n\u001b[0m\u001b[1;32m    154\u001b[0m             \u001b[0mretriable_request\u001b[0m\u001b[0;34m,\u001b[0m \u001b[0mself\u001b[0m\u001b[0;34m.\u001b[0m\u001b[0m_get_status_code\u001b[0m\u001b[0;34m,\u001b[0m \u001b[0mself\u001b[0m\u001b[0;34m.\u001b[0m\u001b[0m_retry_strategy\u001b[0m\u001b[0;34m\u001b[0m\u001b[0;34m\u001b[0m\u001b[0m\n",
            "\u001b[0;32m/usr/local/lib/python3.8/dist-packages/google/resumable_media/requests/_request_helpers.py\u001b[0m in \u001b[0;36mwait_and_retry\u001b[0;34m(func, get_status_code, retry_strategy)\u001b[0m\n\u001b[1;32m    147\u001b[0m         \u001b[0;32mtry\u001b[0m\u001b[0;34m:\u001b[0m\u001b[0;34m\u001b[0m\u001b[0;34m\u001b[0m\u001b[0m\n\u001b[0;32m--> 148\u001b[0;31m             \u001b[0mresponse\u001b[0m \u001b[0;34m=\u001b[0m \u001b[0mfunc\u001b[0m\u001b[0;34m(\u001b[0m\u001b[0;34m)\u001b[0m\u001b[0;34m\u001b[0m\u001b[0;34m\u001b[0m\u001b[0m\n\u001b[0m\u001b[1;32m    149\u001b[0m         \u001b[0;32mexcept\u001b[0m \u001b[0m_CONNECTION_ERROR_CLASSES\u001b[0m \u001b[0;32mas\u001b[0m \u001b[0me\u001b[0m\u001b[0;34m:\u001b[0m\u001b[0;34m\u001b[0m\u001b[0;34m\u001b[0m\u001b[0m\n",
            "\u001b[0;32m/usr/local/lib/python3.8/dist-packages/google/resumable_media/requests/upload.py\u001b[0m in \u001b[0;36mretriable_request\u001b[0;34m()\u001b[0m\n\u001b[1;32m    148\u001b[0m \u001b[0;34m\u001b[0m\u001b[0m\n\u001b[0;32m--> 149\u001b[0;31m             \u001b[0mself\u001b[0m\u001b[0;34m.\u001b[0m\u001b[0m_process_response\u001b[0m\u001b[0;34m(\u001b[0m\u001b[0mresult\u001b[0m\u001b[0;34m)\u001b[0m\u001b[0;34m\u001b[0m\u001b[0;34m\u001b[0m\u001b[0m\n\u001b[0m\u001b[1;32m    150\u001b[0m \u001b[0;34m\u001b[0m\u001b[0m\n",
            "\u001b[0;32m/usr/local/lib/python3.8/dist-packages/google/resumable_media/_upload.py\u001b[0m in \u001b[0;36m_process_response\u001b[0;34m(self, response)\u001b[0m\n\u001b[1;32m    113\u001b[0m         \u001b[0mself\u001b[0m\u001b[0;34m.\u001b[0m\u001b[0m_finished\u001b[0m \u001b[0;34m=\u001b[0m \u001b[0;32mTrue\u001b[0m\u001b[0;34m\u001b[0m\u001b[0;34m\u001b[0m\u001b[0m\n\u001b[0;32m--> 114\u001b[0;31m         \u001b[0m_helpers\u001b[0m\u001b[0;34m.\u001b[0m\u001b[0mrequire_status_code\u001b[0m\u001b[0;34m(\u001b[0m\u001b[0mresponse\u001b[0m\u001b[0;34m,\u001b[0m \u001b[0;34m(\u001b[0m\u001b[0mhttp\u001b[0m\u001b[0;34m.\u001b[0m\u001b[0mclient\u001b[0m\u001b[0;34m.\u001b[0m\u001b[0mOK\u001b[0m\u001b[0;34m,\u001b[0m\u001b[0;34m)\u001b[0m\u001b[0;34m,\u001b[0m \u001b[0mself\u001b[0m\u001b[0;34m.\u001b[0m\u001b[0m_get_status_code\u001b[0m\u001b[0;34m)\u001b[0m\u001b[0;34m\u001b[0m\u001b[0;34m\u001b[0m\u001b[0m\n\u001b[0m\u001b[1;32m    115\u001b[0m \u001b[0;34m\u001b[0m\u001b[0m\n",
            "\u001b[0;32m/usr/local/lib/python3.8/dist-packages/google/resumable_media/_helpers.py\u001b[0m in \u001b[0;36mrequire_status_code\u001b[0;34m(response, status_codes, get_status_code, callback)\u001b[0m\n\u001b[1;32m    107\u001b[0m             \u001b[0mcallback\u001b[0m\u001b[0;34m(\u001b[0m\u001b[0;34m)\u001b[0m\u001b[0;34m\u001b[0m\u001b[0;34m\u001b[0m\u001b[0m\n\u001b[0;32m--> 108\u001b[0;31m         raise common.InvalidResponse(\n\u001b[0m\u001b[1;32m    109\u001b[0m             \u001b[0mresponse\u001b[0m\u001b[0;34m,\u001b[0m\u001b[0;34m\u001b[0m\u001b[0;34m\u001b[0m\u001b[0m\n",
            "\u001b[0;31mInvalidResponse\u001b[0m: ('Request failed with status code', 404, 'Expected one of', <HTTPStatus.OK: 200>)",
            "\nDuring handling of the above exception, another exception occurred:\n",
            "\u001b[0;31mNotFound\u001b[0m                                  Traceback (most recent call last)",
            "\u001b[0;32m<ipython-input-75-300b43475ae5>\u001b[0m in \u001b[0;36m<module>\u001b[0;34m\u001b[0m\n\u001b[1;32m     27\u001b[0m \u001b[0;34m\u001b[0m\u001b[0m\n\u001b[1;32m     28\u001b[0m \u001b[0;31m# uploading data variable content to bucket\u001b[0m\u001b[0;34m\u001b[0m\u001b[0;34m\u001b[0m\u001b[0;34m\u001b[0m\u001b[0m\n\u001b[0;32m---> 29\u001b[0;31m \u001b[0mblob\u001b[0m\u001b[0;34m.\u001b[0m\u001b[0mupload_from_string\u001b[0m\u001b[0;34m(\u001b[0m\u001b[0mdata\u001b[0m\u001b[0;34m)\u001b[0m\u001b[0;34m\u001b[0m\u001b[0;34m\u001b[0m\u001b[0m\n\u001b[0m\u001b[1;32m     30\u001b[0m \u001b[0;34m\u001b[0m\u001b[0m\n\u001b[1;32m     31\u001b[0m \u001b[0;31m# printing path of uploaded file\u001b[0m\u001b[0;34m\u001b[0m\u001b[0;34m\u001b[0m\u001b[0;34m\u001b[0m\u001b[0m\n",
            "\u001b[0;32m/usr/local/lib/python3.8/dist-packages/google/cloud/storage/blob.py\u001b[0m in \u001b[0;36mupload_from_string\u001b[0;34m(self, data, content_type, num_retries, client, predefined_acl, if_generation_match, if_generation_not_match, if_metageneration_match, if_metageneration_not_match, timeout, checksum, retry)\u001b[0m\n\u001b[1;32m   2812\u001b[0m         \u001b[0mdata\u001b[0m \u001b[0;34m=\u001b[0m \u001b[0m_to_bytes\u001b[0m\u001b[0;34m(\u001b[0m\u001b[0mdata\u001b[0m\u001b[0;34m,\u001b[0m \u001b[0mencoding\u001b[0m\u001b[0;34m=\u001b[0m\u001b[0;34m\"utf-8\"\u001b[0m\u001b[0;34m)\u001b[0m\u001b[0;34m\u001b[0m\u001b[0;34m\u001b[0m\u001b[0m\n\u001b[1;32m   2813\u001b[0m         \u001b[0mstring_buffer\u001b[0m \u001b[0;34m=\u001b[0m \u001b[0mBytesIO\u001b[0m\u001b[0;34m(\u001b[0m\u001b[0mdata\u001b[0m\u001b[0;34m)\u001b[0m\u001b[0;34m\u001b[0m\u001b[0;34m\u001b[0m\u001b[0m\n\u001b[0;32m-> 2814\u001b[0;31m         self.upload_from_file(\n\u001b[0m\u001b[1;32m   2815\u001b[0m             \u001b[0mfile_obj\u001b[0m\u001b[0;34m=\u001b[0m\u001b[0mstring_buffer\u001b[0m\u001b[0;34m,\u001b[0m\u001b[0;34m\u001b[0m\u001b[0;34m\u001b[0m\u001b[0m\n\u001b[1;32m   2816\u001b[0m             \u001b[0msize\u001b[0m\u001b[0;34m=\u001b[0m\u001b[0mlen\u001b[0m\u001b[0;34m(\u001b[0m\u001b[0mdata\u001b[0m\u001b[0;34m)\u001b[0m\u001b[0;34m,\u001b[0m\u001b[0;34m\u001b[0m\u001b[0;34m\u001b[0m\u001b[0m\n",
            "\u001b[0;32m/usr/local/lib/python3.8/dist-packages/google/cloud/storage/blob.py\u001b[0m in \u001b[0;36mupload_from_file\u001b[0;34m(self, file_obj, rewind, size, content_type, num_retries, client, predefined_acl, if_generation_match, if_generation_not_match, if_metageneration_match, if_metageneration_not_match, timeout, checksum, retry)\u001b[0m\n\u001b[1;32m   2554\u001b[0m             \u001b[0mself\u001b[0m\u001b[0;34m.\u001b[0m\u001b[0m_set_properties\u001b[0m\u001b[0;34m(\u001b[0m\u001b[0mcreated_json\u001b[0m\u001b[0;34m)\u001b[0m\u001b[0;34m\u001b[0m\u001b[0;34m\u001b[0m\u001b[0m\n\u001b[1;32m   2555\u001b[0m         \u001b[0;32mexcept\u001b[0m \u001b[0mresumable_media\u001b[0m\u001b[0;34m.\u001b[0m\u001b[0mInvalidResponse\u001b[0m \u001b[0;32mas\u001b[0m \u001b[0mexc\u001b[0m\u001b[0;34m:\u001b[0m\u001b[0;34m\u001b[0m\u001b[0;34m\u001b[0m\u001b[0m\n\u001b[0;32m-> 2556\u001b[0;31m             \u001b[0m_raise_from_invalid_response\u001b[0m\u001b[0;34m(\u001b[0m\u001b[0mexc\u001b[0m\u001b[0;34m)\u001b[0m\u001b[0;34m\u001b[0m\u001b[0;34m\u001b[0m\u001b[0m\n\u001b[0m\u001b[1;32m   2557\u001b[0m \u001b[0;34m\u001b[0m\u001b[0m\n\u001b[1;32m   2558\u001b[0m     def upload_from_filename(\n",
            "\u001b[0;32m/usr/local/lib/python3.8/dist-packages/google/cloud/storage/blob.py\u001b[0m in \u001b[0;36m_raise_from_invalid_response\u001b[0;34m(error)\u001b[0m\n\u001b[1;32m   4366\u001b[0m     \u001b[0mmessage\u001b[0m \u001b[0;34m=\u001b[0m \u001b[0;34mf\"{response.request.method} {response.request.url}: {error_message}\"\u001b[0m\u001b[0;34m\u001b[0m\u001b[0;34m\u001b[0m\u001b[0m\n\u001b[1;32m   4367\u001b[0m \u001b[0;34m\u001b[0m\u001b[0m\n\u001b[0;32m-> 4368\u001b[0;31m     \u001b[0;32mraise\u001b[0m \u001b[0mexceptions\u001b[0m\u001b[0;34m.\u001b[0m\u001b[0mfrom_http_status\u001b[0m\u001b[0;34m(\u001b[0m\u001b[0mresponse\u001b[0m\u001b[0;34m.\u001b[0m\u001b[0mstatus_code\u001b[0m\u001b[0;34m,\u001b[0m \u001b[0mmessage\u001b[0m\u001b[0;34m,\u001b[0m \u001b[0mresponse\u001b[0m\u001b[0;34m=\u001b[0m\u001b[0mresponse\u001b[0m\u001b[0;34m)\u001b[0m\u001b[0;34m\u001b[0m\u001b[0;34m\u001b[0m\u001b[0m\n\u001b[0m\u001b[1;32m   4369\u001b[0m \u001b[0;34m\u001b[0m\u001b[0m\n\u001b[1;32m   4370\u001b[0m \u001b[0;34m\u001b[0m\u001b[0m\n",
            "\u001b[0;31mNotFound\u001b[0m: 404 POST https://storage.googleapis.com/upload/storage/v1/b/gs://auto-ml-tutorials/video/automl_video_traffic_detection_model/o?uploadType=multipart: Not Found: ('Request failed with status code', 404, 'Expected one of', <HTTPStatus.OK: 200>)"
          ]
        }
      ],
      "source": [
        "test_filename = f\"{model_display_name}_test_file.jsonl\"\n",
        "gcs_input_uri = BUCKET_INPUT_BATCHPREDICT + f\"/{test_filename}\"\n",
        "\n",
        "# making data_1 and data_2 variables using the structure mentioned above\n",
        "data_1 = {\n",
        "    \"content\": test_item_1,\n",
        "    \"mimeType\": \"video/avi\",\n",
        "    \"timeSegmentStart\": \"0.0s\",\n",
        "    \"timeSegmentEnd\": \"5.0s\",\n",
        "}\n",
        "\n",
        "data_2 = {\n",
        "    \"content\": test_item_2,\n",
        "    \"mimeType\": \"video/avi\",\n",
        "    \"timeSegmentStart\": \"0.0s\",\n",
        "    \"timeSegmentEnd\": \"5.0s\",\n",
        "}\n",
        "\n",
        "# getting reference to bucket\n",
        "bucket = storage.Client(project=PROJECT_ID).bucket(BUCKET_INPUT_BATCHPREDICT)\n",
        "\n",
        "# creating a blob\n",
        "blob = bucket.blob(blob_name=test_filename)\n",
        "\n",
        "# creating data variable\n",
        "data = json.dumps(data_1) + \"\\n\" + json.dumps(data_2) + \"\\n\"\n",
        "\n",
        "# uploading data variable content to bucket\n",
        "blob.upload_from_string(data)\n",
        "\n",
        "# printing path of uploaded file\n",
        "print(gcs_input_uri)\n",
        "\n",
        "# printing content of uploaded file\n",
        "! gsutil cat $gcs_input_uri"
      ]
    },
    {
      "cell_type": "markdown",
      "metadata": {
        "id": "batch_request:mbsdk"
      },
      "source": [
        "### Make the batch prediction request\n",
        "\n",
        "Now that your Model resource is trained, you can make a batch prediction by invoking the batch_predict() method, with the following parameters:\n",
        "\n",
        "- `job_display_name`: The human readable name for the batch prediction job.\n",
        "- `gcs_source`: A list of one or more batch request input files.\n",
        "- `gcs_destination_prefix`: The Cloud Storage location for storing the batch prediction resuls.\n",
        "- `sync`: If set to True, the call will block while waiting for the asynchronous batch job to complete."
      ]
    },
    {
      "cell_type": "code",
      "execution_count": 78,
      "metadata": {
        "id": "xqETzs0w0Sjg",
        "colab": {
          "base_uri": "https://localhost:8080/"
        },
        "outputId": "d5a6d26a-dc5d-44d8-c955-97a6f655eedc"
      },
      "outputs": [
        {
          "output_type": "stream",
          "name": "stdout",
          "text": [
            "Creating BatchPredictionJob\n"
          ]
        },
        {
          "output_type": "stream",
          "name": "stderr",
          "text": [
            "INFO:google.cloud.aiplatform.jobs:Creating BatchPredictionJob\n"
          ]
        }
      ],
      "source": [
        "# confirm if job exists before running it\n",
        "jobs = aiplatform.BatchPredictionJob.list(filter = f\"display_name={batch_display_name}\")\n",
        "\n",
        "if jobs:\n",
        "    batch_predict_job = jobs[0]\n",
        "    print(f\"Jobs Exists: {jobs[0].display_name}\")\n",
        "else:\n",
        "    batch_predict_job = model.batch_predict(\n",
        "    job_display_name=batch_display_name,\n",
        "    gcs_source=dataset_source_uri,\n",
        "    gcs_destination_prefix=BUCKET_PREDICTION_OUTPUT,\n",
        "    sync=False,\n",
        ")\n"
      ]
    },
    {
      "cell_type": "markdown",
      "metadata": {
        "id": "batch_request_wait:mbsdk"
      },
      "source": [
        "### Wait for completion of batch prediction job\n",
        "\n",
        "Next, wait for the batch job to complete. Alternatively, one can set the parameter `sync` to `True` in the `batch_predict()` method to block until the batch prediction job is completed."
      ]
    },
    {
      "cell_type": "code",
      "execution_count": 79,
      "metadata": {
        "id": "5UZ6A3vB0Sjg",
        "colab": {
          "base_uri": "https://localhost:8080/",
          "height": 436
        },
        "outputId": "94643601-2f03-4f9f-d033-0e6f7b1bfd8e"
      },
      "outputs": [
        {
          "output_type": "stream",
          "name": "stdout",
          "text": [
            "BatchPredictionJob projects/993987777814/locations/us-central1/batchPredictionJobs/2111900290629238784 current state:\n",
            "JobState.JOB_STATE_FAILED\n"
          ]
        },
        {
          "output_type": "stream",
          "name": "stderr",
          "text": [
            "INFO:google.cloud.aiplatform.jobs:BatchPredictionJob projects/993987777814/locations/us-central1/batchPredictionJobs/2111900290629238784 current state:\n",
            "JobState.JOB_STATE_FAILED\n"
          ]
        },
        {
          "output_type": "error",
          "ename": "RuntimeError",
          "evalue": "ignored",
          "traceback": [
            "\u001b[0;31m---------------------------------------------------------------------------\u001b[0m",
            "\u001b[0;31mRuntimeError\u001b[0m                              Traceback (most recent call last)",
            "\u001b[0;32m<ipython-input-79-093d0274045b>\u001b[0m in \u001b[0;36m<module>\u001b[0;34m\u001b[0m\n\u001b[0;32m----> 1\u001b[0;31m \u001b[0mbatch_predict_job\u001b[0m\u001b[0;34m.\u001b[0m\u001b[0mwait\u001b[0m\u001b[0;34m(\u001b[0m\u001b[0;34m)\u001b[0m\u001b[0;34m\u001b[0m\u001b[0;34m\u001b[0m\u001b[0m\n\u001b[0m",
            "\u001b[0;32m/usr/local/lib/python3.8/dist-packages/google/cloud/aiplatform/base.py\u001b[0m in \u001b[0;36mwait\u001b[0;34m(self)\u001b[0m\n\u001b[1;32m    251\u001b[0m             \u001b[0mfutures\u001b[0m\u001b[0;34m.\u001b[0m\u001b[0mwait\u001b[0m\u001b[0;34m(\u001b[0m\u001b[0;34m[\u001b[0m\u001b[0mfuture\u001b[0m\u001b[0;34m]\u001b[0m\u001b[0;34m,\u001b[0m \u001b[0mreturn_when\u001b[0m\u001b[0;34m=\u001b[0m\u001b[0mfutures\u001b[0m\u001b[0;34m.\u001b[0m\u001b[0mFIRST_EXCEPTION\u001b[0m\u001b[0;34m)\u001b[0m\u001b[0;34m\u001b[0m\u001b[0;34m\u001b[0m\u001b[0m\n\u001b[1;32m    252\u001b[0m \u001b[0;34m\u001b[0m\u001b[0m\n\u001b[0;32m--> 253\u001b[0;31m         \u001b[0mself\u001b[0m\u001b[0;34m.\u001b[0m\u001b[0m_raise_future_exception\u001b[0m\u001b[0;34m(\u001b[0m\u001b[0;34m)\u001b[0m\u001b[0;34m\u001b[0m\u001b[0;34m\u001b[0m\u001b[0m\n\u001b[0m\u001b[1;32m    254\u001b[0m \u001b[0;34m\u001b[0m\u001b[0m\n\u001b[1;32m    255\u001b[0m     \u001b[0;34m@\u001b[0m\u001b[0mproperty\u001b[0m\u001b[0;34m\u001b[0m\u001b[0;34m\u001b[0m\u001b[0m\n",
            "\u001b[0;32m/usr/local/lib/python3.8/dist-packages/google/cloud/aiplatform/base.py\u001b[0m in \u001b[0;36m_raise_future_exception\u001b[0;34m(self)\u001b[0m\n\u001b[1;32m    217\u001b[0m         \u001b[0;32mwith\u001b[0m \u001b[0mself\u001b[0m\u001b[0;34m.\u001b[0m\u001b[0m__latest_future_lock\u001b[0m\u001b[0;34m:\u001b[0m\u001b[0;34m\u001b[0m\u001b[0;34m\u001b[0m\u001b[0m\n\u001b[1;32m    218\u001b[0m             \u001b[0;32mif\u001b[0m \u001b[0mself\u001b[0m\u001b[0;34m.\u001b[0m\u001b[0m_exception\u001b[0m\u001b[0;34m:\u001b[0m\u001b[0;34m\u001b[0m\u001b[0;34m\u001b[0m\u001b[0m\n\u001b[0;32m--> 219\u001b[0;31m                 \u001b[0;32mraise\u001b[0m \u001b[0mself\u001b[0m\u001b[0;34m.\u001b[0m\u001b[0m_exception\u001b[0m\u001b[0;34m\u001b[0m\u001b[0;34m\u001b[0m\u001b[0m\n\u001b[0m\u001b[1;32m    220\u001b[0m \u001b[0;34m\u001b[0m\u001b[0m\n\u001b[1;32m    221\u001b[0m     \u001b[0;32mdef\u001b[0m \u001b[0m_complete_future\u001b[0m\u001b[0;34m(\u001b[0m\u001b[0mself\u001b[0m\u001b[0;34m,\u001b[0m \u001b[0mfuture\u001b[0m\u001b[0;34m:\u001b[0m \u001b[0mfutures\u001b[0m\u001b[0;34m.\u001b[0m\u001b[0mFuture\u001b[0m\u001b[0;34m)\u001b[0m\u001b[0;34m:\u001b[0m\u001b[0;34m\u001b[0m\u001b[0;34m\u001b[0m\u001b[0m\n",
            "\u001b[0;32m/usr/local/lib/python3.8/dist-packages/google/cloud/aiplatform/base.py\u001b[0m in \u001b[0;36m_complete_future\u001b[0;34m(self, future)\u001b[0m\n\u001b[1;32m    229\u001b[0m         \u001b[0;32mwith\u001b[0m \u001b[0mself\u001b[0m\u001b[0;34m.\u001b[0m\u001b[0m__latest_future_lock\u001b[0m\u001b[0;34m:\u001b[0m\u001b[0;34m\u001b[0m\u001b[0;34m\u001b[0m\u001b[0m\n\u001b[1;32m    230\u001b[0m             \u001b[0;32mtry\u001b[0m\u001b[0;34m:\u001b[0m\u001b[0;34m\u001b[0m\u001b[0;34m\u001b[0m\u001b[0m\n\u001b[0;32m--> 231\u001b[0;31m                 \u001b[0mfuture\u001b[0m\u001b[0;34m.\u001b[0m\u001b[0mresult\u001b[0m\u001b[0;34m(\u001b[0m\u001b[0;34m)\u001b[0m  \u001b[0;31m# raises\u001b[0m\u001b[0;34m\u001b[0m\u001b[0;34m\u001b[0m\u001b[0m\n\u001b[0m\u001b[1;32m    232\u001b[0m             \u001b[0;32mexcept\u001b[0m \u001b[0mException\u001b[0m \u001b[0;32mas\u001b[0m \u001b[0me\u001b[0m\u001b[0;34m:\u001b[0m\u001b[0;34m\u001b[0m\u001b[0;34m\u001b[0m\u001b[0m\n\u001b[1;32m    233\u001b[0m                 \u001b[0mself\u001b[0m\u001b[0;34m.\u001b[0m\u001b[0m_exception\u001b[0m \u001b[0;34m=\u001b[0m \u001b[0me\u001b[0m\u001b[0;34m\u001b[0m\u001b[0;34m\u001b[0m\u001b[0m\n",
            "\u001b[0;32m/usr/lib/python3.8/concurrent/futures/_base.py\u001b[0m in \u001b[0;36mresult\u001b[0;34m(self, timeout)\u001b[0m\n\u001b[1;32m    435\u001b[0m                     \u001b[0;32mraise\u001b[0m \u001b[0mCancelledError\u001b[0m\u001b[0;34m(\u001b[0m\u001b[0;34m)\u001b[0m\u001b[0;34m\u001b[0m\u001b[0;34m\u001b[0m\u001b[0m\n\u001b[1;32m    436\u001b[0m                 \u001b[0;32melif\u001b[0m \u001b[0mself\u001b[0m\u001b[0;34m.\u001b[0m\u001b[0m_state\u001b[0m \u001b[0;34m==\u001b[0m \u001b[0mFINISHED\u001b[0m\u001b[0;34m:\u001b[0m\u001b[0;34m\u001b[0m\u001b[0;34m\u001b[0m\u001b[0m\n\u001b[0;32m--> 437\u001b[0;31m                     \u001b[0;32mreturn\u001b[0m \u001b[0mself\u001b[0m\u001b[0;34m.\u001b[0m\u001b[0m__get_result\u001b[0m\u001b[0;34m(\u001b[0m\u001b[0;34m)\u001b[0m\u001b[0;34m\u001b[0m\u001b[0;34m\u001b[0m\u001b[0m\n\u001b[0m\u001b[1;32m    438\u001b[0m \u001b[0;34m\u001b[0m\u001b[0m\n\u001b[1;32m    439\u001b[0m                 \u001b[0mself\u001b[0m\u001b[0;34m.\u001b[0m\u001b[0m_condition\u001b[0m\u001b[0;34m.\u001b[0m\u001b[0mwait\u001b[0m\u001b[0;34m(\u001b[0m\u001b[0mtimeout\u001b[0m\u001b[0;34m)\u001b[0m\u001b[0;34m\u001b[0m\u001b[0;34m\u001b[0m\u001b[0m\n",
            "\u001b[0;32m/usr/lib/python3.8/concurrent/futures/_base.py\u001b[0m in \u001b[0;36m__get_result\u001b[0;34m(self)\u001b[0m\n\u001b[1;32m    387\u001b[0m         \u001b[0;32mif\u001b[0m \u001b[0mself\u001b[0m\u001b[0;34m.\u001b[0m\u001b[0m_exception\u001b[0m\u001b[0;34m:\u001b[0m\u001b[0;34m\u001b[0m\u001b[0;34m\u001b[0m\u001b[0m\n\u001b[1;32m    388\u001b[0m             \u001b[0;32mtry\u001b[0m\u001b[0;34m:\u001b[0m\u001b[0;34m\u001b[0m\u001b[0;34m\u001b[0m\u001b[0m\n\u001b[0;32m--> 389\u001b[0;31m                 \u001b[0;32mraise\u001b[0m \u001b[0mself\u001b[0m\u001b[0;34m.\u001b[0m\u001b[0m_exception\u001b[0m\u001b[0;34m\u001b[0m\u001b[0;34m\u001b[0m\u001b[0m\n\u001b[0m\u001b[1;32m    390\u001b[0m             \u001b[0;32mfinally\u001b[0m\u001b[0;34m:\u001b[0m\u001b[0;34m\u001b[0m\u001b[0;34m\u001b[0m\u001b[0m\n\u001b[1;32m    391\u001b[0m                 \u001b[0;31m# Break a reference cycle with the exception in self._exception\u001b[0m\u001b[0;34m\u001b[0m\u001b[0;34m\u001b[0m\u001b[0;34m\u001b[0m\u001b[0m\n",
            "\u001b[0;32m/usr/lib/python3.8/concurrent/futures/thread.py\u001b[0m in \u001b[0;36mrun\u001b[0;34m(self)\u001b[0m\n\u001b[1;32m     55\u001b[0m \u001b[0;34m\u001b[0m\u001b[0m\n\u001b[1;32m     56\u001b[0m         \u001b[0;32mtry\u001b[0m\u001b[0;34m:\u001b[0m\u001b[0;34m\u001b[0m\u001b[0;34m\u001b[0m\u001b[0m\n\u001b[0;32m---> 57\u001b[0;31m             \u001b[0mresult\u001b[0m \u001b[0;34m=\u001b[0m \u001b[0mself\u001b[0m\u001b[0;34m.\u001b[0m\u001b[0mfn\u001b[0m\u001b[0;34m(\u001b[0m\u001b[0;34m*\u001b[0m\u001b[0mself\u001b[0m\u001b[0;34m.\u001b[0m\u001b[0margs\u001b[0m\u001b[0;34m,\u001b[0m \u001b[0;34m**\u001b[0m\u001b[0mself\u001b[0m\u001b[0;34m.\u001b[0m\u001b[0mkwargs\u001b[0m\u001b[0;34m)\u001b[0m\u001b[0;34m\u001b[0m\u001b[0;34m\u001b[0m\u001b[0m\n\u001b[0m\u001b[1;32m     58\u001b[0m         \u001b[0;32mexcept\u001b[0m \u001b[0mBaseException\u001b[0m \u001b[0;32mas\u001b[0m \u001b[0mexc\u001b[0m\u001b[0;34m:\u001b[0m\u001b[0;34m\u001b[0m\u001b[0;34m\u001b[0m\u001b[0m\n\u001b[1;32m     59\u001b[0m             \u001b[0mself\u001b[0m\u001b[0;34m.\u001b[0m\u001b[0mfuture\u001b[0m\u001b[0;34m.\u001b[0m\u001b[0mset_exception\u001b[0m\u001b[0;34m(\u001b[0m\u001b[0mexc\u001b[0m\u001b[0;34m)\u001b[0m\u001b[0;34m\u001b[0m\u001b[0;34m\u001b[0m\u001b[0m\n",
            "\u001b[0;32m/usr/local/lib/python3.8/dist-packages/google/cloud/aiplatform/base.py\u001b[0m in \u001b[0;36mwait_for_dependencies_and_invoke\u001b[0;34m(deps, method, args, kwargs, internal_callbacks)\u001b[0m\n\u001b[1;32m    319\u001b[0m                 \u001b[0mfuture\u001b[0m\u001b[0;34m.\u001b[0m\u001b[0mresult\u001b[0m\u001b[0;34m(\u001b[0m\u001b[0;34m)\u001b[0m\u001b[0;34m\u001b[0m\u001b[0;34m\u001b[0m\u001b[0m\n\u001b[1;32m    320\u001b[0m \u001b[0;34m\u001b[0m\u001b[0m\n\u001b[0;32m--> 321\u001b[0;31m             \u001b[0mresult\u001b[0m \u001b[0;34m=\u001b[0m \u001b[0mmethod\u001b[0m\u001b[0;34m(\u001b[0m\u001b[0;34m*\u001b[0m\u001b[0margs\u001b[0m\u001b[0;34m,\u001b[0m \u001b[0;34m**\u001b[0m\u001b[0mkwargs\u001b[0m\u001b[0;34m)\u001b[0m\u001b[0;34m\u001b[0m\u001b[0;34m\u001b[0m\u001b[0m\n\u001b[0m\u001b[1;32m    322\u001b[0m \u001b[0;34m\u001b[0m\u001b[0m\n\u001b[1;32m    323\u001b[0m             \u001b[0;31m# call callbacks from within future\u001b[0m\u001b[0;34m\u001b[0m\u001b[0;34m\u001b[0m\u001b[0;34m\u001b[0m\u001b[0m\n",
            "\u001b[0;32m/usr/local/lib/python3.8/dist-packages/google/cloud/aiplatform/jobs.py\u001b[0m in \u001b[0;36m_create\u001b[0;34m(cls, empty_batch_prediction_job, model_or_model_name, gca_batch_prediction_job, generate_explanation, sync, create_request_timeout)\u001b[0m\n\u001b[1;32m    842\u001b[0m         )\n\u001b[1;32m    843\u001b[0m \u001b[0;34m\u001b[0m\u001b[0m\n\u001b[0;32m--> 844\u001b[0;31m         \u001b[0mbatch_prediction_job\u001b[0m\u001b[0;34m.\u001b[0m\u001b[0m_block_until_complete\u001b[0m\u001b[0;34m(\u001b[0m\u001b[0;34m)\u001b[0m\u001b[0;34m\u001b[0m\u001b[0;34m\u001b[0m\u001b[0m\n\u001b[0m\u001b[1;32m    845\u001b[0m \u001b[0;34m\u001b[0m\u001b[0m\n\u001b[1;32m    846\u001b[0m         \u001b[0;32mreturn\u001b[0m \u001b[0mbatch_prediction_job\u001b[0m\u001b[0;34m\u001b[0m\u001b[0;34m\u001b[0m\u001b[0m\n",
            "\u001b[0;32m/usr/local/lib/python3.8/dist-packages/google/cloud/aiplatform/jobs.py\u001b[0m in \u001b[0;36m_block_until_complete\u001b[0;34m(self)\u001b[0m\n\u001b[1;32m    227\u001b[0m         \u001b[0;31m# JOB_STATE_FAILED or JOB_STATE_CANCELLED.\u001b[0m\u001b[0;34m\u001b[0m\u001b[0;34m\u001b[0m\u001b[0;34m\u001b[0m\u001b[0m\n\u001b[1;32m    228\u001b[0m         \u001b[0;32mif\u001b[0m \u001b[0mself\u001b[0m\u001b[0;34m.\u001b[0m\u001b[0m_gca_resource\u001b[0m\u001b[0;34m.\u001b[0m\u001b[0mstate\u001b[0m \u001b[0;32min\u001b[0m \u001b[0m_JOB_ERROR_STATES\u001b[0m\u001b[0;34m:\u001b[0m\u001b[0;34m\u001b[0m\u001b[0;34m\u001b[0m\u001b[0m\n\u001b[0;32m--> 229\u001b[0;31m             \u001b[0;32mraise\u001b[0m \u001b[0mRuntimeError\u001b[0m\u001b[0;34m(\u001b[0m\u001b[0;34m\"Job failed with:\\n%s\"\u001b[0m \u001b[0;34m%\u001b[0m \u001b[0mself\u001b[0m\u001b[0;34m.\u001b[0m\u001b[0m_gca_resource\u001b[0m\u001b[0;34m.\u001b[0m\u001b[0merror\u001b[0m\u001b[0;34m)\u001b[0m\u001b[0;34m\u001b[0m\u001b[0;34m\u001b[0m\u001b[0m\n\u001b[0m\u001b[1;32m    230\u001b[0m         \u001b[0;32melse\u001b[0m\u001b[0;34m:\u001b[0m\u001b[0;34m\u001b[0m\u001b[0;34m\u001b[0m\u001b[0m\n\u001b[1;32m    231\u001b[0m             \u001b[0m_LOGGER\u001b[0m\u001b[0;34m.\u001b[0m\u001b[0mlog_action_completed_against_resource\u001b[0m\u001b[0;34m(\u001b[0m\u001b[0;34m\"run\"\u001b[0m\u001b[0;34m,\u001b[0m \u001b[0;34m\"completed\"\u001b[0m\u001b[0;34m,\u001b[0m \u001b[0mself\u001b[0m\u001b[0;34m)\u001b[0m\u001b[0;34m\u001b[0m\u001b[0;34m\u001b[0m\u001b[0m\n",
            "\u001b[0;31mRuntimeError\u001b[0m: Job failed with:\ncode: 3\nmessage: \"BatchPrediction could not start because no valid instances were found in the input file.\"\n"
          ]
        }
      ],
      "source": [
        "batch_predict_job.wait()"
      ]
    },
    {
      "cell_type": "markdown",
      "metadata": {
        "id": "get_batch_prediction:mbsdk,vot"
      },
      "source": [
        "### Get the predictions\n",
        "\n",
        "Next, get the results from the completed batch prediction job.\n",
        "\n",
        "The results are written to the Cloud Storage output bucket you specified in the batch prediction request. You call the method iter_outputs() to get a list of each Cloud Storage file generated with the results. Each file contains one or more prediction requests in a JSON format:\n",
        "\n",
        "- `content`: The prediction request.\n",
        "- `prediction`: The prediction response.\n",
        " - `id`: The internal assigned unique identifiers for each prediction request.\n",
        " - `displayName`: The class names for the predicted label.\n",
        " - `confidences`: The predicted confidence, between 0 and 1, per class label.\n",
        " - `timeSegmentStart`: The time offset in the video to the start of the video sequence.\n",
        " - `timeSegmentEnd`: The time offset in the video to the end of the video sequence.\n",
        " - `frames`: Location with frames of the tracked object."
      ]
    },
    {
      "cell_type": "code",
      "execution_count": null,
      "metadata": {
        "id": "-AbmU6g80Sjg"
      },
      "outputs": [],
      "source": [
        "bp_iter_outputs = batch_predict_job.iter_outputs()\n",
        "\n",
        "prediction_results = list()\n",
        "for blob in bp_iter_outputs:\n",
        "    if blob.name.split(\"/\")[-1].startswith(\"prediction\"):\n",
        "        prediction_results.append(blob.name)\n",
        "\n",
        "tags = list()\n",
        "for prediction_result in prediction_results:\n",
        "    gfile_name = f\"gs://{bp_iter_outputs.bucket.name}/{prediction_result}\".replace(\n",
        "        BUCKET_URI + \"/\", \"\"\n",
        "    )\n",
        "    data = bucket.get_blob(gfile_name).download_as_string()\n",
        "    data = json.loads(data)\n",
        "    print(data)"
      ]
    },
    {
      "cell_type": "markdown",
      "metadata": {
        "id": "cleanup:mbsdk"
      },
      "source": [
        "# Cleaning up\n",
        "\n",
        "To clean up all Google Cloud resources used in this project, you can [delete the Google Cloud\n",
        "project](https://cloud.google.com/resource-manager/docs/creating-managing-projects#shutting_down_projects) you used for the tutorial.\n",
        "\n",
        "Otherwise, you can delete the individual resources you created in this tutorial:\n",
        "\n",
        "- Dataset\n",
        "- Pipeline\n",
        "- Model\n",
        "- Endpoint\n",
        "- AutoML Training Job\n",
        "- Batch Job\n",
        "- Custom Job\n",
        "- Hyperparameter Tuning Job\n",
        "- Cloud Storage Bucket"
      ]
    },
    {
      "cell_type": "code",
      "execution_count": null,
      "metadata": {
        "id": "4xYMLm510Sjg"
      },
      "outputs": [],
      "source": [
        "# Delete the dataset using the Vertex dataset object\n",
        "dataset.delete()\n",
        "\n",
        "# Delete the model using the Vertex model object\n",
        "model.delete()\n",
        "\n",
        "# Delete the AutoML or Pipeline training job\n",
        "job.delete()\n",
        "\n",
        "# Delete the batch prediction job using the Vertex batch prediction object\n",
        "batch_predict_job.delete()\n",
        "\n",
        "if os.getenv(\"IS_TESTING\"):\n",
        "    ! gsutil -m rm -r $BUCKET_URI"
      ]
    }
  ],
  "metadata": {
    "colab": {
      "provenance": [],
      "toc_visible": true
    },
    "kernelspec": {
      "display_name": "Python 3.9.6 64-bit",
      "language": "python",
      "name": "python3"
    },
    "language_info": {
      "name": "python",
      "version": "3.9.6"
    },
    "vscode": {
      "interpreter": {
        "hash": "31f2aee4e71d21fbe5cf8b01ff0e069b9275f58929596ceb00d14d90e3e16cd6"
      }
    }
  },
  "nbformat": 4,
  "nbformat_minor": 0
}