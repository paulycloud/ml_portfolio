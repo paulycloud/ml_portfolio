{
  "cells": [
    {
      "cell_type": "markdown",
      "metadata": {
        "id": "JAPoU8Sm5E6e"
      },
      "source": [
        "#  Predict whether a Bank client will purchase a Term deposit (1=no, 2=yes) using AutoML Binary Logistic Regression\n",
        "\n",
        "###### Copyright \n",
        "**GUI Author:** [ Google Cloud](https://cloud.google.com/vertex-ai/docs/tutorials/tabular-automl/overview)<br>\n",
        "\n",
        "**Notebook Author:** [ Kamau](https://bio.link/paulkamau)<br>\n",
        "\n",
        "**Project Type:** AutoML Tabular<br>\n",
        "\n",
        "**Date created:** 2022/04/16<br>\n",
        "\n",
        "**Last modified:** 2022/04/16<br>\n",
        "\n",
        "**Description:** The goal of the trained model is to predict whether a bank client will buy a term deposit (a type of investment) using features like age, income, and profession. This type of model can help banks determine who to focus its marketing resources on.\n",
        "\n",
        "**Training Dataset** This project uses the [Bank marketing](https://datahub.io/machine-learning/bank-marketing) open-source dataset. \n"
      ]
    },
    {
      "cell_type": "markdown",
      "metadata": {
        "id": "411c6c769293"
      },
      "source": [
        "### Objective\n",
        "\n",
        "The steps performed include the following:\n",
        "\n",
        "- Create a Vertex AI model training job.\n",
        "- Train an AutoML Tabular model.\n",
        "- Deploy the `Model` resource to a serving `Endpoint` resource.\n",
        "- Make a prediction by sending data.\n",
        "- Undeploy the `Model` resource.\n",
        "\n",
        "### Dataset\n",
        "\n",
        "This project uses the [Bank marketing](https://datahub.io/machine-learning/bank-marketing) open-source dataset. \n",
        "\n",
        "```https://storage.googleapis.com/cloud-ml-tables-data/bank-marketing.csv```\n",
        "\n",
        "#### Execute notebook in Colab\n",
        "<a href=\"#\">\n",
        "    <img src=\"https://cloud.google.com/ml-engine/images/colab-logo-32px.png\" alt=\"Colab logo\"> Run in Colab\n",
        "</a>"
      ]
    },
    {
      "cell_type": "markdown",
      "metadata": {
        "id": "Zs_AFFK5Qd_S"
      },
      "source": [
        "# Project Variables"
      ]
    },
    {
      "cell_type": "code",
      "execution_count": 41,
      "metadata": {
        "colab": {
          "base_uri": "https://localhost:8080/"
        },
        "id": "TH7HQzDJQgC0",
        "outputId": "f290b209-7867-40e1-81ca-e816f0ef7b9c"
      },
      "outputs": [
        {
          "name": "stdout",
          "output_type": "stream",
          "text": [
            "All project variables set. Lets go\n"
          ]
        }
      ],
      "source": [
        "# Project variables \n",
        "#\n",
        "# These are the project variable used in this ML Model: \n",
        "#\n",
        "\n",
        "PROJECT_ID = \"paulkamau\" # @param {type:\"string\"}\n",
        "REGION = \"us-central1\" \n",
        "automl_type = \"tabular\" #@param [\"image\", \"text\", \"tabular\", \"video\"]\n",
        "model_display_name = \"automl_tabular_bank_purchase_model\"\n",
        "job_display_name = model_display_name + \"_job\"\n",
        "batch_display_name = model_display_name + \"_batch_prediction\"\n",
        "endpoint_display_name = model_display_name + \"_endpoint\"\n",
        "\n",
        "## datasets \n",
        "dataset_display_name = model_display_name + \"_dataset\"\n",
        "dataset_source_uri = \"gs://cloud-ml-tables-data/bank-marketing.csv\"\n",
        "dataset_local_source_uri = \"gs://auto-ml-tutorials/tabular/bank-marketing.csv\"\n",
        "dataset_source_public = \"https://storage.googleapis.com/cloud-ml-tables-data/bank-marketing.csv\"\n",
        "\n",
        "# bucket details\n",
        "BUCKET_NAME = \"auto-ml-tutorials\" #auto-ml bucket \n",
        "BUCKET_URI = f\"gs://{BUCKET_NAME}/{automl_type}/\" # automl bucket uri\n",
        "BUCKET_PREDICTION_OUTPUT = f\"gs://auto_ml_datasets_predictions/{automl_type}/\" \n",
        "BUCKET_INPUT_BATCHPREDICT = f\"gs://{BUCKET_NAME}/{automl_type}/{model_display_name}\" # contains the files to be used for batch prediction\n",
        "\n",
        "print(\"All project variables set. Lets go\")\n"
      ]
    },
    {
      "cell_type": "markdown",
      "metadata": {
        "id": "install_aip"
      },
      "source": [
        "## Installation"
      ]
    },
    {
      "cell_type": "code",
      "execution_count": 42,
      "metadata": {
        "id": "PyQmSRbKA8r-"
      },
      "outputs": [],
      "source": [
        "import os\n",
        "\n",
        "# The Google Cloud Notebook product has specific requirements\n",
        "IS_GOOGLE_CLOUD_NOTEBOOK = os.path.exists(\"/opt/deeplearning/metadata/env_version\")\n",
        "\n",
        "# Google Cloud Notebook requires dependencies to be installed with '--user'\n",
        "USER_FLAG = \"\"\n",
        "if IS_GOOGLE_CLOUD_NOTEBOOK:\n",
        "    USER_FLAG = \"--user\""
      ]
    },
    {
      "cell_type": "markdown",
      "metadata": {
        "id": "b03b7f4487ff"
      },
      "source": [
        "Install the latest version of the Vertex AI client library.\n",
        "\n",
        "Run the following command in your virtual environment to install the Vertex SDK for Python:"
      ]
    },
    {
      "cell_type": "code",
      "execution_count": null,
      "metadata": {
        "id": "d489d38261dd"
      },
      "outputs": [],
      "source": [
        "! pip install {USER_FLAG} --upgrade google-cloud-aiplatform"
      ]
    },
    {
      "cell_type": "markdown",
      "metadata": {
        "id": "install_storage"
      },
      "source": [
        "Install the Cloud Storage library:"
      ]
    },
    {
      "cell_type": "code",
      "execution_count": null,
      "metadata": {
        "id": "qssss-KSlugo"
      },
      "outputs": [],
      "source": [
        "!pip install {USER_FLAG} --upgrade google-cloud-storage"
      ]
    },
    {
      "cell_type": "markdown",
      "metadata": {
        "id": "d3a26cb9b19d"
      },
      "source": [
        "### Restart the kernel\n",
        "\n",
        "After you install the additional packages, you need to restart the notebook kernel so it can find the packages."
      ]
    },
    {
      "cell_type": "code",
      "execution_count": 5,
      "metadata": {
        "id": "EzrelQZ22IZj"
      },
      "outputs": [],
      "source": [
        "# Automatically restart kernel after installs\n",
        "import os\n",
        "\n",
        "if not os.getenv(\"IS_TESTING\"):\n",
        "    # Automatically restart kernel after installs\n",
        "    import IPython\n",
        "\n",
        "    app = IPython.Application.instance()\n",
        "    app.kernel.do_shutdown(True)"
      ]
    },
    {
      "cell_type": "markdown",
      "metadata": {
        "id": "BF1j6f9HApxa"
      },
      "source": [
        "### Set up your Google Cloud project\n",
        "\n",
        "**The following steps are required, regardless of your notebook environment.**\n",
        "\n",
        "1. [Select or create a Google Cloud project](https://console.cloud.google.com/cloud-resource-manager). When you first create an account, you get a $300 free credit towards your compute/storage costs.\n",
        "\n",
        "1. [Make sure that billing is enabled for your project](https://cloud.google.com/billing/docs/how-to/modify-project).\n",
        "\n",
        "1. [Enable the Vertex AI API and Compute Engine API](https://console.cloud.google.com/flows/enableapi?apiid=aiplatform.googleapis.com,compute_component).\n",
        "\n",
        "1. If you are running this notebook locally, you will need to install the [Cloud SDK](https://cloud.google.com/sdk).\n",
        "\n",
        "1. Enter your project ID in the cell below. Then run the cell to make sure the\n",
        "Cloud SDK uses the right project for all the commands in this notebook.\n",
        "\n",
        "**Note**: Jupyter runs lines prefixed with `!` as shell commands, and it interpolates Python variables prefixed with `$` into these commands."
      ]
    },
    {
      "cell_type": "markdown",
      "metadata": {
        "id": "dr--iN2kAylZ"
      },
      "source": [
        "### Authenticate your Google Cloud account\n",
        "\n",
        "**If you are using Notebooks**, your environment is already\n",
        "authenticated. Skip this step.\n",
        "\n",
        "**If you are using Colab**, run the cell below and follow the instructions\n",
        "when prompted to authenticate your account via oAuth.\n",
        "\n",
        "**Otherwise**, follow these steps:\n",
        "\n",
        "1. In the Cloud Console, go to the [**Create service account key**\n",
        "   page](https://console.cloud.google.com/apis/credentials/serviceaccountkey).\n",
        "\n",
        "2. Click **Create service account**.\n",
        "\n",
        "3. In the **Service account name** field, enter a name, and\n",
        "   click **Create**.\n",
        "\n",
        "4. In the **Grant this service account access to project** section, click the **Role** drop-down list. Type \"Vertex AI\"\n",
        "into the filter box, and select\n",
        "   **Vertex AI Administrator**. Type \"Storage Object Admin\" into the filter box, and select **Storage Object Admin**.\n",
        "\n",
        "5. Click *Create*. A JSON file that contains your key downloads to your\n",
        "local environment.\n",
        "\n",
        "6. Enter the path to your service account key as the\n",
        "`GOOGLE_APPLICATION_CREDENTIALS` variable in the cell below and run the cell."
      ]
    },
    {
      "cell_type": "code",
      "execution_count": 45,
      "metadata": {
        "id": "535223fa4b84"
      },
      "outputs": [],
      "source": [
        "import os\n",
        "import sys\n",
        "import pandas as pd\n",
        "\n",
        "# If you are running this notebook in Colab, run this cell and follow the\n",
        "# instructions to authenticate your GCP account. This provides access to your\n",
        "# Cloud Storage bucket and lets you submit training jobs and prediction\n",
        "# requests.\n",
        "\n",
        "# The Google Cloud Notebook product has specific requirements\n",
        "IS_GOOGLE_CLOUD_NOTEBOOK = os.path.exists(\"/opt/deeplearning/metadata/env_version\")\n",
        "\n",
        "# If on Google Cloud Notebooks, then don't execute this code\n",
        "if not IS_GOOGLE_CLOUD_NOTEBOOK:\n",
        "    if \"google.colab\" in sys.modules:\n",
        "        from google.colab import auth as google_auth\n",
        "\n",
        "        google_auth.authenticate_user()\n",
        "\n",
        "    # If you are running this notebook locally, replace the string below with the\n",
        "    # path to your service account key and run this cell to authenticate your GCP\n",
        "    # account.\n",
        "    elif not os.getenv(\"IS_TESTING\"):\n",
        "        %env GOOGLE_APPLICATION_CREDENTIALS ''"
      ]
    },
    {
      "cell_type": "markdown",
      "metadata": {
        "id": "zgPO1eR3CYjk"
      },
      "source": [
        "### Create a Cloud Storage bucket\n",
        "\n",
        "**The following steps are required, regardless of your notebook environment.**\n",
        "\n",
        "This notebook demonstrates how to use Vertex AI SDK for Python to create an AutoML model based on a tabular dataset. You will need to provide a Cloud Storage bucket where the dataset will be stored.\n",
        "\n",
        "Set the name of your Cloud Storage bucket below. It must be unique across all of your Cloud Storage buckets."
      ]
    },
    {
      "cell_type": "markdown",
      "metadata": {
        "id": "-EcIXiGsCePi"
      },
      "source": [
        "**Only if your bucket doesn't already exist**: Run the following cell to create your Cloud Storage bucket."
      ]
    },
    {
      "cell_type": "code",
      "execution_count": null,
      "metadata": {
        "id": "NIq7R4HZCfIc"
      },
      "outputs": [],
      "source": [
        "! gsutil mb -l $REGION $BUCKET_NAME"
      ]
    },
    {
      "cell_type": "markdown",
      "metadata": {
        "id": "ucvCsknMCims"
      },
      "source": [
        "Finally, validate access to your Cloud Storage bucket by examining its contents:"
      ]
    },
    {
      "cell_type": "code",
      "execution_count": 46,
      "metadata": {
        "colab": {
          "base_uri": "https://localhost:8080/"
        },
        "id": "vhOb7YnwClBb",
        "outputId": "65e69de0-1918-4cae-9f7b-8c51f8a09d82"
      },
      "outputs": [
        {
          "name": "stdout",
          "output_type": "stream",
          "text": [
            "         0  2022-07-27T17:51:07Z  gs://auto-ml-tutorials/tabular/#1658944267893591  metageneration=1\n",
            "   3700818  2022-07-27T20:05:40Z  gs://auto-ml-tutorials/tabular/bank-marketing.csv#1658952340977817  metageneration=1\n",
            "TOTAL: 2 objects, 3700818 bytes (3.53 MiB)\n"
          ]
        }
      ],
      "source": [
        "! gsutil ls -al $BUCKET_URI"
      ]
    },
    {
      "cell_type": "markdown",
      "metadata": {
        "id": "Y9Uo3tifg1kx"
      },
      "source": [
        "### Import Vertex SDK for Python\n",
        "\n",
        "Import the Vertex SDK into your Python environment and initialize it."
      ]
    },
    {
      "cell_type": "code",
      "execution_count": 47,
      "metadata": {
        "id": "pRUOFELefqf1"
      },
      "outputs": [],
      "source": [
        "from google.cloud import aiplatform\n",
        "\n",
        "aiplatform.init(project=PROJECT_ID, location=REGION)"
      ]
    },
    {
      "cell_type": "markdown",
      "metadata": {
        "id": "643dfd86b00d"
      },
      "source": [
        "## Build the Bank Deposit AutoML Model \n",
        "\n",
        "This will be a classification model"
      ]
    },
    {
      "cell_type": "markdown",
      "metadata": {
        "id": "TSAIAl-ccnfd"
      },
      "source": [
        "## Read The Dataset\n",
        "\n",
        "This code will display a sample of the data. "
      ]
    },
    {
      "cell_type": "code",
      "execution_count": 48,
      "metadata": {
        "colab": {
          "base_uri": "https://localhost:8080/"
        },
        "id": "xA94DY6UckF4",
        "outputId": "16caca39-d2a3-4be7-a464-fb40ac157116"
      },
      "outputs": [
        {
          "name": "stdout",
          "output_type": "stream",
          "text": [
            "\n",
            "5 rows sample\n",
            "   Age           Job MaritalStatus  Education Default  Balance Housing Loan  Contact  Day Month  Duration  Campaign  PDays  Previous POutcome  Deposit\n",
            "0   58    management       married   tertiary      no     2143     yes   no  unknown    5   may       261         1     -1         0  unknown        1\n",
            "1   44    technician        single  secondary      no       29     yes   no  unknown    5   may       151         1     -1         0  unknown        1\n",
            "2   33  entrepreneur       married  secondary      no        2     yes  yes  unknown    5   may        76         1     -1         0  unknown        1\n",
            "3   47   blue-collar       married    unknown      no     1506     yes   no  unknown    5   may        92         1     -1         0  unknown        1\n",
            "4   33       unknown        single    unknown      no        1      no   no  unknown    5   may       198         1     -1         0  unknown        1\n",
            "\n",
            "These are the columns\n",
            "Age\n",
            "Job\n",
            "MaritalStatus\n",
            "Education\n",
            "Default\n",
            "Balance\n",
            "Housing\n",
            "Loan\n",
            "Contact\n",
            "Day\n",
            "Month\n",
            "Duration\n",
            "Campaign\n",
            "PDays\n",
            "Previous\n",
            "POutcome\n",
            "Deposit\n"
          ]
        }
      ],
      "source": [
        "# Read the data\n",
        "dataset_sample = pd.read_csv(dataset_source_public,nrows=5)\n",
        "                                   \n",
        "# Use the next code cell to print the first five rows of the data.\n",
        "dataset_sample.head()\n",
        "\n",
        "print(\"\\n5 rows sample\")\n",
        "print(dataset_sample.to_string())\n",
        "\n",
        "## list columns \n",
        "print(\"\\nThese are the columns\")\n",
        "cols = list(pd.read_csv(dataset_source_public, nrows =1))\n",
        "for i in cols:\n",
        "       print(i)\n",
        "\n",
        "# Shape of training data (num_rows, num_columns)\n",
        "#print(dataset_sample.head())"
      ]
    },
    {
      "cell_type": "markdown",
      "metadata": {
        "id": "8f4f50a0112c"
      },
      "source": [
        "### Create a Managed Tabular Dataset from a CSV\n",
        "\n",
        "This section will create a dataset from a CSV file stored on your GCS bucket."
      ]
    },
    {
      "cell_type": "code",
      "execution_count": 49,
      "metadata": {
        "colab": {
          "base_uri": "https://localhost:8080/"
        },
        "id": "gecvE_bmXQzX",
        "outputId": "ba7a5878-47b3-4863-c33e-1997ffffa212"
      },
      "outputs": [
        {
          "name": "stdout",
          "output_type": "stream",
          "text": [
            "Dataset Exists: automl_tabular_bank_purchase_model_dataset\n"
          ]
        }
      ],
      "source": [
        "# Create dataset if it doesn't exist\n",
        "datasets = aiplatform.TabularDataset.list(filter = f\"display_name={dataset_display_name}\")\n",
        "\n",
        "if datasets:\n",
        "    dataset = datasets[0]\n",
        "    print(f\"Dataset Exists: {dataset.display_name}\")\n",
        "else:\n",
        "    #create the new dataset \n",
        "    dataset = aiplatform.TabularDataset.create (\n",
        "    display_name=dataset_display_name,\n",
        "    gcs_source=dataset_local_source_uri,\n",
        "    )\n",
        "    print(f\"Dataset Created: {dataset.display_name}\")\n",
        "    \n",
        "    print(f'Review the Dataset in the Console:\\nhttps://console.cloud.google.com/vertex-ai/locations/{REGION}/datasets/{dataset.resource_name}?project={PROJECT_ID}')\n"
      ]
    },
    {
      "cell_type": "markdown",
      "metadata": {
        "id": "ba5011d50ac7"
      },
      "source": [
        "### Launch a Training Job to Create a Model\n",
        "\n",
        "You create a custom model by training it using a prepared dataset. AutoML Tables uses the items from the dataset to train the model, test it, and evaluate its performance. You can review the results, adjust the training dataset as needed and train a new model using the improved dataset.\n",
        "\n",
        "[SDK docs reference](https://cloud.google.com/python/docs/reference/aiplatform/latest/google.cloud.aiplatform.AutoMLTabularTrainingJob)"
      ]
    },
    {
      "cell_type": "code",
      "execution_count": 50,
      "metadata": {
        "colab": {
          "base_uri": "https://localhost:8080/"
        },
        "id": "24c2c081d683",
        "outputId": "2f9a32df-7e4d-48ec-d4c5-fe1dd63b11a7"
      },
      "outputs": [
        {
          "name": "stdout",
          "output_type": "stream",
          "text": [
            "Jobs Exists: automl_tabular_bank_purchase_model_job\n"
          ]
        }
      ],
      "source": [
        "# Define the training job and create one if it doesn't exit \n",
        "jobs = aiplatform.AutoMLTabularTrainingJob.list(filter = f\"display_name={job_display_name}\")\n",
        "\n",
        "if jobs:\n",
        "   job = jobs[0]\n",
        "   print(f\"Jobs Exists: {jobs[0].display_name}\")\n",
        "else:\n",
        "    job = aiplatform.AutoMLTabularTrainingJob(\n",
        "    display_name=job_display_name,\n",
        "    optimization_prediction_type=\"classification\",\n",
        "    )\n",
        "    print(\"Training job prepared\")\n"
      ]
    },
    {
      "cell_type": "markdown",
      "metadata": {
        "id": "LOyZTv10X3Jw"
      },
      "source": [
        "### Launch a Model run job\n",
        "\n",
        "Once we have defined your training script, we will create a model. The `run` function creates a training pipeline that trains and creates a `Model` object. After the training pipeline completes, the `run` function returns the `Model` object."
      ]
    },
    {
      "cell_type": "code",
      "execution_count": 51,
      "metadata": {
        "colab": {
          "base_uri": "https://localhost:8080/"
        },
        "id": "kd4zTfHWX3mp",
        "outputId": "5930e648-03cf-49e2-fe05-429a9fc16f49"
      },
      "outputs": [
        {
          "name": "stdout",
          "output_type": "stream",
          "text": [
            "Model Exists: automl_tabular_bank_purchase_model\n"
          ]
        }
      ],
      "source": [
        "# Create model job if it doesn't exist\n",
        "models = aiplatform.Model.list(filter = f\"display_name={model_display_name}\")\n",
        "\n",
        "if models:\n",
        "    model = models[0]\n",
        "    print(f\"Model Exists: {models[0].display_name}\")\n",
        "else:\n",
        "    model = job.run(\n",
        "    dataset=dataset,\n",
        "    target_column=\"Deposit\",\n",
        "    model_display_name=model_display_name,\n",
        "    training_fraction_split=0.8,\n",
        "    validation_fraction_split=0.1,\n",
        "    test_fraction_split=0.1,\n",
        "    sync=True,\n",
        "    )\n",
        "    print(f\"Model Created: {model.display_name}\")"
      ]
    },
    {
      "cell_type": "markdown",
      "metadata": {
        "id": "mCEHwQI8N1da"
      },
      "source": [
        "# Review model evaluation scores\n",
        "After your model training has finished, you can review the evaluation scores for it using the list_model_evaluations() method. This method will return an iterator for each evaluation slice.\n",
        "\n"
      ]
    },
    {
      "cell_type": "code",
      "execution_count": 86,
      "metadata": {
        "colab": {
          "base_uri": "https://localhost:8080/"
        },
        "id": "Di9PkII9N3qw",
        "outputId": "2986d1e3-a590-45bd-9c0d-da9031659ab5"
      },
      "outputs": [
        {
          "name": "stdout",
          "output_type": "stream",
          "text": [
            "{'name': 'projects/993987777814/locations/us-central1/models/3243156880683433984@1/evaluations/8518542272604391807', 'metricsSchemaUri': 'gs://google-cloud-aiplatform/schema/modelevaluation/classification_metrics_1.0.0.yaml', 'metrics': {'auPrc': 0.9785546, 'confusionMatrix': {'rows': [[3806.0, 152.0], [277.0, 245.0]], 'annotationSpecs': [{'id': '0', 'displayName': '1'}, {'id': '1', 'displayName': '2'}]}, 'logLoss': 0.19009551, 'confidenceMetrics': [{'confidenceThreshold': -0.005, 'precisionAt1': 0.5, 'falsePositiveRateAt1': 1.0, 'precision': 0.5, 'recall': 1.0, 'falsePositiveCount': '4480', 'falsePositiveRate': 1.0, 'f1Score': 0.6666667, 'f1ScoreAt1': 0.6666667, 'recallAt1': 1.0, 'truePositiveCount': '4480', 'confusionMatrix': {'rows': [[3806.0, 152.0], [277.0, 245.0]], 'annotationSpecs': [{'id': '0', 'displayName': '1'}, {'id': '1', 'displayName': '2'}]}}, {'f1Score': 0.6666667, 'recallAt1': 0.9042411, 'recall': 1.0, 'f1ScoreAt1': 0.9042411, 'falsePositiveCount': '4480', 'truePositiveCount': '4480', 'falsePositiveRateAt1': 0.09575893, 'precisionAt1': 0.9042411, 'confusionMatrix': {'rows': [[3806.0, 152.0], [277.0, 245.0]], 'annotationSpecs': [{'id': '0', 'displayName': '1'}, {'displayName': '2', 'id': '1'}]}, 'precision': 0.5, 'falsePositiveRate': 1.0}, {'precision': 0.58787245, 'precisionAt1': 0.9042411, 'falsePositiveRate': 0.70089287, 'recall': 0.9997768, 'truePositiveCount': '4479', 'recallAt1': 0.9042411, 'falsePositiveRateAt1': 0.09575893, 'confidenceThreshold': 0.005, 'falseNegativeCount': '1', 'trueNegativeCount': '1340', 'f1Score': 0.7403918, 'falsePositiveCount': '3140', 'confusionMatrix': {'rows': [[3806.0, 152.0], [277.0, 245.0]], 'annotationSpecs': [{'id': '0', 'displayName': '1'}, {'displayName': '2', 'id': '1'}]}, 'f1ScoreAt1': 0.9042411}, {'falseNegativeCount': '1', 'confidenceThreshold': 0.01, 'precision': 0.63191307, 'falsePositiveCount': '2609', 'falsePositiveRate': 0.58236605, 'truePositiveCount': '4479', 'f1Score': 0.7743776, 'recall': 0.9997768, 'precisionAt1': 0.9042411, 'f1ScoreAt1': 0.9042411, 'trueNegativeCount': '1871', 'confusionMatrix': {'rows': [[3806.0, 152.0], [277.0, 245.0]], 'annotationSpecs': [{'displayName': '1', 'id': '0'}, {'id': '1', 'displayName': '2'}]}, 'recallAt1': 0.9042411, 'falsePositiveRateAt1': 0.09575893}, {'falsePositiveCount': '2384', 'trueNegativeCount': '2096', 'precisionAt1': 0.9042411, 'confidenceThreshold': 0.015, 'f1ScoreAt1': 0.9042411, 'recall': 0.9997768, 'f1Score': 0.7897382, 'precision': 0.65263003, 'recallAt1': 0.9042411, 'confusionMatrix': {'rows': [[3806.0, 152.0], [277.0, 245.0]], 'annotationSpecs': [{'displayName': '1', 'id': '0'}, {'displayName': '2', 'id': '1'}]}, 'falsePositiveRate': 0.5321429, 'falseNegativeCount': '1', 'falsePositiveRateAt1': 0.09575893, 'truePositiveCount': '4479'}, {'confusionMatrix': {'annotationSpecs': [{'id': '0', 'displayName': '1'}, {'displayName': '2', 'id': '1'}], 'rows': [[3806.0, 152.0], [277.0, 245.0]]}, 'truePositiveCount': '4478', 'precision': 0.67035925, 'falsePositiveRateAt1': 0.09575893, 'trueNegativeCount': '2278', 'confidenceThreshold': 0.02, 'recall': 0.99955356, 'f1Score': 0.80250895, 'falsePositiveRate': 0.49151787, 'recallAt1': 0.9042411, 'falseNegativeCount': '2', 'f1ScoreAt1': 0.9042411, 'falsePositiveCount': '2202', 'precisionAt1': 0.9042411}, {'confidenceThreshold': 0.025, 'trueNegativeCount': '2432', 'falsePositiveRateAt1': 0.09575893, 'recallAt1': 0.9042411, 'falsePositiveCount': '2048', 'confusionMatrix': {'rows': [[3806.0, 152.0], [277.0, 245.0]], 'annotationSpecs': [{'displayName': '1', 'id': '0'}, {'id': '1', 'displayName': '2'}]}, 'precisionAt1': 0.9042411, 'truePositiveCount': '4478', 'f1Score': 0.813738, 'f1ScoreAt1': 0.9042411, 'recall': 0.99955356, 'falseNegativeCount': '2', 'precision': 0.6861784, 'falsePositiveRate': 0.45714286}, {'precision': 0.6981132, 'falsePositiveCount': '1936', 'f1Score': 0.8219958, 'recall': 0.99933034, 'precisionAt1': 0.9042411, 'truePositiveCount': '4477', 'falsePositiveRate': 0.43214285, 'f1ScoreAt1': 0.9042411, 'falseNegativeCount': '3', 'recallAt1': 0.9042411, 'trueNegativeCount': '2544', 'confusionMatrix': {'annotationSpecs': [{'id': '0', 'displayName': '1'}, {'id': '1', 'displayName': '2'}], 'rows': [[3806.0, 152.0], [277.0, 245.0]]}, 'confidenceThreshold': 0.03, 'falsePositiveRateAt1': 0.09575893}, {'trueNegativeCount': '2650', 'precisionAt1': 0.9042411, 'truePositiveCount': '4472', 'falseNegativeCount': '8', 'recallAt1': 0.9042411, 'falsePositiveRateAt1': 0.09575893, 'precision': 0.709616, 'confidenceThreshold': 0.035, 'recall': 0.9982143, 'falsePositiveRate': 0.40848213, 'f1ScoreAt1': 0.9042411, 'f1Score': 0.8295307, 'falsePositiveCount': '1830', 'confusionMatrix': {'annotationSpecs': [{'displayName': '1', 'id': '0'}, {'displayName': '2', 'id': '1'}], 'rows': [[3806.0, 152.0], [277.0, 245.0]]}}, {'falsePositiveCount': '1754', 'trueNegativeCount': '2726', 'truePositiveCount': '4472', 'recallAt1': 0.9042411, 'falsePositiveRate': 0.39151785, 'precision': 0.71827817, 'falseNegativeCount': '8', 'recall': 0.9982143, 'f1ScoreAt1': 0.9042411, 'confidenceThreshold': 0.04, 'confusionMatrix': {'annotationSpecs': [{'id': '0', 'displayName': '1'}, {'displayName': '2', 'id': '1'}], 'rows': [[3806.0, 152.0], [277.0, 245.0]]}, 'f1Score': 0.83541936, 'precisionAt1': 0.9042411, 'falsePositiveRateAt1': 0.09575893}, {'recall': 0.9982143, 'truePositiveCount': '4472', 'precision': 0.725974, 'f1Score': 0.8406015, 'falsePositiveRate': 0.37678573, 'confusionMatrix': {'rows': [[3806.0, 152.0], [277.0, 245.0]], 'annotationSpecs': [{'id': '0', 'displayName': '1'}, {'displayName': '2', 'id': '1'}]}, 'falseNegativeCount': '8', 'precisionAt1': 0.9042411, 'falsePositiveRateAt1': 0.09575893, 'trueNegativeCount': '2792', 'falsePositiveCount': '1688', 'recallAt1': 0.9042411, 'f1ScoreAt1': 0.9042411, 'confidenceThreshold': 0.045}, {'confusionMatrix': {'annotationSpecs': [{'displayName': '1', 'id': '0'}, {'displayName': '2', 'id': '1'}], 'rows': [[3806.0, 152.0], [277.0, 245.0]]}, 'falsePositiveRateAt1': 0.09575893, 'falseNegativeCount': '9', 'f1Score': 0.84462076, 'truePositiveCount': '4471', 'confidenceThreshold': 0.05, 'precision': 0.7321107, 'recall': 0.9979911, 'falsePositiveRate': 0.36517859, 'recallAt1': 0.9042411, 'precisionAt1': 0.9042411, 'falsePositiveCount': '1636', 'f1ScoreAt1': 0.9042411, 'trueNegativeCount': '2844'}, {'precisionAt1': 0.9042411, 'f1Score': 0.8480076, 'falseNegativeCount': '11', 'precision': 0.73745877, 'falsePositiveCount': '1591', 'trueNegativeCount': '2889', 'falsePositiveRate': 0.35513392, 'truePositiveCount': '4469', 'confusionMatrix': {'annotationSpecs': [{'id': '0', 'displayName': '1'}, {'displayName': '2', 'id': '1'}], 'rows': [[3806.0, 152.0], [277.0, 245.0]]}, 'f1ScoreAt1': 0.9042411, 'falsePositiveRateAt1': 0.09575893, 'recallAt1': 0.9042411, 'confidenceThreshold': 0.055, 'recall': 0.99754465}, {'recallAt1': 0.9042411, 'precision': 0.7424821, 'falsePositiveRateAt1': 0.09575893, 'falseNegativeCount': '11', 'precisionAt1': 0.9042411, 'confusionMatrix': {'rows': [[3806.0, 152.0], [277.0, 245.0]], 'annotationSpecs': [{'displayName': '1', 'id': '0'}, {'id': '1', 'displayName': '2'}]}, 'confidenceThreshold': 0.06, 'recall': 0.99754465, 'f1ScoreAt1': 0.9042411, 'trueNegativeCount': '2930', 'falsePositiveCount': '1550', 'truePositiveCount': '4469', 'f1Score': 0.8513192, 'falsePositiveRate': 0.34598213}, {'falsePositiveRateAt1': 0.09575893, 'f1Score': 0.85375875, 'falsePositiveRate': 0.3392857, 'falsePositiveCount': '1520', 'f1ScoreAt1': 0.9042411, 'precisionAt1': 0.9042411, 'recallAt1': 0.9042411, 'trueNegativeCount': '2960', 'recall': 0.99754465, 'confidenceThreshold': 0.065, 'precision': 0.7462014, 'truePositiveCount': '4469', 'falseNegativeCount': '11', 'confusionMatrix': {'rows': [[3806.0, 152.0], [277.0, 245.0]], 'annotationSpecs': [{'id': '0', 'displayName': '1'}, {'id': '1', 'displayName': '2'}]}}, {'truePositiveCount': '4467', 'recallAt1': 0.9042411, 'falsePositiveCount': '1492', 'falsePositiveRateAt1': 0.09575893, 'recall': 0.9970982, 'precision': 0.7496224, 'confusionMatrix': {'annotationSpecs': [{'id': '0', 'displayName': '1'}, {'id': '1', 'displayName': '2'}], 'rows': [[3806.0, 152.0], [277.0, 245.0]]}, 'f1Score': 0.8558291, 'confidenceThreshold': 0.07, 'falseNegativeCount': '13', 'falsePositiveRate': 0.3330357, 'trueNegativeCount': '2988', 'f1ScoreAt1': 0.9042411, 'precisionAt1': 0.9042411}, {'falsePositiveRateAt1': 0.09575893, 'falsePositiveRate': 0.32589287, 'truePositiveCount': '4467', 'f1ScoreAt1': 0.9042411, 'f1Score': 0.8584606, 'falseNegativeCount': '13', 'confusionMatrix': {'rows': [[3806.0, 152.0], [277.0, 245.0]], 'annotationSpecs': [{'id': '0', 'displayName': '1'}, {'id': '1', 'displayName': '2'}]}, 'precisionAt1': 0.9042411, 'trueNegativeCount': '3020', 'confidenceThreshold': 0.075, 'recallAt1': 0.9042411, 'falsePositiveCount': '1460', 'recall': 0.9970982, 'precision': 0.7536696}, {'falseNegativeCount': '13', 'falsePositiveRate': 0.31852677, 'confidenceThreshold': 0.08, 'f1ScoreAt1': 0.9042411, 'precisionAt1': 0.9042411, 'confusionMatrix': {'rows': [[3806.0, 152.0], [277.0, 245.0]], 'annotationSpecs': [{'displayName': '1', 'id': '0'}, {'id': '1', 'displayName': '2'}]}, 'recall': 0.9970982, 'truePositiveCount': '4467', 'precision': 0.7578894, 'f1Score': 0.86119145, 'trueNegativeCount': '3053', 'falsePositiveCount': '1427', 'recallAt1': 0.9042411, 'falsePositiveRateAt1': 0.09575893}, {'falsePositiveRateAt1': 0.09575893, 'truePositiveCount': '4464', 'precisionAt1': 0.9042411, 'confidenceThreshold': 0.085, 'confusionMatrix': {'annotationSpecs': [{'id': '0', 'displayName': '1'}, {'displayName': '2', 'id': '1'}], 'rows': [[3806.0, 152.0], [277.0, 245.0]]}, 'recallAt1': 0.9042411, 'f1Score': 0.8639443, 'precision': 0.76255554, 'recall': 0.99642855, 'trueNegativeCount': '3090', 'falsePositiveCount': '1390', 'f1ScoreAt1': 0.9042411, 'falseNegativeCount': '16', 'falsePositiveRate': 0.31026787}, {'recall': 0.99620533, 'confidenceThreshold': 0.09, 'precisionAt1': 0.9042411, 'falsePositiveRate': 0.30558035, 'falseNegativeCount': '17', 'falsePositiveRateAt1': 0.09575893, 'falsePositiveCount': '1369', 'f1ScoreAt1': 0.9042411, 'f1Score': 0.8655935, 'recallAt1': 0.9042411, 'trueNegativeCount': '3111', 'truePositiveCount': '4463', 'precision': 0.76526064, 'confusionMatrix': {'rows': [[3806.0, 152.0], [277.0, 245.0]], 'annotationSpecs': [{'id': '0', 'displayName': '1'}, {'id': '1', 'displayName': '2'}]}}, {'falsePositiveRate': 0.30089286, 'falsePositiveRateAt1': 0.09575893, 'trueNegativeCount': '3132', 'recall': 0.99575895, 'precision': 0.7679463, 'falseNegativeCount': '19', 'f1ScoreAt1': 0.9042411, 'precisionAt1': 0.9042411, 'falsePositiveCount': '1348', 'confidenceThreshold': 0.095, 'confusionMatrix': {'annotationSpecs': [{'id': '0', 'displayName': '1'}, {'id': '1', 'displayName': '2'}], 'rows': [[3806.0, 152.0], [277.0, 245.0]]}, 'truePositiveCount': '4461', 'f1Score': 0.8671397, 'recallAt1': 0.9042411}, {'trueNegativeCount': '3159', 'f1Score': 0.8694212, 'falsePositiveRateAt1': 0.09575893, 'recallAt1': 0.9042411, 'truePositiveCount': '4461', 'falsePositiveRate': 0.29486609, 'confusionMatrix': {'annotationSpecs': [{'id': '0', 'displayName': '1'}, {'displayName': '2', 'id': '1'}], 'rows': [[3806.0, 152.0], [277.0, 245.0]]}, 'precisionAt1': 0.9042411, 'falseNegativeCount': '19', 'f1ScoreAt1': 0.9042411, 'falsePositiveCount': '1321', 'confidenceThreshold': 0.1, 'recall': 0.99575895, 'precision': 0.77153236}, {'recallAt1': 0.9042411, 'falsePositiveCount': '1295', 'truePositiveCount': '4461', 'precision': 0.7750174, 'precisionAt1': 0.9042411, 'recall': 0.99575895, 'f1Score': 0.87162954, 'falsePositiveRate': 0.2890625, 'trueNegativeCount': '3185', 'confidenceThreshold': 0.105, 'falseNegativeCount': '19', 'f1ScoreAt1': 0.9042411, 'confusionMatrix': {'annotationSpecs': [{'id': '0', 'displayName': '1'}, {'displayName': '2', 'id': '1'}], 'rows': [[3806.0, 152.0], [277.0, 245.0]]}, 'falsePositiveRateAt1': 0.09575893}, {'f1ScoreAt1': 0.9042411, 'f1Score': 0.87334704, 'recallAt1': 0.9042411, 'precision': 0.77814627, 'falsePositiveCount': '1271', 'confidenceThreshold': 0.11, 'falsePositiveRateAt1': 0.09575893, 'recall': 0.9950893, 'falsePositiveRate': 0.28370535, 'truePositiveCount': '4458', 'falseNegativeCount': '22', 'confusionMatrix': {'annotationSpecs': [{'displayName': '1', 'id': '0'}, {'id': '1', 'displayName': '2'}], 'rows': [[3806.0, 152.0], [277.0, 245.0]]}, 'trueNegativeCount': '3209', 'precisionAt1': 0.9042411}, {'falsePositiveRate': 0.2779018, 'f1ScoreAt1': 0.9042411, 'recallAt1': 0.9042411, 'recall': 0.99464285, 'falsePositiveCount': '1245', 'f1Score': 0.8753561, 'falsePositiveRateAt1': 0.09575893, 'trueNegativeCount': '3235', 'confusionMatrix': {'annotationSpecs': [{'id': '0', 'displayName': '1'}, {'id': '1', 'displayName': '2'}], 'rows': [[3806.0, 152.0], [277.0, 245.0]]}, 'precision': 0.7816173, 'truePositiveCount': '4456', 'confidenceThreshold': 0.115, 'falseNegativeCount': '24', 'precisionAt1': 0.9042411}, {'falsePositiveCount': '1223', 'recallAt1': 0.9042411, 'f1Score': 0.87692004, 'falseNegativeCount': '27', 'recall': 0.9939732, 'trueNegativeCount': '3257', 'f1ScoreAt1': 0.9042411, 'truePositiveCount': '4453', 'falsePositiveRate': 0.27299106, 'confusionMatrix': {'rows': [[3806.0, 152.0], [277.0, 245.0]], 'annotationSpecs': [{'displayName': '1', 'id': '0'}, {'id': '1', 'displayName': '2'}]}, 'falsePositiveRateAt1': 0.09575893, 'confidenceThreshold': 0.12, 'precision': 0.78453135, 'precisionAt1': 0.9042411}, {'falsePositiveCount': '1199', 'trueNegativeCount': '3281', 'f1Score': 0.8785545, 'recall': 0.9930804, 'falsePositiveRateAt1': 0.09575893, 'precision': 0.78771245, 'falsePositiveRate': 0.26763391, 'falseNegativeCount': '31', 'precisionAt1': 0.9042411, 'truePositiveCount': '4449', 'confidenceThreshold': 0.125, 'confusionMatrix': {'rows': [[3806.0, 152.0], [277.0, 245.0]], 'annotationSpecs': [{'displayName': '1', 'id': '0'}, {'id': '1', 'displayName': '2'}]}, 'recallAt1': 0.9042411, 'f1ScoreAt1': 0.9042411}, {'falsePositiveCount': '1179', 'precision': 0.7904373, 'recallAt1': 0.9042411, 'trueNegativeCount': '3301', 'precisionAt1': 0.9042411, 'f1ScoreAt1': 0.9042411, 'truePositiveCount': '4447', 'falseNegativeCount': '33', 'falsePositiveRate': 0.26316965, 'f1Score': 0.8800713, 'confusionMatrix': {'annotationSpecs': [{'displayName': '1', 'id': '0'}, {'id': '1', 'displayName': '2'}], 'rows': [[3806.0, 152.0], [277.0, 245.0]]}, 'falsePositiveRateAt1': 0.09575893, 'recall': 0.99263394, 'confidenceThreshold': 0.13}, {'precision': 0.79375, 'recallAt1': 0.9042411, 'trueNegativeCount': '3325', 'falseNegativeCount': '35', 'f1Score': 0.8819444, 'confusionMatrix': {'rows': [[3806.0, 152.0], [277.0, 245.0]], 'annotationSpecs': [{'id': '0', 'displayName': '1'}, {'id': '1', 'displayName': '2'}]}, 'falsePositiveRate': 0.2578125, 'confidenceThreshold': 0.135, 'recall': 0.9921875, 'truePositiveCount': '4445', 'falsePositiveRateAt1': 0.09575893, 'precisionAt1': 0.9042411, 'f1ScoreAt1': 0.9042411, 'falsePositiveCount': '1155'}, {'recallAt1': 0.9042411, 'confusionMatrix': {'rows': [[3806.0, 152.0], [277.0, 245.0]], 'annotationSpecs': [{'displayName': '1', 'id': '0'}, {'id': '1', 'displayName': '2'}]}, 'truePositiveCount': '4443', 'falsePositiveCount': '1135', 'f1Score': 0.88347584, 'precision': 0.796522, 'precisionAt1': 0.9042411, 'falsePositiveRate': 0.2533482, 'trueNegativeCount': '3345', 'falsePositiveRateAt1': 0.09575893, 'f1ScoreAt1': 0.9042411, 'falseNegativeCount': '37', 'recall': 0.99174106, 'confidenceThreshold': 0.14}, {'falsePositiveCount': '1115', 'recallAt1': 0.9042411, 'truePositiveCount': '4441', 'f1ScoreAt1': 0.9042411, 'confusionMatrix': {'annotationSpecs': [{'id': '0', 'displayName': '1'}, {'id': '1', 'displayName': '2'}], 'rows': [[3806.0, 152.0], [277.0, 245.0]]}, 'recall': 0.9912946, 'falsePositiveRateAt1': 0.09575893, 'f1Score': 0.88501394, 'falsePositiveRate': 0.24888393, 'confidenceThreshold': 0.145, 'falseNegativeCount': '39', 'precisionAt1': 0.9042411, 'trueNegativeCount': '3365', 'precision': 0.79931605}, {'precision': 0.8011189, 'falseNegativeCount': '41', 'falsePositiveRate': 0.24598214, 'falsePositiveCount': '1102', 'recallAt1': 0.9042411, 'recall': 0.99084824, 'precisionAt1': 0.9042411, 'f1Score': 0.88593954, 'truePositiveCount': '4439', 'confusionMatrix': {'rows': [[3806.0, 152.0], [277.0, 245.0]], 'annotationSpecs': [{'id': '0', 'displayName': '1'}, {'displayName': '2', 'id': '1'}]}, 'falsePositiveRateAt1': 0.09575893, 'confidenceThreshold': 0.15, 'trueNegativeCount': '3378', 'f1ScoreAt1': 0.9042411}, {'recallAt1': 0.9042411, 'truePositiveCount': '4436', 'precision': 0.80275065, 'trueNegativeCount': '3390', 'falseNegativeCount': '44', 'confidenceThreshold': 0.155, 'precisionAt1': 0.9042411, 'confusionMatrix': {'annotationSpecs': [{'id': '0', 'displayName': '1'}, {'id': '1', 'displayName': '2'}], 'rows': [[3806.0, 152.0], [277.0, 245.0]]}, 'f1ScoreAt1': 0.9042411, 'falsePositiveRateAt1': 0.09575893, 'recall': 0.9901786, 'f1Score': 0.886668, 'falsePositiveRate': 0.24330357, 'falsePositiveCount': '1090'}, {'f1ScoreAt1': 0.9042411, 'trueNegativeCount': '3412', 'falseNegativeCount': '44', 'falsePositiveRate': 0.23839286, 'precisionAt1': 0.9042411, 'precision': 0.8059593, 'truePositiveCount': '4436', 'confidenceThreshold': 0.16, 'recall': 0.9901786, 'f1Score': 0.8886218, 'confusionMatrix': {'rows': [[3806.0, 152.0], [277.0, 245.0]], 'annotationSpecs': [{'id': '0', 'displayName': '1'}, {'id': '1', 'displayName': '2'}]}, 'falsePositiveRateAt1': 0.09575893, 'recallAt1': 0.9042411, 'falsePositiveCount': '1068'}, {'recallAt1': 0.9042411, 'f1ScoreAt1': 0.9042411, 'precisionAt1': 0.9042411, 'trueNegativeCount': '3429', 'falsePositiveRate': 0.23459822, 'f1Score': 0.8899147, 'recall': 0.98973215, 'confidenceThreshold': 0.165, 'truePositiveCount': '4434', 'precision': 0.8083865, 'falsePositiveRateAt1': 0.09575893, 'falsePositiveCount': '1051', 'confusionMatrix': {'rows': [[3806.0, 152.0], [277.0, 245.0]], 'annotationSpecs': [{'displayName': '1', 'id': '0'}, {'displayName': '2', 'id': '1'}]}, 'falseNegativeCount': '46'}, {'falsePositiveCount': '1038', 'confusionMatrix': {'annotationSpecs': [{'id': '0', 'displayName': '1'}, {'displayName': '2', 'id': '1'}], 'rows': [[3806.0, 152.0], [277.0, 245.0]]}, 'falsePositiveRate': 0.23169643, 'trueNegativeCount': '3442', 'recall': 0.98861605, 'precision': 0.8101335, 'falsePositiveRateAt1': 0.09575893, 'confidenceThreshold': 0.17, 'recallAt1': 0.9042411, 'f1Score': 0.89051974, 'precisionAt1': 0.9042411, 'f1ScoreAt1': 0.9042411, 'truePositiveCount': '4429', 'falseNegativeCount': '51'}, {'falsePositiveCount': '1026', 'precision': 0.81174314, 'truePositiveCount': '4424', 'falsePositiveRateAt1': 0.09575893, 'falsePositiveRate': 0.22901785, 'f1Score': 0.8910373, 'recall': 0.9875, 'trueNegativeCount': '3454', 'recallAt1': 0.9042411, 'confusionMatrix': {'annotationSpecs': [{'id': '0', 'displayName': '1'}, {'displayName': '2', 'id': '1'}], 'rows': [[3806.0, 152.0], [277.0, 245.0]]}, 'precisionAt1': 0.9042411, 'f1ScoreAt1': 0.9042411, 'confidenceThreshold': 0.175, 'falseNegativeCount': '56'}, {'falsePositiveRate': 0.22544643, 'confidenceThreshold': 0.18, 'precisionAt1': 0.9042411, 'f1ScoreAt1': 0.9042411, 'trueNegativeCount': '3470', 'recallAt1': 0.9042411, 'confusionMatrix': {'rows': [[3806.0, 152.0], [277.0, 245.0]], 'annotationSpecs': [{'displayName': '1', 'id': '0'}, {'id': '1', 'displayName': '2'}]}, 'f1Score': 0.89214003, 'truePositiveCount': '4421', 'falsePositiveCount': '1010', 'recall': 0.98683035, 'precision': 0.8140306, 'falsePositiveRateAt1': 0.09575893, 'falseNegativeCount': '59'}, {'f1ScoreAt1': 0.9042411, 'confidenceThreshold': 0.185, 'truePositiveCount': '4417', 'precision': 0.81630015, 'falsePositiveCount': '994', 'falsePositiveRateAt1': 0.09575893, 'confusionMatrix': {'annotationSpecs': [{'id': '0', 'displayName': '1'}, {'displayName': '2', 'id': '1'}], 'rows': [[3806.0, 152.0], [277.0, 245.0]]}, 'recall': 0.9859375, 'precisionAt1': 0.9042411, 'f1Score': 0.8931352, 'trueNegativeCount': '3486', 'falseNegativeCount': '63', 'falsePositiveRate': 0.221875, 'recallAt1': 0.9042411}, {'f1ScoreAt1': 0.9042411, 'falsePositiveCount': '989', 'confusionMatrix': {'annotationSpecs': [{'displayName': '1', 'id': '0'}, {'displayName': '2', 'id': '1'}], 'rows': [[3806.0, 152.0], [277.0, 245.0]]}, 'recall': 0.98504466, 'confidenceThreshold': 0.19, 'falsePositiveRate': 0.22075893, 'precision': 0.8169197, 'truePositiveCount': '4413', 'trueNegativeCount': '3491', 'f1Score': 0.89313906, 'falseNegativeCount': '67', 'falsePositiveRateAt1': 0.09575893, 'recallAt1': 0.9042411, 'precisionAt1': 0.9042411}, {'precisionAt1': 0.9042411, 'falsePositiveCount': '974', 'f1Score': 0.8942727, 'falsePositiveRateAt1': 0.09575893, 'recall': 0.9845982, 'falsePositiveRate': 0.21741071, 'confidenceThreshold': 0.195, 'f1ScoreAt1': 0.9042411, 'falseNegativeCount': '69', 'truePositiveCount': '4411', 'confusionMatrix': {'rows': [[3806.0, 152.0], [277.0, 245.0]], 'annotationSpecs': [{'id': '0', 'displayName': '1'}, {'id': '1', 'displayName': '2'}]}, 'precision': 0.8191272, 'trueNegativeCount': '3506', 'recallAt1': 0.9042411}, {'falsePositiveRate': 0.21428572, 'precisionAt1': 0.9042411, 'confusionMatrix': {'annotationSpecs': [{'displayName': '1', 'id': '0'}, {'id': '1', 'displayName': '2'}], 'rows': [[3806.0, 152.0], [277.0, 245.0]]}, 'f1ScoreAt1': 0.9042411, 'falseNegativeCount': '72', 'falsePositiveRateAt1': 0.09575893, 'recall': 0.98392856, 'trueNegativeCount': '3520', 'confidenceThreshold': 0.2, 'precision': 0.82116246, 'recallAt1': 0.9042411, 'truePositiveCount': '4408', 'f1Score': 0.89520717, 'falsePositiveCount': '960'}, {'f1Score': 0.896096, 'trueNegativeCount': '3531', 'recallAt1': 0.9042411, 'confusionMatrix': {'rows': [[3806.0, 152.0], [277.0, 245.0]], 'annotationSpecs': [{'id': '0', 'displayName': '1'}, {'displayName': '2', 'id': '1'}]}, 'precision': 0.82281554, 'falsePositiveRate': 0.21183036, 'truePositiveCount': '4407', 'falsePositiveRateAt1': 0.09575893, 'f1ScoreAt1': 0.9042411, 'precisionAt1': 0.9042411, 'falsePositiveCount': '949', 'confidenceThreshold': 0.205, 'falseNegativeCount': '73', 'recall': 0.98370534}, {'falsePositiveCount': '939', 'truePositiveCount': '4406', 'recall': 0.9834821, 'falseNegativeCount': '74', 'falsePositiveRate': 0.20959821, 'confusionMatrix': {'rows': [[3806.0, 152.0], [277.0, 245.0]], 'annotationSpecs': [{'id': '0', 'displayName': '1'}, {'displayName': '2', 'id': '1'}]}, 'confidenceThreshold': 0.21, 'falsePositiveRateAt1': 0.09575893, 'f1Score': 0.89689565, 'f1ScoreAt1': 0.9042411, 'precision': 0.8243218, 'precisionAt1': 0.9042411, 'recallAt1': 0.9042411, 'trueNegativeCount': '3541'}, {'f1ScoreAt1': 0.9042411, 'truePositiveCount': '4400', 'confidenceThreshold': 0.215, 'falseNegativeCount': '80', 'trueNegativeCount': '3547', 'precisionAt1': 0.9042411, 'falsePositiveRateAt1': 0.09575893, 'f1Score': 0.8967696, 'recall': 0.98214287, 'precision': 0.82505155, 'confusionMatrix': {'annotationSpecs': [{'displayName': '1', 'id': '0'}, {'displayName': '2', 'id': '1'}], 'rows': [[3806.0, 152.0], [277.0, 245.0]]}, 'recallAt1': 0.9042411, 'falsePositiveRate': 0.20825893, 'falsePositiveCount': '933'}, {'falsePositiveCount': '919', 'confidenceThreshold': 0.22, 'f1Score': 0.89737564, 'falseNegativeCount': '86', 'precision': 0.82702804, 'recallAt1': 0.9042411, 'trueNegativeCount': '3561', 'falsePositiveRateAt1': 0.09575893, 'falsePositiveRate': 0.20513393, 'truePositiveCount': '4394', 'precisionAt1': 0.9042411, 'recall': 0.98080355, 'confusionMatrix': {'rows': [[3806.0, 152.0], [277.0, 245.0]], 'annotationSpecs': [{'displayName': '1', 'id': '0'}, {'id': '1', 'displayName': '2'}]}, 'f1ScoreAt1': 0.9042411}, {'precision': 0.82836664, 'recallAt1': 0.9042411, 'confidenceThreshold': 0.225, 'recall': 0.98035717, 'confusionMatrix': {'rows': [[3806.0, 152.0], [277.0, 245.0]], 'annotationSpecs': [{'displayName': '1', 'id': '0'}, {'displayName': '2', 'id': '1'}]}, 'falsePositiveRate': 0.203125, 'falseNegativeCount': '88', 'f1ScoreAt1': 0.9042411, 'falsePositiveCount': '910', 'trueNegativeCount': '3570', 'precisionAt1': 0.9042411, 'truePositiveCount': '4392', 'f1Score': 0.89797586, 'falsePositiveRateAt1': 0.09575893}, {'f1ScoreAt1': 0.9042411, 'falsePositiveRate': 0.20200893, 'falseNegativeCount': '90', 'confusionMatrix': {'rows': [[3806.0, 152.0], [277.0, 245.0]], 'annotationSpecs': [{'id': '0', 'displayName': '1'}, {'displayName': '2', 'id': '1'}]}, 'falsePositiveCount': '905', 'precision': 0.82908404, 'truePositiveCount': '4390', 'f1Score': 0.89820975, 'recall': 0.97991073, 'recallAt1': 0.9042411, 'trueNegativeCount': '3575', 'confidenceThreshold': 0.23, 'precisionAt1': 0.9042411, 'falsePositiveRateAt1': 0.09575893}, {'f1Score': 0.8983311, 'falsePositiveRateAt1': 0.09575893, 'recallAt1': 0.9042411, 'falsePositiveRate': 0.20089285, 'f1ScoreAt1': 0.9042411, 'falseNegativeCount': '93', 'confidenceThreshold': 0.235, 'confusionMatrix': {'annotationSpecs': [{'displayName': '1', 'id': '0'}, {'id': '1', 'displayName': '2'}], 'rows': [[3806.0, 152.0], [277.0, 245.0]]}, 'trueNegativeCount': '3580', 'precisionAt1': 0.9042411, 'precision': 0.82977116, 'recall': 0.9792411, 'falsePositiveCount': '900', 'truePositiveCount': '4387'}, {'recallAt1': 0.9042411, 'falsePositiveCount': '890', 'truePositiveCount': '4385', 'precision': 0.83127964, 'confidenceThreshold': 0.24, 'trueNegativeCount': '3590', 'confusionMatrix': {'annotationSpecs': [{'id': '0', 'displayName': '1'}, {'id': '1', 'displayName': '2'}], 'rows': [[3806.0, 152.0], [277.0, 245.0]]}, 'falsePositiveRate': 0.19866072, 'falseNegativeCount': '95', 'falsePositiveRateAt1': 0.09575893, 'recall': 0.97879463, 'f1Score': 0.89902616, 'f1ScoreAt1': 0.9042411, 'precisionAt1': 0.9042411}, {'truePositiveCount': '4378', 'precisionAt1': 0.9042411, 'falsePositiveRateAt1': 0.09575893, 'recall': 0.97723216, 'precision': 0.8334285, 'recallAt1': 0.9042411, 'falsePositiveCount': '875', 'falseNegativeCount': '102', 'confusionMatrix': {'rows': [[3806.0, 152.0], [277.0, 245.0]], 'annotationSpecs': [{'id': '0', 'displayName': '1'}, {'displayName': '2', 'id': '1'}]}, 'falsePositiveRate': 0.1953125, 'f1ScoreAt1': 0.9042411, 'confidenceThreshold': 0.245, 'f1Score': 0.8996199, 'trueNegativeCount': '3605'}, {'confidenceThreshold': 0.25, 'confusionMatrix': {'rows': [[3806.0, 152.0], [277.0, 245.0]], 'annotationSpecs': [{'displayName': '1', 'id': '0'}, {'displayName': '2', 'id': '1'}]}, 'falsePositiveRate': 0.19330357, 'falsePositiveRateAt1': 0.09575893, 'f1ScoreAt1': 0.9042411, 'truePositiveCount': '4375', 'falseNegativeCount': '105', 'precisionAt1': 0.9042411, 'precision': 0.83476436, 'trueNegativeCount': '3614', 'f1Score': 0.90011317, 'recall': 0.9765625, 'falsePositiveCount': '866', 'recallAt1': 0.9042411}, {'f1ScoreAt1': 0.9042411, 'falsePositiveRateAt1': 0.09575893, 'confidenceThreshold': 0.255, 'f1Score': 0.90088606, 'recallAt1': 0.9042411, 'precisionAt1': 0.9042411, 'precision': 0.8365863, 'recall': 0.97589284, 'trueNegativeCount': '3626', 'truePositiveCount': '4372', 'falsePositiveRate': 0.190625, 'falseNegativeCount': '108', 'confusionMatrix': {'rows': [[3806.0, 152.0], [277.0, 245.0]], 'annotationSpecs': [{'id': '0', 'displayName': '1'}, {'id': '1', 'displayName': '2'}]}, 'falsePositiveCount': '854'}, {'precisionAt1': 0.9042411, 'falsePositiveRate': 0.18816964, 'recall': 0.975, 'confidenceThreshold': 0.26, 'falsePositiveCount': '843', 'recallAt1': 0.9042411, 'confusionMatrix': {'rows': [[3806.0, 152.0], [277.0, 245.0]], 'annotationSpecs': [{'displayName': '1', 'id': '0'}, {'id': '1', 'displayName': '2'}]}, 'falsePositiveRateAt1': 0.09575893, 'f1Score': 0.901455, 'f1ScoreAt1': 0.9042411, 'precision': 0.83822685, 'truePositiveCount': '4368', 'trueNegativeCount': '3637', 'falseNegativeCount': '112'}, {'confidenceThreshold': 0.265, 'trueNegativeCount': '3648', 'falseNegativeCount': '113', 'falsePositiveCount': '832', 'confusionMatrix': {'annotationSpecs': [{'displayName': '1', 'id': '0'}, {'displayName': '2', 'id': '1'}], 'rows': [[3806.0, 152.0], [277.0, 245.0]]}, 'precisionAt1': 0.9042411, 'precision': 0.8399692, 'f1Score': 0.9023659, 'falsePositiveRateAt1': 0.09575893, 'f1ScoreAt1': 0.9042411, 'recall': 0.9747768, 'truePositiveCount': '4367', 'falsePositiveRate': 0.18571429, 'recallAt1': 0.9042411}, {'precision': 0.84075576, 'f1Score': 0.90224475, 'precisionAt1': 0.9042411, 'trueNegativeCount': '3654', 'truePositiveCount': '4361', 'recallAt1': 0.9042411, 'falsePositiveCount': '826', 'f1ScoreAt1': 0.9042411, 'confidenceThreshold': 0.27, 'falsePositiveRateAt1': 0.09575893, 'falseNegativeCount': '119', 'confusionMatrix': {'annotationSpecs': [{'id': '0', 'displayName': '1'}, {'id': '1', 'displayName': '2'}], 'rows': [[3806.0, 152.0], [277.0, 245.0]]}, 'falsePositiveRate': 0.184375, 'recall': 0.9734375}, {'f1ScoreAt1': 0.9042411, 'falsePositiveCount': '819', 'truePositiveCount': '4358', 'trueNegativeCount': '3661', 'precision': 0.8418003, 'f1Score': 0.90255773, 'falsePositiveRate': 0.1828125, 'confidenceThreshold': 0.275, 'recallAt1': 0.9042411, 'falseNegativeCount': '122', 'precisionAt1': 0.9042411, 'confusionMatrix': {'rows': [[3806.0, 152.0], [277.0, 245.0]], 'annotationSpecs': [{'displayName': '1', 'id': '0'}, {'id': '1', 'displayName': '2'}]}, 'falsePositiveRateAt1': 0.09575893, 'recall': 0.97276783}, {'recall': 0.97232145, 'precisionAt1': 0.9042411, 'truePositiveCount': '4356', 'falsePositiveCount': '809', 'precision': 0.8433688, 'falsePositiveRate': 0.18058036, 'falsePositiveRateAt1': 0.09575893, 'trueNegativeCount': '3671', 'confusionMatrix': {'rows': [[3806.0, 152.0], [277.0, 245.0]], 'annotationSpecs': [{'id': '0', 'displayName': '1'}, {'displayName': '2', 'id': '1'}]}, 'falseNegativeCount': '124', 'f1ScoreAt1': 0.9042411, 'recallAt1': 0.9042411, 'confidenceThreshold': 0.28, 'f1Score': 0.90326595}, {'recall': 0.9707589, 'confusionMatrix': {'rows': [[3806.0, 152.0], [277.0, 245.0]], 'annotationSpecs': [{'id': '0', 'displayName': '1'}, {'displayName': '2', 'id': '1'}]}, 'falsePositiveRateAt1': 0.09575893, 'falsePositiveCount': '800', 'precision': 0.84463, 'f1Score': 0.90331286, 'confidenceThreshold': 0.285, 'recallAt1': 0.9042411, 'falseNegativeCount': '131', 'precisionAt1': 0.9042411, 'truePositiveCount': '4349', 'falsePositiveRate': 0.17857143, 'trueNegativeCount': '3680', 'f1ScoreAt1': 0.9042411}, {'f1ScoreAt1': 0.9042411, 'falseNegativeCount': '135', 'precisionAt1': 0.9042411, 'truePositiveCount': '4345', 'f1Score': 0.9039842, 'confidenceThreshold': 0.29, 'recallAt1': 0.9042411, 'falsePositiveRateAt1': 0.09575893, 'confusionMatrix': {'rows': [[3806.0, 152.0], [277.0, 245.0]], 'annotationSpecs': [{'id': '0', 'displayName': '1'}, {'displayName': '2', 'id': '1'}]}, 'precision': 0.8464835, 'trueNegativeCount': '3692', 'falsePositiveCount': '788', 'falsePositiveRate': 0.17589286, 'recall': 0.9698661}, {'confusionMatrix': {'annotationSpecs': [{'id': '0', 'displayName': '1'}, {'id': '1', 'displayName': '2'}], 'rows': [[3806.0, 152.0], [277.0, 245.0]]}, 'falseNegativeCount': '139', 'falsePositiveCount': '783', 'f1ScoreAt1': 0.9042411, 'recallAt1': 0.9042411, 'confidenceThreshold': 0.295, 'recall': 0.9689732, 'trueNegativeCount': '3697', 'falsePositiveRate': 0.17477679, 'precisionAt1': 0.9042411, 'precision': 0.8471897, 'falsePositiveRateAt1': 0.09575893, 'f1Score': 0.9039984, 'truePositiveCount': '4341'}, {'confidenceThreshold': 0.3, 'falsePositiveRateAt1': 0.09575893, 'truePositiveCount': '4340', 'trueNegativeCount': '3705', 'f1ScoreAt1': 0.9042411, 'falsePositiveCount': '775', 'falseNegativeCount': '140', 'falsePositiveRate': 0.17299107, 'f1Score': 0.9046379, 'precisionAt1': 0.9042411, 'confusionMatrix': {'rows': [[3806.0, 152.0], [277.0, 245.0]], 'annotationSpecs': [{'id': '0', 'displayName': '1'}, {'displayName': '2', 'id': '1'}]}, 'precision': 0.8484849, 'recallAt1': 0.9042411, 'recall': 0.96875}, {'falsePositiveRate': 0.17142858, 'falsePositiveCount': '768', 'f1ScoreAt1': 0.9042411, 'falsePositiveRateAt1': 0.09575893, 'f1Score': 0.9048414, 'falseNegativeCount': '144', 'confusionMatrix': {'rows': [[3806.0, 152.0], [277.0, 245.0]], 'annotationSpecs': [{'displayName': '1', 'id': '0'}, {'displayName': '2', 'id': '1'}]}, 'trueNegativeCount': '3712', 'truePositiveCount': '4336', 'recall': 0.9678571, 'recallAt1': 0.9042411, 'confidenceThreshold': 0.305, 'precision': 0.8495298, 'precisionAt1': 0.9042411}, {'confidenceThreshold': 0.31, 'truePositiveCount': '4334', 'confusionMatrix': {'rows': [[3806.0, 152.0], [277.0, 245.0]], 'annotationSpecs': [{'id': '0', 'displayName': '1'}, {'id': '1', 'displayName': '2'}]}, 'f1ScoreAt1': 0.9042411, 'precision': 0.85063785, 'falseNegativeCount': '146', 'falsePositiveRate': 0.16986607, 'trueNegativeCount': '3719', 'recallAt1': 0.9042411, 'falsePositiveCount': '761', 'recall': 0.96741074, 'precisionAt1': 0.9042411, 'falsePositiveRateAt1': 0.09575893, 'f1Score': 0.90527415}, {'recall': 0.96651787, 'falsePositiveCount': '753', 'confusionMatrix': {'annotationSpecs': [{'id': '0', 'displayName': '1'}, {'displayName': '2', 'id': '1'}], 'rows': [[3806.0, 152.0], [277.0, 245.0]]}, 'falsePositiveRateAt1': 0.09575893, 'trueNegativeCount': '3727', 'precision': 0.85185915, 'recallAt1': 0.9042411, 'falsePositiveRate': 0.16808036, 'precisionAt1': 0.9042411, 'falseNegativeCount': '150', 'confidenceThreshold': 0.315, 'f1Score': 0.90557355, 'truePositiveCount': '4330', 'f1ScoreAt1': 0.9042411}, {'falseNegativeCount': '156', 'truePositiveCount': '4324', 'falsePositiveCount': '742', 'precision': 0.8535334, 'recall': 0.96517855, 'recallAt1': 0.9042411, 'precisionAt1': 0.9042411, 'confusionMatrix': {'rows': [[3806.0, 152.0], [277.0, 245.0]], 'annotationSpecs': [{'id': '0', 'displayName': '1'}, {'id': '1', 'displayName': '2'}]}, 'trueNegativeCount': '3738', 'falsePositiveRateAt1': 0.09575893, 'falsePositiveRate': 0.165625, 'f1Score': 0.9059292, 'f1ScoreAt1': 0.9042411, 'confidenceThreshold': 0.32}, {'falsePositiveRate': 0.16316964, 'precisionAt1': 0.9042411, 'f1ScoreAt1': 0.9042411, 'precision': 0.8552475, 'confidenceThreshold': 0.325, 'recallAt1': 0.9042411, 'confusionMatrix': {'annotationSpecs': [{'id': '0', 'displayName': '1'}, {'id': '1', 'displayName': '2'}], 'rows': [[3806.0, 152.0], [277.0, 245.0]]}, 'falsePositiveCount': '731', 'falseNegativeCount': '161', 'falsePositiveRateAt1': 0.09575893, 'recall': 0.9640625, 'trueNegativeCount': '3749', 'f1Score': 0.9064008, 'truePositiveCount': '4319'}, {'confusionMatrix': {'annotationSpecs': [{'id': '0', 'displayName': '1'}, {'displayName': '2', 'id': '1'}], 'rows': [[3806.0, 152.0], [277.0, 245.0]]}, 'precision': 0.8564337, 'falsePositiveCount': '723', 'recall': 0.9627232, 'f1Score': 0.9064733, 'falsePositiveRateAt1': 0.09575893, 'trueNegativeCount': '3757', 'precisionAt1': 0.9042411, 'falsePositiveRate': 0.16138393, 'confidenceThreshold': 0.33, 'f1ScoreAt1': 0.9042411, 'falseNegativeCount': '167', 'recallAt1': 0.9042411, 'truePositiveCount': '4313'}, {'confidenceThreshold': 0.335, 'precision': 0.85762644, 'falsePositiveCount': '715', 'trueNegativeCount': '3765', 'recall': 0.96138394, 'precisionAt1': 0.9042411, 'falsePositiveRate': 0.15959822, 'f1ScoreAt1': 0.9042411, 'falseNegativeCount': '173', 'f1Score': 0.906546, 'recallAt1': 0.9042411, 'falsePositiveRateAt1': 0.09575893, 'confusionMatrix': {'rows': [[3806.0, 152.0], [277.0, 245.0]], 'annotationSpecs': [{'displayName': '1', 'id': '0'}, {'displayName': '2', 'id': '1'}]}, 'truePositiveCount': '4307'}, {'falsePositiveCount': '707', 'f1Score': 0.9066189, 'trueNegativeCount': '3773', 'truePositiveCount': '4301', 'recallAt1': 0.9042411, 'falsePositiveRateAt1': 0.09575893, 'confidenceThreshold': 0.34, 'f1ScoreAt1': 0.9042411, 'precisionAt1': 0.9042411, 'confusionMatrix': {'rows': [[3806.0, 152.0], [277.0, 245.0]], 'annotationSpecs': [{'id': '0', 'displayName': '1'}, {'displayName': '2', 'id': '1'}]}, 'falseNegativeCount': '179', 'falsePositiveRate': 0.1578125, 'recall': 0.9600446, 'precision': 0.85882586}, {'falsePositiveRate': 0.15535714, 'recallAt1': 0.9042411, 'f1Score': 0.9070946, 'truePositiveCount': '4296', 'falseNegativeCount': '184', 'confusionMatrix': {'annotationSpecs': [{'displayName': '1', 'id': '0'}, {'id': '1', 'displayName': '2'}], 'rows': [[3806.0, 152.0], [277.0, 245.0]]}, 'f1ScoreAt1': 0.9042411, 'precisionAt1': 0.9042411, 'recall': 0.9589286, 'falsePositiveCount': '696', 'trueNegativeCount': '3784', 'confidenceThreshold': 0.345, 'precision': 0.8605769, 'falsePositiveRateAt1': 0.09575893}, {'falsePositiveRateAt1': 0.09575893, 'recallAt1': 0.9042411, 'confusionMatrix': {'rows': [[3806.0, 152.0], [277.0, 245.0]], 'annotationSpecs': [{'id': '0', 'displayName': '1'}, {'displayName': '2', 'id': '1'}]}, 'truePositiveCount': '4290', 'falseNegativeCount': '190', 'confidenceThreshold': 0.35, 'recall': 0.95758927, 'f1ScoreAt1': 0.9042411, 'falsePositiveRate': 0.15245536, 'falsePositiveCount': '683', 'precisionAt1': 0.9042411, 'precision': 0.8626584, 'f1Score': 0.9076484, 'trueNegativeCount': '3797'}, {'recallAt1': 0.9042411, 'falsePositiveRate': 0.15022321, 'recall': 0.95558035, 'precision': 0.86415017, 'falsePositiveRateAt1': 0.09575893, 'truePositiveCount': '4281', 'confusionMatrix': {'annotationSpecs': [{'displayName': '1', 'id': '0'}, {'id': '1', 'displayName': '2'}], 'rows': [[3806.0, 152.0], [277.0, 245.0]]}, 'trueNegativeCount': '3807', 'f1Score': 0.90756834, 'f1ScoreAt1': 0.9042411, 'falseNegativeCount': '199', 'confidenceThreshold': 0.355, 'falsePositiveCount': '673', 'precisionAt1': 0.9042411}, {'falsePositiveRate': 0.14709821, 'f1ScoreAt1': 0.9042411, 'recallAt1': 0.9042411, 'f1Score': 0.9079898, 'falsePositiveRateAt1': 0.09575893, 'falsePositiveCount': '659', 'confidenceThreshold': 0.36, 'truePositiveCount': '4273', 'recall': 0.95379466, 'falseNegativeCount': '207', 'precision': 0.8663828, 'trueNegativeCount': '3821', 'confusionMatrix': {'rows': [[3806.0, 152.0], [277.0, 245.0]], 'annotationSpecs': [{'id': '0', 'displayName': '1'}, {'id': '1', 'displayName': '2'}]}, 'precisionAt1': 0.9042411}, {'f1ScoreAt1': 0.9042411, 'truePositiveCount': '4265', 'falsePositiveRate': 0.14486606, 'f1Score': 0.9080264, 'recallAt1': 0.9042411, 'falseNegativeCount': '215', 'confusionMatrix': {'annotationSpecs': [{'displayName': '1', 'id': '0'}, {'displayName': '2', 'id': '1'}], 'rows': [[3806.0, 152.0], [277.0, 245.0]]}, 'falsePositiveCount': '649', 'falsePositiveRateAt1': 0.09575893, 'confidenceThreshold': 0.365, 'precisionAt1': 0.9042411, 'precision': 0.8679284, 'recall': 0.9520089, 'trueNegativeCount': '3831'}, {'falsePositiveRateAt1': 0.09575893, 'trueNegativeCount': '3842', 'confusionMatrix': {'rows': [[3806.0, 152.0], [277.0, 245.0]], 'annotationSpecs': [{'displayName': '1', 'id': '0'}, {'id': '1', 'displayName': '2'}]}, 'confidenceThreshold': 0.37, 'f1Score': 0.90792704, 'falsePositiveCount': '638', 'truePositiveCount': '4255', 'falseNegativeCount': '225', 'recall': 0.94977677, 'falsePositiveRate': 0.14241071, 'precisionAt1': 0.9042411, 'f1ScoreAt1': 0.9042411, 'recallAt1': 0.9042411, 'precision': 0.86960965}, {'recallAt1': 0.9042411, 'falseNegativeCount': '227', 'f1Score': 0.9084695, 'falsePositiveRateAt1': 0.09575893, 'precisionAt1': 0.9042411, 'falsePositiveCount': '630', 'trueNegativeCount': '3850', 'confidenceThreshold': 0.375, 'precision': 0.870981, 'f1ScoreAt1': 0.9042411, 'confusionMatrix': {'annotationSpecs': [{'displayName': '1', 'id': '0'}, {'id': '1', 'displayName': '2'}], 'rows': [[3806.0, 152.0], [277.0, 245.0]]}, 'recall': 0.94933033, 'truePositiveCount': '4253', 'falsePositiveRate': 0.140625}, {'falsePositiveRateAt1': 0.09575893, 'precisionAt1': 0.9042411, 'falseNegativeCount': '233', 'precision': 0.87207395, 'f1Score': 0.90844923, 'recall': 0.9479911, 'f1ScoreAt1': 0.9042411, 'truePositiveCount': '4247', 'falsePositiveCount': '623', 'trueNegativeCount': '3857', 'confusionMatrix': {'annotationSpecs': [{'displayName': '1', 'id': '0'}, {'id': '1', 'displayName': '2'}], 'rows': [[3806.0, 152.0], [277.0, 245.0]]}, 'recallAt1': 0.9042411, 'confidenceThreshold': 0.38, 'falsePositiveRate': 0.1390625}, {'trueNegativeCount': '3867', 'truePositiveCount': '4240', 'falsePositiveRateAt1': 0.09575893, 'f1Score': 0.9086039, 'recall': 0.9464286, 'confidenceThreshold': 0.385, 'f1ScoreAt1': 0.9042411, 'precisionAt1': 0.9042411, 'precision': 0.8736864, 'falsePositiveRate': 0.13683036, 'falsePositiveCount': '613', 'confusionMatrix': {'rows': [[3806.0, 152.0], [277.0, 245.0]], 'annotationSpecs': [{'id': '0', 'displayName': '1'}, {'displayName': '2', 'id': '1'}]}, 'recallAt1': 0.9042411, 'falseNegativeCount': '240'}, {'falsePositiveRateAt1': 0.09575893, 'confusionMatrix': {'rows': [[3806.0, 152.0], [277.0, 245.0]], 'annotationSpecs': [{'id': '0', 'displayName': '1'}, {'displayName': '2', 'id': '1'}]}, 'recall': 0.94464284, 'trueNegativeCount': '3876', 'falsePositiveCount': '604', 'falsePositiveRate': 0.13482143, 'f1Score': 0.9085444, 'confidenceThreshold': 0.39, 'recallAt1': 0.9042411, 'precisionAt1': 0.9042411, 'falseNegativeCount': '248', 'precision': 0.8751034, 'f1ScoreAt1': 0.9042411, 'truePositiveCount': '4232'}, {'f1ScoreAt1': 0.9042411, 'precisionAt1': 0.9042411, 'falsePositiveRate': 0.13325892, 'truePositiveCount': '4229', 'recall': 0.94397324, 'trueNegativeCount': '3883', 'confusionMatrix': {'annotationSpecs': [{'displayName': '1', 'id': '0'}, {'id': '1', 'displayName': '2'}], 'rows': [[3806.0, 152.0], [277.0, 245.0]]}, 'recallAt1': 0.9042411, 'falsePositiveCount': '597', 'confidenceThreshold': 0.395, 'f1Score': 0.908876, 'precision': 0.8762951, 'falsePositiveRateAt1': 0.09575893, 'falseNegativeCount': '251'}, {'confidenceThreshold': 0.4, 'truePositiveCount': '4223', 'falsePositiveCount': '587', 'recall': 0.9426339, 'recallAt1': 0.9042411, 'precision': 0.8779626, 'f1Score': 0.90914965, 'confusionMatrix': {'rows': [[3806.0, 152.0], [277.0, 245.0]], 'annotationSpecs': [{'displayName': '1', 'id': '0'}, {'id': '1', 'displayName': '2'}]}, 'f1ScoreAt1': 0.9042411, 'trueNegativeCount': '3893', 'falsePositiveRateAt1': 0.09575893, 'falsePositiveRate': 0.13102679, 'precisionAt1': 0.9042411, 'falseNegativeCount': '257'}, {'confidenceThreshold': 0.405, 'falsePositiveRate': 0.1296875, 'f1ScoreAt1': 0.9042411, 'precision': 0.8788321, 'falsePositiveRateAt1': 0.09575893, 'recall': 0.940625, 'f1Score': 0.90867925, 'truePositiveCount': '4214', 'trueNegativeCount': '3899', 'precisionAt1': 0.9042411, 'falsePositiveCount': '581', 'recallAt1': 0.9042411, 'falseNegativeCount': '266', 'confusionMatrix': {'rows': [[3806.0, 152.0], [277.0, 245.0]], 'annotationSpecs': [{'displayName': '1', 'id': '0'}, {'displayName': '2', 'id': '1'}]}}, {'confidenceThreshold': 0.41, 'falseNegativeCount': '272', 'recallAt1': 0.9042411, 'trueNegativeCount': '3908', 'falsePositiveCount': '572', 'precisionAt1': 0.9042411, 'f1Score': 0.90885526, 'truePositiveCount': '4208', 'falsePositiveRate': 0.12767857, 'precision': 0.88033473, 'f1ScoreAt1': 0.9042411, 'falsePositiveRateAt1': 0.09575893, 'recall': 0.9392857, 'confusionMatrix': {'rows': [[3806.0, 152.0], [277.0, 245.0]], 'annotationSpecs': [{'id': '0', 'displayName': '1'}, {'displayName': '2', 'id': '1'}]}}, {'falsePositiveRateAt1': 0.09575893, 'recallAt1': 0.9042411, 'truePositiveCount': '4196', 'f1ScoreAt1': 0.9042411, 'precision': 0.882254, 'trueNegativeCount': '3920', 'f1Score': 0.90861845, 'recall': 0.9366071, 'confidenceThreshold': 0.415, 'falseNegativeCount': '284', 'falsePositiveCount': '560', 'falsePositiveRate': 0.125, 'precisionAt1': 0.9042411, 'confusionMatrix': {'rows': [[3806.0, 152.0], [277.0, 245.0]], 'annotationSpecs': [{'displayName': '1', 'id': '0'}, {'displayName': '2', 'id': '1'}]}}, {'falsePositiveCount': '553', 'precision': 0.8834563, 'f1Score': 0.9088347, 'recall': 0.9357143, 'truePositiveCount': '4192', 'precisionAt1': 0.9042411, 'f1ScoreAt1': 0.9042411, 'falsePositiveRateAt1': 0.09575893, 'recallAt1': 0.9042411, 'trueNegativeCount': '3927', 'falseNegativeCount': '288', 'falsePositiveRate': 0.1234375, 'confidenceThreshold': 0.42, 'confusionMatrix': {'rows': [[3806.0, 152.0], [277.0, 245.0]], 'annotationSpecs': [{'displayName': '1', 'id': '0'}, {'id': '1', 'displayName': '2'}]}}, {'recall': 0.9345982, 'precision': 0.8855753, 'precisionAt1': 0.9042411, 'confidenceThreshold': 0.425, 'truePositiveCount': '4187', 'confusionMatrix': {'rows': [[3806.0, 152.0], [277.0, 245.0]], 'annotationSpecs': [{'displayName': '1', 'id': '0'}, {'id': '1', 'displayName': '2'}]}, 'recallAt1': 0.9042411, 'trueNegativeCount': '3939', 'falseNegativeCount': '293', 'falsePositiveCount': '541', 'falsePositiveRate': 0.12075893, 'f1Score': 0.90942657, 'falsePositiveRateAt1': 0.09575893, 'f1ScoreAt1': 0.9042411}, {'f1ScoreAt1': 0.9042411, 'f1Score': 0.9094668, 'falsePositiveRateAt1': 0.09575893, 'falsePositiveCount': '531', 'truePositiveCount': '4179', 'recallAt1': 0.9042411, 'recall': 0.9328125, 'trueNegativeCount': '3949', 'precisionAt1': 0.9042411, 'confusionMatrix': {'annotationSpecs': [{'displayName': '1', 'id': '0'}, {'displayName': '2', 'id': '1'}], 'rows': [[3806.0, 152.0], [277.0, 245.0]]}, 'falseNegativeCount': '301', 'confidenceThreshold': 0.43, 'falsePositiveRate': 0.11852679, 'precision': 0.88726115}, {'recall': 0.93102676, 'trueNegativeCount': '3959', 'confusionMatrix': {'rows': [[3806.0, 152.0], [277.0, 245.0]], 'annotationSpecs': [{'id': '0', 'displayName': '1'}, {'displayName': '2', 'id': '1'}]}, 'falsePositiveRate': 0.116294645, 'falseNegativeCount': '309', 'recallAt1': 0.9042411, 'falsePositiveRateAt1': 0.09575893, 'truePositiveCount': '4171', 'falsePositiveCount': '521', 'precision': 0.88895994, 'confidenceThreshold': 0.435, 'precisionAt1': 0.9042411, 'f1ScoreAt1': 0.9042411, 'f1Score': 0.9095072}, {'confidenceThreshold': 0.44, 'falsePositiveRateAt1': 0.09575893, 'f1ScoreAt1': 0.9042411, 'recall': 0.92901784, 'falsePositiveRate': 0.11450893, 'confusionMatrix': {'rows': [[3806.0, 152.0], [277.0, 245.0]], 'annotationSpecs': [{'displayName': '1', 'id': '0'}, {'displayName': '2', 'id': '1'}]}, 'truePositiveCount': '4162', 'precisionAt1': 0.9042411, 'falseNegativeCount': '318', 'falsePositiveCount': '513', 'trueNegativeCount': '3967', 'f1Score': 0.90922993, 'recallAt1': 0.9042411, 'precision': 0.8902674}, {'recall': 0.9267857, 'recallAt1': 0.9042411, 'precision': 0.89251935, 'falsePositiveCount': '500', 'falsePositiveRateAt1': 0.09575893, 'confusionMatrix': {'rows': [[3806.0, 152.0], [277.0, 245.0]], 'annotationSpecs': [{'id': '0', 'displayName': '1'}, {'displayName': '2', 'id': '1'}]}, 'confidenceThreshold': 0.445, 'f1ScoreAt1': 0.9042411, 'precisionAt1': 0.9042411, 'f1Score': 0.90932983, 'falseNegativeCount': '328', 'falsePositiveRate': 0.11160714, 'truePositiveCount': '4152', 'trueNegativeCount': '3980'}, {'falsePositiveRateAt1': 0.09575893, 'falsePositiveRate': 0.110491075, 'confusionMatrix': {'rows': [[3806.0, 152.0], [277.0, 245.0]], 'annotationSpecs': [{'id': '0', 'displayName': '1'}, {'id': '1', 'displayName': '2'}]}, 'falseNegativeCount': '339', 'recallAt1': 0.9042411, 'confidenceThreshold': 0.45, 'recall': 0.92433035, 'precision': 0.8932269, 'truePositiveCount': '4141', 'precisionAt1': 0.9042411, 'f1Score': 0.90851253, 'trueNegativeCount': '3985', 'f1ScoreAt1': 0.9042411, 'falsePositiveCount': '495'}, {'confidenceThreshold': 0.455, 'f1ScoreAt1': 0.9042411, 'truePositiveCount': '4129', 'precision': 0.89372295, 'precisionAt1': 0.9042411, 'confusionMatrix': {'rows': [[3806.0, 152.0], [277.0, 245.0]], 'annotationSpecs': [{'id': '0', 'displayName': '1'}, {'displayName': '2', 'id': '1'}]}, 'recallAt1': 0.9042411, 'f1Score': 0.90747255, 'falsePositiveRate': 0.10959821, 'recall': 0.9216518, 'falseNegativeCount': '351', 'trueNegativeCount': '3989', 'falsePositiveCount': '491', 'falsePositiveRateAt1': 0.09575893}, {'falsePositiveCount': '482', 'falseNegativeCount': '364', 'precisionAt1': 0.9042411, 'truePositiveCount': '4116', 'confidenceThreshold': 0.46, 'confusionMatrix': {'rows': [[3806.0, 152.0], [277.0, 245.0]], 'annotationSpecs': [{'displayName': '1', 'id': '0'}, {'id': '1', 'displayName': '2'}]}, 'trueNegativeCount': '3998', 'recallAt1': 0.9042411, 'falsePositiveRate': 0.10758928, 'recall': 0.91875, 'f1ScoreAt1': 0.9042411, 'falsePositiveRateAt1': 0.09575893, 'f1Score': 0.90680766, 'precision': 0.8951718}, {'f1Score': 0.9065637, 'precision': 0.8961832, 'trueNegativeCount': '4004', 'f1ScoreAt1': 0.9042411, 'precisionAt1': 0.9042411, 'recall': 0.9171875, 'recallAt1': 0.9042411, 'falsePositiveRateAt1': 0.09575893, 'confidenceThreshold': 0.465, 'truePositiveCount': '4109', 'falsePositiveRate': 0.10625, 'falsePositiveCount': '476', 'confusionMatrix': {'annotationSpecs': [{'displayName': '1', 'id': '0'}, {'displayName': '2', 'id': '1'}], 'rows': [[3806.0, 152.0], [277.0, 245.0]]}, 'falseNegativeCount': '371'}, {'precision': 0.89730674, 'confidenceThreshold': 0.47, 'falseNegativeCount': '382', 'recallAt1': 0.9042411, 'falsePositiveRate': 0.1046875, 'f1ScoreAt1': 0.9042411, 'falsePositiveCount': '469', 'f1Score': 0.90593565, 'precisionAt1': 0.9042411, 'falsePositiveRateAt1': 0.09575893, 'recall': 0.91473216, 'truePositiveCount': '4098', 'confusionMatrix': {'rows': [[3806.0, 152.0], [277.0, 245.0]], 'annotationSpecs': [{'displayName': '1', 'id': '0'}, {'id': '1', 'displayName': '2'}]}, 'trueNegativeCount': '4011'}, {'truePositiveCount': '4089', 'falsePositiveRateAt1': 0.09575893, 'falsePositiveCount': '460', 'recallAt1': 0.9042411, 'precisionAt1': 0.9042411, 'recall': 0.91272324, 'f1ScoreAt1': 0.9042411, 'precision': 0.8988789, 'falseNegativeCount': '391', 'falsePositiveRate': 0.102678575, 'confidenceThreshold': 0.475, 'f1Score': 0.9057481, 'trueNegativeCount': '4020', 'confusionMatrix': {'rows': [[3806.0, 152.0], [277.0, 245.0]], 'annotationSpecs': [{'displayName': '1', 'id': '0'}, {'id': '1', 'displayName': '2'}]}}, {'recall': 0.9113839, 'precision': 0.89914113, 'falsePositiveRateAt1': 0.09575893, 'truePositiveCount': '4083', 'recallAt1': 0.9042411, 'f1ScoreAt1': 0.9042411, 'confidenceThreshold': 0.48, 'trueNegativeCount': '4022', 'falsePositiveRate': 0.10223214, 'f1Score': 0.90522116, 'falseNegativeCount': '397', 'precisionAt1': 0.9042411, 'confusionMatrix': {'annotationSpecs': [{'displayName': '1', 'id': '0'}, {'id': '1', 'displayName': '2'}], 'rows': [[3806.0, 152.0], [277.0, 245.0]]}, 'falsePositiveCount': '458'}, {'falseNegativeCount': '402', 'falsePositiveRateAt1': 0.09575893, 'precisionAt1': 0.9042411, 'falsePositiveRate': 0.100669645, 'f1ScoreAt1': 0.9042411, 'recallAt1': 0.9042411, 'f1Score': 0.9053169, 'precision': 0.90041953, 'trueNegativeCount': '4029', 'confusionMatrix': {'annotationSpecs': [{'id': '0', 'displayName': '1'}, {'displayName': '2', 'id': '1'}], 'rows': [[3806.0, 152.0], [277.0, 245.0]]}, 'confidenceThreshold': 0.485, 'recall': 0.91026783, 'falsePositiveCount': '451', 'truePositiveCount': '4078'}, {'precision': 0.90226066, 'falseNegativeCount': '409', 'truePositiveCount': '4071', 'falsePositiveRate': 0.0984375, 'confusionMatrix': {'rows': [[3806.0, 152.0], [277.0, 245.0]], 'annotationSpecs': [{'displayName': '1', 'id': '0'}, {'displayName': '2', 'id': '1'}]}, 'falsePositiveRateAt1': 0.09575893, 'f1ScoreAt1': 0.9042411, 'trueNegativeCount': '4039', 'confidenceThreshold': 0.49, 'f1Score': 0.90547156, 'falsePositiveCount': '441', 'recall': 0.90870535, 'recallAt1': 0.9042411, 'precisionAt1': 0.9042411}, {'recallAt1': 0.9042411, 'recall': 0.90669644, 'falsePositiveRate': 0.09732143, 'confusionMatrix': {'annotationSpecs': [{'displayName': '1', 'id': '0'}, {'id': '1', 'displayName': '2'}], 'rows': [[3806.0, 152.0], [277.0, 245.0]]}, 'confidenceThreshold': 0.495, 'f1Score': 0.90487856, 'falsePositiveCount': '436', 'f1ScoreAt1': 0.9042411, 'truePositiveCount': '4062', 'falsePositiveRateAt1': 0.09575893, 'precision': 0.903068, 'falseNegativeCount': '418', 'precisionAt1': 0.9042411, 'trueNegativeCount': '4044'}, {'recall': 0.9042411, 'confidenceThreshold': 0.5, 'falseNegativeCount': '429', 'precision': 0.9042411, 'confusionMatrix': {'rows': [[3806.0, 152.0], [277.0, 245.0]], 'annotationSpecs': [{'displayName': '1', 'id': '0'}, {'displayName': '2', 'id': '1'}]}, 'precisionAt1': 0.9042411, 'recallAt1': 0.9042411, 'f1ScoreAt1': 0.9042411, 'falsePositiveRateAt1': 0.09575893, 'falsePositiveCount': '429', 'f1Score': 0.9042411, 'trueNegativeCount': '4051', 'truePositiveCount': '4051', 'falsePositiveRate': 0.09575893}, {'precision': 0.90632004, 'recallAt1': 0.90267855, 'recall': 0.90267855, 'falseNegativeCount': '436', 'falsePositiveCount': '418', 'f1ScoreAt1': 0.90449566, 'f1Score': 0.90449566, 'falsePositiveRate': 0.09330357, 'confusionMatrix': {'rows': [[3800.0, 146.0], [272.0, 244.0]], 'annotationSpecs': [{'displayName': '1', 'id': '0'}, {'displayName': '2', 'id': '1'}]}, 'precisionAt1': 0.90632004, 'trueNegativeCount': '4062', 'truePositiveCount': '4044', 'confidenceThreshold': 0.505, 'falsePositiveRateAt1': 0.09330357}, {'trueNegativeCount': '4072', 'falsePositiveCount': '408', 'recall': 0.9013393, 'f1Score': 0.9047726, 'confusionMatrix': {'annotationSpecs': [{'displayName': '1', 'id': '0'}, {'displayName': '2', 'id': '1'}], 'rows': [[3797.0, 143.0], [265.0, 241.0]]}, 'confidenceThreshold': 0.51, 'f1ScoreAt1': 0.9047726, 'falseNegativeCount': '442', 'falsePositiveRateAt1': 0.09107143, 'precision': 0.9082321, 'truePositiveCount': '4038', 'falsePositiveRate': 0.09107143, 'precisionAt1': 0.9082321, 'recallAt1': 0.9013393}, {'falsePositiveRateAt1': 0.08973214, 'recall': 0.8993304, 'falsePositiveRate': 0.08973214, 'falseNegativeCount': '451', 'f1Score': 0.9042756, 'confidenceThreshold': 0.515, 'trueNegativeCount': '4078', 'precisionAt1': 0.90927553, 'truePositiveCount': '4029', 'f1ScoreAt1': 0.9042756, 'recallAt1': 0.8993304, 'confusionMatrix': {'rows': [[3793.0, 140.0], [262.0, 236.0]], 'annotationSpecs': [{'id': '0', 'displayName': '1'}, {'id': '1', 'displayName': '2'}]}, 'precision': 0.90927553, 'falsePositiveCount': '402'}, {'trueNegativeCount': '4083', 'precisionAt1': 0.91016066, 'falsePositiveRateAt1': 0.08861607, 'truePositiveCount': '4022', 'confusionMatrix': {'rows': [[3788.0, 137.0], [260.0, 234.0]], 'annotationSpecs': [{'id': '0', 'displayName': '1'}, {'displayName': '2', 'id': '1'}]}, 'recallAt1': 0.89776784, 'f1Score': 0.9039218, 'recall': 0.89776784, 'confidenceThreshold': 0.52, 'falsePositiveCount': '397', 'falseNegativeCount': '458', 'precision': 0.91016066, 'falsePositiveRate': 0.08861607, 'f1ScoreAt1': 0.9039218}, {'f1ScoreAt1': 0.90438694, 'recall': 0.8973214, 'f1Score': 0.90438694, 'falseNegativeCount': '460', 'falsePositiveRateAt1': 0.087053575, 'confusionMatrix': {'rows': [[3787.0, 135.0], [255.0, 233.0]], 'annotationSpecs': [{'id': '0', 'displayName': '1'}, {'displayName': '2', 'id': '1'}]}, 'recallAt1': 0.8973214, 'trueNegativeCount': '4090', 'falsePositiveCount': '390', 'precision': 0.91156465, 'truePositiveCount': '4020', 'precisionAt1': 0.91156465, 'falsePositiveRate': 0.087053575, 'confidenceThreshold': 0.525}, {'precisionAt1': 0.9130435, 'confidenceThreshold': 0.53, 'trueNegativeCount': '4098', 'f1ScoreAt1': 0.90409106, 'confusionMatrix': {'rows': [[3783.0, 134.0], [248.0, 228.0]], 'annotationSpecs': [{'displayName': '1', 'id': '0'}, {'id': '1', 'displayName': '2'}]}, 'truePositiveCount': '4011', 'f1Score': 0.90409106, 'falsePositiveRateAt1': 0.08526786, 'falsePositiveCount': '382', 'precision': 0.9130435, 'falseNegativeCount': '469', 'recallAt1': 0.8953125, 'recall': 0.8953125, 'falsePositiveRate': 0.08526786}, {'recall': 0.8935268, 'falsePositiveRateAt1': 0.08258928, 'recallAt1': 0.8935268, 'truePositiveCount': '4003', 'f1ScoreAt1': 0.9043262, 'confidenceThreshold': 0.535, 'precision': 0.9153899, 'falsePositiveRate': 0.08258928, 'falsePositiveCount': '370', 'trueNegativeCount': '4110', 'falseNegativeCount': '477', 'f1Score': 0.9043262, 'confusionMatrix': {'annotationSpecs': [{'displayName': '1', 'id': '0'}, {'id': '1', 'displayName': '2'}], 'rows': [[3782.0, 129.0], [241.0, 222.0]]}, 'precisionAt1': 0.9153899}, {'confusionMatrix': {'rows': [[3778.0, 125.0], [237.0, 219.0]], 'annotationSpecs': [{'id': '0', 'displayName': '1'}, {'displayName': '2', 'id': '1'}]}, 'precisionAt1': 0.91716385, 'trueNegativeCount': '4119', 'falsePositiveRateAt1': 0.080580354, 'falseNegativeCount': '483', 'precision': 0.91716385, 'confidenceThreshold': 0.54, 'f1ScoreAt1': 0.9045033, 'recallAt1': 0.8921875, 'f1Score': 0.9045033, 'falsePositiveCount': '361', 'truePositiveCount': '3997', 'falsePositiveRate': 0.080580354, 'recall': 0.8921875}, {'recallAt1': 0.8904018, 'falsePositiveRate': 0.07834821, 'precision': 0.9191244, 'truePositiveCount': '3989', 'falsePositiveCount': '351', 'confidenceThreshold': 0.545, 'f1Score': 0.9045352, 'f1ScoreAt1': 0.9045352, 'falseNegativeCount': '491', 'recall': 0.8904018, 'trueNegativeCount': '4129', 'precisionAt1': 0.9191244, 'confusionMatrix': {'annotationSpecs': [{'displayName': '1', 'id': '0'}, {'id': '1', 'displayName': '2'}], 'rows': [[3774.0, 119.0], [232.0, 215.0]]}, 'falsePositiveRateAt1': 0.07834821}, {'confidenceThreshold': 0.55, 'recall': 0.8895089, 'trueNegativeCount': '4142', 'falsePositiveCount': '338', 'falseNegativeCount': '495', 'precisionAt1': 0.92181355, 'confusionMatrix': {'annotationSpecs': [{'displayName': '1', 'id': '0'}, {'id': '1', 'displayName': '2'}], 'rows': [[3772.0, 115.0], [223.0, 213.0]]}, 'recallAt1': 0.8895089, 'f1ScoreAt1': 0.90537316, 'falsePositiveRate': 0.07544643, 'f1Score': 0.90537316, 'precision': 0.92181355, 'truePositiveCount': '3985', 'falsePositiveRateAt1': 0.07544643}, {'confusionMatrix': {'annotationSpecs': [{'displayName': '1', 'id': '0'}, {'id': '1', 'displayName': '2'}], 'rows': [[3771.0, 110.0], [218.0, 209.0]]}, 'recallAt1': 0.88839287, 'falsePositiveCount': '328', 'truePositiveCount': '3980', 'f1ScoreAt1': 0.9057806, 'falsePositiveRateAt1': 0.073214285, 'precisionAt1': 0.9238626, 'precision': 0.9238626, 'f1Score': 0.9057806, 'trueNegativeCount': '4152', 'falsePositiveRate': 0.073214285, 'falseNegativeCount': '500', 'confidenceThreshold': 0.555, 'recall': 0.88839287}, {'f1Score': 0.9050662, 'falsePositiveRateAt1': 0.07098214, 'recallAt1': 0.88526785, 'confusionMatrix': {'annotationSpecs': [{'id': '0', 'displayName': '1'}, {'id': '1', 'displayName': '2'}], 'rows': [[3758.0, 105.0], [213.0, 208.0]]}, 'recall': 0.88526785, 'trueNegativeCount': '4162', 'falsePositiveCount': '318', 'falseNegativeCount': '514', 'precision': 0.9257703, 'precisionAt1': 0.9257703, 'falsePositiveRate': 0.07098214, 'confidenceThreshold': 0.56, 'truePositiveCount': '3966', 'f1ScoreAt1': 0.9050662}, {'confusionMatrix': {'rows': [[3754.0, 97.0], [211.0, 205.0]], 'annotationSpecs': [{'displayName': '1', 'id': '0'}, {'displayName': '2', 'id': '1'}]}, 'truePositiveCount': '3958', 'trueNegativeCount': '4172', 'precision': 0.9278012, 'falsePositiveRate': 0.06875, 'f1ScoreAt1': 0.90509945, 'falsePositiveCount': '308', 'recallAt1': 0.88348216, 'falseNegativeCount': '522', 'recall': 0.88348216, 'f1Score': 0.90509945, 'precisionAt1': 0.9278012, 'falsePositiveRateAt1': 0.06875, 'confidenceThreshold': 0.565}, {'falsePositiveCount': '301', 'f1ScoreAt1': 0.904571, 'f1Score': 0.904571, 'truePositiveCount': '3948', 'precisionAt1': 0.9291598, 'precision': 0.9291598, 'falseNegativeCount': '532', 'falsePositiveRateAt1': 0.0671875, 'falsePositiveRate': 0.0671875, 'confidenceThreshold': 0.57, 'recall': 0.88125, 'recallAt1': 0.88125, 'trueNegativeCount': '4179', 'confusionMatrix': {'rows': [[3747.0, 94.0], [207.0, 202.0]], 'annotationSpecs': [{'displayName': '1', 'id': '0'}, {'id': '1', 'displayName': '2'}]}}, {'trueNegativeCount': '4188', 'confidenceThreshold': 0.575, 'recall': 0.87879467, 'falseNegativeCount': '543', 'precision': 0.93095297, 'falsePositiveRate': 0.06517857, 'falsePositiveRateAt1': 0.06517857, 'confusionMatrix': {'annotationSpecs': [{'displayName': '1', 'id': '0'}, {'displayName': '2', 'id': '1'}], 'rows': [[3742.0, 91.0], [201.0, 197.0]]}, 'precisionAt1': 0.93095297, 'truePositiveCount': '3937', 'recallAt1': 0.87879467, 'f1ScoreAt1': 0.9041222, 'f1Score': 0.9041222, 'falsePositiveCount': '292'}, {'falsePositiveRate': 0.0640625, 'falsePositiveCount': '287', 'precisionAt1': 0.9318937, 'confusionMatrix': {'rows': [[3737.0, 89.0], [199.0, 190.0]], 'annotationSpecs': [{'displayName': '1', 'id': '0'}, {'id': '1', 'displayName': '2'}]}, 'confidenceThreshold': 0.58, 'trueNegativeCount': '4193', 'recallAt1': 0.8765625, 'f1ScoreAt1': 0.90338165, 'truePositiveCount': '3927', 'falseNegativeCount': '553', 'falsePositiveRateAt1': 0.0640625, 'precision': 0.9318937, 'recall': 0.8765625, 'f1Score': 0.90338165}, {'falsePositiveCount': '284', 'confidenceThreshold': 0.585, 'falsePositiveRate': 0.063392855, 'f1Score': 0.9026834, 'trueNegativeCount': '4196', 'confusionMatrix': {'annotationSpecs': [{'id': '0', 'displayName': '1'}, {'displayName': '2', 'id': '1'}], 'rows': [[3734.0, 86.0], [198.0, 186.0]]}, 'recall': 0.8747768, 'precision': 0.9324292, 'falsePositiveRateAt1': 0.063392855, 'falseNegativeCount': '561', 'truePositiveCount': '3919', 'recallAt1': 0.8747768, 'f1ScoreAt1': 0.9026834, 'precisionAt1': 0.9324292}, {'falsePositiveRateAt1': 0.060714286, 'recallAt1': 0.8720982, 'falseNegativeCount': '573', 'falsePositiveRate': 0.060714286, 'f1Score': 0.90241367, 'precision': 0.9349127, 'falsePositiveCount': '272', 'precisionAt1': 0.9349127, 'f1ScoreAt1': 0.90241367, 'truePositiveCount': '3907', 'confidenceThreshold': 0.59, 'trueNegativeCount': '4208', 'recall': 0.8720982, 'confusionMatrix': {'rows': [[3728.0, 78.0], [194.0, 180.0]], 'annotationSpecs': [{'id': '0', 'displayName': '1'}, {'displayName': '2', 'id': '1'}]}}, {'falsePositiveRate': 0.059151787, 'confidenceThreshold': 0.595, 'falsePositiveCount': '265', 'precision': 0.93634397, 'recall': 0.8700893, 'confusionMatrix': {'annotationSpecs': [{'id': '0', 'displayName': '1'}, {'displayName': '2', 'id': '1'}], 'rows': [[3725.0, 76.0], [190.0, 173.0]]}, 'trueNegativeCount': '4215', 'precisionAt1': 0.93634397, 'truePositiveCount': '3898', 'falseNegativeCount': '582', 'falsePositiveRateAt1': 0.059151787, 'f1ScoreAt1': 0.9020016, 'f1Score': 0.9020016, 'recallAt1': 0.8700893}, {'trueNegativeCount': '4223', 'truePositiveCount': '3891', 'f1Score': 0.90194714, 'falsePositiveRate': 0.057366073, 'falseNegativeCount': '589', 'recall': 0.86852676, 'recallAt1': 0.86852676, 'confusionMatrix': {'rows': [[3721.0, 70.0], [187.0, 170.0]], 'annotationSpecs': [{'id': '0', 'displayName': '1'}, {'id': '1', 'displayName': '2'}]}, 'falsePositiveCount': '257', 'f1ScoreAt1': 0.90194714, 'falsePositiveRateAt1': 0.057366073, 'confidenceThreshold': 0.6, 'precision': 0.9380424, 'precisionAt1': 0.9380424}, {'f1ScoreAt1': 0.90142804, 'f1Score': 0.90142804, 'precisionAt1': 0.9392693, 'truePositiveCount': '3882', 'confidenceThreshold': 0.605, 'falsePositiveRateAt1': 0.056026787, 'trueNegativeCount': '4229', 'falsePositiveRate': 0.056026787, 'recallAt1': 0.86651784, 'falsePositiveCount': '251', 'falseNegativeCount': '598', 'recall': 0.86651784, 'confusionMatrix': {'rows': [[3720.0, 68.0], [183.0, 162.0]], 'annotationSpecs': [{'id': '0', 'displayName': '1'}, {'displayName': '2', 'id': '1'}]}, 'precision': 0.9392693}, {'falseNegativeCount': '606', 'trueNegativeCount': '4233', 'confidenceThreshold': 0.61, 'truePositiveCount': '3874', 'recall': 0.86473215, 'f1Score': 0.9008255, 'precisionAt1': 0.9400631, 'recallAt1': 0.86473215, 'confusionMatrix': {'annotationSpecs': [{'displayName': '1', 'id': '0'}, {'displayName': '2', 'id': '1'}], 'rows': [[3719.0, 66.0], [182.0, 156.0]]}, 'f1ScoreAt1': 0.9008255, 'falsePositiveRate': 0.055133928, 'precision': 0.9400631, 'falsePositiveCount': '247', 'falsePositiveRateAt1': 0.055133928}, {'f1Score': 0.90064067, 'precisionAt1': 0.9417783, 'truePositiveCount': '3866', 'falsePositiveCount': '239', 'confidenceThreshold': 0.615, 'falsePositiveRateAt1': 0.053348213, 'trueNegativeCount': '4241', 'recallAt1': 0.86294645, 'precision': 0.9417783, 'recall': 0.86294645, 'falseNegativeCount': '614', 'falsePositiveRate': 0.053348213, 'f1ScoreAt1': 0.90064067, 'confusionMatrix': {'annotationSpecs': [{'displayName': '1', 'id': '0'}, {'displayName': '2', 'id': '1'}], 'rows': [[3716.0, 63.0], [176.0, 151.0]]}}, {'precisionAt1': 0.9430318, 'falseNegativeCount': '623', 'trueNegativeCount': '4247', 'confusionMatrix': {'annotationSpecs': [{'id': '0', 'displayName': '1'}, {'displayName': '2', 'id': '1'}], 'rows': [[3710.0, 60.0], [173.0, 147.0]]}, 'falsePositiveCount': '233', 'truePositiveCount': '3857', 'confidenceThreshold': 0.62, 'f1ScoreAt1': 0.9001167, 'recall': 0.8609375, 'recallAt1': 0.8609375, 'precision': 0.9430318, 'falsePositiveRateAt1': 0.052008927, 'f1Score': 0.9001167, 'falsePositiveRate': 0.052008927}, {'recallAt1': 0.859375, 'truePositiveCount': '3850', 'confidenceThreshold': 0.625, 'f1Score': 0.8998481, 'trueNegativeCount': '4253', 'confusionMatrix': {'rows': [[3706.0, 57.0], [170.0, 144.0]], 'annotationSpecs': [{'displayName': '1', 'id': '0'}, {'id': '1', 'displayName': '2'}]}, 'falsePositiveRate': 0.050669644, 'recall': 0.859375, 'precisionAt1': 0.9443218, 'falsePositiveRateAt1': 0.050669644, 'falseNegativeCount': '630', 'f1ScoreAt1': 0.8998481, 'falsePositiveCount': '227', 'precision': 0.9443218}, {'falsePositiveRateAt1': 0.050223213, 'precision': 0.94467664, 'f1Score': 0.8990289, 'trueNegativeCount': '4255', 'falsePositiveRate': 0.050223213, 'f1ScoreAt1': 0.8990289, 'recall': 0.8575893, 'truePositiveCount': '3842', 'falseNegativeCount': '638', 'falsePositiveCount': '225', 'precisionAt1': 0.94467664, 'confusionMatrix': {'annotationSpecs': [{'displayName': '1', 'id': '0'}, {'displayName': '2', 'id': '1'}], 'rows': [[3704.0, 56.0], [169.0, 138.0]]}, 'recallAt1': 0.8575893, 'confidenceThreshold': 0.63}, {'confidenceThreshold': 0.635, 'recall': 0.85513395, 'precision': 0.9468611, 'f1ScoreAt1': 0.8986629, 'truePositiveCount': '3831', 'f1Score': 0.8986629, 'falsePositiveRateAt1': 0.04799107, 'falsePositiveRate': 0.04799107, 'confusionMatrix': {'rows': [[3700.0, 53.0], [162.0, 131.0]], 'annotationSpecs': [{'id': '0', 'displayName': '1'}, {'id': '1', 'displayName': '2'}]}, 'falsePositiveCount': '215', 'trueNegativeCount': '4265', 'precisionAt1': 0.9468611, 'falseNegativeCount': '649', 'recallAt1': 0.85513395}, {'truePositiveCount': '3820', 'f1Score': 0.8980839, 'recallAt1': 0.8526786, 'f1ScoreAt1': 0.8980839, 'falseNegativeCount': '660', 'falsePositiveCount': '207', 'precision': 0.94859695, 'precisionAt1': 0.94859695, 'confidenceThreshold': 0.64, 'falsePositiveRateAt1': 0.046205357, 'trueNegativeCount': '4273', 'confusionMatrix': {'annotationSpecs': [{'id': '0', 'displayName': '1'}, {'id': '1', 'displayName': '2'}], 'rows': [[3693.0, 50.0], [157.0, 128.0]]}, 'falsePositiveRate': 0.046205357, 'recall': 0.8526786}, {'falseNegativeCount': '673', 'confidenceThreshold': 0.645, 'falsePositiveRateAt1': 0.044419643, 'precisionAt1': 0.95032454, 'precision': 0.95032454, 'f1ScoreAt1': 0.89724255, 'recallAt1': 0.8497768, 'falsePositiveRate': 0.044419643, 'recall': 0.8497768, 'confusionMatrix': {'annotationSpecs': [{'id': '0', 'displayName': '1'}, {'displayName': '2', 'id': '1'}], 'rows': [[3683.0, 44.0], [155.0, 124.0]]}, 'f1Score': 0.89724255, 'trueNegativeCount': '4281', 'falsePositiveCount': '199', 'truePositiveCount': '3807'}, {'f1ScoreAt1': 0.89689386, 'precision': 0.95234513, 'truePositiveCount': '3797', 'falsePositiveRate': 0.042410713, 'falseNegativeCount': '683', 'recallAt1': 0.84754467, 'confidenceThreshold': 0.65, 'precisionAt1': 0.95234513, 'f1Score': 0.89689386, 'confusionMatrix': {'rows': [[3676.0, 42.0], [148.0, 121.0]], 'annotationSpecs': [{'id': '0', 'displayName': '1'}, {'displayName': '2', 'id': '1'}]}, 'falsePositiveCount': '190', 'recall': 0.84754467, 'trueNegativeCount': '4290', 'falsePositiveRateAt1': 0.042410713}, {'f1Score': 0.8958333, 'recall': 0.8446429, 'f1ScoreAt1': 0.8958333, 'falsePositiveRateAt1': 0.04107143, 'falseNegativeCount': '696', 'falsePositiveCount': '184', 'confidenceThreshold': 0.655, 'falsePositiveRate': 0.04107143, 'precision': 0.953629, 'confusionMatrix': {'annotationSpecs': [{'id': '0', 'displayName': '1'}, {'id': '1', 'displayName': '2'}], 'rows': [[3667.0, 41.0], [143.0, 117.0]]}, 'recallAt1': 0.8446429, 'truePositiveCount': '3784', 'trueNegativeCount': '4296', 'precisionAt1': 0.953629}, {'truePositiveCount': '3772', 'precisionAt1': 0.954695, 'trueNegativeCount': '4301', 'f1Score': 0.89479303, 'falsePositiveCount': '179', 'falsePositiveRateAt1': 0.03995536, 'falseNegativeCount': '708', 'f1ScoreAt1': 0.89479303, 'recallAt1': 0.8419643, 'confusionMatrix': {'rows': [[3660.0, 38.0], [141.0, 113.0]], 'annotationSpecs': [{'id': '0', 'displayName': '1'}, {'id': '1', 'displayName': '2'}]}, 'precision': 0.954695, 'recall': 0.8419643, 'confidenceThreshold': 0.66, 'falsePositiveRate': 0.03995536}, {'confusionMatrix': {'rows': [[3656.0, 37.0], [136.0, 109.0]], 'annotationSpecs': [{'displayName': '1', 'id': '0'}, {'id': '1', 'displayName': '2'}]}, 'recallAt1': 0.84040177, 'falsePositiveRate': 0.038616072, 'falsePositiveRateAt1': 0.038616072, 'truePositiveCount': '3765', 'falsePositiveCount': '173', 'precision': 0.95606905, 'f1Score': 0.89451176, 'f1ScoreAt1': 0.89451176, 'precisionAt1': 0.95606905, 'trueNegativeCount': '4307', 'falseNegativeCount': '715', 'confidenceThreshold': 0.665, 'recall': 0.84040177}, {'confidenceThreshold': 0.67, 'recall': 0.8386161, 'f1Score': 0.89409804, 'trueNegativeCount': '4313', 'recallAt1': 0.8386161, 'truePositiveCount': '3757', 'f1ScoreAt1': 0.89409804, 'falsePositiveCount': '167', 'precision': 0.9574414, 'precisionAt1': 0.9574414, 'confusionMatrix': {'annotationSpecs': [{'displayName': '1', 'id': '0'}, {'displayName': '2', 'id': '1'}], 'rows': [[3650.0, 34.0], [133.0, 107.0]]}, 'falseNegativeCount': '723', 'falsePositiveRateAt1': 0.037276786, 'falsePositiveRate': 0.037276786}, {'f1ScoreAt1': 0.89368296, 'recall': 0.8368304, 'f1Score': 0.89368296, 'precisionAt1': 0.9588235, 'falseNegativeCount': '731', 'falsePositiveRate': 0.0359375, 'falsePositiveCount': '161', 'truePositiveCount': '3749', 'trueNegativeCount': '4319', 'precision': 0.9588235, 'confidenceThreshold': 0.675, 'recallAt1': 0.8368304, 'falsePositiveRateAt1': 0.0359375, 'confusionMatrix': {'annotationSpecs': [{'id': '0', 'displayName': '1'}, {'displayName': '2', 'id': '1'}], 'rows': [[3645.0, 33.0], [128.0, 104.0]]}}, {'falsePositiveRateAt1': 0.03482143, 'falsePositiveCount': '156', 'f1Score': 0.8926311, 'confusionMatrix': {'rows': [[3636.0, 31.0], [125.0, 102.0]], 'annotationSpecs': [{'displayName': '1', 'id': '0'}, {'displayName': '2', 'id': '1'}]}, 'recallAt1': 0.8341518, 'falsePositiveRate': 0.03482143, 'confidenceThreshold': 0.68, 'f1ScoreAt1': 0.8926311, 'trueNegativeCount': '4324', 'precision': 0.9599281, 'recall': 0.8341518, 'precisionAt1': 0.9599281, 'truePositiveCount': '3737', 'falseNegativeCount': '743'}, {'falsePositiveRate': 0.03348214, 'confusionMatrix': {'annotationSpecs': [{'id': '0', 'displayName': '1'}, {'displayName': '2', 'id': '1'}], 'rows': [[3632.0, 29.0], [121.0, 95.0]]}, 'falsePositiveCount': '150', 'f1ScoreAt1': 0.89194685, 'precisionAt1': 0.96131027, 'trueNegativeCount': '4330', 'falsePositiveRateAt1': 0.03348214, 'recall': 0.83191967, 'truePositiveCount': '3727', 'falseNegativeCount': '753', 'confidenceThreshold': 0.685, 'recallAt1': 0.83191967, 'f1Score': 0.89194685, 'precision': 0.96131027}, {'f1Score': 0.89117926, 'falsePositiveRateAt1': 0.032589287, 'falsePositiveRate': 0.032589287, 'confusionMatrix': {'annotationSpecs': [{'displayName': '1', 'id': '0'}, {'displayName': '2', 'id': '1'}], 'rows': [[3629.0, 27.0], [119.0, 90.0]]}, 'recall': 0.8299107, 'truePositiveCount': '3718', 'trueNegativeCount': '4334', 'falsePositiveCount': '146', 'recallAt1': 0.8299107, 'precisionAt1': 0.9622153, 'confidenceThreshold': 0.69, 'precision': 0.9622153, 'f1ScoreAt1': 0.89117926, 'falseNegativeCount': '762'}, {'truePositiveCount': '3712', 'recall': 0.82857144, 'precisionAt1': 0.9626556, 'trueNegativeCount': '4336', 'falseNegativeCount': '768', 'falsePositiveRateAt1': 0.03214286, 'falsePositiveRate': 0.03214286, 'confidenceThreshold': 0.695, 'f1ScoreAt1': 0.890595, 'f1Score': 0.890595, 'precision': 0.9626556, 'falsePositiveCount': '144', 'recallAt1': 0.82857144, 'confusionMatrix': {'annotationSpecs': [{'id': '0', 'displayName': '1'}, {'displayName': '2', 'id': '1'}], 'rows': [[3625.0, 27.0], [117.0, 87.0]]}}, {'confusionMatrix': {'rows': [[3623.0, 25.0], [115.0, 82.0]], 'annotationSpecs': [{'id': '0', 'displayName': '1'}, {'id': '1', 'displayName': '2'}]}, 'trueNegativeCount': '4340', 'precisionAt1': 0.9635891, 'falseNegativeCount': '775', 'recall': 0.8270089, 'precision': 0.9635891, 'falsePositiveRate': 0.03125, 'f1ScoreAt1': 0.89009005, 'truePositiveCount': '3705', 'f1Score': 0.89009005, 'falsePositiveCount': '140', 'confidenceThreshold': 0.7, 'recallAt1': 0.8270089, 'falsePositiveRateAt1': 0.03125}, {'confusionMatrix': {'annotationSpecs': [{'displayName': '1', 'id': '0'}, {'id': '1', 'displayName': '2'}], 'rows': [[3616.0, 25.0], [114.0, 81.0]]}, 'falsePositiveRate': 0.031026786, 'recallAt1': 0.8252232, 'falseNegativeCount': '783', 'truePositiveCount': '3697', 'precision': 0.9637643, 'trueNegativeCount': '4341', 'falsePositiveRateAt1': 0.031026786, 'f1ScoreAt1': 0.8891294, 'confidenceThreshold': 0.705, 'falsePositiveCount': '139', 'recall': 0.8252232, 'precisionAt1': 0.9637643, 'f1Score': 0.8891294}, {'recall': 0.82410717, 'falseNegativeCount': '788', 'f1Score': 0.8888889, 'falsePositiveCount': '135', 'falsePositiveRateAt1': 0.03013393, 'precision': 0.9647243, 'recallAt1': 0.82410717, 'f1ScoreAt1': 0.8888889, 'confidenceThreshold': 0.71, 'precisionAt1': 0.9647243, 'trueNegativeCount': '4345', 'falsePositiveRate': 0.03013393, 'truePositiveCount': '3692', 'confusionMatrix': {'annotationSpecs': [{'id': '0', 'displayName': '1'}, {'displayName': '2', 'id': '1'}], 'rows': [[3613.0, 24.0], [111.0, 79.0]]}}, {'precisionAt1': 0.9656168, 'confidenceThreshold': 0.715, 'truePositiveCount': '3679', 'trueNegativeCount': '4349', 'falseNegativeCount': '801', 'falsePositiveRate': 0.029241072, 'recall': 0.8212054, 'falsePositiveCount': '131', 'precision': 0.9656168, 'falsePositiveRateAt1': 0.029241072, 'f1ScoreAt1': 0.8875754, 'recallAt1': 0.8212054, 'confusionMatrix': {'annotationSpecs': [{'id': '0', 'displayName': '1'}, {'displayName': '2', 'id': '1'}], 'rows': [[3605.0, 22.0], [109.0, 75.0]]}, 'f1Score': 0.8875754}, {'f1Score': 0.8872508, 'trueNegativeCount': '4356', 'confidenceThreshold': 0.72, 'recall': 0.8194196, 'falseNegativeCount': '809', 'precisionAt1': 0.96732545, 'confusionMatrix': {'rows': [[3600.0, 20.0], [104.0, 71.0]], 'annotationSpecs': [{'displayName': '1', 'id': '0'}, {'displayName': '2', 'id': '1'}]}, 'falsePositiveRate': 0.027678572, 'f1ScoreAt1': 0.8872508, 'falsePositiveRateAt1': 0.027678572, 'precision': 0.96732545, 'falsePositiveCount': '124', 'recallAt1': 0.8194196, 'truePositiveCount': '3671'}, {'precisionAt1': 0.9677419, 'falseNegativeCount': '820', 'precision': 0.9677419, 'confidenceThreshold': 0.725, 'f1ScoreAt1': 0.885984, 'recallAt1': 0.81696427, 'recall': 0.81696427, 'trueNegativeCount': '4358', 'falsePositiveRateAt1': 0.027232142, 'falsePositiveRate': 0.027232142, 'falsePositiveCount': '122', 'truePositiveCount': '3660', 'f1Score': 0.885984, 'confusionMatrix': {'annotationSpecs': [{'id': '0', 'displayName': '1'}, {'id': '1', 'displayName': '2'}], 'rows': [[3591.0, 19.0], [103.0, 69.0]]}}, {'falseNegativeCount': '826', 'truePositiveCount': '3654', 'f1ScoreAt1': 0.8854962, 'falsePositiveCount': '119', 'recall': 0.815625, 'precision': 0.9684601, 'confusionMatrix': {'rows': [[3587.0, 18.0], [101.0, 67.0]], 'annotationSpecs': [{'id': '0', 'displayName': '1'}, {'displayName': '2', 'id': '1'}]}, 'f1Score': 0.8854962, 'falsePositiveRateAt1': 0.0265625, 'falsePositiveRate': 0.0265625, 'recallAt1': 0.815625, 'confidenceThreshold': 0.73, 'trueNegativeCount': '4361', 'precisionAt1': 0.9684601}, {'recallAt1': 0.81383926, 'confusionMatrix': {'annotationSpecs': [{'id': '0', 'displayName': '1'}, {'displayName': '2', 'id': '1'}], 'rows': [[3581.0, 16.0], [97.0, 65.0]]}, 'falsePositiveRateAt1': 0.025223214, 'trueNegativeCount': '4367', 'truePositiveCount': '3646', 'f1ScoreAt1': 0.8850588, 'precision': 0.9699388, 'confidenceThreshold': 0.735, 'precisionAt1': 0.9699388, 'falsePositiveRate': 0.025223214, 'falsePositiveCount': '113', 'falseNegativeCount': '834', 'f1Score': 0.8850588, 'recall': 0.81383926}, {'precision': 0.9701254, 'confidenceThreshold': 0.74, 'falsePositiveRate': 0.025, 'truePositiveCount': '3637', 'falseNegativeCount': '843', 'precisionAt1': 0.9701254, 'falsePositiveCount': '112', 'falsePositiveRateAt1': 0.025, 'f1ScoreAt1': 0.883947, 'recallAt1': 0.81183034, 'trueNegativeCount': '4368', 'confusionMatrix': {'rows': [[3574.0, 16.0], [96.0, 63.0]], 'annotationSpecs': [{'displayName': '1', 'id': '0'}, {'id': '1', 'displayName': '2'}]}, 'recall': 0.81183034, 'f1Score': 0.883947}, {'confusionMatrix': {'rows': [[3568.0, 16.0], [92.0, 58.0]], 'annotationSpecs': [{'id': '0', 'displayName': '1'}, {'displayName': '2', 'id': '1'}]}, 'trueNegativeCount': '4372', 'truePositiveCount': '3626', 'precisionAt1': 0.9710766, 'precision': 0.9710766, 'falsePositiveRate': 0.024107143, 'falsePositiveCount': '108', 'recallAt1': 0.809375, 'f1Score': 0.8828829, 'falsePositiveRateAt1': 0.024107143, 'recall': 0.809375, 'confidenceThreshold': 0.745, 'f1ScoreAt1': 0.8828829, 'falseNegativeCount': '854'}, {'truePositiveCount': '3614', 'falseNegativeCount': '866', 'falsePositiveCount': '104', 'confusionMatrix': {'rows': [[3557.0, 15.0], [89.0, 57.0]], 'annotationSpecs': [{'displayName': '1', 'id': '0'}, {'displayName': '2', 'id': '1'}]}, 'recall': 0.8066964, 'confidenceThreshold': 0.75, 'falsePositiveRate': 0.023214286, 'precision': 0.97202796, 'f1Score': 0.88167846, 'falsePositiveRateAt1': 0.023214286, 'f1ScoreAt1': 0.88167846, 'trueNegativeCount': '4376', 'recallAt1': 0.8066964, 'precisionAt1': 0.97202796}, {'recallAt1': 0.8046875, 'precision': 0.97248447, 'recall': 0.8046875, 'precisionAt1': 0.97248447, 'truePositiveCount': '3605', 'falseNegativeCount': '875', 'f1ScoreAt1': 0.88066447, 'confidenceThreshold': 0.755, 'trueNegativeCount': '4378', 'falsePositiveRateAt1': 0.022767857, 'falsePositiveCount': '102', 'falsePositiveRate': 0.022767857, 'f1Score': 0.88066447, 'confusionMatrix': {'rows': [[3551.0, 14.0], [88.0, 54.0]], 'annotationSpecs': [{'id': '0', 'displayName': '1'}, {'displayName': '2', 'id': '1'}]}}, {'truePositiveCount': '3589', 'falsePositiveRateAt1': 0.021205356, 'trueNegativeCount': '4385', 'confusionMatrix': {'rows': [[3538.0, 14.0], [81.0, 52.0]], 'annotationSpecs': [{'displayName': '1', 'id': '0'}, {'id': '1', 'displayName': '2'}]}, 'precision': 0.9742128, 'falsePositiveRate': 0.021205356, 'confidenceThreshold': 0.76, 'recall': 0.80111605, 'f1ScoreAt1': 0.87922585, 'falseNegativeCount': '891', 'recallAt1': 0.80111605, 'falsePositiveCount': '95', 'f1Score': 0.87922585, 'precisionAt1': 0.9742128}, {'recall': 0.79910713, 'f1ScoreAt1': 0.87820435, 'f1Score': 0.87820435, 'recallAt1': 0.79910713, 'precision': 0.9746801, 'confidenceThreshold': 0.765, 'falsePositiveCount': '93', 'trueNegativeCount': '4387', 'falsePositiveRate': 0.020758929, 'falseNegativeCount': '900', 'precisionAt1': 0.9746801, 'truePositiveCount': '3580', 'confusionMatrix': {'annotationSpecs': [{'id': '0', 'displayName': '1'}, {'displayName': '2', 'id': '1'}], 'rows': [[3529.0, 13.0], [80.0, 51.0]]}, 'falsePositiveRateAt1': 0.020758929}, {'precisionAt1': 0.97544336, 'confusionMatrix': {'annotationSpecs': [{'id': '0', 'displayName': '1'}, {'displayName': '2', 'id': '1'}], 'rows': [[3524.0, 13.0], [77.0, 51.0]]}, 'falseNegativeCount': '905', 'f1Score': 0.87783915, 'falsePositiveRateAt1': 0.020089285, 'confidenceThreshold': 0.77, 'trueNegativeCount': '4390', 'recall': 0.7979911, 'falsePositiveCount': '90', 'recallAt1': 0.7979911, 'precision': 0.97544336, 'f1ScoreAt1': 0.87783915, 'truePositiveCount': '3575', 'falsePositiveRate': 0.020089285}, {'confidenceThreshold': 0.775, 'recallAt1': 0.796875, 'precisionAt1': 0.97594315, 'falsePositiveRateAt1': 0.019642858, 'falsePositiveCount': '88', 'falseNegativeCount': '910', 'truePositiveCount': '3570', 'f1ScoreAt1': 0.87736547, 'confusionMatrix': {'annotationSpecs': [{'displayName': '1', 'id': '0'}, {'displayName': '2', 'id': '1'}], 'rows': [[3519.0, 12.0], [76.0, 51.0]]}, 'precision': 0.97594315, 'f1Score': 0.87736547, 'recall': 0.796875, 'trueNegativeCount': '4392', 'falsePositiveRate': 0.019642858}, {'precisionAt1': 0.976419, 'trueNegativeCount': '4394', 'confidenceThreshold': 0.78, 'falsePositiveRate': 0.019196428, 'f1Score': 0.8763381, 'precision': 0.976419, 'f1ScoreAt1': 0.8763381, 'recallAt1': 0.7948661, 'truePositiveCount': '3561', 'falseNegativeCount': '919', 'falsePositiveCount': '86', 'falsePositiveRateAt1': 0.019196428, 'confusionMatrix': {'rows': [[3511.0, 12.0], [74.0, 50.0]], 'annotationSpecs': [{'displayName': '1', 'id': '0'}, {'id': '1', 'displayName': '2'}]}, 'recall': 0.7948661}, {'falsePositiveRate': 0.017857144, 'precisionAt1': 0.9779432, 'confusionMatrix': {'annotationSpecs': [{'displayName': '1', 'id': '0'}, {'id': '1', 'displayName': '2'}], 'rows': [[3497.0, 11.0], [69.0, 50.0]]}, 'f1Score': 0.87504625, 'recallAt1': 0.7917411, 'precision': 0.9779432, 'recall': 0.7917411, 'falseNegativeCount': '933', 'falsePositiveCount': '80', 'trueNegativeCount': '4400', 'truePositiveCount': '3547', 'confidenceThreshold': 0.785, 'falsePositiveRateAt1': 0.017857144, 'f1ScoreAt1': 0.87504625}, {'recallAt1': 0.79040176, 'trueNegativeCount': '4406', 'recall': 0.79040176, 'confusionMatrix': {'annotationSpecs': [{'id': '0', 'displayName': '1'}, {'displayName': '2', 'id': '1'}], 'rows': [[3492.0, 9.0], [65.0, 49.0]]}, 'f1Score': 0.874861, 'confidenceThreshold': 0.79, 'falsePositiveCount': '74', 'falsePositiveRate': 0.016517857, 'truePositiveCount': '3541', 'falseNegativeCount': '939', 'precision': 0.97952974, 'precisionAt1': 0.97952974, 'falsePositiveRateAt1': 0.016517857, 'f1ScoreAt1': 0.874861}, {'falsePositiveRateAt1': 0.016294643, 'truePositiveCount': '3531', 'falsePositiveCount': '73', 'falseNegativeCount': '949', 'confidenceThreshold': 0.795, 'f1Score': 0.8735774, 'recallAt1': 0.7881696, 'precision': 0.97974473, 'confusionMatrix': {'annotationSpecs': [{'displayName': '1', 'id': '0'}, {'id': '1', 'displayName': '2'}], 'rows': [[3484.0, 8.0], [65.0, 47.0]]}, 'trueNegativeCount': '4407', 'f1ScoreAt1': 0.8735774, 'precisionAt1': 0.97974473, 'recall': 0.7881696, 'falsePositiveRate': 0.016294643}, {'falsePositiveCount': '72', 'falsePositiveRate': 0.01607143, 'confidenceThreshold': 0.8, 'f1ScoreAt1': 0.8721506, 'f1Score': 0.8721506, 'trueNegativeCount': '4408', 'confusionMatrix': {'rows': [[3475.0, 8.0], [64.0, 45.0]], 'annotationSpecs': [{'displayName': '1', 'id': '0'}, {'displayName': '2', 'id': '1'}]}, 'falseNegativeCount': '960', 'recall': 0.78571427, 'falsePositiveRateAt1': 0.01607143, 'recallAt1': 0.78571427, 'precision': 0.97995543, 'precisionAt1': 0.97995543, 'truePositiveCount': '3520'}, {'falseNegativeCount': '974', 'confusionMatrix': {'rows': [[3462.0, 7.0], [62.0, 44.0]], 'annotationSpecs': [{'id': '0', 'displayName': '1'}, {'id': '1', 'displayName': '2'}]}, 'falsePositiveRateAt1': 0.015401785, 'truePositiveCount': '3506', 'f1Score': 0.87051517, 'falsePositiveRate': 0.015401785, 'precision': 0.9806993, 'recallAt1': 0.78258926, 'falsePositiveCount': '69', 'trueNegativeCount': '4411', 'f1ScoreAt1': 0.87051517, 'confidenceThreshold': 0.805, 'precisionAt1': 0.9806993, 'recall': 0.78258926}, {'precision': 0.9811639, 'recallAt1': 0.77901787, 'f1ScoreAt1': 0.8684833, 'falsePositiveRateAt1': 0.014955357, 'precisionAt1': 0.9811639, 'falsePositiveCount': '67', 'truePositiveCount': '3490', 'confusionMatrix': {'rows': [[3450.0, 7.0], [60.0, 40.0]], 'annotationSpecs': [{'displayName': '1', 'id': '0'}, {'id': '1', 'displayName': '2'}]}, 'f1Score': 0.8684833, 'falseNegativeCount': '990', 'falsePositiveRate': 0.014955357, 'confidenceThreshold': 0.81, 'trueNegativeCount': '4413', 'recall': 0.77901787}, {'confusionMatrix': {'rows': [[3447.0, 6.0], [57.0, 39.0]], 'annotationSpecs': [{'id': '0', 'displayName': '1'}, {'displayName': '2', 'id': '1'}]}, 'falsePositiveRate': 0.0140625, 'trueNegativeCount': '4417', 'f1ScoreAt1': 0.86807024, 'falseNegativeCount': '996', 'f1Score': 0.86807024, 'confidenceThreshold': 0.815, 'recallAt1': 0.77767855, 'truePositiveCount': '3484', 'recall': 0.77767855, 'precisionAt1': 0.98223853, 'falsePositiveRateAt1': 0.0140625, 'precision': 0.98223853, 'falsePositiveCount': '63'}, {'confusionMatrix': {'rows': [[3432.0, 6.0], [53.0, 38.0]], 'annotationSpecs': [{'displayName': '1', 'id': '0'}, {'displayName': '2', 'id': '1'}]}, 'falsePositiveRate': 0.013169643, 'trueNegativeCount': '4421', 'falseNegativeCount': '1011', 'falsePositiveRateAt1': 0.013169643, 'falsePositiveCount': '59', 'f1ScoreAt1': 0.8663836, 'f1Score': 0.8663836, 'truePositiveCount': '3469', 'precision': 0.98327667, 'recallAt1': 0.7743304, 'recall': 0.7743304, 'precisionAt1': 0.98327667, 'confidenceThreshold': 0.82}, {'recall': 0.77098215, 'confidenceThreshold': 0.825, 'falsePositiveCount': '55', 'precision': 0.984326, 'falsePositiveRate': 0.012276785, 'recallAt1': 0.77098215, 'confusionMatrix': {'rows': [[3421.0, 5.0], [50.0, 33.0]], 'annotationSpecs': [{'displayName': '1', 'id': '0'}, {'displayName': '2', 'id': '1'}]}, 'trueNegativeCount': '4425', 'precisionAt1': 0.984326, 'falsePositiveRateAt1': 0.012276785, 'f1ScoreAt1': 0.86468893, 'f1Score': 0.86468893, 'truePositiveCount': '3454', 'falseNegativeCount': '1026'}, {'confusionMatrix': {'annotationSpecs': [{'id': '0', 'displayName': '1'}, {'id': '1', 'displayName': '2'}], 'rows': [[3410.0, 5.0], [46.0, 32.0]]}, 'trueNegativeCount': '4429', 'falsePositiveRate': 0.011383928, 'f1Score': 0.86341405, 'falsePositiveCount': '51', 'falsePositiveRateAt1': 0.011383928, 'truePositiveCount': '3442', 'recallAt1': 0.7683036, 'falseNegativeCount': '1038', 'precisionAt1': 0.98539937, 'confidenceThreshold': 0.83, 'f1ScoreAt1': 0.86341405, 'precision': 0.98539937, 'recall': 0.7683036}, {'trueNegativeCount': '4434', 'confidenceThreshold': 0.835, 'falsePositiveRate': 0.010267857, 'f1Score': 0.8620993, 'falsePositiveCount': '46', 'truePositiveCount': '3429', 'falsePositiveRateAt1': 0.010267857, 'recallAt1': 0.7654018, 'recall': 0.7654018, 'confusionMatrix': {'rows': [[3399.0, 5.0], [41.0, 30.0]], 'annotationSpecs': [{'displayName': '1', 'id': '0'}, {'id': '1', 'displayName': '2'}]}, 'precision': 0.9867626, 'precisionAt1': 0.9867626, 'falseNegativeCount': '1051', 'f1ScoreAt1': 0.8620993}, {'f1Score': 0.859879, 'falsePositiveRate': 0.009821429, 'precisionAt1': 0.9872685, 'confidenceThreshold': 0.84, 'trueNegativeCount': '4436', 'f1ScoreAt1': 0.859879, 'precision': 0.9872685, 'recall': 0.76160717, 'falsePositiveCount': '44', 'falseNegativeCount': '1068', 'confusionMatrix': {'annotationSpecs': [{'id': '0', 'displayName': '1'}, {'displayName': '2', 'id': '1'}], 'rows': [[3383.0, 5.0], [39.0, 29.0]]}, 'recallAt1': 0.76160717, 'falsePositiveRateAt1': 0.009821429, 'truePositiveCount': '3412'}, {'f1ScoreAt1': 0.8567096, 'falsePositiveRateAt1': 0.009821429, 'falsePositiveRate': 0.009821429, 'falsePositiveCount': '44', 'confusionMatrix': {'annotationSpecs': [{'displayName': '1', 'id': '0'}, {'displayName': '2', 'id': '1'}], 'rows': [[3367.0, 5.0], [39.0, 23.0]]}, 'truePositiveCount': '3390', 'precisionAt1': 0.98718697, 'falseNegativeCount': '1090', 'recall': 0.7566964, 'precision': 0.98718697, 'confidenceThreshold': 0.845, 'recallAt1': 0.7566964, 'trueNegativeCount': '4436', 'f1Score': 0.8567096}, {'confusionMatrix': {'rows': [[3356.0, 4.0], [37.0, 22.0]], 'annotationSpecs': [{'displayName': '1', 'id': '0'}, {'displayName': '2', 'id': '1'}]}, 'falsePositiveCount': '41', 'trueNegativeCount': '4439', 'truePositiveCount': '3378', 'recallAt1': 0.75401783, 'precisionAt1': 0.9880082, 'falseNegativeCount': '1102', 'falsePositiveRate': 0.009151786, 'confidenceThreshold': 0.85, 'recall': 0.75401783, 'precision': 0.9880082, 'falsePositiveRateAt1': 0.009151786, 'f1Score': 0.8552981, 'f1ScoreAt1': 0.8552981}, {'confusionMatrix': {'rows': [[3343.0, 3.0], [36.0, 21.0]], 'annotationSpecs': [{'id': '0', 'displayName': '1'}, {'displayName': '2', 'id': '1'}]}, 'f1ScoreAt1': 0.8534822, 'falsePositiveRate': 0.008705357, 'trueNegativeCount': '4441', 'truePositiveCount': '3364', 'falsePositiveCount': '39', 'recall': 0.7508929, 'precisionAt1': 0.9885395, 'falsePositiveRateAt1': 0.008705357, 'falseNegativeCount': '1116', 'confidenceThreshold': 0.855, 'f1Score': 0.8534822, 'recallAt1': 0.7508929, 'precision': 0.9885395}, {'confidenceThreshold': 0.86, 'precisionAt1': 0.98905325, 'recallAt1': 0.74620533, 'falsePositiveRate': 0.008258929, 'precision': 0.98905325, 'falsePositiveRateAt1': 0.008258929, 'falseNegativeCount': '1137', 'f1Score': 0.8506361, 'recall': 0.74620533, 'falsePositiveCount': '37', 'trueNegativeCount': '4443', 'truePositiveCount': '3343', 'confusionMatrix': {'rows': [[3323.0, 3.0], [34.0, 20.0]], 'annotationSpecs': [{'id': '0', 'displayName': '1'}, {'id': '1', 'displayName': '2'}]}, 'f1ScoreAt1': 0.8506361}, {'falseNegativeCount': '1156', 'falsePositiveCount': '35', 'precision': 0.9895802, 'f1ScoreAt1': 0.84806734, 'recallAt1': 0.7419643, 'falsePositiveRate': 0.0078125, 'trueNegativeCount': '4445', 'truePositiveCount': '3324', 'confidenceThreshold': 0.865, 'recall': 0.7419643, 'falsePositiveRateAt1': 0.0078125, 'f1Score': 0.84806734, 'precisionAt1': 0.9895802, 'confusionMatrix': {'annotationSpecs': [{'displayName': '1', 'id': '0'}, {'displayName': '2', 'id': '1'}], 'rows': [[3307.0, 2.0], [33.0, 18.0]]}}, {'precision': 0.990099, 'falsePositiveCount': '33', 'falseNegativeCount': '1180', 'f1Score': 0.84474593, 'trueNegativeCount': '4447', 'f1ScoreAt1': 0.84474593, 'falsePositiveRateAt1': 0.0073660715, 'falsePositiveRate': 0.0073660715, 'recallAt1': 0.73660713, 'truePositiveCount': '3300', 'confusionMatrix': {'annotationSpecs': [{'id': '0', 'displayName': '1'}, {'id': '1', 'displayName': '2'}], 'rows': [[3285.0, 2.0], [31.0, 16.0]]}, 'recall': 0.73660713, 'confidenceThreshold': 0.87, 'precisionAt1': 0.990099}, {'falseNegativeCount': '1199', 'truePositiveCount': '3281', 'recall': 0.7323661, 'confusionMatrix': {'annotationSpecs': [{'displayName': '1', 'id': '0'}, {'id': '1', 'displayName': '2'}], 'rows': [[3268.0, 2.0], [29.0, 13.0]]}, 'confidenceThreshold': 0.875, 'precision': 0.9906401, 'precisionAt1': 0.9906401, 'f1ScoreAt1': 0.8421458, 'trueNegativeCount': '4449', 'f1Score': 0.8421458, 'falsePositiveRateAt1': 0.006919643, 'falsePositiveRate': 0.006919643, 'recallAt1': 0.7323661, 'falsePositiveCount': '31'}, {'confusionMatrix': {'annotationSpecs': [{'displayName': '1', 'id': '0'}, {'displayName': '2', 'id': '1'}], 'rows': [[3247.0, 2.0], [25.0, 10.0]]}, 'precisionAt1': 0.9917783, 'confidenceThreshold': 0.88, 'falsePositiveCount': '27', 'trueNegativeCount': '4453', 'recall': 0.72700894, 'falsePositiveRate': 0.006026786, 'f1ScoreAt1': 0.8390005, 'recallAt1': 0.72700894, 'falseNegativeCount': '1223', 'falsePositiveRateAt1': 0.006026786, 'precision': 0.9917783, 'f1Score': 0.8390005, 'truePositiveCount': '3257'}, {'f1ScoreAt1': 0.8358749, 'falsePositiveCount': '24', 'confusionMatrix': {'rows': [[3228.0, 1.0], [23.0, 7.0]], 'annotationSpecs': [{'id': '0', 'displayName': '1'}, {'displayName': '2', 'id': '1'}]}, 'f1Score': 0.8358749, 'truePositiveCount': '3234', 'recallAt1': 0.721875, 'precisionAt1': 0.9926335, 'confidenceThreshold': 0.885, 'falseNegativeCount': '1246', 'falsePositiveRate': 0.005357143, 'recall': 0.721875, 'precision': 0.9926335, 'trueNegativeCount': '4456', 'falsePositiveRateAt1': 0.005357143}, {'falseNegativeCount': '1272', 'trueNegativeCount': '4459', 'recall': 0.7160714, 'confidenceThreshold': 0.89, 'f1Score': 0.83227396, 'recallAt1': 0.7160714, 'falsePositiveRateAt1': 0.0046875, 'precision': 0.9934964, 'confusionMatrix': {'rows': [[3204.0, 0.0], [21.0, 5.0]], 'annotationSpecs': [{'id': '0', 'displayName': '1'}, {'displayName': '2', 'id': '1'}]}, 'f1ScoreAt1': 0.83227396, 'falsePositiveRate': 0.0046875, 'falsePositiveCount': '21', 'truePositiveCount': '3208', 'precisionAt1': 0.9934964}, {'f1ScoreAt1': 0.8288429, 'truePositiveCount': '3184', 'f1Score': 0.8288429, 'falsePositiveCount': '19', 'confidenceThreshold': 0.895, 'confusionMatrix': {'annotationSpecs': [{'displayName': '1', 'id': '0'}, {'id': '1', 'displayName': '2'}], 'rows': [[3182.0, 0.0], [19.0, 3.0]]}, 'falsePositiveRate': 0.0042410716, 'precision': 0.9940681, 'precisionAt1': 0.9940681, 'trueNegativeCount': '4461', 'falsePositiveRateAt1': 0.0042410716, 'falseNegativeCount': '1296', 'recallAt1': 0.7107143, 'recall': 0.7107143}, {'precision': 0.9940214, 'trueNegativeCount': '4461', 'falsePositiveCount': '19', 'recall': 0.7051339, 'f1Score': 0.8250196, 'confusionMatrix': {'rows': [[3157.0, 0.0], [19.0, 2.0]], 'annotationSpecs': [{'displayName': '1', 'id': '0'}, {'displayName': '2', 'id': '1'}]}, 'confidenceThreshold': 0.9, 'falsePositiveRate': 0.0042410716, 'precisionAt1': 0.9940214, 'truePositiveCount': '3159', 'f1ScoreAt1': 0.8250196, 'recallAt1': 0.7051339, 'falseNegativeCount': '1321', 'falsePositiveRateAt1': 0.0042410716}, {'precision': 0.99428207, 'f1ScoreAt1': 0.8206607, 'confidenceThreshold': 0.905, 'falsePositiveRate': 0.0040178574, 'trueNegativeCount': '4462', 'precisionAt1': 0.99428207, 'f1Score': 0.8206607, 'falsePositiveRateAt1': 0.0040178574, 'confusionMatrix': {'annotationSpecs': [{'displayName': '1', 'id': '0'}, {'displayName': '2', 'id': '1'}], 'rows': [[3129.0, 0.0], [19.0, 2.0]]}, 'falseNegativeCount': '1350', 'recallAt1': 0.69866073, 'truePositiveCount': '3130', 'recall': 0.69866073, 'falsePositiveCount': '18'}, {'confusionMatrix': {'annotationSpecs': [{'displayName': '1', 'id': '0'}, {'id': '1', 'displayName': '2'}], 'rows': [[3107.0, 0.0], [17.0, 2.0]]}, 'trueNegativeCount': '4463', 'falsePositiveCount': '17', 'precision': 0.99456173, 'precisionAt1': 0.99456173, 'falsePositiveRate': 0.0037946429, 'recall': 0.69397324, 'confidenceThreshold': 0.91, 'truePositiveCount': '3109', 'f1ScoreAt1': 0.8175125, 'falseNegativeCount': '1371', 'falsePositiveRateAt1': 0.0037946429, 'f1Score': 0.8175125, 'recallAt1': 0.69397324}, {'truePositiveCount': '3089', 'confidenceThreshold': 0.915, 'falseNegativeCount': '1391', 'precisionAt1': 0.994847, 'falsePositiveCount': '16', 'recall': 0.6895089, 'precision': 0.994847, 'falsePositiveRate': 0.0035714286, 'recallAt1': 0.6895089, 'falsePositiveRateAt1': 0.0035714286, 'f1Score': 0.8145023, 'confusionMatrix': {'annotationSpecs': [{'displayName': '1', 'id': '0'}, {'displayName': '2', 'id': '1'}], 'rows': [[3089.0, 0.0], [16.0, 1.0]]}, 'f1ScoreAt1': 0.8145023, 'trueNegativeCount': '4464'}, {'trueNegativeCount': '4467', 'confusionMatrix': {'rows': [[3051.0, 0.0], [13.0, 1.0]], 'annotationSpecs': [{'id': '0', 'displayName': '1'}, {'displayName': '2', 'id': '1'}]}, 'f1ScoreAt1': 0.8088547, 'falsePositiveRateAt1': 0.0029017858, 'falsePositiveCount': '13', 'confidenceThreshold': 0.92, 'precisionAt1': 0.99575716, 'falseNegativeCount': '1429', 'falsePositiveRate': 0.0029017858, 'truePositiveCount': '3051', 'recall': 0.68102676, 'recallAt1': 0.68102676, 'f1Score': 0.8088547, 'precision': 0.99575716}, {'precision': 0.99571383, 'falseNegativeCount': '1460', 'confusionMatrix': {'rows': [[3020.0, 0.0], [13.0, 0.0]], 'annotationSpecs': [{'id': '0', 'displayName': '1'}, {'id': '1', 'displayName': '2'}]}, 'falsePositiveCount': '13', 'truePositiveCount': '3020', 'confidenceThreshold': 0.925, 'recallAt1': 0.67410713, 'precisionAt1': 0.99571383, 'trueNegativeCount': '4467', 'falsePositiveRateAt1': 0.0029017858, 'falsePositiveRate': 0.0029017858, 'f1ScoreAt1': 0.8039398, 'recall': 0.67410713, 'f1Score': 0.8039398}, {'recall': 0.6667411, 'trueNegativeCount': '4467', 'falsePositiveRateAt1': 0.0029017858, 'confusionMatrix': {'rows': [[2988.0, 0.0], [13.0, 0.0]], 'annotationSpecs': [{'displayName': '1', 'id': '0'}, {'id': '1', 'displayName': '2'}]}, 'falsePositiveRate': 0.0029017858, 'truePositiveCount': '2987', 'precision': 0.9956667, 'f1Score': 0.7986631, 'falsePositiveCount': '13', 'f1ScoreAt1': 0.7986631, 'precisionAt1': 0.9956667, 'falseNegativeCount': '1493', 'confidenceThreshold': 0.93, 'recallAt1': 0.6667411}, {'falsePositiveCount': '11', 'precision': 0.9962963, 'falsePositiveRateAt1': 0.0024553572, 'f1ScoreAt1': 0.7943624, 'confidenceThreshold': 0.935, 'confusionMatrix': {'annotationSpecs': [{'displayName': '1', 'id': '0'}, {'id': '1', 'displayName': '2'}], 'rows': [[2959.0, 0.0], [11.0, 0.0]]}, 'recallAt1': 0.66049105, 'trueNegativeCount': '4469', 'falseNegativeCount': '1521', 'recall': 0.66049105, 'precisionAt1': 0.9962963, 'f1Score': 0.7943624, 'falsePositiveRate': 0.0024553572, 'truePositiveCount': '2959'}, {'precision': 0.99625975, 'trueNegativeCount': '4469', 'confidenceThreshold': 0.94, 'recall': 0.65401787, 'f1Score': 0.789651, 'falseNegativeCount': '1550', 'f1ScoreAt1': 0.789651, 'truePositiveCount': '2930', 'recallAt1': 0.65401787, 'falsePositiveCount': '11', 'falsePositiveRate': 0.0024553572, 'precisionAt1': 0.99625975, 'falsePositiveRateAt1': 0.0024553572, 'confusionMatrix': {'rows': [[2930.0, 0.0], [11.0, 0.0]], 'annotationSpecs': [{'id': '0', 'displayName': '1'}, {'displayName': '2', 'id': '1'}]}}, {'confusionMatrix': {'rows': [[2888.0, 0.0], [11.0, 0.0]], 'annotationSpecs': [{'id': '0', 'displayName': '1'}, {'displayName': '2', 'id': '1'}]}, 'precisionAt1': 0.99620557, 'precision': 0.99620557, 'falseNegativeCount': '1592', 'falsePositiveCount': '11', 'f1ScoreAt1': 0.7827619, 'trueNegativeCount': '4469', 'f1Score': 0.7827619, 'falsePositiveRateAt1': 0.0024553572, 'truePositiveCount': '2888', 'falsePositiveRate': 0.0024553572, 'recall': 0.64464283, 'confidenceThreshold': 0.945, 'recallAt1': 0.64464283}, {'precision': 0.9968443, 'confusionMatrix': {'annotationSpecs': [{'id': '0', 'displayName': '1'}, {'displayName': '2', 'id': '1'}], 'rows': [[2843.0, 0.0], [9.0, 0.0]]}, 'trueNegativeCount': '4471', 'recall': 0.6345982, 'falseNegativeCount': '1637', 'falsePositiveCount': '9', 'recallAt1': 0.6345982, 'truePositiveCount': '2843', 'falsePositiveRate': 0.0020089287, 'confidenceThreshold': 0.95, 'precisionAt1': 0.9968443, 'f1Score': 0.7755046, 'f1ScoreAt1': 0.7755046, 'falsePositiveRateAt1': 0.0020089287}, {'falsePositiveRateAt1': 0.0017857143, 'recall': 0.62276787, 'confusionMatrix': {'rows': [[2791.0, 0.0], [8.0, 0.0]], 'annotationSpecs': [{'id': '0', 'displayName': '1'}, {'id': '1', 'displayName': '2'}]}, 'f1ScoreAt1': 0.7666941, 'falsePositiveCount': '8', 'precisionAt1': 0.9971408, 'falseNegativeCount': '1690', 'trueNegativeCount': '4472', 'falsePositiveRate': 0.0017857143, 'confidenceThreshold': 0.955, 'recallAt1': 0.62276787, 'f1Score': 0.7666941, 'truePositiveCount': '2790', 'precision': 0.9971408}, {'confidenceThreshold': 0.96, 'precision': 0.9970728, 'f1Score': 0.7555802, 'recall': 0.6082589, 'falsePositiveRateAt1': 0.0017857143, 'trueNegativeCount': '4472', 'f1ScoreAt1': 0.7555802, 'falsePositiveRate': 0.0017857143, 'falseNegativeCount': '1755', 'precisionAt1': 0.9970728, 'falsePositiveCount': '8', 'confusionMatrix': {'rows': [[2726.0, 0.0], [8.0, 0.0]], 'annotationSpecs': [{'displayName': '1', 'id': '0'}, {'displayName': '2', 'id': '1'}]}, 'truePositiveCount': '2725', 'recallAt1': 0.6082589}, {'truePositiveCount': '2647', 'trueNegativeCount': '4472', 'falsePositiveRate': 0.0017857143, 'falsePositiveCount': '8', 'precision': 0.9969868, 'falseNegativeCount': '1833', 'precisionAt1': 0.9969868, 'f1Score': 0.74197614, 'confidenceThreshold': 0.965, 'confusionMatrix': {'annotationSpecs': [{'id': '0', 'displayName': '1'}, {'displayName': '2', 'id': '1'}], 'rows': [[2648.0, 0.0], [8.0, 0.0]]}, 'recall': 0.5908482, 'recallAt1': 0.5908482, 'falsePositiveRateAt1': 0.0017857143, 'f1ScoreAt1': 0.74197614}, {'confusionMatrix': {'rows': [[2541.0, 0.0], [3.0, 0.0]], 'annotationSpecs': [{'displayName': '1', 'id': '0'}, {'id': '1', 'displayName': '2'}]}, 'confidenceThreshold': 0.97, 'recallAt1': 0.56674105, 'falsePositiveRateAt1': 0.0006696429, 'precision': 0.9988198, 'falsePositiveRate': 0.0006696429, 'precisionAt1': 0.9988198, 'f1ScoreAt1': 0.7231558, 'f1Score': 0.7231558, 'truePositiveCount': '2539', 'falseNegativeCount': '1941', 'trueNegativeCount': '4477', 'falsePositiveCount': '3', 'recall': 0.56674105}, {'recall': 0.5419643, 'f1Score': 0.70274967, 'confusionMatrix': {'rows': [[2431.0, 0.0], [2.0, 0.0]], 'annotationSpecs': [{'id': '0', 'displayName': '1'}, {'displayName': '2', 'id': '1'}]}, 'truePositiveCount': '2428', 'confidenceThreshold': 0.975, 'falseNegativeCount': '2052', 'trueNegativeCount': '4478', 'precision': 0.999177, 'precisionAt1': 0.999177, 'recallAt1': 0.5419643, 'falsePositiveRateAt1': 0.00044642857, 'falsePositiveCount': '2', 'f1ScoreAt1': 0.70274967, 'falsePositiveRate': 0.00044642857}, {'falsePositiveCount': '2', 'truePositiveCount': '2265', 'f1Score': 0.67140955, 'recall': 0.50558037, 'trueNegativeCount': '4478', 'falsePositiveRate': 0.00044642857, 'precisionAt1': 0.9991178, 'precision': 0.9991178, 'f1ScoreAt1': 0.67140955, 'recallAt1': 0.50558037, 'falsePositiveRateAt1': 0.00044642857, 'confusionMatrix': {'annotationSpecs': [{'id': '0', 'displayName': '1'}, {'displayName': '2', 'id': '1'}], 'rows': [[2273.0, 0.0], [2.0, 0.0]]}, 'falseNegativeCount': '2215', 'confidenceThreshold': 0.98}, {'precision': 0.99952173, 'f1ScoreAt1': 0.6361284, 'falsePositiveCount': '1', 'falsePositiveRate': 0.00022321429, 'f1Score': 0.6361284, 'confidenceThreshold': 0.985, 'confusionMatrix': {'annotationSpecs': [{'id': '0', 'displayName': '1'}, {'displayName': '2', 'id': '1'}], 'rows': [[2092.0, 0.0], [1.0, 0.0]]}, 'falsePositiveRateAt1': 0.00022321429, 'recallAt1': 0.46651787, 'truePositiveCount': '2090', 'recall': 0.46651787, 'falseNegativeCount': '2390', 'trueNegativeCount': '4479', 'precisionAt1': 0.99952173}, {'recallAt1': 0.41383928, 'falsePositiveCount': '1', 'f1ScoreAt1': 0.58531964, 'falseNegativeCount': '2626', 'confidenceThreshold': 0.99, 'trueNegativeCount': '4479', 'precisionAt1': 0.99946094, 'confusionMatrix': {'rows': [[1861.0, 0.0], [1.0, 0.0]], 'annotationSpecs': [{'displayName': '1', 'id': '0'}, {'displayName': '2', 'id': '1'}]}, 'f1Score': 0.58531964, 'falsePositiveRateAt1': 0.00022321429, 'precision': 0.99946094, 'truePositiveCount': '1854', 'falsePositiveRate': 0.00022321429, 'recall': 0.41383928}, {'precisionAt1': 0.9992424, 'truePositiveCount': '1319', 'trueNegativeCount': '4479', 'recall': 0.29441965, 'precision': 0.9992424, 'confusionMatrix': {'rows': [[1325.0, 0.0], [1.0, 0.0]], 'annotationSpecs': [{'displayName': '1', 'id': '0'}, {'displayName': '2', 'id': '1'}]}, 'falsePositiveRateAt1': 0.00022321429, 'falsePositiveRate': 0.00022321429, 'confidenceThreshold': 0.995, 'f1ScoreAt1': 0.45482758, 'falseNegativeCount': '3161', 'f1Score': 0.45482758, 'falsePositiveCount': '1', 'recallAt1': 0.29441965}, {'trueNegativeCount': '4480', 'precisionAt1': 1.0, 'falseNegativeCount': '4480', 'confidenceThreshold': 1.0, 'confusionMatrix': {'annotationSpecs': [{'id': '0', 'displayName': '1'}, {'displayName': '2', 'id': '1'}], 'rows': [[0.0, 0.0], [0.0, 0.0]]}, 'precision': 1.0}, {'trueNegativeCount': '4480', 'precision': 1.0, 'confidenceThreshold': 1.005, 'precisionAt1': 1.0, 'confusionMatrix': {'rows': [[0.0, 0.0], [0.0, 0.0]], 'annotationSpecs': [{'displayName': '1', 'id': '0'}, {'displayName': '2', 'id': '1'}]}, 'falseNegativeCount': '4480'}], 'auRoc': 0.9777382}, 'createTime': '2022-11-29T20:57:51.583562Z', 'sliceDimensions': ['annotationSpec'], 'modelExplanation': {'meanAttributions': [{'featureAttributions': {'Balance': 0.007795082599071591, 'Education': 0.004345341793625616, 'POutcome': 0.011068574343724852, 'Age': 0.008212645733324501, 'Duration': 0.07956558550379544, 'MaritalStatus': 0.004179363116524356, 'Job': 0.006864225098845404, 'Day': 0.017874352275238654, 'Previous': 0.002319939226388324, 'PDays': 0.0042964435265665625, 'Contact': 0.022019850404098235, 'Default': 0.00011514479946137211, 'Housing': 0.02127502258067256, 'Loan': 0.0025380383708103376, 'Campaign': 0.008981870562179434, 'Month': 0.04148652619960561}}]}}\n"
          ]
        }
      ],
      "source": [
        "model_evaluations = model.list_model_evaluations()\n",
        "get_model_evaluations = model.get_model_evaluation()\n",
        "\n",
        "\n",
        "for model_evaluation in model_evaluations:\n",
        "    print(model_evaluation.to_dict())"
      ]
    },
    {
      "cell_type": "markdown",
      "metadata": {
        "id": "93a4d034c73b",
        "tags": []
      },
      "source": [
        "# Endpoints (Create Endpoint, Deploy Model, Make Prediction)\n",
        "Endpoints are machine learning models made available for online prediction requests. Endpoints are useful for timely predictions from many users (for example, in response to an application request). You can also request batch predictions if you don't need immediate results.\n",
        "\n",
        "To create an endpoint, you need at least one machine learning model. [SDK Docs](https://cloud.google.com/vertex-ai/docs/predictions/deploy-model-console?_ga=2.2361459.-270543887.1669322993)\n",
        "\n",
        "### Deploy your model\n",
        "\n",
        "Before you use your model to make predictions, you need to deploy it to an `Endpoint`. You can do this by calling the `deploy` function on the `Model` resource. This function does two things:\n",
        "\n",
        "1. Creates an `Endpoint` resource to which the `Model` resource will be deployed.\n",
        "\n",
        "2. Deploys the `Model` resource to the `Endpoint` resource.\n",
        "\n",
        "Deploy your model.\n",
        "\n",
        "### NOTE: Wait until the model **FINISHES** deployment before proceeding to prediction."
      ]
    },
    {
      "cell_type": "markdown",
      "metadata": {
        "id": "XSoN1qu3HMCY"
      },
      "source": [
        "## Create the Endpoint"
      ]
    },
    {
      "cell_type": "code",
      "execution_count": 103,
      "metadata": {
        "colab": {
          "base_uri": "https://localhost:8080/"
        },
        "id": "ulkrNwbVwabq",
        "outputId": "18e66b5a-0b2a-488f-c504-5b7bcaf6875d"
      },
      "outputs": [
        {
          "name": "stdout",
          "output_type": "stream",
          "text": [
            "Endpoint Exists: automl_tabular_bank_purchase_model_endpoint\n",
            "Review the Endpoint in the Console:\n",
            "https://console.cloud.google.com/vertex-ai/locations/us-central1/endpoints/5738047720153677824?project=paulkamau\n"
          ]
        }
      ],
      "source": [
        "# Check if Endpoint Exists\n",
        "endpoints = aiplatform.Endpoint.list(filter = f\"display_name={endpoint_display_name}\")\n",
        "\n",
        "if endpoints:\n",
        "    endpoint = endpoints[0]\n",
        "    print(f\"Endpoint Exists: {endpoints[0].display_name}\")\n",
        "else:\n",
        "    endpoint = aiplatform.Endpoint.create(\n",
        "    display_name=endpoint_display_name,\n",
        "    )\n",
        "    print(f\"Endpoint Created: {endpoint.display_name}\")\n",
        "\n",
        "print(f'Review the Endpoint in the Console:\\nhttps://console.cloud.google.com/vertex-ai/locations/{REGION}/endpoints/{endpoint.name}?project={PROJECT_ID}')"
      ]
    },
    {
      "cell_type": "markdown",
      "metadata": {
        "id": "RwLCgvw7HPJy"
      },
      "source": [
        "## Deploy the Model"
      ]
    },
    {
      "cell_type": "code",
      "execution_count": null,
      "metadata": {
        "id": "VtPSes4EG6vf"
      },
      "outputs": [],
      "source": [
        "# deploying the model to the endpoint may take 10-15 minutes\n",
        "\n",
        "# Check if Model Deployment Exists\n",
        "deployments = endpoint.list(filter = f\"display_name={model_display_name}\")\n",
        "\n",
        "if deployments:\n",
        "    deployment = deployments[0]\n",
        "    print(f\"Deployment Exists: {deployments[0].display_name}\")\n",
        "else:\n",
        "    deployment = endpoint.deploy(\n",
        "    model=model,\n",
        "    min_replica_count=1,\n",
        "    max_replica_count=1,\n",
        "    machine_type='n1-standard-4',\n",
        "    accelerator_type='NVIDIA_TESLA_K80',\n",
        "    accelerator_count=1\n",
        "    )\n",
        "    print(f\"Model deployment Created: {endpoint.display_name}\")"
      ]
    },
    {
      "cell_type": "markdown",
      "metadata": {
        "id": "fd44380b9ae3"
      },
      "source": [
        "## Predict on the endpoint\n"
      ]
    },
    {
      "cell_type": "markdown",
      "metadata": {
        "id": "13f3e8aa27c0"
      },
      "source": [
        "* This sample instance is taken from an observation in which `Deposit` = **1**\n",
        "* Note that the values are all strings. Since the original data was in CSV format, everything is treated as a string. The transformations you defined when creating your `AutoMLTabularTrainingJob` inform Vertex AI to transform the inputs to their defined types.\n"
      ]
    },
    {
      "cell_type": "markdown",
      "metadata": {
        "id": "u1tzme-mMgER"
      },
      "source": [
        "#### Quick of what the training dataset looks like "
      ]
    },
    {
      "cell_type": "code",
      "execution_count": 87,
      "metadata": {
        "colab": {
          "base_uri": "https://localhost:8080/"
        },
        "id": "L9dpikKeMfcf",
        "outputId": "52894ee3-755b-410b-a209-3011e8846f5b"
      },
      "outputs": [
        {
          "name": "stdout",
          "output_type": "stream",
          "text": [
            "\n",
            "5 rows sample\n",
            "   Age           Job MaritalStatus  Education Default  Balance Housing Loan  Contact  Day Month  Duration  Campaign  PDays  Previous POutcome  Deposit\n",
            "0   58    management       married   tertiary      no     2143     yes   no  unknown    5   may       261         1     -1         0  unknown        1\n",
            "1   44    technician        single  secondary      no       29     yes   no  unknown    5   may       151         1     -1         0  unknown        1\n",
            "2   33  entrepreneur       married  secondary      no        2     yes  yes  unknown    5   may        76         1     -1         0  unknown        1\n",
            "\n",
            "These are the columns\n",
            "Age\n",
            "Job\n",
            "MaritalStatus\n",
            "Education\n",
            "Default\n",
            "Balance\n",
            "Housing\n",
            "Loan\n",
            "Contact\n",
            "Day\n",
            "Month\n",
            "Duration\n",
            "Campaign\n",
            "PDays\n",
            "Previous\n",
            "POutcome\n",
            "Deposit\n"
          ]
        }
      ],
      "source": [
        "# Read the data\n",
        "dataset_sample = pd.read_csv(dataset_source_public,nrows=3)\n",
        "                                  \n",
        "# Use the next code cell to print the first five rows of the data.\n",
        "dataset_sample.head()\n",
        "\n",
        "print(\"\\n5 rows sample\")\n",
        "print(dataset_sample.to_string())\n",
        "\n",
        "## list columns \n",
        "print(\"\\nThese are the columns\")\n",
        "cols = list(pd.read_csv(dataset_source_public, nrows =1))\n",
        "for i in cols:\n",
        "       print(i)\n",
        "\n",
        "# Shape of training data (num_rows, num_columns)\n",
        "#print(dataset_sample.head())"
      ]
    },
    {
      "cell_type": "markdown",
      "metadata": {
        "id": "ndjOmJ7xMkUO"
      },
      "source": [
        "### Create new predictions with the model\n",
        "\n",
        "We are attempting to predict the \"Deposit\" Value. Either 1 or 0"
      ]
    },
    {
      "cell_type": "code",
      "execution_count": 114,
      "metadata": {
        "id": "oZiGczeR3GfI"
      },
      "outputs": [],
      "source": [
        "df_sample_requests_list = [\n",
        "    {\n",
        "      \"Age\": \"33\",\n",
        "      \"Job\":\"Technician\",\n",
        "      \"MaritalStatus\":\"single\",\n",
        "      \"Education\":\"secondary\",\n",
        "      \"Default\":\"no\",\n",
        "      \"Balance\": \"3000\",\n",
        "      \"Housing\":\"yes\",\n",
        "      \"Loan\":\"No\",\n",
        "      \"Contact\":\"unknown\",\n",
        "      \"Day\": \"7\",\n",
        "      \"Month\":\"June\",\n",
        "      \"Duration\":\"200\",\n",
        "      \"Campaign\":\"1\",\n",
        "      \"PDays\":\"-1\",\n",
        "      \"Previous\":\"0\",\n",
        "      \"POutcome\":\"unknown\",\n",
        "   }\n",
        "]"
      ]
    },
    {
      "cell_type": "code",
      "execution_count": null,
      "metadata": {
        "colab": {
          "base_uri": "https://localhost:8080/"
        },
        "id": "00c0d01dc8ae",
        "outputId": "ea41eafb-e492-49ab-fdae-f54b14207065",
        "tags": []
      },
      "outputs": [],
      "source": [
        "prediction = endpoint.predict(df_sample_requests_list)\n",
        "\n",
        "print(prediction.predictions)"
      ]
    },
    {
      "cell_type": "markdown",
      "metadata": {
        "id": "154258dfb12f"
      },
      "source": [
        "### Undeploy the model\n",
        "\n",
        "To undeploy your `Model` resource from the serving `Endpoint` resource, use the endpoint's `undeploy` method with the following parameter:\n",
        "\n",
        "- `deployed_model_id`: The model deployment identifier returned by the prediction service when the `Model` resource is deployed. You can retrieve the `deployed_model_id` using the prediction object's `deployed_model_id` property."
      ]
    },
    {
      "cell_type": "code",
      "execution_count": null,
      "metadata": {
        "id": "186856f896fc"
      },
      "outputs": [],
      "source": [
        "endpoint.undeploy(deployed_model_id=prediction.deployed_model_id)"
      ]
    },
    {
      "cell_type": "markdown",
      "metadata": {
        "id": "d7d2aa967f46",
        "tags": []
      },
      "source": [
        "# Cleaning up\n",
        "\n",
        "To clean up all Google Cloud resources used in this project, you can [delete the Google Cloud project](https://cloud.google.com/resource-manager/docs/creating-managing-projects#shutting_down_projects) you used for the tutorial.\n",
        "\n",
        "Otherwise, you can delete the individual resources you created in this tutorial:\n",
        "\n",
        "- Training Job\n",
        "- Model\n",
        "- Endpoint\n",
        "- Cloud Storage Bucket\n",
        "\n",
        "**Note**: You must delete any `Model` resources deployed to the `Endpoint` resource before deleting the `Endpoint` resource."
      ]
    },
    {
      "cell_type": "code",
      "execution_count": null,
      "metadata": {
        "id": "1a9c201f8589"
      },
      "outputs": [],
      "source": [
        "delete_training_job = True\n",
        "delete_model = True\n",
        "delete_endpoint = True\n",
        "\n",
        "# Warning: Setting this to true will delete everything in your bucket\n",
        "delete_bucket = False\n",
        "\n",
        "# Delete the training job\n",
        "job.delete()\n",
        "\n",
        "# Delete the model\n",
        "model.delete()\n",
        "\n",
        "# Delete the endpoint\n",
        "endpoint.delete()\n",
        "\n",
        "if delete_bucket and \"BUCKET_NAME\" in globals():\n",
        "    ! gsutil -m rm -r $BUCKET_NAME"
      ]
    }
  ],
  "metadata": {
    "colab": {
      "provenance": [],
      "toc_visible": true
    },
    "environment": {
      "kernel": "python3",
      "name": "tf2-gpu.2-6.m98",
      "type": "gcloud",
      "uri": "gcr.io/deeplearning-platform-release/tf2-gpu.2-6:m98"
    },
    "kernelspec": {
      "display_name": "Python 3.9.6 64-bit",
      "language": "python",
      "name": "python3"
    },
    "language_info": {
      "codemirror_mode": {
        "name": "ipython",
        "version": 3
      },
      "file_extension": ".py",
      "mimetype": "text/x-python",
      "name": "python",
      "nbconvert_exporter": "python",
      "pygments_lexer": "ipython3",
      "version": "3.9.6"
    },
    "vscode": {
      "interpreter": {
        "hash": "31f2aee4e71d21fbe5cf8b01ff0e069b9275f58929596ceb00d14d90e3e16cd6"
      }
    }
  },
  "nbformat": 4,
  "nbformat_minor": 0
}
