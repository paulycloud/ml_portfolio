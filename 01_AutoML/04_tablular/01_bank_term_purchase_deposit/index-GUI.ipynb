{
 "cells": [
  {
   "cell_type": "markdown",
   "metadata": {},
   "source": [
    "# 01 Predict whether a Bank client will purchase a Term deposit (1=no, 2=yes) using AutoML Binary Logistic Regression  \n",
    "\n",
    "##### Copyright \n",
    "\n",
    "**Author - GUI Tutorial :** [Google Cloud](https://www.cloudskillsboost.google/focuses/43565?locale=en&parent=catalog)<br>\n",
    "**Author Notebook Version:** [Paul Kamau](https://paulkamau.com)<br>\n",
    "**Project Type:** AutoML Tabular<br>\n",
    "**Last modified:** 11/29/2022<br>\n",
    "**Description:**  Predict whether a Bank client will purchase a Term deposit (1=no, 2=yes) using AutoML Binary Logistic Regression "
   ]
  },
  {
   "cell_type": "markdown",
   "metadata": {},
   "source": [
    "The goal of the trained model is to predict whether a bank client will buy a term deposit (a type of investment) using features like age, income, and profession. This type of model can help banks determine who to focus its marketing resources on.\n",
    "\n",
    "\n",
    "Source: \n",
    "[CloudSkillsBoot](https://www.cloudskillsboost.google/focuses/43565?locale=en&parent=catalog)\n",
    "\n",
    "\n",
    "Key Concepts: \n",
    "- AutoML \n",
    "- Binary Classification\n",
    "\n",
    "\n",
    "# Objective \n",
    "1. Build a binary classification model from tabular data using Vertex AI.\n",
    "1. Train an AutoML Classification Model \n",
    "1. Request Predictions from a hosted model\n",
    "\n",
    "\n",
    "## Dataset\n",
    "This project uses the [Bank marketing](https://datahub.io/machine-learning/bank-marketing) open-source dataset. \n",
    "\n",
    "On the autoML console, “create dataset” and set the import file path to the CSV file: \n",
    "\n",
    "```bash\n",
    "gs://cloud-ml-tables-data/bank-marketing.csv.\n",
    "```\n",
    "\n",
    "## Training an AutoML Logistic Regression Model \n",
    "\n",
    "\n",
    "## Deployment\n",
    "\n",
    "\n",
    "\n",
    "## Prediction\n",
    "\n"
   ]
  }
 ],
 "metadata": {
  "kernelspec": {
   "display_name": "Python 3.8.9 64-bit",
   "language": "python",
   "name": "python3"
  },
  "language_info": {
   "name": "python",
   "version": "3.9.6"
  },
  "orig_nbformat": 4,
  "vscode": {
   "interpreter": {
    "hash": "31f2aee4e71d21fbe5cf8b01ff0e069b9275f58929596ceb00d14d90e3e16cd6"
   }
  }
 },
 "nbformat": 4,
 "nbformat_minor": 2
}
