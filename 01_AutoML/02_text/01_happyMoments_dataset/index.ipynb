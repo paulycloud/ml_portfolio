{
  "cells": [
    {
      "cell_type": "markdown",
      "metadata": {
        "id": "0d2298941703"
      },
      "source": [
        "# Using AutoML Text classification to predict Happy Moments in Text\n",
        "\n",
        "Original Notebook from Google Cloud: [GCP Github](https://github.com/GoogleCloudPlatform/vertex-ai-samples/blob/main/notebooks/official/automl/automl-text-classification.ipynb)"
      ]
    },
    {
      "cell_type": "markdown",
      "metadata": {
        "id": "1adb10a59bc3"
      },
      "source": [
        "## Overview\n",
        "\n",
        "The purpose of this project is to use autoML text to classify the text sentiment based on the labels shared\n",
        "\n",
        "### Objective\n",
        "\n",
        "In this tutorial, you learn how to use `AutoML` to train a text classification model.\n",
        "\n",
        "This tutorial uses the following Google Cloud ML services:\n",
        "\n",
        "- `AutoML Training`\n",
        "- `Vertex AI Model` resource\n",
        "\n",
        "The steps performed include:\n",
        "\n",
        "* Create a `Vertex AI Dataset`.\n",
        "* Train an `AutoML` text classification `Model` resource.\n",
        "* Obtain the evaluation metrics for the `Model` resource.\n",
        "* Create an `Endpoint` resource.\n",
        "* Deploy the `Model` resource to the `Endpoint` resource.\n",
        "* Make an online prediction\n",
        "* Make a batch prediction\n",
        "\n",
        "#### Execute notebook in Colab\n",
        "<a href=\"https://colab.sandbox.google.com/github/paulycloud/ml_portfolio/blob/main/01_AutoML/02_text_classification/01_happyMoments_dataset/index.ipynb\"> \n",
        "    <img src=\"https://cloud.google.com/ml-engine/images/colab-logo-32px.png\" alt=\"Colab logo\"> Run in Colab\n",
        "</a>"
      ]
    },
    {
      "cell_type": "markdown",
      "metadata": {
        "id": "f67c62885df4"
      },
      "source": [
        "### Dataset\n",
        "\n",
        "In this notebook, you use the [Happy Moments](https://www.kaggle.com/ritresearch/happydb). sample dataset to train a model. The resulting model classifies happy moments into categores that reflect the causes of happiness. "
      ]
    },
    {
      "cell_type": "markdown",
      "metadata": {
        "id": "db52a0a61fca"
      },
      "source": [
        "### Install additional packages\n",
        "\n",
        "Install the following packages for executing this notebook."
      ]
    },
    {
      "cell_type": "code",
      "execution_count": 10,
      "metadata": {
        "id": "b75757581291"
      },
      "outputs": [],
      "source": [
        "import os\n",
        "import pandas as pd\n",
        "\n",
        "# The Vertex AI Workbench Notebook product has specific requirements\n",
        "IS_WORKBENCH_NOTEBOOK = os.getenv(\"DL_ANACONDA_HOME\") and not os.getenv(\"VIRTUAL_ENV\")\n",
        "IS_USER_MANAGED_WORKBENCH_NOTEBOOK = os.path.exists(\n",
        "    \"/opt/deeplearning/metadata/env_version\"\n",
        ")\n",
        "\n",
        "# Vertex AI Notebook requires dependencies to be installed with '--user'\n",
        "\n",
        "USER_FLAG = \"\"\n",
        "if IS_WORKBENCH_NOTEBOOK:\n",
        "    USER_FLAG = \"--user\"\n",
        "\n",
        "! pip3 install {USER_FLAG} --upgrade google-cloud-aiplatform google-cloud-storage jsonlines -q"
      ]
    },
    {
      "cell_type": "markdown",
      "metadata": {
        "id": "e9255e3b156f"
      },
      "source": [
        "### Restart the kernel\n",
        "\n",
        "Once you've installed the additional packages, you need to restart the notebook kernel so it can find the packages."
      ]
    },
    {
      "cell_type": "code",
      "execution_count": 2,
      "metadata": {
        "id": "0c0b2427998a"
      },
      "outputs": [],
      "source": [
        "import os\n",
        "\n",
        "if not os.getenv(\"IS_TESTING\"):\n",
        "    # Automatically restart kernel after installs\n",
        "    import IPython\n",
        "\n",
        "    app = IPython.Application.instance()\n",
        "    app.kernel.do_shutdown(True)"
      ]
    },
    {
      "cell_type": "markdown",
      "metadata": {
        "id": "435b8e413535"
      },
      "source": [
        "## Project Variables "
      ]
    },
    {
      "cell_type": "code",
      "execution_count": 2,
      "metadata": {
        "id": "be175254a715"
      },
      "outputs": [],
      "source": [
        "# Project variables \n",
        "#\n",
        "# These are the project variable used in this ML Model: \n",
        "#\n",
        "\n",
        "PROJECT_ID = \"\" # @param {type:\"string\"}\n",
        "automl_type = \"text\" # @param {type:\"string\"}\n",
        "model_display_name = \"automl_text_happiness_model\"\n",
        "job_display_name = \"automl_text_happiness_model\"\n",
        "endpoint_display_name = \"text_happiness_labelling_endpoint\"\n",
        "\n",
        "## datasets\n",
        "dataset_display_name = \"automl_text_happiness_dataset\"\n",
        "dataset_source_uri = \"gs://cloud-ml-data/NL-classification/happiness.csv\"\n",
        "dataset_source_public = \"https://storage.googleapis.com/cloud-ml-data/NL-classification/happiness.csv\"\n",
        "\n",
        "# bucket details\n",
        "BUCKET_NAME = \"auto-ml-tutorials\"\n",
        "BUCKET_URI = f\"gs://{BUCKET_NAME}/{automl_type}/\"\n",
        "OUTPUTBUCKET = f\"gs://auto_ml_datasets_predictions/{automl_type}/\""
      ]
    },
    {
      "cell_type": "code",
      "execution_count": null,
      "metadata": {
        "id": "ea86e5a1da1d"
      },
      "outputs": [],
      "source": [
        "! gcloud config set project $PROJECT_ID\n",
        "print(PROJECT_ID)"
      ]
    },
    {
      "cell_type": "markdown",
      "metadata": {
        "id": "2e6b8b324ce1"
      },
      "source": [
        "#### Region\n",
        "\n",
        "You can also change the `REGION` variable, which is used for operations\n",
        "throughout the rest of this notebook.  Below are regions supported for Vertex AI. We recommend that you choose the region closest to you.\n",
        "\n",
        "- Americas: `us-central1`\n",
        "- Europe: `europe-west4`\n",
        "- Asia Pacific: `asia-east1`\n",
        "\n",
        "You may not use a multi-regional bucket for training with Vertex AI. Not all regions provide support for all Vertex AI services.\n",
        "\n",
        "Learn more about [Vertex AI regions](https://cloud.google.com/vertex-ai/docs/general/locations)."
      ]
    },
    {
      "cell_type": "code",
      "execution_count": 4,
      "metadata": {
        "colab": {
          "base_uri": "https://localhost:8080/"
        },
        "id": "ae43d96c4b1b",
        "outputId": "48b2af7c-9f01-4e03-eb18-84a69f603d8a"
      },
      "outputs": [
        {
          "output_type": "stream",
          "name": "stdout",
          "text": [
            "Region: us-central1\n"
          ]
        }
      ],
      "source": [
        "REGION = \"[your-region]\"  # @param {type: \"string\"}\n",
        "\n",
        "if REGION == \"[your-region]\":\n",
        "    REGION = \"us-central1\"\n",
        "\n",
        "print(\"Region:\", REGION)"
      ]
    },
    {
      "cell_type": "markdown",
      "metadata": {
        "id": "6c43a8673066"
      },
      "source": [
        "### Authenticate your Google Cloud account\n",
        "\n",
        "**If you are using Vertex AI Workbench Notebooks**, your environment is already authenticated. Skip this step.\n",
        "\n",
        "**If you are using Colab**, run the cell below and follow the instructions when prompted to authenticate your account via oAuth.\n",
        "\n",
        "**Otherwise**, follow these steps:\n",
        "\n",
        "In the Cloud Console, go to the [Create service account key](https://console.cloud.google.com/apis/credentials/serviceaccountkey) page.\n",
        "\n",
        "1. **Click Create service account**.\n",
        "\n",
        "2. In the **Service account name** field, enter a name, and click **Create**.\n",
        "\n",
        "3. In the **Grant this service account access to project** section, click the Role drop-down list. Type \"Vertex AI\" into the filter box, and select **Vertex AI Administrator**. Type \"Storage Object Admin\" into the filter box, and select **Storage Object Admin**.\n",
        "\n",
        "4. Click Create. A JSON file that contains your key downloads to your local environment.\n",
        "\n",
        "5. Enter the path to your service account key as the GOOGLE_APPLICATION_CREDENTIALS variable in the cell below and run the cell."
      ]
    },
    {
      "cell_type": "code",
      "execution_count": 5,
      "metadata": {
        "id": "oM1iC_MfAts1"
      },
      "outputs": [],
      "source": [
        "# If you are running this notebook in Colab, run this cell and follow the\n",
        "# instructions to authenticate your GCP account. This provides access to your\n",
        "# Cloud Storage bucket and lets you submit training jobs and prediction\n",
        "# requests.\n",
        "\n",
        "import os\n",
        "import sys\n",
        "\n",
        "# If on Vertex AI Workbench, then don't execute this code\n",
        "IS_COLAB = \"google.colab\" in sys.modules\n",
        "if not os.path.exists(\"/opt/deeplearning/metadata/env_version\") and not os.getenv(\n",
        "    \"DL_ANACONDA_HOME\"\n",
        "):\n",
        "    if \"google.colab\" in sys.modules:\n",
        "        from google.colab import auth as google_auth\n",
        "\n",
        "        google_auth.authenticate_user()\n",
        "\n",
        "    # If you are running this notebook locally, replace the string below with the\n",
        "    # path to your service account key and run this cell to authenticate your GCP\n",
        "    # account.\n",
        "    elif not os.getenv(\"IS_TESTING\"):\n",
        "        %env GOOGLE_APPLICATION_CREDENTIALS ''"
      ]
    },
    {
      "cell_type": "markdown",
      "metadata": {
        "id": "e5755d1a554f"
      },
      "source": [
        "### Create a Cloud Storage bucket\n",
        "\n",
        "**The following steps are required, regardless of your notebook environment.**\n",
        "\n",
        "When you initialize the Vertex SDK for Python, you specify a Cloud Storage staging bucket. The staging bucket is where all the data associated with your dataset and model resources are retained across sessions.\n",
        "\n",
        "Set the name of your Cloud Storage bucket below. Bucket names must be globally unique across all Google Cloud projects, including those outside of your organization."
      ]
    },
    {
      "cell_type": "markdown",
      "metadata": {
        "id": "b72bfdf29dae"
      },
      "source": [
        "**Only if your bucket doesn't already exist**: Run the following cell to create your Cloud Storage bucket."
      ]
    },
    {
      "cell_type": "code",
      "execution_count": null,
      "metadata": {
        "id": "a4453435d115"
      },
      "outputs": [],
      "source": [
        "! gsutil mb -l $REGION $BUCKET_URI"
      ]
    },
    {
      "cell_type": "markdown",
      "metadata": {
        "id": "c4cf2cdebb50"
      },
      "source": [
        "Finally, validate access to your Cloud Storage bucket by examining its contents:"
      ]
    },
    {
      "cell_type": "code",
      "execution_count": 6,
      "metadata": {
        "colab": {
          "base_uri": "https://localhost:8080/"
        },
        "id": "96ad3d416327",
        "outputId": "691cdc16-472b-4d35-88f5-c44b0f98e7f9"
      },
      "outputs": [
        {
          "output_type": "stream",
          "name": "stdout",
          "text": [
            "         0  2022-07-23T20:52:11Z  gs://auto-ml-tutorials/text/#1658609531922655  metageneration=1\n",
            "   1339288  2022-07-27T18:12:17Z  gs://auto-ml-tutorials/text/happiness.csv#1658945537542803  metageneration=1\n",
            "TOTAL: 2 objects, 1339288 bytes (1.28 MiB)\n"
          ]
        }
      ],
      "source": [
        "! gsutil ls -al $BUCKET_URI"
      ]
    },
    {
      "cell_type": "markdown",
      "metadata": {
        "id": "93d685084cf2"
      },
      "source": [
        "### Import libraries and define constants"
      ]
    },
    {
      "cell_type": "code",
      "execution_count": 7,
      "metadata": {
        "id": "152013538e59"
      },
      "outputs": [],
      "source": [
        "import jsonlines\n",
        "from google.cloud import aiplatform, storage"
      ]
    },
    {
      "cell_type": "markdown",
      "metadata": {
        "id": "03101a4492f3"
      },
      "source": [
        "### Initialize Vertex AI \n",
        "\n",
        "Initialize the Vertex AI SDK for Python for your project."
      ]
    },
    {
      "cell_type": "code",
      "execution_count": 8,
      "metadata": {
        "id": "740cd5c67c79"
      },
      "outputs": [],
      "source": [
        "aiplatform.init(project=PROJECT_ID, location=REGION)"
      ]
    },
    {
      "cell_type": "markdown",
      "metadata": {
        "id": "32c971919605"
      },
      "source": [
        "## Create a `Dataset` resource and import your data\n",
        "\n",
        "The notebook uses the 'Happy Moments' dataset for demonstration purposes. You can change it to another text classification dataset that [conforms to the data preparation requirements](https://cloud.google.com/vertex-ai/docs/datasets/prepare-text#classification).\n",
        "\n",
        "Using the Python SDK, you create a dataset and import the dataset in one call to `TextDataset.create()`, as shown in the following cell.\n",
        "\n",
        "Creating and importing data is a long-running operation. This next step can take a while. The `create()` method waits for the operation to complete, outputting statements as the operation progresses. The statements contain the full name of the dataset that you will use in the following section.\n",
        "\n",
        "**Note**: You can close the noteboook while you wait for this operation to complete. "
      ]
    },
    {
      "cell_type": "code",
      "execution_count": 20,
      "metadata": {
        "colab": {
          "base_uri": "https://localhost:8080/"
        },
        "id": "d35b8b6b94ae",
        "outputId": "bc8ef1e9-f09b-4766-c76f-1f0d7c6d73dd"
      },
      "outputs": [
        {
          "output_type": "stream",
          "name": "stdout",
          "text": [
            "Dataset Exists: projects/993987777814/locations/us-central1/datasets/5227186030586626048\n",
            "Review the Dataset in the Console:\n",
            "https://console.cloud.google.com/vertex-ai/locations/us-central1/datasets/projects/993987777814/locations/us-central1/datasets/5227186030586626048?project=paulkamau\n"
          ]
        }
      ],
      "source": [
        "# Create dataset if it doesn't exist\n",
        "\n",
        "datasets = aiplatform.TextDataset.list(filter = f\"display_name={dataset_display_name}\")\n",
        "\n",
        "if datasets:\n",
        "    text_dataset = datasets[0]\n",
        "    print(f\"Dataset Exists: {datasets[0].resource_name}\")\n",
        "else:\n",
        "    text_dataset = aiplatform.TextDataset.create(\n",
        "    display_name=dataset_display_name,\n",
        "    gcs_source=dataset_source_public,\n",
        "    import_schema_uri=aiplatform.schema.dataset.ioformat.text.single_label_classification,\n",
        "    sync=True,\n",
        "    )\n",
        "    print(f\"Dataset Created: {text_dataset.resource_name}\")\n",
        "    \n",
        "print(f'Review the Dataset in the Console:\\nhttps://console.cloud.google.com/vertex-ai/locations/{REGION}/datasets/{datasets[0].resource_name}?project={PROJECT_ID}')\n",
        "\n"
      ]
    },
    {
      "cell_type": "code",
      "execution_count": 12,
      "metadata": {
        "colab": {
          "base_uri": "https://localhost:8080/"
        },
        "id": "XJagm2PqfeiQ",
        "outputId": "6ff7f75b-7221-4bbc-946c-8cbcbd15a44c"
      },
      "outputs": [
        {
          "output_type": "stream",
          "name": "stdout",
          "text": [
            "  I went on a successful date with someone I felt sympathy and connection with.  \\\n",
            "0  I was happy when my son got 90% marks in his e...                              \n",
            "1       I went to the gym this morning and did yoga.                              \n",
            "2  We had a serious talk with some friends of our...                              \n",
            "3  I went with grandchildren to butterfly display...                              \n",
            "4                            I meditated last night.                              \n",
            "\n",
            "   affection  \n",
            "0  affection  \n",
            "1   exercise  \n",
            "2    bonding  \n",
            "3  affection  \n",
            "4    leisure  \n"
          ]
        }
      ],
      "source": [
        "# Read the data\n",
        "dataset_sample = pd.read_csv(dataset_source_public,nrows=5)\n",
        "                                   \n",
        "# Use the next code cell to print the first five rows of the data.\n",
        "dataset_sample.head()\n",
        "\n",
        "# Shape of training data (num_rows, num_columns)\n",
        "print(dataset_sample.head())\n"
      ]
    },
    {
      "cell_type": "markdown",
      "metadata": {
        "id": "5b3cc427353a"
      },
      "source": [
        "## Train your text classification model\n"
      ]
    },
    {
      "cell_type": "markdown",
      "metadata": {
        "id": "68f10356cab9"
      },
      "source": [
        "Now you can begin training your model. Training the model is a two part process:\n",
        "\n",
        "1. **Define the training job.** You must provide a display name and the type of training you want when you define the training job.\n",
        "2. **Run the training job.** When you run the training job, you need to supply a reference to the dataset to use for training. At this step, you can also configure the data split percentages.\n",
        "\n",
        "You do not need to specify [data splits](https://cloud.google.com/vertex-ai/docs/general/ml-use). The training job has a default setting of  training 80%/ testing 10%/ validate 10% if you don't provide these values.\n",
        "\n",
        "To train your model, you call `AutoMLTextTrainingJob.run()` as shown in the following snippets. The method returns a reference to your new `Model` object.\n",
        "\n",
        "As with importing data into the dataset, training your model can take a substantial amount of time. The client library prints out operation status messages while the training pipeline operation processes. You must wait for the training process to complete before you can get the resource name and ID of your new model, which is required for model evaluation and model deployment.\n",
        "\n",
        "**Note**: You can close the notebook while you wait for the operation to complete."
      ]
    },
    {
      "cell_type": "code",
      "execution_count": 35,
      "metadata": {
        "id": "0aa0f01805ea",
        "colab": {
          "base_uri": "https://localhost:8080/"
        },
        "outputId": "d38a89e6-e1a5-4bc5-e657-022619e374d7"
      },
      "outputs": [
        {
          "output_type": "stream",
          "name": "stdout",
          "text": [
            "Jobs Exists: projects/993987777814/locations/us-central1/trainingPipelines/5995709199152054272\n",
            "Review the job in the Console:\n",
            "https://console.cloud.google.com/vertex-ai/locations/us-central1/jobs/projects/993987777814/locations/us-central1/trainingPipelines/5995709199152054272?project=paulkamau\n"
          ]
        }
      ],
      "source": [
        "# Define the training job and create one if it doesn't exit \n",
        "jobs = aiplatform.AutoMLTextTrainingJob.list(filter = f\"display_name={job_display_name}\")\n",
        "\n",
        "if jobs:\n",
        "    job = jobs[0]\n",
        "    print(f\"Jobs Exists: {jobs[0].resource_name}\")\n",
        "else:\n",
        "    job = aiplatform.AutoMLTextTrainingJob(\n",
        "    display_name=job_display_name,\n",
        "    prediction_type=\"classification\",\n",
        "    multi_label=False,\n",
        "    )\n",
        "    print(f\"job Created: {job.resource_name}\")\n",
        "    \n",
        "print(f'Review the job in the Console:\\nhttps://console.cloud.google.com/vertex-ai/locations/{REGION}/jobs/{jobs[0].resource_name}?project={PROJECT_ID}')\n"
      ]
    },
    {
      "cell_type": "code",
      "execution_count": 38,
      "metadata": {
        "id": "1ec60baf2c51",
        "colab": {
          "base_uri": "https://localhost:8080/"
        },
        "outputId": "90c174a1-e34f-485b-b9da-3029372c47c1"
      },
      "outputs": [
        {
          "output_type": "stream",
          "name": "stdout",
          "text": [
            "Model Exists: projects/993987777814/locations/us-central1/models/2888421444214063104\n",
            "Model Created: projects/993987777814/locations/us-central1/models/2888421444214063104\n"
          ]
        }
      ],
      "source": [
        "# Create model job if it doesn't exist\n",
        "models = aiplatform.Model.list(filter = f\"display_name={model_display_name}\")\n",
        "\n",
        "if models:\n",
        "    model = models[0]\n",
        "    print(f\"Model Exists: {models[0].resource_name}\")\n",
        "else:\n",
        "    model = job.run(\n",
        "    dataset=text_dataset,\n",
        "    model_display_name=model_display_name,\n",
        "    training_fraction_split=0.1,\n",
        "    validation_fraction_split=0.1,\n",
        "    test_fraction_split=0.1,\n",
        "    sync=True,\n",
        ")\n",
        "print(f\"Model Created: {model.resource_name}\")\n"
      ]
    },
    {
      "cell_type": "markdown",
      "metadata": {
        "id": "caaa3f32b12e"
      },
      "source": [
        "## Review model evaluation scores\n",
        "\n",
        "After your model training has finished, you can review the evaluation scores for it using the `list_model_evaluations()` method. This method will return an iterator for each evaluation slice."
      ]
    },
    {
      "cell_type": "code",
      "execution_count": 39,
      "metadata": {
        "id": "b0bb6be8621a",
        "colab": {
          "base_uri": "https://localhost:8080/"
        },
        "outputId": "cf4eebf2-eb88-4cb6-fe72-87a826dc5bd3"
      },
      "outputs": [
        {
          "output_type": "stream",
          "name": "stdout",
          "text": [
            "{'name': 'projects/993987777814/locations/us-central1/models/2888421444214063104@1/evaluations/739824059654602752', 'metricsSchemaUri': 'gs://google-cloud-aiplatform/schema/modelevaluation/classification_metrics_1.0.0.yaml', 'metrics': {'confusionMatrix': {'annotationSpecs': [{'displayName': 'exercise', 'id': '175761881502318592'}, {'id': '2049259326488444928', 'displayName': 'achievement'}, {'id': '2481604890716012544', 'displayName': 'leisure'}, {'displayName': 'bonding', 'id': '4355102335702138880'}, {'displayName': 'enjoy_the_moment', 'id': '4787447899929706496'}, {'id': '6660945344915832832', 'displayName': 'nature'}, {'id': '8966788354129526784', 'displayName': 'affection'}], 'rows': [[47.0, 8.0, 3.0, 1.0, 0.0, 1.0, 0.0], [7.0, 1103.0, 25.0, 7.0, 41.0, 6.0, 38.0], [0.0, 33.0, 180.0, 2.0, 28.0, 1.0, 7.0], [0.0, 16.0, 4.0, 403.0, 7.0, 0.0, 22.0], [1.0, 72.0, 26.0, 4.0, 310.0, 8.0, 19.0], [0.0, 6.0, 3.0, 0.0, 6.0, 80.0, 3.0], [1.0, 43.0, 5.0, 8.0, 18.0, 2.0, 1314.0]]}, 'confidenceMetrics': [{'recall': 1.0, 'f1Score': 0.25, 'recallAt1': 0.87700945, 'f1ScoreAt1': 0.87700945, 'precisionAt1': 0.87700945, 'precision': 0.14285715}, {'f1ScoreAt1': 0.87700945, 'recallAt1': 0.87700945, 'precision': 0.73376495, 'precisionAt1': 0.87700945, 'confidenceThreshold': 0.05, 'f1Score': 0.8296362, 'recall': 0.9543251}, {'f1ScoreAt1': 0.87700945, 'confidenceThreshold': 0.1, 'recallAt1': 0.87700945, 'recall': 0.93722886, 'precisionAt1': 0.87700945, 'f1Score': 0.85250086, 'precision': 0.781822}, {'confidenceThreshold': 0.15, 'recall': 0.9242154, 'precisionAt1': 0.87700945, 'precision': 0.8059635, 'f1ScoreAt1': 0.87700945, 'f1Score': 0.8610484, 'recallAt1': 0.87700945}, {'confidenceThreshold': 0.2, 'recall': 0.91502935, 'f1Score': 0.866079, 'recallAt1': 0.87700945, 'precision': 0.8221, 'precisionAt1': 0.87700945, 'f1ScoreAt1': 0.87700945}, {'f1Score': 0.86860776, 'precision': 0.83431256, 'recall': 0.9058433, 'recallAt1': 0.87700945, 'confidenceThreshold': 0.25, 'f1ScoreAt1': 0.87700945, 'precisionAt1': 0.87700945}, {'f1Score': 0.87251985, 'confidenceThreshold': 0.3, 'f1ScoreAt1': 0.87697804, 'recallAt1': 0.8767543, 'recall': 0.89767796, 'precisionAt1': 0.8772019, 'precision': 0.8487334}, {'f1Score': 0.87537533, 'precisionAt1': 0.87742597, 'f1ScoreAt1': 0.87709, 'confidenceThreshold': 0.35, 'precision': 0.8588264, 'recall': 0.8925746, 'recallAt1': 0.8767543}, {'recallAt1': 0.8759888, 'f1ScoreAt1': 0.8774441, 'precision': 0.8689223, 'recall': 0.8846645, 'f1Score': 0.87672275, 'confidenceThreshold': 0.4, 'precisionAt1': 0.8789042}, {'precision': 0.8759236, 'f1ScoreAt1': 0.87725586, 'recallAt1': 0.8744578, 'confidenceThreshold': 0.45, 'recall': 0.8772646, 'precisionAt1': 0.8800719, 'f1Score': 0.8765936}, {'precision': 0.8844859, 'confidenceThreshold': 0.5, 'recallAt1': 0.87139577, 'recall': 0.87139577, 'precisionAt1': 0.8844859, 'f1ScoreAt1': 0.877892, 'f1Score': 0.877892}, {'recall': 0.8639959, 'precision': 0.8908182, 'f1ScoreAt1': 0.87720203, 'confidenceThreshold': 0.55, 'f1Score': 0.87720203, 'precisionAt1': 0.8908182, 'recallAt1': 0.8639959}, {'recall': 0.8555754, 'precisionAt1': 0.89796466, 'recallAt1': 0.8555754, 'f1ScoreAt1': 0.87625766, 'confidenceThreshold': 0.6, 'precision': 0.89796466, 'f1Score': 0.87625766}, {'precisionAt1': 0.9059081, 'recall': 0.8451136, 'f1Score': 0.87445545, 'confidenceThreshold': 0.65, 'recallAt1': 0.8451136, 'precision': 0.9059081, 'f1ScoreAt1': 0.87445545}, {'precisionAt1': 0.91187954, 'precision': 0.91187954, 'f1ScoreAt1': 0.8714191, 'confidenceThreshold': 0.7, 'recall': 0.83439654, 'recallAt1': 0.83439654, 'f1Score': 0.8714191}, {'precision': 0.91918904, 'precisionAt1': 0.91918904, 'f1Score': 0.86753803, 'recallAt1': 0.821383, 'recall': 0.821383, 'confidenceThreshold': 0.75, 'f1ScoreAt1': 0.86753803}, {'f1Score': 0.86314064, 'recall': 0.8078591, 'precision': 0.9265438, 'recallAt1': 0.8078591, 'precisionAt1': 0.9265438, 'f1ScoreAt1': 0.86314064, 'confidenceThreshold': 0.8}, {'precisionAt1': 0.93558097, 'precision': 0.93558097, 'f1ScoreAt1': 0.858445, 'recall': 0.79305947, 'f1Score': 0.858445, 'confidenceThreshold': 0.85, 'recallAt1': 0.79305947}, {'f1Score': 0.85355645, 'precisionAt1': 0.94124883, 'recallAt1': 0.7808114, 'f1ScoreAt1': 0.85355645, 'confidenceThreshold': 0.875, 'precision': 0.94124883, 'recall': 0.7808114}, {'precision': 0.94591194, 'f1ScoreAt1': 0.8474433, 'recall': 0.7675427, 'confidenceThreshold': 0.9, 'precisionAt1': 0.94591194, 'f1Score': 0.8474433, 'recallAt1': 0.7675427}, {'recallAt1': 0.7603981, 'precision': 0.9472346, 'precisionAt1': 0.9472346, 'recall': 0.7603981, 'f1ScoreAt1': 0.8435952, 'confidenceThreshold': 0.91, 'f1Score': 0.8435952}, {'precisionAt1': 0.95027447, 'recallAt1': 0.7509569, 'precision': 0.95027447, 'recall': 0.7509569, 'f1Score': 0.8389396, 'f1ScoreAt1': 0.8389396, 'confidenceThreshold': 0.92}, {'f1ScoreAt1': 0.8359879, 'precisionAt1': 0.95508194, 'precision': 0.95508194, 'confidenceThreshold': 0.93, 'f1Score': 0.8359879, 'recallAt1': 0.74330187, 'recall': 0.74330187}, {'recall': 0.73284, 'recallAt1': 0.73284, 'f1Score': 0.82981795, 'f1ScoreAt1': 0.82981795, 'precision': 0.95637697, 'precisionAt1': 0.95637697, 'confidenceThreshold': 0.94}, {'precisionAt1': 0.9579661, 'f1Score': 0.82282716, 'confidenceThreshold': 0.95, 'recallAt1': 0.7211023, 'recall': 0.7211023, 'precision': 0.9579661, 'f1ScoreAt1': 0.82282716}, {'confidenceThreshold': 0.96, 'recallAt1': 0.7057923, 'f1Score': 0.8142479, 'precision': 0.962087, 'precisionAt1': 0.962087, 'f1ScoreAt1': 0.8142479, 'recall': 0.7057923}, {'recallAt1': 0.6886961, 'recall': 0.6886961, 'precisionAt1': 0.9673835, 'f1Score': 0.8045908, 'precision': 0.9673835, 'f1ScoreAt1': 0.8045908, 'confidenceThreshold': 0.97}, {'precision': 0.97076464, 'recallAt1': 0.6608829, 'precisionAt1': 0.97076464, 'f1ScoreAt1': 0.78639746, 'f1Score': 0.78639746, 'confidenceThreshold': 0.98, 'recall': 0.6608829}, {'precisionAt1': 0.978022, 'f1ScoreAt1': 0.7537641, 'precision': 0.978022, 'recall': 0.61316663, 'f1Score': 0.7537641, 'confidenceThreshold': 0.99, 'recallAt1': 0.61316663}, {'precisionAt1': 0.98395723, 'f1ScoreAt1': 0.71653414, 'confidenceThreshold': 0.995, 'precision': 0.98395723, 'recall': 0.56340903, 'f1Score': 0.71653414, 'recallAt1': 0.56340903}, {'recallAt1': 0.54988515, 'precision': 0.98491776, 'f1ScoreAt1': 0.7057475, 'confidenceThreshold': 0.996, 'recall': 0.54988515, 'f1Score': 0.7057475, 'precisionAt1': 0.98491776}, {'f1Score': 0.6878325, 'precision': 0.9866476, 'recall': 0.5279408, 'recallAt1': 0.5279408, 'precisionAt1': 0.9866476, 'confidenceThreshold': 0.997, 'f1ScoreAt1': 0.6878325}, {'precision': 0.98931843, 'recallAt1': 0.49630007, 'recall': 0.49630007, 'confidenceThreshold': 0.998, 'precisionAt1': 0.98931843, 'f1Score': 0.6610026, 'f1ScoreAt1': 0.6610026}, {'f1Score': 0.6163588, 'recall': 0.4470528, 'precisionAt1': 0.99207246, 'confidenceThreshold': 0.999, 'f1ScoreAt1': 0.6163588, 'recallAt1': 0.4470528, 'precision': 0.99207246}, {'f1ScoreAt1': 0.07420147, 'precision': 1.0, 'recallAt1': 0.038530238, 'precisionAt1': 1.0, 'recall': 0.038530238, 'f1Score': 0.07420147, 'confidenceThreshold': 1.0}], 'logLoss': 0.109663546, 'auPrc': 0.94838595}, 'createTime': '2022-11-03T00:22:51.177474Z', 'sliceDimensions': ['annotationSpec'], 'annotationSchemaUri': 'gs://google-cloud-aiplatform/schema/dataset/annotation/text_classification_1.0.0.yaml'}\n"
          ]
        }
      ],
      "source": [
        "model_evaluations = model.list_model_evaluations()\n",
        "\n",
        "for model_evaluation in model_evaluations:\n",
        "    print(model_evaluation.to_dict())"
      ]
    },
    {
      "cell_type": "markdown",
      "metadata": {
        "id": "b5dbe4dbaa60"
      },
      "source": [
        "## Deploy your text classification model to an Endpoint\n",
        "\n",
        "Once your model has completed training, you must deploy it to an _endpoint_ to get online predictions from it. When you deploy the model to an endpoint, a copy of the model is made on the endpoint with a new resource name and display name.\n",
        "\n",
        "You can deploy multiple models to the same endpoint and split traffic between the various models assigned to the endpoint. However, you must deploy one model at a time to the endpoint. To change the traffic split percentages, you must assign new values on your second (and subsequent) models each time you deploy a new model.\n",
        "\n",
        "The following code block demonstrates how to deploy a model. The code snippet relies on the Python SDK to create a new endpoint for deployment. The call to `modely.deploy()` returns a reference to an `Endpoint` object--you need this reference for online predictions in the next section."
      ]
    },
    {
      "cell_type": "code",
      "execution_count": 44,
      "metadata": {
        "id": "19bc4a55ccfe",
        "colab": {
          "base_uri": "https://localhost:8080/"
        },
        "outputId": "44f25eb4-b1c6-4eb9-f6b9-8a26e58ea446"
      },
      "outputs": [
        {
          "output_type": "stream",
          "name": "stdout",
          "text": [
            "Endpoint Exists: projects/993987777814/locations/us-central1/endpoints/5420706674144968704\n",
            "Review the Endpoint in the Console:\n",
            "https://console.cloud.google.com/vertex-ai/locations/us-central1/endpoints/5420706674144968704?project=paulkamau\n"
          ]
        }
      ],
      "source": [
        "\n",
        "# Check if Endpoint Exists \n",
        "endpoints = aiplatform.Endpoint.list(filter = f\"display_name={endpoint_display_name}\")\n",
        "\n",
        "if endpoints:\n",
        "    endpoint = endpoints[0]\n",
        "    print(f\"Endpoint Exists: {endpoints[0].resource_name}\")\n",
        "else:\n",
        "    endpoint = aiplatform.Endpoint.create(\n",
        "        display_name = f\"{endpoint_display_name}\",\n",
        "        labels = {'series' : f\"{endpoint_display_name}\"}    \n",
        "    )\n",
        "    print(f\"Endpoint Created: {endpoint.resource_name}\")\n",
        "    \n",
        "print(f'Review the Endpoint in the Console:\\nhttps://console.cloud.google.com/vertex-ai/locations/{REGION}/endpoints/{endpoint.name}?project={PROJECT_ID}')\n"
      ]
    },
    {
      "cell_type": "markdown",
      "metadata": {
        "id": "351a6e8be3a5"
      },
      "source": [
        "## Get online predictions from your model\n",
        "\n",
        "Now that you have your endpoint, you can get online predictions from the text classification model. To get the online prediction, you send a prediction request to your endpoint."
      ]
    },
    {
      "cell_type": "code",
      "execution_count": 42,
      "metadata": {
        "id": "953b333fc0fc",
        "colab": {
          "base_uri": "https://localhost:8080/",
          "height": 572
        },
        "outputId": "4075ebce-2ddf-4ec6-a40a-8131215952b0"
      },
      "outputs": [
        {
          "output_type": "error",
          "ename": "FailedPrecondition",
          "evalue": "ignored",
          "traceback": [
            "\u001b[0;31m---------------------------------------------------------------------------\u001b[0m",
            "\u001b[0;31m_InactiveRpcError\u001b[0m                         Traceback (most recent call last)",
            "\u001b[0;32m/usr/local/lib/python3.7/dist-packages/google/api_core/grpc_helpers.py\u001b[0m in \u001b[0;36merror_remapped_callable\u001b[0;34m(*args, **kwargs)\u001b[0m\n\u001b[1;32m     49\u001b[0m         \u001b[0;32mtry\u001b[0m\u001b[0;34m:\u001b[0m\u001b[0;34m\u001b[0m\u001b[0;34m\u001b[0m\u001b[0m\n\u001b[0;32m---> 50\u001b[0;31m             \u001b[0;32mreturn\u001b[0m \u001b[0mcallable_\u001b[0m\u001b[0;34m(\u001b[0m\u001b[0;34m*\u001b[0m\u001b[0margs\u001b[0m\u001b[0;34m,\u001b[0m \u001b[0;34m**\u001b[0m\u001b[0mkwargs\u001b[0m\u001b[0;34m)\u001b[0m\u001b[0;34m\u001b[0m\u001b[0;34m\u001b[0m\u001b[0m\n\u001b[0m\u001b[1;32m     51\u001b[0m         \u001b[0;32mexcept\u001b[0m \u001b[0mgrpc\u001b[0m\u001b[0;34m.\u001b[0m\u001b[0mRpcError\u001b[0m \u001b[0;32mas\u001b[0m \u001b[0mexc\u001b[0m\u001b[0;34m:\u001b[0m\u001b[0;34m\u001b[0m\u001b[0;34m\u001b[0m\u001b[0m\n",
            "\u001b[0;32m/usr/local/lib/python3.7/dist-packages/grpc/_channel.py\u001b[0m in \u001b[0;36m__call__\u001b[0;34m(self, request, timeout, metadata, credentials, wait_for_ready, compression)\u001b[0m\n\u001b[1;32m    945\u001b[0m                                       wait_for_ready, compression)\n\u001b[0;32m--> 946\u001b[0;31m         \u001b[0;32mreturn\u001b[0m \u001b[0m_end_unary_response_blocking\u001b[0m\u001b[0;34m(\u001b[0m\u001b[0mstate\u001b[0m\u001b[0;34m,\u001b[0m \u001b[0mcall\u001b[0m\u001b[0;34m,\u001b[0m \u001b[0;32mFalse\u001b[0m\u001b[0;34m,\u001b[0m \u001b[0;32mNone\u001b[0m\u001b[0;34m)\u001b[0m\u001b[0;34m\u001b[0m\u001b[0;34m\u001b[0m\u001b[0m\n\u001b[0m\u001b[1;32m    947\u001b[0m \u001b[0;34m\u001b[0m\u001b[0m\n",
            "\u001b[0;32m/usr/local/lib/python3.7/dist-packages/grpc/_channel.py\u001b[0m in \u001b[0;36m_end_unary_response_blocking\u001b[0;34m(state, call, with_call, deadline)\u001b[0m\n\u001b[1;32m    848\u001b[0m     \u001b[0;32melse\u001b[0m\u001b[0;34m:\u001b[0m\u001b[0;34m\u001b[0m\u001b[0;34m\u001b[0m\u001b[0m\n\u001b[0;32m--> 849\u001b[0;31m         \u001b[0;32mraise\u001b[0m \u001b[0m_InactiveRpcError\u001b[0m\u001b[0;34m(\u001b[0m\u001b[0mstate\u001b[0m\u001b[0;34m)\u001b[0m\u001b[0;34m\u001b[0m\u001b[0;34m\u001b[0m\u001b[0m\n\u001b[0m\u001b[1;32m    850\u001b[0m \u001b[0;34m\u001b[0m\u001b[0m\n",
            "\u001b[0;31m_InactiveRpcError\u001b[0m: <_InactiveRpcError of RPC that terminated with:\n\tstatus = StatusCode.FAILED_PRECONDITION\n\tdetails = \"Endpoint projects/993987777814/locations/us-central1/endpoints/5420706674144968704 doesn't have traffic_split.\"\n\tdebug_error_string = \"UNKNOWN:Error received from peer ipv4:108.177.120.95:443 {created_time:\"2022-11-10T21:25:13.582500278+00:00\", grpc_status:9, grpc_message:\"Endpoint projects/993987777814/locations/us-central1/endpoints/5420706674144968704 doesn\\'t have traffic_split.\"}\"\n>",
            "\nThe above exception was the direct cause of the following exception:\n",
            "\u001b[0;31mFailedPrecondition\u001b[0m                        Traceback (most recent call last)",
            "\u001b[0;32m<ipython-input-42-75f6c9dca919>\u001b[0m in \u001b[0;36m<module>\u001b[0;34m\u001b[0m\n\u001b[1;32m      1\u001b[0m \u001b[0mcontent\u001b[0m \u001b[0;34m=\u001b[0m \u001b[0;34m\"I got a high score on my math final!\"\u001b[0m\u001b[0;34m\u001b[0m\u001b[0;34m\u001b[0m\u001b[0m\n\u001b[1;32m      2\u001b[0m \u001b[0;34m\u001b[0m\u001b[0m\n\u001b[0;32m----> 3\u001b[0;31m \u001b[0mresponse\u001b[0m \u001b[0;34m=\u001b[0m \u001b[0mendpoint\u001b[0m\u001b[0;34m.\u001b[0m\u001b[0mpredict\u001b[0m\u001b[0;34m(\u001b[0m\u001b[0minstances\u001b[0m\u001b[0;34m=\u001b[0m\u001b[0;34m[\u001b[0m\u001b[0;34m{\u001b[0m\u001b[0;34m\"content\"\u001b[0m\u001b[0;34m:\u001b[0m \u001b[0mcontent\u001b[0m\u001b[0;34m}\u001b[0m\u001b[0;34m]\u001b[0m\u001b[0;34m)\u001b[0m\u001b[0;34m\u001b[0m\u001b[0;34m\u001b[0m\u001b[0m\n\u001b[0m\u001b[1;32m      4\u001b[0m \u001b[0;34m\u001b[0m\u001b[0m\n\u001b[1;32m      5\u001b[0m \u001b[0;32mfor\u001b[0m \u001b[0mprediction_\u001b[0m \u001b[0;32min\u001b[0m \u001b[0mresponse\u001b[0m\u001b[0;34m.\u001b[0m\u001b[0mpredictions\u001b[0m\u001b[0;34m:\u001b[0m\u001b[0;34m\u001b[0m\u001b[0;34m\u001b[0m\u001b[0m\n",
            "\u001b[0;32m/usr/local/lib/python3.7/dist-packages/google/cloud/aiplatform/models.py\u001b[0m in \u001b[0;36mpredict\u001b[0;34m(self, instances, parameters, timeout, use_raw_predict)\u001b[0m\n\u001b[1;32m   1544\u001b[0m                 \u001b[0minstances\u001b[0m\u001b[0;34m=\u001b[0m\u001b[0minstances\u001b[0m\u001b[0;34m,\u001b[0m\u001b[0;34m\u001b[0m\u001b[0;34m\u001b[0m\u001b[0m\n\u001b[1;32m   1545\u001b[0m                 \u001b[0mparameters\u001b[0m\u001b[0;34m=\u001b[0m\u001b[0mparameters\u001b[0m\u001b[0;34m,\u001b[0m\u001b[0;34m\u001b[0m\u001b[0;34m\u001b[0m\u001b[0m\n\u001b[0;32m-> 1546\u001b[0;31m                 \u001b[0mtimeout\u001b[0m\u001b[0;34m=\u001b[0m\u001b[0mtimeout\u001b[0m\u001b[0;34m,\u001b[0m\u001b[0;34m\u001b[0m\u001b[0;34m\u001b[0m\u001b[0m\n\u001b[0m\u001b[1;32m   1547\u001b[0m             )\n\u001b[1;32m   1548\u001b[0m \u001b[0;34m\u001b[0m\u001b[0m\n",
            "\u001b[0;32m/usr/local/lib/python3.7/dist-packages/google/cloud/aiplatform_v1/services/prediction_service/client.py\u001b[0m in \u001b[0;36mpredict\u001b[0;34m(self, request, endpoint, instances, parameters, retry, timeout, metadata)\u001b[0m\n\u001b[1;32m    591\u001b[0m             \u001b[0mretry\u001b[0m\u001b[0;34m=\u001b[0m\u001b[0mretry\u001b[0m\u001b[0;34m,\u001b[0m\u001b[0;34m\u001b[0m\u001b[0;34m\u001b[0m\u001b[0m\n\u001b[1;32m    592\u001b[0m             \u001b[0mtimeout\u001b[0m\u001b[0;34m=\u001b[0m\u001b[0mtimeout\u001b[0m\u001b[0;34m,\u001b[0m\u001b[0;34m\u001b[0m\u001b[0;34m\u001b[0m\u001b[0m\n\u001b[0;32m--> 593\u001b[0;31m             \u001b[0mmetadata\u001b[0m\u001b[0;34m=\u001b[0m\u001b[0mmetadata\u001b[0m\u001b[0;34m,\u001b[0m\u001b[0;34m\u001b[0m\u001b[0;34m\u001b[0m\u001b[0m\n\u001b[0m\u001b[1;32m    594\u001b[0m         )\n\u001b[1;32m    595\u001b[0m \u001b[0;34m\u001b[0m\u001b[0m\n",
            "\u001b[0;32m/usr/local/lib/python3.7/dist-packages/google/api_core/gapic_v1/method.py\u001b[0m in \u001b[0;36m__call__\u001b[0;34m(self, timeout, retry, *args, **kwargs)\u001b[0m\n\u001b[1;32m    152\u001b[0m             \u001b[0mkwargs\u001b[0m\u001b[0;34m[\u001b[0m\u001b[0;34m\"metadata\"\u001b[0m\u001b[0;34m]\u001b[0m \u001b[0;34m=\u001b[0m \u001b[0mmetadata\u001b[0m\u001b[0;34m\u001b[0m\u001b[0;34m\u001b[0m\u001b[0m\n\u001b[1;32m    153\u001b[0m \u001b[0;34m\u001b[0m\u001b[0m\n\u001b[0;32m--> 154\u001b[0;31m         \u001b[0;32mreturn\u001b[0m \u001b[0mwrapped_func\u001b[0m\u001b[0;34m(\u001b[0m\u001b[0;34m*\u001b[0m\u001b[0margs\u001b[0m\u001b[0;34m,\u001b[0m \u001b[0;34m**\u001b[0m\u001b[0mkwargs\u001b[0m\u001b[0;34m)\u001b[0m\u001b[0;34m\u001b[0m\u001b[0;34m\u001b[0m\u001b[0m\n\u001b[0m\u001b[1;32m    155\u001b[0m \u001b[0;34m\u001b[0m\u001b[0m\n\u001b[1;32m    156\u001b[0m \u001b[0;34m\u001b[0m\u001b[0m\n",
            "\u001b[0;32m/usr/local/lib/python3.7/dist-packages/google/api_core/grpc_helpers.py\u001b[0m in \u001b[0;36merror_remapped_callable\u001b[0;34m(*args, **kwargs)\u001b[0m\n\u001b[1;32m     50\u001b[0m             \u001b[0;32mreturn\u001b[0m \u001b[0mcallable_\u001b[0m\u001b[0;34m(\u001b[0m\u001b[0;34m*\u001b[0m\u001b[0margs\u001b[0m\u001b[0;34m,\u001b[0m \u001b[0;34m**\u001b[0m\u001b[0mkwargs\u001b[0m\u001b[0;34m)\u001b[0m\u001b[0;34m\u001b[0m\u001b[0;34m\u001b[0m\u001b[0m\n\u001b[1;32m     51\u001b[0m         \u001b[0;32mexcept\u001b[0m \u001b[0mgrpc\u001b[0m\u001b[0;34m.\u001b[0m\u001b[0mRpcError\u001b[0m \u001b[0;32mas\u001b[0m \u001b[0mexc\u001b[0m\u001b[0;34m:\u001b[0m\u001b[0;34m\u001b[0m\u001b[0;34m\u001b[0m\u001b[0m\n\u001b[0;32m---> 52\u001b[0;31m             \u001b[0;32mraise\u001b[0m \u001b[0mexceptions\u001b[0m\u001b[0;34m.\u001b[0m\u001b[0mfrom_grpc_error\u001b[0m\u001b[0;34m(\u001b[0m\u001b[0mexc\u001b[0m\u001b[0;34m)\u001b[0m \u001b[0;32mfrom\u001b[0m \u001b[0mexc\u001b[0m\u001b[0;34m\u001b[0m\u001b[0;34m\u001b[0m\u001b[0m\n\u001b[0m\u001b[1;32m     53\u001b[0m \u001b[0;34m\u001b[0m\u001b[0m\n\u001b[1;32m     54\u001b[0m     \u001b[0;32mreturn\u001b[0m \u001b[0merror_remapped_callable\u001b[0m\u001b[0;34m\u001b[0m\u001b[0;34m\u001b[0m\u001b[0m\n",
            "\u001b[0;31mFailedPrecondition\u001b[0m: 400 Endpoint projects/993987777814/locations/us-central1/endpoints/5420706674144968704 doesn't have traffic_split."
          ]
        }
      ],
      "source": [
        "content = \"I got a high score on my math final!\"\n",
        "\n",
        "response = endpoint.predict(instances=[{\"content\": content}])\n",
        "\n",
        "for prediction_ in response.predictions:\n",
        "    ids = prediction_[\"ids\"]\n",
        "    display_names = prediction_[\"displayNames\"]\n",
        "    confidence_scores = prediction_[\"confidences\"]\n",
        "    for count, id in enumerate(ids):\n",
        "        print(f\"Prediction ID: {id}\")\n",
        "        print(f\"Prediction display name: {display_names[count]}\")\n",
        "        print(f\"Prediction confidence score: {confidence_scores[count]}\")"
      ]
    },
    {
      "cell_type": "markdown",
      "metadata": {
        "id": "f18811cd0477"
      },
      "source": [
        "## Get batch predictions from your model\n",
        "\n",
        "You can get batch predictions from a text classification model without deploying it. You must first format all of your prediction instances (prediction input) in JSONL format and you must store the JSONL file in a Google Cloud Storage bucket. You must also provide a Google Cloud Storage bucket to hold your prediction output.\n",
        "\n",
        "To start, you must first create your predictions input file in JSONL format. Each line in the JSONL document needs to be formatted like so:\n",
        "\n",
        "```\n",
        "{ \"content\": \"gs://sourcebucket/datasets/texts/source_text.txt\", \"mimeType\": \"text/plain\"}\n",
        "```\n",
        "\n",
        "The `content` field in the JSON structure must be a Google Cloud Storage URI to another document that contains the text input for prediction.\n",
        "[See the documentation for more information.](https://cloud.google.com/ai-platform-unified/docs/predictions/batch-predictions#text)"
      ]
    },
    {
      "cell_type": "code",
      "execution_count": null,
      "metadata": {
        "id": "e4b838cbcd99"
      },
      "outputs": [],
      "source": [
        "instances = [\n",
        "    \"We hiked through the woods and up the hill to the ice caves\",\n",
        "    \"My kitten is so cute\",\n",
        "]\n",
        "input_file_name = \"automl_text_happiness_dataset_batch_input.jsonl\""
      ]
    },
    {
      "cell_type": "markdown",
      "metadata": {
        "id": "76ac422ab8dd"
      },
      "source": [
        "For batch prediction, you must supply the following:\n",
        "\n",
        "+ All of your prediction instances as individual files on Google Cloud Storage, as TXT files for your instances\n",
        "+ A JSONL file that lists the URIs of all your prediction instances\n",
        "+ A Cloud Storage bucket to hold the output from batch prediction\n",
        "\n",
        "For this tutorial, the following cells create a new Storage bucket, upload individual prediction instances as text files to the bucket, and then create the JSONL file with the URIs of your prediction instances."
      ]
    },
    {
      "cell_type": "code",
      "execution_count": null,
      "metadata": {
        "id": "8b7cabbb86ad"
      },
      "outputs": [],
      "source": [
        "# Instantiate the Storage client and create the new bucket\n",
        "# from google.cloud import  storage\n",
        "storage_client = storage.Client()\n",
        "bucket = storage_client.bucket(BUCKET_NAME)\n",
        "# Iterate over the prediction instances, creating a new TXT file\n",
        "# for each.\n",
        "input_file_data = []\n",
        "for count, instance in enumerate(instances):\n",
        "    instance_name = f\"input_{count}.txt\"\n",
        "    instance_file_uri = f\"{BUCKET_URI}/{instance_name}\"\n",
        "    # Add the data to store in the JSONL input file.\n",
        "    tmp_data = {\"content\": instance_file_uri, \"mimeType\": \"text/plain\"}\n",
        "    input_file_data.append(tmp_data)\n",
        "\n",
        "    # Create the new instance file\n",
        "    blob = bucket.blob(instance_name)\n",
        "    blob.upload_from_string(instance)\n",
        "\n",
        "input_str = \"\\n\".join([str(d) for d in input_file_data])\n",
        "file_blob = bucket.blob(f\"{input_file_name}\")\n",
        "file_blob.upload_from_string(input_str)"
      ]
    },
    {
      "cell_type": "markdown",
      "metadata": {
        "id": "31c262320610"
      },
      "source": [
        "Now that you have the bucket with the prediction instances ready, you can send a batch prediction rhttps://storage.googleapis.com/upload/storage/v1/b/gs://vertex-ai-devaip-20220728004429/o?uploadType=multipartequest to Vertex AI. When you send a request to the service, you must provide the URI of your JSONL file and your output bucket, including the `gs://` protocols.\n",
        "\n",
        "With the Python SDK, you can create a batch prediction job by calling `Model.batch_predict()`."
      ]
    },
    {
      "cell_type": "code",
      "execution_count": null,
      "metadata": {
        "id": "f5ab2139d52d"
      },
      "outputs": [],
      "source": [
        "job_display_name = \"automl_text_happiness_model_batch_predict_job\"\n",
        "\n",
        "# model = aiplatform.Model(model_name=model.name)\n",
        "batch_prediction_job = model.batch_predict(\n",
        "    job_display_name=job_display_name,\n",
        "    gcs_source=f\"{BUCKET_URI}/{input_file_name}\",\n",
        "    gcs_destination_prefix=f\"{BUCKET_URI}/output\",\n",
        "    sync=True,\n",
        ")\n",
        "batch_prediction_job_name = batch_prediction_job.resource_name"
      ]
    },
    {
      "cell_type": "markdown",
      "metadata": {
        "id": "11503f2e08a2"
      },
      "source": [
        "Once the batch prediction job completes, the Python SDK prints out the resource name of the batch prediction job in the format `projects/[PROJECT_ID]/locations/[LOCATION]/batchPredictionJobs/[BATCH_PREDICTION_JOB_ID]`. You can query the Vertex AI service for the status of the batch prediction job using its ID.\n",
        "\n",
        "The following code snippet demonstrates how to create an instance of the `BatchPredictionJob` class to review its status. Note that you need the full resource name printed out from the Python SDK for this snippet.\n"
      ]
    },
    {
      "cell_type": "markdown",
      "metadata": {
        "id": "cd014de40e2f"
      },
      "source": [
        "## BatchPredictionJob"
      ]
    },
    {
      "cell_type": "code",
      "execution_count": null,
      "metadata": {
        "id": "bf6e614723ed"
      },
      "outputs": [],
      "source": [
        "from google.cloud.aiplatform import jobs\n",
        "\n",
        "batch_job = jobs.BatchPredictionJob(batch_prediction_job_name)\n",
        "print(f\"Batch prediction job state: {str(batch_job.state)}\")"
      ]
    },
    {
      "cell_type": "markdown",
      "metadata": {
        "id": "1f9a12dadf6f"
      },
      "source": [
        "After the batch job has completed, you can view the results of the job in your output Storage bucket. You might want to first list all of the files in your output bucket to find the URI of the output file."
      ]
    },
    {
      "cell_type": "code",
      "execution_count": null,
      "metadata": {
        "id": "8ff1ec03205c"
      },
      "outputs": [],
      "source": [
        "BUCKET_OUTPUT = f\"{BUCKET_URI}/output\"\n",
        "\n",
        "! gsutil ls -a $BUCKET_OUTPUT"
      ]
    },
    {
      "cell_type": "markdown",
      "metadata": {
        "id": "52f3f8af2e41"
      },
      "source": [
        "The output from the batch prediction job should be contained in a folder (or _prefix_) that includes the name of the batch prediction job plus a time stamp for when it was created.\n",
        "\n",
        "For example, if your batch prediction job name is `my-job` and your bucket name is `my-bucket`, the URI of the folder containing your output might look like the following:\n",
        "\n",
        "```\n",
        "gs://my-bucket/output/prediction-my-job-2021-06-04T19:54:25.889262Z/\n",
        "```\n",
        "\n",
        "To read the batch prediction results, you must download the file locally and open the file. The next cell copies all of the files in the `BUCKET_OUTPUT_FOLDER` into a local folder."
      ]
    },
    {
      "cell_type": "code",
      "execution_count": null,
      "metadata": {
        "id": "4bb16e040942"
      },
      "outputs": [],
      "source": [
        "import os\n",
        "\n",
        "RESULTS_DIRECTORY = \"prediction_results\"\n",
        "RESULTS_DIRECTORY_FULL = f\"{RESULTS_DIRECTORY}/output\"\n",
        "\n",
        "# Create missing directories\n",
        "os.makedirs(RESULTS_DIRECTORY, exist_ok=True)\n",
        "\n",
        "# Get the Cloud Storage paths for each result\n",
        "! gsutil -m cp -r $BUCKET_OUTPUT $RESULTS_DIRECTORY\n",
        "\n",
        "# Get most recently modified directory\n",
        "latest_directory = max(\n",
        "    (\n",
        "        os.path.join(RESULTS_DIRECTORY_FULL, d)\n",
        "        for d in os.listdir(RESULTS_DIRECTORY_FULL)\n",
        "    ),\n",
        "    key=os.path.getmtime,\n",
        ")\n",
        "\n",
        "print(f\"Local results folder: {latest_directory}\")"
      ]
    },
    {
      "cell_type": "markdown",
      "metadata": {
        "id": "e375109b7e40"
      },
      "source": [
        "## JsonLines"
      ]
    },
    {
      "cell_type": "markdown",
      "metadata": {
        "id": "f406e1e4d5ec"
      },
      "source": [
        "With all of the results files downloaded locally, you can open them and read the results. In this tutorial, you use the [`jsonlines`](https://jsonlines.readthedocs.io/en/latest/) library to read the output results.\n",
        "\n",
        "The following cell opens up the JSONL output file and then prints the predictions for each instance."
      ]
    },
    {
      "cell_type": "code",
      "execution_count": null,
      "metadata": {
        "id": "91d7f2a74a7c"
      },
      "outputs": [],
      "source": [
        "# Get downloaded results in directory\n",
        "results_files = []\n",
        "for dirpath, _, files in os.walk(latest_directory):\n",
        "    for file in files:\n",
        "        if file.find(\"predictions\") >= 0:\n",
        "            results_files.append(os.path.join(dirpath, file))\n",
        "\n",
        "\n",
        "# Consolidate all the results into a list\n",
        "results = []\n",
        "for results_file in results_files:\n",
        "    # Open each result\n",
        "    with jsonlines.open(results_file) as reader:\n",
        "        for result in reader.iter(type=dict, skip_invalid=True):\n",
        "            instance = result[\"instance\"]\n",
        "            prediction = result[\"prediction\"]\n",
        "            print(f\"\\ninstance: {instance['content']}\")\n",
        "            for key, output in prediction.items():\n",
        "                print(f\"\\n{key}: {output}\")"
      ]
    },
    {
      "cell_type": "markdown",
      "metadata": {
        "id": "af3874f08502"
      },
      "source": [
        "## Cleaning up\n",
        "\n",
        "To clean up all Google Cloud resources used in this project, you can [delete the Google Cloud project](https://cloud.google.com/resource-manager/docs/creating-managing-projects#shutting_down_projects) you used for the tutorial.\n",
        "\n",
        "Otherwise, you can delete the individual resources you created in this tutorial:\n",
        "\n",
        "* Dataset\n",
        "* Training job\n",
        "* Model\n",
        "* Endpoint\n",
        "* Batch prediction\n",
        "* Batch prediction bucket"
      ]
    },
    {
      "cell_type": "code",
      "execution_count": null,
      "metadata": {
        "id": "adce73b48b72"
      },
      "outputs": [],
      "source": [
        "delete_bucket = False\n",
        "\n",
        "if delete_bucket or os.getenv(\"IS_TESTING\"):\n",
        "    ! gsutil rm -r $BUCKET_URI\n",
        "\n",
        "batch_job.delete()\n",
        "endpoint.undeploy_all()\n",
        "# `force` parameter ensures that models are undeployed before deletion\n",
        "endpoint.delete()\n",
        "\n",
        "model.delete()\n",
        "\n",
        "text_dataset.delete()\n",
        "\n",
        "# Training job\n",
        "job.delete()"
      ]
    }
  ],
  "metadata": {
    "colab": {
      "collapsed_sections": [],
      "provenance": [],
      "toc_visible": true
    },
    "kernelspec": {
      "display_name": "Python 3.9.6 64-bit",
      "language": "python",
      "name": "python3"
    },
    "language_info": {
      "name": "python",
      "version": "3.9.6"
    },
    "vscode": {
      "interpreter": {
        "hash": "31f2aee4e71d21fbe5cf8b01ff0e069b9275f58929596ceb00d14d90e3e16cd6"
      }
    }
  },
  "nbformat": 4,
  "nbformat_minor": 0
}