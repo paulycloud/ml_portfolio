{
 "cells": [
  {
   "attachments": {},
   "cell_type": "markdown",
   "metadata": {},
   "source": [
    "# Data operations for prepping the WorldBank_Health Dataset \n",
    "\n",
    "### Summary: \n",
    "The dataset [`world_bank_health_population`](https://cloud.google.com/bigquery?sq=1057666841514:3bb229234d7f4b379098581f0101e923&_ga=2.81369303.-1379782407.1673021064&project=paulkamau&ws=!1m9!1m3!3m2!1sbigquery-public-data!2sworld_bank_health_population!1m4!4m3!1sbigquery-public-data!2sworld_bank_health_population!3scountry_series_definitions) combines key health statistics from a variety of sources to provide a look at global health and population trends. It includes information on nutrition, reproductive health, education, immunization, and diseases from over 200 countries.\n",
    "\n",
    "\n",
    "Multiple tables have been used to compile the data. The data was flattened to create a single working set: \n",
    "\n",
    "- Country series definitions \n",
    "- Country summary \n",
    "- Health nutrition population\n",
    "- International debt\n",
    "- Series summary \n",
    "- Series times\n",
    "\n",
    "### Actions: \n",
    "1. Created a pivot table which takes the indicator codes as rows and tranforms them into columns in a new table. \n",
    "1. Created a merged table of the countries_data and the new pivot table we made\n",
    "1. Created a table definition of the indicator_code and their description\n",
    "1. Create a combined table of the international_avg_health_pivot with the alchohol consumption data combined with the countries_series data for modeling the linear reg prediction of avg alcohol consumption"
   ]
  },
  {
   "attachments": {},
   "cell_type": "markdown",
   "metadata": {},
   "source": [
    "## SQLs"
   ]
  },
  {
   "attachments": {},
   "cell_type": "markdown",
   "metadata": {},
   "source": [
    "### 1. Pivot Query. Convert the row values into column values \n",
    "\n",
    "original table we want: \n",
    "**`bigquery-public-data.world_bank_health_population.health_nutrition_population`**\n",
    "\n",
    "New pivot table with everything: \n",
    "**`international_health_nutrition_pivot`**\n",
    "\n",
    "```sql\n",
    "DECLARE IndicatorCodes STRING;\n",
    "\n",
    "SET IndicatorCodes = (\n",
    "  SELECT \n",
    "    CONCAT('(\"', STRING_AGG(DISTINCT replace(indicator_code,\".\",\"_\"), '\", \"'), '\")'),\n",
    "  FROM `bigquery-public-data.world_bank_health_population.health_nutrition_population` where value is not null\n",
    ");\n",
    "\n",
    "\n",
    "EXECUTE IMMEDIATE format(\"\"\"\n",
    "CREATE TABLE IF NOT EXISTS `paulkamau.WorldBank_Health.international_health_nutrition_pivot` as \n",
    "SELECT * FROM\n",
    "(\n",
    "  SELECT country_name, country_code, replace(indicator_code,\".\",\"_\") as ic,value, year\n",
    "  FROM `bigquery-public-data.world_bank_health_population.health_nutrition_population`\n",
    ") \n",
    "PIVOT\n",
    "(\n",
    "  MAX(value)\n",
    "  FOR ic in %s\n",
    ")\n",
    "ORDER BY country_name ASC\n",
    "\"\"\",\n",
    "IndicatorCodes);\n",
    "\n",
    "```\n",
    "\n",
    "New pivot table with everything: \n",
    "**`international_avg_health_nutrition_pivot`**\n",
    "\n",
    "```sql\n",
    "DECLARE IndicatorCodes STRING;\n",
    "\n",
    "SET IndicatorCodes = (\n",
    "  SELECT \n",
    "    CONCAT('(\"', STRING_AGG(DISTINCT replace(indicator_code,\".\",\"_\"), '\", \"'), '\")'),\n",
    "  FROM `bigquery-public-data.world_bank_health_population.health_nutrition_population` where value is not null\n",
    ");\n",
    "\n",
    "\n",
    "EXECUTE IMMEDIATE format(\"\"\"\n",
    "CREATE TABLE IF NOT EXISTS `paulkamau.WorldBank_Health.international_avg_health_nutrition_pivot` as \n",
    "SELECT * FROM\n",
    "(\n",
    "  SELECT country_name, country_code, replace(indicator_code,\".\",\"_\") as ic,value,\n",
    "  FROM `bigquery-public-data.world_bank_health_population.health_nutrition_population`\n",
    ") \n",
    "PIVOT\n",
    "(\n",
    "  avg(value)\n",
    "  FOR ic in %s\n",
    ")\n",
    "ORDER BY country_name ASC\n",
    "\"\"\",\n",
    "IndicatorCodes);\n",
    "\n",
    "```"
   ]
  },
  {
   "attachments": {},
   "cell_type": "markdown",
   "metadata": {},
   "source": [
    "Country table \n",
    "\n",
    "```sql\n",
    "CREATE TABLE IF NOT EXISTS `paulkamau.WorldBank_Health.countries_data` as \n",
    "SELECT \n",
    "country_code, short_name, currency_unit, income_group, national_accounts_base_year, sna_price_valuation, system_of_national_accounts, system_of_trade, government_accounting_concept\n",
    " FROM `bigquery-public-data.world_bank_health_population.country_summary` \n",
    "where system_of_trade is not null;\n",
    "\n",
    "```\n"
   ]
  },
  {
   "attachments": {},
   "cell_type": "markdown",
   "metadata": {},
   "source": [
    "\n",
    "What’s the average age of first marriages for females around the world?\n",
    "\n",
    "```sql\n",
    "SELECT\n",
    "  country_name,\n",
    "  country_code,\n",
    "  ROUND(AVG(value),2) AS avg_age_female_marriage\n",
    "FROM\n",
    "  `bigquery-public-data.world_bank_health_population.health_nutrition_population`\n",
    "WHERE\n",
    "  indicator_code = \"SP.DYN.SMAM.FE\" --Age at first marriage, female\n",
    "GROUP BY\n",
    "  country_name,country_code\n",
    "ORDER BY\n",
    "  avg_age_female_marriage;\n",
    "```\n"
   ]
  },
  {
   "attachments": {},
   "cell_type": "markdown",
   "metadata": {},
   "source": [
    "Get the distinct indicators used in the entire datasets \n",
    "\n",
    "```sql\n",
    "SELECT * FROM `paulkamau.WorldBank_Health.Indicators_code_desc` LIMIT 1000\n",
    "```\n",
    "*results*\n"
   ]
  },
  {
   "attachments": {},
   "cell_type": "markdown",
   "metadata": {},
   "source": [
    "<!-- SQL to create a single table analysizng the average age of marriage for females -->\n",
    "\n",
    "```sql\n",
    "CREATE TABLE IF NOT EXISTS `paulkamau.WorldBank_Health.age_fe_marriage` as \n",
    "SELECT\n",
    "  country_name,\n",
    "  country_code,\n",
    "  year,\n",
    "  value AS age_female_marriage\n",
    "FROM\n",
    "  `bigquery-public-data.world_bank_health_population.health_nutrition_population`\n",
    "WHERE\n",
    "  indicator_code = \"SP.DYN.SMAM.FE\" --Age at first marriage, female;\n",
    "```\n"
   ]
  },
  {
   "attachments": {},
   "cell_type": "markdown",
   "metadata": {},
   "source": [
    "sql to replace values \n",
    "\n",
    "```sql\n",
    "\n",
    "UPDATE `paulkamau.WorldBank_Health.Indicators_code_desc` \n",
    "SET indicator_code_new = REPLACE(indicator_code_new,'.','_')\n",
    "where indicator_code = indicator_code_new;\n",
    "\n",
    "```"
   ]
  },
  {
   "attachments": {},
   "cell_type": "markdown",
   "metadata": {},
   "source": [
    "## Create the indicator_code_description table \n",
    "\n",
    "```sql\n",
    "\n",
    "CREATE TABLE IF NOT EXISTS `paulkamau.WorldBank_Health.indicators_code_desc` as \n",
    "SELECT distinct(series_code), topic, indicator_name, short_definition, unit_of_measure, periodicity\n",
    " FROM `bigquery-public-data.world_bank_health_population.series_summary`;\n",
    "\n",
    "--  then create a new column and copy the series_code column data into the new column and replace the 'periods' with 'underscores'. This is because the columns are built with underscores \n",
    "\n",
    "ALTER TABLE `paulkamau.WorldBank_Health.indicators_code_desc`\n",
    "ADD COLUMN series_code_new STRING;\n",
    "\n",
    "\n",
    "-- copy the data from one column into the other\n",
    "UPDATE `paulkamau.WorldBank_Health.indicators_code_desc`\n",
    "SET series_code_new = series_code\n",
    "where series_code is not null;\n",
    "\n",
    "-- update the column data with underscores\n",
    "UPDATE `paulkamau.WorldBank_Health.indicators_code_desc`\n",
    "SET series_code_new = REPLACE(series_code_new,'.','_')\n",
    "where series_code = series_code_new;\n",
    "\n",
    "```"
   ]
  },
  {
   "attachments": {},
   "cell_type": "markdown",
   "metadata": {},
   "source": [
    "## Create the combined table between the int_avg_health_nutrition_pivot and countries_dat\n",
    "\n",
    "```sql\n",
    "\n",
    "CREATE TABLE `paulkamau.WorldBank_Health.alcohol_consumption_avg` AS\n",
    "nextval('sort_num'), SELECT t2.* EXCEPT(country_code), t1.country_name, t1.country_code, t1.SH_ALC_PCAP_LI,t1.SH_PRV_SMOK_FE,t1.SH_STA_DIAB_ZS,t1.SH_PRV_SMOK_MA,t1.SH_PRV_SMOK,t1.SH_ALC_PCAP_FE_LI\n",
    "  FROM `paulkamau.WorldBank_Health.international_avg_health_nutrition_pivot` t1\n",
    "    JOIN `paulkamau.WorldBank_Health.countries_data` t2 ON t1.country_code=t2.country_code;\n",
    "\n",
    "```"
   ]
  }
 ],
 "metadata": {
  "kernelspec": {
   "display_name": "Python 3",
   "language": "python",
   "name": "python3"
  },
  "language_info": {
   "name": "python",
   "version": "3.9.6 (default, Oct 18 2022, 12:41:40) \n[Clang 14.0.0 (clang-1400.0.29.202)]"
  },
  "orig_nbformat": 4,
  "vscode": {
   "interpreter": {
    "hash": "31f2aee4e71d21fbe5cf8b01ff0e069b9275f58929596ceb00d14d90e3e16cd6"
   }
  }
 },
 "nbformat": 4,
 "nbformat_minor": 2
}
