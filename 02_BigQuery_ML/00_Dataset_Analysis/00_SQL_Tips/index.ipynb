{
 "cells": [
  {
   "attachments": {},
   "cell_type": "markdown",
   "metadata": {},
   "source": [
    "Query to get jobs by reservation\n",
    "```sql\n",
    "select reservation_id, \n",
    "sum(total_slot_ms) / (1000*60*60*24*7) AS avg_slots \n",
    "from `region-us`.INFORMATION_SCHEMA.JOBS_BY_PROJECT\n",
    "where job_id = 'bquxjob_xxxx'\n",
    "group by 1\n",
    "```"
   ]
  },
  {
   "attachments": {},
   "cell_type": "markdown",
   "metadata": {},
   "source": [
    "## Using WITH CLAUSE \n",
    "\n",
    "```sql\n",
    "WITH WITH_TRIPS AS (\n",
    "  SELECT\n",
    "  EXTRACT (YEAR FROM pickup_datetime) AS year,\n",
    "  EXTRACT (DAYOFYEAR FROM pickup_datetime) AS daynumber\n",
    "FROM\n",
    "  `bigquery-public-data.new_york.tlc_yellow_trips_*`\n",
    "WHERE\n",
    "  _TABLE_SUFFIX BETWEEN '2014'AND '2016'\n",
    ")\n",
    "\n",
    "SELECT cast(year as STRING) as year, daynumber, COUNT(1) AS numtrips --counts all the null and not null values. Or daynumber\n",
    "FROM WITH_TRIPS --with clause above.\n",
    "GROUP BY year, daynumber --group by year first then the day.\n",
    "order by year, daynumber asc -- order by the year first, then the day;\n",
    "\n",
    "\n",
    "```"
   ]
  }
 ],
 "metadata": {
  "kernelspec": {
   "display_name": "Python 3",
   "language": "python",
   "name": "python3"
  },
  "language_info": {
   "name": "python",
   "version": "3.9.6 (default, Oct 18 2022, 12:41:40) \n[Clang 14.0.0 (clang-1400.0.29.202)]"
  },
  "orig_nbformat": 4,
  "vscode": {
   "interpreter": {
    "hash": "31f2aee4e71d21fbe5cf8b01ff0e069b9275f58929596ceb00d14d90e3e16cd6"
   }
  }
 },
 "nbformat": 4,
 "nbformat_minor": 2
}
