{
  "cells": [
    {
      "cell_type": "markdown",
      "metadata": {
        "id": "JAPoU8Sm5E6e"
      },
      "source": [
        "# How to use a Matrix Factorization model in BigQueryML to make movie recommendations\n",
        "\n",
        "###### Copyright\n",
        "**GUI Author:** [ Google Cloud](https://cloud.google.com/bigquery-ml/docs/logistic-regression-prediction)<br>\n",
        "**Notebook Adoption Author:** [Paul Kamau](https://paulkamau.com)<br>\n",
        "**Project Type:** BQML Matrix Factorization<br>\n",
        "**Date created:** 2023/26/10<br>\n",
        "**Training Dataset** This project uses the public dataset [Movielens](http://files.grouplens.org/datasets/movielens/ml-1m.zip)"
      ]
    },
    {
      "cell_type": "markdown",
      "metadata": {
        "id": "tvgnzT1CKxrO"
      },
      "source": [
        "## Summary\n",
        "This project used a matrix factorization model in BigQuery ML to generate movie recommendations for a user using the public movielens dataset. This dataset contains explicit feedback data given a movie ID and User ID. The recommendation is based on rating scale (1-5), genre and other metadata info. The user_id and movie_id ratings dataset has 1,000,209 rows. The movie titles dataset has 3,883 rows.\n",
        "\n",
        "### Dataset\n",
        "Dataset was retrieved from the grouplens Marketplace of datasets [Movielens](http://files.grouplens.org/datasets/movielens/ml-1m.zip) and the dataset created on BigQuery with the ID: `04_bqml_matrixFactor_movie_recc_prediction` prefix. The data format was originally in csv, so it was first loaded and transformed from the gcs bucket into the BQ table.\n",
        "\n",
        "This tutorial uses the following Google Cloud data analytics and ML services:\n",
        "\n",
        "## Key Concepts:\n",
        "- Matrix Factorization\n",
        "- ML.RECOMMEND\n",
        "- ML.WEIGHTS\n",
        "\n",
        "## Objective\n",
        "- Create an explicit recommendations model using the CREATE MODEL statement\n",
        "- Use the ML.EVALUATE function to evaluate the ML Models\n",
        "- Use the ML.WEIGHTS function to inspect the latent factor weights generated during training\n",
        "- Use the ML.RECOMMEND function to produce recommendations for a user.\n",
        "\n",
        "## Steps\n",
        "- Create the dataset & load the dataset into BQ\n",
        "- Use the SELECT statement to examine the data\n",
        "- Use the CREATE MODEL statement to create the explicit recommendation model.\n",
        "- Use the ML.EVALUATE function to evaluate the model data\n",
        "- Use the ML.PREDICT function to predict the ratings and make recommendations\n",
        "- Use the ML.RECOMMEND function to fetch all the ratings for the user-item pairs\n",
        "- Save the recommendation predictions to a table\n",
        "- Generate the top 5 recommendations per user.\n"
      ]
    },
    {
      "cell_type": "markdown",
      "metadata": {
        "id": "sfuPUmwcqLXX"
      },
      "source": [
        "### What is Matrix Factorization?\n",
        "\n",
        "Matrix factorization is a **collaborative filtering** technique that relies on factorizing the ratings matrix into two vectors called the user factors and the item factors.\n",
        "\n",
        "The user factors is a low-dimensional representation of a user_id and the item factors similarly represents an item_id.\n",
        "\n",
        "**Collaborative filtering** provides a way to generate product recommendations for users, or user targeting for products. The starting point is a table, movielens.ratings, with three columns: a user id, an item id, and the rating that the user gave the product. This table can be sparse -- users don’t have to rate all products. Then, based on just the ratings, the technique finds similar users and similar products and determines the rating that a user would give an unseen product. Then, we can recommend the products with the highest predicted ratings to users, or target products at users with the highest predicted ratings.\n",
        "\n"
      ]
    },
    {
      "cell_type": "markdown",
      "metadata": {
        "id": "i7EUnXsZhAGF"
      },
      "source": [
        "## Prepare the Envrionment with Package Installs\n",
        "1. Install the following packages required to execute this notebook.\n",
        "1. install the workbench notebook product dependencies\n",
        "1. Automatically restart kernel after installs"
      ]
    },
    {
      "cell_type": "markdown",
      "metadata": {
        "id": "XoEqT2Y4DJmf"
      },
      "source": [
        "### Import AI Platform and ML libraries"
      ]
    },
    {
      "cell_type": "code",
      "execution_count": null,
      "metadata": {
        "id": "2b4ef9b72d43"
      },
      "outputs": [],
      "source": [
        "import os\n",
        "import sys\n",
        "# The Vertex AI Workbench Notebook product has specific requirements\n",
        "IS_WORKBENCH_NOTEBOOK = os.getenv(\"DL_ANACONDA_HOME\")\n",
        "IS_USER_MANAGED_WORKBENCH_NOTEBOOK = os.path.exists(\n",
        "    \"/opt/deeplearning/metadata/env_version\"\n",
        ")\n",
        "\n",
        "# Vertex AI Notebook requires dependencies to be installed with '--user'\n",
        "USER_FLAG = \"\"\n",
        "if IS_WORKBENCH_NOTEBOOK:\n",
        "    USER_FLAG = \"--user\"\n",
        "\n",
        "! pip3 install --upgrade google-cloud-aiplatform {USER_FLAG} -q google-cloud-bigquery db-dtypes"
      ]
    },
    {
      "cell_type": "markdown",
      "metadata": {
        "id": "hhq5zEbGg0XX"
      },
      "source": [
        "#### Restart the kernel\n",
        "\n",
        "After you install the additional packages, you need to restart the notebook kernel so it can find the packages."
      ]
    },
    {
      "cell_type": "code",
      "execution_count": 3,
      "metadata": {
        "id": "EzrelQZ22IZj"
      },
      "outputs": [],
      "source": [
        "# Automatically restart kernel after installs\n",
        "import os\n",
        "\n",
        "if not os.getenv(\"IS_TESTING\"):\n",
        "    # Automatically restart kernel after installs\n",
        "    import IPython\n",
        "    app = IPython.Application.instance()\n",
        "    app.kernel.do_shutdown(True)"
      ]
    },
    {
      "cell_type": "markdown",
      "metadata": {
        "id": "1vshsBiYRCEv"
      },
      "source": [
        "### Prepare the notebook to run in colab."
      ]
    },
    {
      "cell_type": "code",
      "execution_count": 1,
      "metadata": {
        "id": "PyQmSRbKA8r-"
      },
      "outputs": [],
      "source": [
        "# If you are running this notebook in Colab, run this cell and follow the\n",
        "# instructions to authenticate your GCP account. This provides access to your\n",
        "# Cloud Storage bucket and lets you submit training jobs and prediction\n",
        "# requests.\n",
        "import os\n",
        "import sys\n",
        "\n",
        "# If on Vertex AI Workbench, then don't execute this code\n",
        "IS_COLAB = \"google.colab\" in sys.modules\n",
        "if not os.path.exists(\"/opt/deeplearning/metadata/env_version\") and not os.getenv(\n",
        "    \"DL_ANACONDA_HOME\"\n",
        "):\n",
        "    if \"google.colab\" in sys.modules:\n",
        "        from google.colab import auth as google_auth\n",
        "\n",
        "        google_auth.authenticate_user()\n",
        "\n",
        "    # If you are running this notebook locally, replace the string below with the\n",
        "    # path to your service account key and run this cell to authenticate your GCP\n",
        "    # account.\n",
        "    elif not os.getenv(\"IS_TESTING\"):\n",
        "        %env GOOGLE_APPLICATION_CREDENTIALS ''"
      ]
    },
    {
      "cell_type": "markdown",
      "metadata": {
        "id": "rRfl91PPTPcQ"
      },
      "source": [
        "#### Import the Google Cloud SDK packages"
      ]
    },
    {
      "cell_type": "code",
      "execution_count": 2,
      "metadata": {
        "colab": {
          "base_uri": "https://localhost:8080/"
        },
        "id": "pRUOFELefqf1",
        "outputId": "890f4055-bb12-45a1-daa8-243eaa979703"
      },
      "outputs": [
        {
          "output_type": "stream",
          "name": "stdout",
          "text": [
            "All imports complete\n"
          ]
        }
      ],
      "source": [
        "import google.cloud.aiplatform as vertex_ai\n",
        "import pandas as pd\n",
        "import matplotlib.pyplot as plt\n",
        "import tensorflow as tf\n",
        "import json\n",
        "\n",
        "from typing import Union  # This module provides runtime support for type hints\n",
        "from google.cloud import bigquery\n",
        "from sklearn import metrics\n",
        "from google.api import httpbody_pb2\n",
        "\n",
        "print(\"All imports complete\")"
      ]
    },
    {
      "cell_type": "markdown",
      "metadata": {
        "id": "1eqwLyLiibss"
      },
      "source": [
        "#### GCP & BQML Variables"
      ]
    },
    {
      "cell_type": "code",
      "execution_count": 45,
      "metadata": {
        "colab": {
          "base_uri": "https://localhost:8080/"
        },
        "id": "HBUd-MvjhFDR",
        "outputId": "a70c4cd0-dce1-4d74-9a6a-7854400f72f2"
      },
      "outputs": [
        {
          "output_type": "stream",
          "name": "stdout",
          "text": [
            "All variables set\n"
          ]
        }
      ],
      "source": [
        "# Project variables\n",
        "#\n",
        "# These are the project variable used in this ML Model:\n",
        "#\n",
        "\n",
        "PROJECT_ID = \"paulkamau\" # @param {type:\"string\"}\n",
        "BQML_MODEL_TYPE = \"MATRIX_FACTORIZATION\" #@param [\"LINEAR_REG\", \"LOGISTIC_REG\",\"KMEANS\",\"PCA\",\"MATRIX_FACTORIZATION\",\"AUTOENCODER\",\"AUTOML_REGRESSOR\", \"AUTOML_CLASSIFIER\",\"BOOSTED_TREE_CLASSIFIER\",\"BOOSTED_TREE_REGRESSOR\",\"RANDOM_FOREST_CLASSIFIER\",\"RANDOM_FOREST_REGRESSOR\", \"DNN_CLASSIFIER\",\"DNN_REGRESSOR\",\"DNN_LINEAR_COMBINED_CLASSIFIER\", \"DNN_LINEAR_COMBINED_REGRESSOR\",\"ARIMA_PLUS\",\"TENSORFLOW\"]\n",
        "\n",
        "BQML_MODEL_NAME = \"bqml_max_factor_movielens_movie_recc_model\"\n",
        "BQML_JOB_DISPLAY_NAME = BQML_MODEL_NAME + \"_job\"\n",
        "BQML_ENDPOINT_NAME = BQML_MODEL_NAME + \"_endpoint\"\n",
        "\n",
        "# datasets\n",
        "BQ_DATASET_NAME = \"04_bqml_matrixFactor_movie_recc_prediction\"\n",
        "DATASET_CONTENT = f\"{BQ_DATASET_NAME}.movie_titles\"\n",
        "DATASET_USER = f\"{BQ_DATASET_NAME}.movielens_1m\"\n",
        "DATASET_RECOMMEND = f\"{BQ_DATASET_NAME}.recommend_1m\"\n",
        "BQ_DATASET_VIEW_TABLE= f\"{BQ_DATASET_NAME}.input_view\"\n",
        "\n",
        "# bucket details\n",
        "BUCKET_NAME = \"bqml_tutorials\"\n",
        "BUCKET_URI = f\"gs://{BUCKET_NAME}/{BQML_MODEL_TYPE}/\"\n",
        "OUTPUTBUCKET = f\"gs://bqml_datasets_predictions/{BQML_MODEL_TYPE}/\"\n",
        "\n",
        "# Region\n",
        "REGION = \"us-central1\" #@param [\"us-central1\", \"europe-west4\", \"asia-east1\"]\n",
        "\n",
        "print(\"All variables set\")"
      ]
    },
    {
      "cell_type": "markdown",
      "metadata": {
        "id": "iGBTBZLnflWD"
      },
      "source": [
        "#### Set the Service account automatically from gcloud"
      ]
    },
    {
      "cell_type": "code",
      "execution_count": 4,
      "metadata": {
        "colab": {
          "base_uri": "https://localhost:8080/"
        },
        "id": "autoset_service_account",
        "outputId": "2db52632-4399-4360-f516-fd800e118746"
      },
      "outputs": [
        {
          "output_type": "stream",
          "name": "stdout",
          "text": [
            "Service Account: 993987777814-compute@developer.gserviceaccount.com\n"
          ]
        }
      ],
      "source": [
        "# Get your service account from gcloud\n",
        "if not IS_COLAB:\n",
        "    shell_output = !gcloud auth list 2>/dev/null\n",
        "    SERVICE_ACCOUNT = shell_output[2].replace(\"*\", \"\").strip()\n",
        "\n",
        "else:  # IS_COLAB:\n",
        "    shell_output = ! gcloud projects describe  $PROJECT_ID\n",
        "    project_number = shell_output[-1].split(\":\")[1].strip().replace(\"'\", \"\")\n",
        "    SERVICE_ACCOUNT = f\"{project_number}-compute@developer.gserviceaccount.com\"\n",
        "\n",
        "print(\"Service Account:\", SERVICE_ACCOUNT)"
      ]
    },
    {
      "cell_type": "markdown",
      "metadata": {
        "id": "init_aip:mbsdk,all"
      },
      "source": [
        "#### Initialize Vertex AI and BigQuery SDKs for Python\n",
        "\n",
        "Initialize the Vertex AI SDK for Python for your project and corresponding bucket."
      ]
    },
    {
      "cell_type": "code",
      "execution_count": 5,
      "metadata": {
        "id": "toA0pXPnZ2f-"
      },
      "outputs": [],
      "source": [
        "vertex_ai.init(project=PROJECT_ID, location=REGION)"
      ]
    },
    {
      "cell_type": "markdown",
      "metadata": {
        "id": "83859376c893"
      },
      "source": [
        "Create the BigQuery client."
      ]
    },
    {
      "cell_type": "code",
      "execution_count": 6,
      "metadata": {
        "id": "0ab485806b17"
      },
      "outputs": [],
      "source": [
        "bq_client = bigquery.Client(project=PROJECT_ID)"
      ]
    },
    {
      "cell_type": "markdown",
      "metadata": {
        "id": "f94734ac9312"
      },
      "source": [
        "Use a helper function for sending queries to BigQuery."
      ]
    },
    {
      "cell_type": "code",
      "execution_count": 7,
      "metadata": {
        "id": "e364dab1d353"
      },
      "outputs": [],
      "source": [
        "# Wrapper to use BigQuery client to run query/job, return job ID or result as DF\n",
        "def run_bq_query(sql: str) -> Union[str, pd.DataFrame]:\n",
        "    \"\"\"\n",
        "    Input: SQL query, as a string, to execute in BigQuery\n",
        "    Returns the query results as a pandas DataFrame, or error, if any\n",
        "    \"\"\"\n",
        "\n",
        "    # Try dry run before executing query to catch any errors\n",
        "    job_config = bigquery.QueryJobConfig(dry_run=True, use_query_cache=False)\n",
        "    bq_client.query(sql, job_config=job_config)\n",
        "\n",
        "    # If dry run succeeds without errors, proceed to run query\n",
        "    job_config = bigquery.QueryJobConfig()\n",
        "    client_result = bq_client.query(sql, job_config=job_config)\n",
        "\n",
        "    job_id = client_result.job_id\n",
        "\n",
        "    # Wait for query/job to finish running. then get & return data frame\n",
        "    df = client_result.result().to_arrow().to_pandas()\n",
        "    print(f\"Finished job_id: {job_id}\")\n",
        "    return df"
      ]
    },
    {
      "cell_type": "markdown",
      "metadata": {
        "id": "hTT96Vy2poGB"
      },
      "source": [
        "### Step 1: Create Your Dataset\n",
        "BigQuery organizes data tables into units called datasets. These datasets are scoped to your GCP project. Datasets are:\n",
        "\n",
        "- Collections of “related” tables/views together with labels and description\n",
        "- Allow storage access control at Dataset level\n",
        "- Define location of data i.e. multi-regional (US, EU) or regional (asia-northeast1)\n",
        "\n",
        "[Dataset SDK Reference](https://cloud.google.com/bigquery/docs/datasets-intro)"
      ]
    },
    {
      "cell_type": "code",
      "execution_count": 38,
      "metadata": {
        "colab": {
          "base_uri": "https://localhost:8080/"
        },
        "id": "me9upiCPXqXc",
        "outputId": "418f3807-2ad8-4e6d-ed0d-80277510c412"
      },
      "outputs": [
        {
          "output_type": "stream",
          "name": "stdout",
          "text": [
            "SELECT count (*) FROM INFORMATION_SCHEMA.SCHEMATA WHERE schema_name = '04_bqml_matrixFactor_movie_recc_prediction'\n",
            "Finished job_id: 6d3a5998-0392-4565-9647-e4e1520c52f5\n",
            "Review the Dataset in the Console:\n",
            "https://console.cloud.google.com/bigquery?page=dataset&p=paulkamau&d=04_bqml_matrixFactor_movie_recc_prediction&project=paulkamau\n"
          ]
        }
      ],
      "source": [
        "# check if Dataset exists.\n",
        "sql_list_dataset_exists = f\"\"\"SELECT count (*) FROM INFORMATION_SCHEMA.SCHEMATA WHERE schema_name = '{BQ_DATASET_NAME}'\"\"\"\n",
        "\n",
        "# Display the sql statement\n",
        "print(sql_list_dataset_exists)\n",
        "\n",
        "# execute the sql statement\n",
        "run_bq_query(sql_list_dataset_exists)\n",
        "\n",
        "print(f'Review the Dataset in the Console:\\nhttps://console.cloud.google.com/bigquery?page=dataset&p={PROJECT_ID}&d={BQ_DATASET_NAME}&project={PROJECT_ID}')"
      ]
    },
    {
      "cell_type": "code",
      "execution_count": 39,
      "metadata": {
        "id": "088e3b9577b3",
        "colab": {
          "base_uri": "https://localhost:8080/"
        },
        "outputId": "feb14769-37e3-4901-84d3-5cf182c91c81"
      },
      "outputs": [
        {
          "output_type": "stream",
          "name": "stdout",
          "text": [
            "CREATE SCHEMA IF NOT EXISTS `04_bqml_matrixFactor_movie_recc_prediction`\n",
            "Finished job_id: 365b96e3-ef68-4cf0-aa0f-c2a02ec93053\n",
            "Review the Dataset in the Console:\n",
            "https://console.cloud.google.com/bigquery?page=dataset&p=paulkamau&d=04_bqml_matrixFactor_movie_recc_prediction&project=paulkamau\n"
          ]
        }
      ],
      "source": [
        "sql_create_dataset = f\"\"\"CREATE SCHEMA IF NOT EXISTS `{BQ_DATASET_NAME}`\"\"\"\n",
        "\n",
        "print(sql_create_dataset)\n",
        "\n",
        "run_bq_query(sql_create_dataset)\n",
        "\n",
        "print(f'Review the Dataset in the Console:\\nhttps://console.cloud.google.com/bigquery?page=dataset&p={PROJECT_ID}&d={BQ_DATASET_NAME}&project={PROJECT_ID}')"
      ]
    },
    {
      "cell_type": "markdown",
      "metadata": {
        "id": "49dd00d5fbe5"
      },
      "source": [
        "#### Examine both tables\n",
        "\n",
        "`DATASET_CONTENT` = Contains the movie titles\n",
        "\n",
        "`DATASET_USER` = Contains the user ratings\n"
      ]
    },
    {
      "cell_type": "code",
      "execution_count": 40,
      "metadata": {
        "colab": {
          "base_uri": "https://localhost:8080/",
          "height": 505
        },
        "id": "PAeVXLUXbhIq",
        "outputId": "07e2903f-d217-4e06-d382-e46e0700ca37"
      },
      "outputs": [
        {
          "output_type": "stream",
          "name": "stdout",
          "text": [
            "\n",
            "SELECT *\n",
            "FROM\n",
            " `04_bqml_matrixFactor_movie_recc_prediction.movie_titles`\n",
            "LIMIT\n",
            " 10;\n",
            "\n",
            "Finished job_id: 6a0e8c5e-7218-41b7-9121-f6fef7008b50\n"
          ]
        },
        {
          "output_type": "execute_result",
          "data": {
            "text/plain": [
              "   movie_id                                        movie_title genre\n",
              "0       632        Land and Freedom (Tierra y libertad) (1995)   War\n",
              "1       665                                 Underground (1995)   War\n",
              "2       760                                  Stalingrad (1993)   War\n",
              "3       777                              Pharaoh's Army (1995)   War\n",
              "4      1450  Prisoner of the Mountains (Kavkazsky Plennik) ...   War\n",
              "5      1927              All Quiet on the Western Front (1930)   War\n",
              "6      2669                              Pork Chop Hill (1959)   War\n",
              "7      2670                        Run Silent, Run Deep (1958)   War\n",
              "8      3066                           Tora! Tora! Tora! (1970)   War\n",
              "9      3339                               Cross of Iron (1977)   War"
            ],
            "text/html": [
              "\n",
              "  <div id=\"df-359398d1-299c-43f6-9c2c-144c9f5ca19a\">\n",
              "    <div class=\"colab-df-container\">\n",
              "      <div>\n",
              "<style scoped>\n",
              "    .dataframe tbody tr th:only-of-type {\n",
              "        vertical-align: middle;\n",
              "    }\n",
              "\n",
              "    .dataframe tbody tr th {\n",
              "        vertical-align: top;\n",
              "    }\n",
              "\n",
              "    .dataframe thead th {\n",
              "        text-align: right;\n",
              "    }\n",
              "</style>\n",
              "<table border=\"1\" class=\"dataframe\">\n",
              "  <thead>\n",
              "    <tr style=\"text-align: right;\">\n",
              "      <th></th>\n",
              "      <th>movie_id</th>\n",
              "      <th>movie_title</th>\n",
              "      <th>genre</th>\n",
              "    </tr>\n",
              "  </thead>\n",
              "  <tbody>\n",
              "    <tr>\n",
              "      <th>0</th>\n",
              "      <td>632</td>\n",
              "      <td>Land and Freedom (Tierra y libertad) (1995)</td>\n",
              "      <td>War</td>\n",
              "    </tr>\n",
              "    <tr>\n",
              "      <th>1</th>\n",
              "      <td>665</td>\n",
              "      <td>Underground (1995)</td>\n",
              "      <td>War</td>\n",
              "    </tr>\n",
              "    <tr>\n",
              "      <th>2</th>\n",
              "      <td>760</td>\n",
              "      <td>Stalingrad (1993)</td>\n",
              "      <td>War</td>\n",
              "    </tr>\n",
              "    <tr>\n",
              "      <th>3</th>\n",
              "      <td>777</td>\n",
              "      <td>Pharaoh's Army (1995)</td>\n",
              "      <td>War</td>\n",
              "    </tr>\n",
              "    <tr>\n",
              "      <th>4</th>\n",
              "      <td>1450</td>\n",
              "      <td>Prisoner of the Mountains (Kavkazsky Plennik) ...</td>\n",
              "      <td>War</td>\n",
              "    </tr>\n",
              "    <tr>\n",
              "      <th>5</th>\n",
              "      <td>1927</td>\n",
              "      <td>All Quiet on the Western Front (1930)</td>\n",
              "      <td>War</td>\n",
              "    </tr>\n",
              "    <tr>\n",
              "      <th>6</th>\n",
              "      <td>2669</td>\n",
              "      <td>Pork Chop Hill (1959)</td>\n",
              "      <td>War</td>\n",
              "    </tr>\n",
              "    <tr>\n",
              "      <th>7</th>\n",
              "      <td>2670</td>\n",
              "      <td>Run Silent, Run Deep (1958)</td>\n",
              "      <td>War</td>\n",
              "    </tr>\n",
              "    <tr>\n",
              "      <th>8</th>\n",
              "      <td>3066</td>\n",
              "      <td>Tora! Tora! Tora! (1970)</td>\n",
              "      <td>War</td>\n",
              "    </tr>\n",
              "    <tr>\n",
              "      <th>9</th>\n",
              "      <td>3339</td>\n",
              "      <td>Cross of Iron (1977)</td>\n",
              "      <td>War</td>\n",
              "    </tr>\n",
              "  </tbody>\n",
              "</table>\n",
              "</div>\n",
              "      <button class=\"colab-df-convert\" onclick=\"convertToInteractive('df-359398d1-299c-43f6-9c2c-144c9f5ca19a')\"\n",
              "              title=\"Convert this dataframe to an interactive table.\"\n",
              "              style=\"display:none;\">\n",
              "        \n",
              "  <svg xmlns=\"http://www.w3.org/2000/svg\" height=\"24px\"viewBox=\"0 0 24 24\"\n",
              "       width=\"24px\">\n",
              "    <path d=\"M0 0h24v24H0V0z\" fill=\"none\"/>\n",
              "    <path d=\"M18.56 5.44l.94 2.06.94-2.06 2.06-.94-2.06-.94-.94-2.06-.94 2.06-2.06.94zm-11 1L8.5 8.5l.94-2.06 2.06-.94-2.06-.94L8.5 2.5l-.94 2.06-2.06.94zm10 10l.94 2.06.94-2.06 2.06-.94-2.06-.94-.94-2.06-.94 2.06-2.06.94z\"/><path d=\"M17.41 7.96l-1.37-1.37c-.4-.4-.92-.59-1.43-.59-.52 0-1.04.2-1.43.59L10.3 9.45l-7.72 7.72c-.78.78-.78 2.05 0 2.83L4 21.41c.39.39.9.59 1.41.59.51 0 1.02-.2 1.41-.59l7.78-7.78 2.81-2.81c.8-.78.8-2.07 0-2.86zM5.41 20L4 18.59l7.72-7.72 1.47 1.35L5.41 20z\"/>\n",
              "  </svg>\n",
              "      </button>\n",
              "      \n",
              "  <style>\n",
              "    .colab-df-container {\n",
              "      display:flex;\n",
              "      flex-wrap:wrap;\n",
              "      gap: 12px;\n",
              "    }\n",
              "\n",
              "    .colab-df-convert {\n",
              "      background-color: #E8F0FE;\n",
              "      border: none;\n",
              "      border-radius: 50%;\n",
              "      cursor: pointer;\n",
              "      display: none;\n",
              "      fill: #1967D2;\n",
              "      height: 32px;\n",
              "      padding: 0 0 0 0;\n",
              "      width: 32px;\n",
              "    }\n",
              "\n",
              "    .colab-df-convert:hover {\n",
              "      background-color: #E2EBFA;\n",
              "      box-shadow: 0px 1px 2px rgba(60, 64, 67, 0.3), 0px 1px 3px 1px rgba(60, 64, 67, 0.15);\n",
              "      fill: #174EA6;\n",
              "    }\n",
              "\n",
              "    [theme=dark] .colab-df-convert {\n",
              "      background-color: #3B4455;\n",
              "      fill: #D2E3FC;\n",
              "    }\n",
              "\n",
              "    [theme=dark] .colab-df-convert:hover {\n",
              "      background-color: #434B5C;\n",
              "      box-shadow: 0px 1px 3px 1px rgba(0, 0, 0, 0.15);\n",
              "      filter: drop-shadow(0px 1px 2px rgba(0, 0, 0, 0.3));\n",
              "      fill: #FFFFFF;\n",
              "    }\n",
              "  </style>\n",
              "\n",
              "      <script>\n",
              "        const buttonEl =\n",
              "          document.querySelector('#df-359398d1-299c-43f6-9c2c-144c9f5ca19a button.colab-df-convert');\n",
              "        buttonEl.style.display =\n",
              "          google.colab.kernel.accessAllowed ? 'block' : 'none';\n",
              "\n",
              "        async function convertToInteractive(key) {\n",
              "          const element = document.querySelector('#df-359398d1-299c-43f6-9c2c-144c9f5ca19a');\n",
              "          const dataTable =\n",
              "            await google.colab.kernel.invokeFunction('convertToInteractive',\n",
              "                                                     [key], {});\n",
              "          if (!dataTable) return;\n",
              "\n",
              "          const docLinkHtml = 'Like what you see? Visit the ' +\n",
              "            '<a target=\"_blank\" href=https://colab.research.google.com/notebooks/data_table.ipynb>data table notebook</a>'\n",
              "            + ' to learn more about interactive tables.';\n",
              "          element.innerHTML = '';\n",
              "          dataTable['output_type'] = 'display_data';\n",
              "          await google.colab.output.renderOutput(dataTable, element);\n",
              "          const docLink = document.createElement('div');\n",
              "          docLink.innerHTML = docLinkHtml;\n",
              "          element.appendChild(docLink);\n",
              "        }\n",
              "      </script>\n",
              "    </div>\n",
              "  </div>\n",
              "  "
            ]
          },
          "metadata": {},
          "execution_count": 40
        }
      ],
      "source": [
        "sql_inspect_full_feature_dataset1 = f\"\"\"\n",
        "SELECT *\n",
        "FROM\n",
        " `{DATASET_CONTENT}`\n",
        "LIMIT\n",
        " 10;\n",
        "\"\"\"\n",
        "\n",
        "# Display the sql statement\n",
        "print(sql_inspect_full_feature_dataset1)\n",
        "\n",
        "run_bq_query(sql_inspect_full_feature_dataset1)\n"
      ]
    },
    {
      "cell_type": "markdown",
      "source": [
        "`DATASET_USER` = Contains the user ratings"
      ],
      "metadata": {
        "id": "FTYW7bnmK1FM"
      }
    },
    {
      "cell_type": "code",
      "source": [
        "sql_inspect_full_feature_dataset2 = f\"\"\"\n",
        "SELECT *\n",
        "FROM\n",
        " `{DATASET_USER}`\n",
        "LIMIT\n",
        " 10;\n",
        "\"\"\"\n",
        "\n",
        "# Display the sql statement\n",
        "print(sql_inspect_full_feature_dataset2)\n",
        "\n",
        "run_bq_query(sql_inspect_full_feature_dataset2)\n"
      ],
      "metadata": {
        "colab": {
          "base_uri": "https://localhost:8080/",
          "height": 505
        },
        "id": "mW0ISSB5KmDN",
        "outputId": "dce17630-8164-4827-8885-248b8acdd49f"
      },
      "execution_count": 41,
      "outputs": [
        {
          "output_type": "stream",
          "name": "stdout",
          "text": [
            "\n",
            "SELECT *\n",
            "FROM\n",
            " `04_bqml_matrixFactor_movie_recc_prediction.movielens_1m`\n",
            "LIMIT\n",
            " 10;\n",
            "\n",
            "Finished job_id: 3c7ecbc8-534a-4c7a-aebe-1fe7e6a47548\n"
          ]
        },
        {
          "output_type": "execute_result",
          "data": {
            "text/plain": [
              "   user_id  item_id  rating                 timestamp\n",
              "0        2     1213     2.0 2000-12-31 21:34:18+00:00\n",
              "1        2      434     2.0 2000-12-31 22:02:54+00:00\n",
              "2        2     3107     2.0 2000-12-31 22:00:02+00:00\n",
              "3        2      902     2.0 2000-12-31 21:41:45+00:00\n",
              "4        2     3256     2.0 2000-12-31 21:57:19+00:00\n",
              "5        2     3699     2.0 2000-12-31 21:46:13+00:00\n",
              "6        2     2427     2.0 2000-12-31 21:58:33+00:00\n",
              "7        2       95     2.0 2000-12-31 22:02:23+00:00\n",
              "8        2     1090     2.0 2000-12-31 21:36:20+00:00\n",
              "9        2     1968     2.0 2000-12-31 21:41:21+00:00"
            ],
            "text/html": [
              "\n",
              "  <div id=\"df-bde2a2f0-4484-405e-823e-5d2870d2ebd4\">\n",
              "    <div class=\"colab-df-container\">\n",
              "      <div>\n",
              "<style scoped>\n",
              "    .dataframe tbody tr th:only-of-type {\n",
              "        vertical-align: middle;\n",
              "    }\n",
              "\n",
              "    .dataframe tbody tr th {\n",
              "        vertical-align: top;\n",
              "    }\n",
              "\n",
              "    .dataframe thead th {\n",
              "        text-align: right;\n",
              "    }\n",
              "</style>\n",
              "<table border=\"1\" class=\"dataframe\">\n",
              "  <thead>\n",
              "    <tr style=\"text-align: right;\">\n",
              "      <th></th>\n",
              "      <th>user_id</th>\n",
              "      <th>item_id</th>\n",
              "      <th>rating</th>\n",
              "      <th>timestamp</th>\n",
              "    </tr>\n",
              "  </thead>\n",
              "  <tbody>\n",
              "    <tr>\n",
              "      <th>0</th>\n",
              "      <td>2</td>\n",
              "      <td>1213</td>\n",
              "      <td>2.0</td>\n",
              "      <td>2000-12-31 21:34:18+00:00</td>\n",
              "    </tr>\n",
              "    <tr>\n",
              "      <th>1</th>\n",
              "      <td>2</td>\n",
              "      <td>434</td>\n",
              "      <td>2.0</td>\n",
              "      <td>2000-12-31 22:02:54+00:00</td>\n",
              "    </tr>\n",
              "    <tr>\n",
              "      <th>2</th>\n",
              "      <td>2</td>\n",
              "      <td>3107</td>\n",
              "      <td>2.0</td>\n",
              "      <td>2000-12-31 22:00:02+00:00</td>\n",
              "    </tr>\n",
              "    <tr>\n",
              "      <th>3</th>\n",
              "      <td>2</td>\n",
              "      <td>902</td>\n",
              "      <td>2.0</td>\n",
              "      <td>2000-12-31 21:41:45+00:00</td>\n",
              "    </tr>\n",
              "    <tr>\n",
              "      <th>4</th>\n",
              "      <td>2</td>\n",
              "      <td>3256</td>\n",
              "      <td>2.0</td>\n",
              "      <td>2000-12-31 21:57:19+00:00</td>\n",
              "    </tr>\n",
              "    <tr>\n",
              "      <th>5</th>\n",
              "      <td>2</td>\n",
              "      <td>3699</td>\n",
              "      <td>2.0</td>\n",
              "      <td>2000-12-31 21:46:13+00:00</td>\n",
              "    </tr>\n",
              "    <tr>\n",
              "      <th>6</th>\n",
              "      <td>2</td>\n",
              "      <td>2427</td>\n",
              "      <td>2.0</td>\n",
              "      <td>2000-12-31 21:58:33+00:00</td>\n",
              "    </tr>\n",
              "    <tr>\n",
              "      <th>7</th>\n",
              "      <td>2</td>\n",
              "      <td>95</td>\n",
              "      <td>2.0</td>\n",
              "      <td>2000-12-31 22:02:23+00:00</td>\n",
              "    </tr>\n",
              "    <tr>\n",
              "      <th>8</th>\n",
              "      <td>2</td>\n",
              "      <td>1090</td>\n",
              "      <td>2.0</td>\n",
              "      <td>2000-12-31 21:36:20+00:00</td>\n",
              "    </tr>\n",
              "    <tr>\n",
              "      <th>9</th>\n",
              "      <td>2</td>\n",
              "      <td>1968</td>\n",
              "      <td>2.0</td>\n",
              "      <td>2000-12-31 21:41:21+00:00</td>\n",
              "    </tr>\n",
              "  </tbody>\n",
              "</table>\n",
              "</div>\n",
              "      <button class=\"colab-df-convert\" onclick=\"convertToInteractive('df-bde2a2f0-4484-405e-823e-5d2870d2ebd4')\"\n",
              "              title=\"Convert this dataframe to an interactive table.\"\n",
              "              style=\"display:none;\">\n",
              "        \n",
              "  <svg xmlns=\"http://www.w3.org/2000/svg\" height=\"24px\"viewBox=\"0 0 24 24\"\n",
              "       width=\"24px\">\n",
              "    <path d=\"M0 0h24v24H0V0z\" fill=\"none\"/>\n",
              "    <path d=\"M18.56 5.44l.94 2.06.94-2.06 2.06-.94-2.06-.94-.94-2.06-.94 2.06-2.06.94zm-11 1L8.5 8.5l.94-2.06 2.06-.94-2.06-.94L8.5 2.5l-.94 2.06-2.06.94zm10 10l.94 2.06.94-2.06 2.06-.94-2.06-.94-.94-2.06-.94 2.06-2.06.94z\"/><path d=\"M17.41 7.96l-1.37-1.37c-.4-.4-.92-.59-1.43-.59-.52 0-1.04.2-1.43.59L10.3 9.45l-7.72 7.72c-.78.78-.78 2.05 0 2.83L4 21.41c.39.39.9.59 1.41.59.51 0 1.02-.2 1.41-.59l7.78-7.78 2.81-2.81c.8-.78.8-2.07 0-2.86zM5.41 20L4 18.59l7.72-7.72 1.47 1.35L5.41 20z\"/>\n",
              "  </svg>\n",
              "      </button>\n",
              "      \n",
              "  <style>\n",
              "    .colab-df-container {\n",
              "      display:flex;\n",
              "      flex-wrap:wrap;\n",
              "      gap: 12px;\n",
              "    }\n",
              "\n",
              "    .colab-df-convert {\n",
              "      background-color: #E8F0FE;\n",
              "      border: none;\n",
              "      border-radius: 50%;\n",
              "      cursor: pointer;\n",
              "      display: none;\n",
              "      fill: #1967D2;\n",
              "      height: 32px;\n",
              "      padding: 0 0 0 0;\n",
              "      width: 32px;\n",
              "    }\n",
              "\n",
              "    .colab-df-convert:hover {\n",
              "      background-color: #E2EBFA;\n",
              "      box-shadow: 0px 1px 2px rgba(60, 64, 67, 0.3), 0px 1px 3px 1px rgba(60, 64, 67, 0.15);\n",
              "      fill: #174EA6;\n",
              "    }\n",
              "\n",
              "    [theme=dark] .colab-df-convert {\n",
              "      background-color: #3B4455;\n",
              "      fill: #D2E3FC;\n",
              "    }\n",
              "\n",
              "    [theme=dark] .colab-df-convert:hover {\n",
              "      background-color: #434B5C;\n",
              "      box-shadow: 0px 1px 3px 1px rgba(0, 0, 0, 0.15);\n",
              "      filter: drop-shadow(0px 1px 2px rgba(0, 0, 0, 0.3));\n",
              "      fill: #FFFFFF;\n",
              "    }\n",
              "  </style>\n",
              "\n",
              "      <script>\n",
              "        const buttonEl =\n",
              "          document.querySelector('#df-bde2a2f0-4484-405e-823e-5d2870d2ebd4 button.colab-df-convert');\n",
              "        buttonEl.style.display =\n",
              "          google.colab.kernel.accessAllowed ? 'block' : 'none';\n",
              "\n",
              "        async function convertToInteractive(key) {\n",
              "          const element = document.querySelector('#df-bde2a2f0-4484-405e-823e-5d2870d2ebd4');\n",
              "          const dataTable =\n",
              "            await google.colab.kernel.invokeFunction('convertToInteractive',\n",
              "                                                     [key], {});\n",
              "          if (!dataTable) return;\n",
              "\n",
              "          const docLinkHtml = 'Like what you see? Visit the ' +\n",
              "            '<a target=\"_blank\" href=https://colab.research.google.com/notebooks/data_table.ipynb>data table notebook</a>'\n",
              "            + ' to learn more about interactive tables.';\n",
              "          element.innerHTML = '';\n",
              "          dataTable['output_type'] = 'display_data';\n",
              "          await google.colab.output.renderOutput(dataTable, element);\n",
              "          const docLink = document.createElement('div');\n",
              "          docLink.innerHTML = docLinkHtml;\n",
              "          element.appendChild(docLink);\n",
              "        }\n",
              "      </script>\n",
              "    </div>\n",
              "  </div>\n",
              "  "
            ]
          },
          "metadata": {},
          "execution_count": 41
        }
      ]
    },
    {
      "cell_type": "markdown",
      "source": [
        "### Establish the Model Parameters: `User_ID`, `item_col`, and `criteria`"
      ],
      "metadata": {
        "id": "izY6eFyfLx81"
      }
    },
    {
      "cell_type": "code",
      "source": [
        "## All dataset variables\n",
        "USER_COL = \"user_id\"\n",
        "ITEM_COL = \"item_id\"\n",
        "CRITERIA = \"rating\"\n",
        "DATASET_USER_FEATURES = \"user_id,item_id,rating\"\n",
        "DATASET_CONTENT_FEATURES = \"movie_id,movie_title,genre\"\n",
        "\n",
        "print('All dataset variables updated')"
      ],
      "metadata": {
        "colab": {
          "base_uri": "https://localhost:8080/"
        },
        "id": "Gq3VfQoFLvqf",
        "outputId": "13859b63-ce13-46ed-d56d-8c6e70b482d8"
      },
      "execution_count": 42,
      "outputs": [
        {
          "output_type": "stream",
          "name": "stdout",
          "text": [
            "All dataset variables updated\n"
          ]
        }
      ]
    },
    {
      "cell_type": "markdown",
      "metadata": {
        "id": "566f3395f20b"
      },
      "source": [
        "### Step 3: Use the CREATE MODEL statement to create your Matrix Factorization model.\n",
        "\n",
        "Next, we created the explicit recommendations model using the movielens data using the query to create the model that was used to predict a rating for every user-item pair.\n",
        "\n",
        "View the **BQML model** [doc](https://cloud.google.com/bigquery-ml/docs/reference/standard-sql/bigqueryml-syntax-create) reference"
      ]
    },
    {
      "cell_type": "code",
      "execution_count": 18,
      "metadata": {
        "colab": {
          "base_uri": "https://localhost:8080/"
        },
        "id": "oxKDUCkL1ZZh",
        "outputId": "1b29be4c-fed2-4d60-88db-57c7270c08c4"
      },
      "outputs": [
        {
          "output_type": "stream",
          "name": "stdout",
          "text": [
            "Review the Model in the Console:\n",
            "https://console.cloud.google.com/vertex-ai/locations/us-central1/models/bqml_max_factor_movielens_movie_recc_model?project=paulkamau\n"
          ]
        }
      ],
      "source": [
        "#\n",
        "# Let's check if the model already exists.\n",
        "# Note: We're tapping into the python notebook's integration with vertex without invoking sql in any way.\n",
        "#\n",
        "model = vertex_ai.Model.list(filter = f\"display_name={BQML_MODEL_NAME}\")\n",
        "\n",
        "if model:\n",
        "  print(f'Review the Model in the Console:\\nhttps://console.cloud.google.com/vertex-ai/locations/{REGION}/models/{BQML_MODEL_NAME}?project={PROJECT_ID}')\n",
        "else:\n",
        "  print(\"Model doesn't exist\")\n"
      ]
    },
    {
      "cell_type": "code",
      "execution_count": null,
      "metadata": {
        "id": "414c45011c1f"
      },
      "outputs": [],
      "source": [
        "#\n",
        "# Create the training job. this cell may take ~1 min to run\n",
        "#\n",
        "\n",
        "sql_train_bqml_model_job = f\"\"\"\n",
        "CREATE MODEL IF NOT EXISTS `{BQ_DATASET_NAME}.{BQML_MODEL_NAME}`\n",
        "OPTIONS (\n",
        "  model_type = \"{BQML_MODEL_TYPE}\",\n",
        "  user_col = \"{USER_COL}\",\n",
        "  item_col = \"{ITEM_COL}\",\n",
        "  model_registry = \"vertex_ai\",\n",
        "  early_stop = TRUE,\n",
        "  l2_reg=9.83,\n",
        "  num_factors=34,\n",
        "  vertex_ai_model_version_aliases = ['matrix_factorization']\n",
        ") AS\n",
        "SELECT\n",
        "{USER_COL},\n",
        "{ITEM_COL},\n",
        "{CRITERIA}\n",
        "FROM\n",
        "  `{DATASET_USER}`\n",
        "\"\"\"\n",
        "\n",
        "print(sql_train_bqml_model_job)\n",
        "\n",
        "run_bq_query(sql_train_bqml_model_job)\n",
        "\n",
        "print(f'Review the Model in the Console:\\nhttps://console.cloud.google.com/bigquery?referrer=search&project={PROJECT_ID}&ws=!1m5!1m4!5m3!1s{PROJECT_ID}!2s{BQ_DATASET_NAME}!3s{BQML_MODEL_NAME}')"
      ]
    },
    {
      "cell_type": "markdown",
      "metadata": {
        "id": "6y8avO0mtVkC"
      },
      "source": [
        "In the `OPTIONS` parameter:\n",
        "* with `model_registry=\"vertex_ai\"`, the BigQuery ML model will automatically be <a href=\"https://cloud.google.com/vertex-ai/docs/model-registry/model-registry-bqml\" target=\"_blank\">registered to Vertex AI Model Registry</a>, which enables you to view all of your registered models and its versions on Google Cloud in one place.\n",
        "\n",
        "- `l2_reg` = The amount of L2 regularization applied. A type of regularization that penalizes weights in proportion to the sum of the squares of the weights.\n",
        "\n",
        "- `num_factors` = Specifies the number of latent factors to use for matrix factorization models.\n",
        "\n",
        "* `vertex_ai_model_version_aliases allows you to set aliases to help you keep track of your model version [Doc](https://cloud.google.com/vertex-ai/docs/model-registry/model-alias)\n"
      ]
    },
    {
      "cell_type": "markdown",
      "metadata": {
        "id": "rzn3TAualqln"
      },
      "source": [
        "### Step3b. Use the ML.TRAINING_INFO to see the training iterations and details of the model\n",
        "\n",
        "The ML.TRAINING_INFO [function](https://cloud.google.com/bigquery-ml/docs/reference/standard-sql/bigqueryml-syntax-train) allows you to see information about the training iterations of a model. ML.TRAINING_INFO can be run while the CREATE MODEL query is running, or after it is run. If you run a query that contains ML.TRAINING_INFO before the first training iteration is complete, the query returns a Not found error."
      ]
    },
    {
      "cell_type": "code",
      "execution_count": 28,
      "metadata": {
        "colab": {
          "base_uri": "https://localhost:8080/",
          "height": 425
        },
        "id": "eJ0I5tp_l8X5",
        "outputId": "ce2a6351-ac44-4d4c-80f7-2e323d05b851"
      },
      "outputs": [
        {
          "output_type": "execute_result",
          "data": {
            "text/plain": [
              "    training_run  iteration      loss  eval_loss  duration_ms\n",
              "0              0          0  3.538775        NaN       101157\n",
              "1              0          1  0.666185        NaN        49707\n",
              "2              0          2  0.556992        NaN        45537\n",
              "3              0          3  0.495828        NaN        61460\n",
              "4              0          4  0.464330        NaN        45510\n",
              "5              0          5  0.445371        NaN        60751\n",
              "6              0          6  0.430605        NaN        48677\n",
              "7              0          7  0.421342        NaN        53558\n",
              "8              0          8  0.412382        NaN        44099\n",
              "9              0          9  0.406851        NaN        46868\n",
              "10             0         10  0.400654        NaN        43579\n",
              "11             0         11  0.396964        NaN        56465"
            ],
            "text/html": [
              "\n",
              "  <div id=\"df-4a28a4d5-04ca-49f3-971e-6a51332bc0f7\">\n",
              "    <div class=\"colab-df-container\">\n",
              "      <div>\n",
              "<style scoped>\n",
              "    .dataframe tbody tr th:only-of-type {\n",
              "        vertical-align: middle;\n",
              "    }\n",
              "\n",
              "    .dataframe tbody tr th {\n",
              "        vertical-align: top;\n",
              "    }\n",
              "\n",
              "    .dataframe thead th {\n",
              "        text-align: right;\n",
              "    }\n",
              "</style>\n",
              "<table border=\"1\" class=\"dataframe\">\n",
              "  <thead>\n",
              "    <tr style=\"text-align: right;\">\n",
              "      <th></th>\n",
              "      <th>training_run</th>\n",
              "      <th>iteration</th>\n",
              "      <th>loss</th>\n",
              "      <th>eval_loss</th>\n",
              "      <th>duration_ms</th>\n",
              "    </tr>\n",
              "  </thead>\n",
              "  <tbody>\n",
              "    <tr>\n",
              "      <th>0</th>\n",
              "      <td>0</td>\n",
              "      <td>0</td>\n",
              "      <td>3.538775</td>\n",
              "      <td>NaN</td>\n",
              "      <td>101157</td>\n",
              "    </tr>\n",
              "    <tr>\n",
              "      <th>1</th>\n",
              "      <td>0</td>\n",
              "      <td>1</td>\n",
              "      <td>0.666185</td>\n",
              "      <td>NaN</td>\n",
              "      <td>49707</td>\n",
              "    </tr>\n",
              "    <tr>\n",
              "      <th>2</th>\n",
              "      <td>0</td>\n",
              "      <td>2</td>\n",
              "      <td>0.556992</td>\n",
              "      <td>NaN</td>\n",
              "      <td>45537</td>\n",
              "    </tr>\n",
              "    <tr>\n",
              "      <th>3</th>\n",
              "      <td>0</td>\n",
              "      <td>3</td>\n",
              "      <td>0.495828</td>\n",
              "      <td>NaN</td>\n",
              "      <td>61460</td>\n",
              "    </tr>\n",
              "    <tr>\n",
              "      <th>4</th>\n",
              "      <td>0</td>\n",
              "      <td>4</td>\n",
              "      <td>0.464330</td>\n",
              "      <td>NaN</td>\n",
              "      <td>45510</td>\n",
              "    </tr>\n",
              "    <tr>\n",
              "      <th>5</th>\n",
              "      <td>0</td>\n",
              "      <td>5</td>\n",
              "      <td>0.445371</td>\n",
              "      <td>NaN</td>\n",
              "      <td>60751</td>\n",
              "    </tr>\n",
              "    <tr>\n",
              "      <th>6</th>\n",
              "      <td>0</td>\n",
              "      <td>6</td>\n",
              "      <td>0.430605</td>\n",
              "      <td>NaN</td>\n",
              "      <td>48677</td>\n",
              "    </tr>\n",
              "    <tr>\n",
              "      <th>7</th>\n",
              "      <td>0</td>\n",
              "      <td>7</td>\n",
              "      <td>0.421342</td>\n",
              "      <td>NaN</td>\n",
              "      <td>53558</td>\n",
              "    </tr>\n",
              "    <tr>\n",
              "      <th>8</th>\n",
              "      <td>0</td>\n",
              "      <td>8</td>\n",
              "      <td>0.412382</td>\n",
              "      <td>NaN</td>\n",
              "      <td>44099</td>\n",
              "    </tr>\n",
              "    <tr>\n",
              "      <th>9</th>\n",
              "      <td>0</td>\n",
              "      <td>9</td>\n",
              "      <td>0.406851</td>\n",
              "      <td>NaN</td>\n",
              "      <td>46868</td>\n",
              "    </tr>\n",
              "    <tr>\n",
              "      <th>10</th>\n",
              "      <td>0</td>\n",
              "      <td>10</td>\n",
              "      <td>0.400654</td>\n",
              "      <td>NaN</td>\n",
              "      <td>43579</td>\n",
              "    </tr>\n",
              "    <tr>\n",
              "      <th>11</th>\n",
              "      <td>0</td>\n",
              "      <td>11</td>\n",
              "      <td>0.396964</td>\n",
              "      <td>NaN</td>\n",
              "      <td>56465</td>\n",
              "    </tr>\n",
              "  </tbody>\n",
              "</table>\n",
              "</div>\n",
              "      <button class=\"colab-df-convert\" onclick=\"convertToInteractive('df-4a28a4d5-04ca-49f3-971e-6a51332bc0f7')\"\n",
              "              title=\"Convert this dataframe to an interactive table.\"\n",
              "              style=\"display:none;\">\n",
              "        \n",
              "  <svg xmlns=\"http://www.w3.org/2000/svg\" height=\"24px\"viewBox=\"0 0 24 24\"\n",
              "       width=\"24px\">\n",
              "    <path d=\"M0 0h24v24H0V0z\" fill=\"none\"/>\n",
              "    <path d=\"M18.56 5.44l.94 2.06.94-2.06 2.06-.94-2.06-.94-.94-2.06-.94 2.06-2.06.94zm-11 1L8.5 8.5l.94-2.06 2.06-.94-2.06-.94L8.5 2.5l-.94 2.06-2.06.94zm10 10l.94 2.06.94-2.06 2.06-.94-2.06-.94-.94-2.06-.94 2.06-2.06.94z\"/><path d=\"M17.41 7.96l-1.37-1.37c-.4-.4-.92-.59-1.43-.59-.52 0-1.04.2-1.43.59L10.3 9.45l-7.72 7.72c-.78.78-.78 2.05 0 2.83L4 21.41c.39.39.9.59 1.41.59.51 0 1.02-.2 1.41-.59l7.78-7.78 2.81-2.81c.8-.78.8-2.07 0-2.86zM5.41 20L4 18.59l7.72-7.72 1.47 1.35L5.41 20z\"/>\n",
              "  </svg>\n",
              "      </button>\n",
              "      \n",
              "  <style>\n",
              "    .colab-df-container {\n",
              "      display:flex;\n",
              "      flex-wrap:wrap;\n",
              "      gap: 12px;\n",
              "    }\n",
              "\n",
              "    .colab-df-convert {\n",
              "      background-color: #E8F0FE;\n",
              "      border: none;\n",
              "      border-radius: 50%;\n",
              "      cursor: pointer;\n",
              "      display: none;\n",
              "      fill: #1967D2;\n",
              "      height: 32px;\n",
              "      padding: 0 0 0 0;\n",
              "      width: 32px;\n",
              "    }\n",
              "\n",
              "    .colab-df-convert:hover {\n",
              "      background-color: #E2EBFA;\n",
              "      box-shadow: 0px 1px 2px rgba(60, 64, 67, 0.3), 0px 1px 3px 1px rgba(60, 64, 67, 0.15);\n",
              "      fill: #174EA6;\n",
              "    }\n",
              "\n",
              "    [theme=dark] .colab-df-convert {\n",
              "      background-color: #3B4455;\n",
              "      fill: #D2E3FC;\n",
              "    }\n",
              "\n",
              "    [theme=dark] .colab-df-convert:hover {\n",
              "      background-color: #434B5C;\n",
              "      box-shadow: 0px 1px 3px 1px rgba(0, 0, 0, 0.15);\n",
              "      filter: drop-shadow(0px 1px 2px rgba(0, 0, 0, 0.3));\n",
              "      fill: #FFFFFF;\n",
              "    }\n",
              "  </style>\n",
              "\n",
              "      <script>\n",
              "        const buttonEl =\n",
              "          document.querySelector('#df-4a28a4d5-04ca-49f3-971e-6a51332bc0f7 button.colab-df-convert');\n",
              "        buttonEl.style.display =\n",
              "          google.colab.kernel.accessAllowed ? 'block' : 'none';\n",
              "\n",
              "        async function convertToInteractive(key) {\n",
              "          const element = document.querySelector('#df-4a28a4d5-04ca-49f3-971e-6a51332bc0f7');\n",
              "          const dataTable =\n",
              "            await google.colab.kernel.invokeFunction('convertToInteractive',\n",
              "                                                     [key], {});\n",
              "          if (!dataTable) return;\n",
              "\n",
              "          const docLinkHtml = 'Like what you see? Visit the ' +\n",
              "            '<a target=\"_blank\" href=https://colab.research.google.com/notebooks/data_table.ipynb>data table notebook</a>'\n",
              "            + ' to learn more about interactive tables.';\n",
              "          element.innerHTML = '';\n",
              "          dataTable['output_type'] = 'display_data';\n",
              "          await google.colab.output.renderOutput(dataTable, element);\n",
              "          const docLink = document.createElement('div');\n",
              "          docLink.innerHTML = docLinkHtml;\n",
              "          element.appendChild(docLink);\n",
              "        }\n",
              "      </script>\n",
              "    </div>\n",
              "  </div>\n",
              "  "
            ]
          },
          "metadata": {},
          "execution_count": 28
        }
      ],
      "source": [
        "# Here's where we're using the bq client because of the additional features to tap into matplotlib.\n",
        "\n",
        "sql_training_info_model = bq_client.query(\n",
        "    query = f\"\"\"\n",
        "        SELECT *\n",
        "        FROM ML.TRAINING_INFO(MODEL `{PROJECT_ID}.{BQ_DATASET_NAME}.{BQML_MODEL_NAME}`)\n",
        "        ORDER BY iteration\n",
        "        \"\"\"\n",
        ").to_dataframe()\n",
        "\n",
        "sql_training_info_model"
      ]
    },
    {
      "cell_type": "markdown",
      "metadata": {
        "id": "7zXUWi4vmdie"
      },
      "source": [
        "\n",
        "### **Commentary**:\n",
        "Using the training data to calculate the loss metric, the model went through **11 iterations** to minimize loss as much as possible with the last iteration having a training Data Loss of 0.3960 and duration of 56 seconds.\n",
        "\n",
        "Initially, on the first iteration, it had a training Data Loss of 3.53 and a duration of 101 seconds.  The training Data Loss column is considered the Mean Squared Error for all Matrix factorization models.\n",
        "\n",
        "**Training run**\n",
        "\n",
        "The value in this column is zero for a newly created model. If you retrain the model using warm_start (new training data), this value is incremented.\n",
        "\n",
        "**iteration**\n",
        "\n",
        "The iteration number of the training run. its how many times the model algorithm has attempted to optimize the loss. The value for the first iteration is zero. This value is incremented for each additional training run.\n",
        "\n",
        "Note: Iterations and epochs are not the same.  *Iterations* is the number of batches (size of data passed) needed to complete one epoch. One Epoch is when an **ENTIRE** dataset is passed forward and backward through the neural network only ONCE.\n",
        "\n",
        "**loss**\n",
        "\n",
        "A *loss function* is a function that compares the target and predicted output values; measures how well the neural network models the training data. When training, we aim to minimize this loss between the predicted and target outputs.\n",
        "\n",
        "**eval_loss**\n",
        "\n",
        "The loss metric calculated on the holdout data.\n",
        "\n",
        "**Learning_rate**\n",
        "\n",
        "a tuning parameter in an optimization algorithm that determines the step size at each iteration while moving toward a minimum of a loss function.\n",
        "\n",
        "**duration_ms** How long the iteration took, in milliseconds.\n"
      ]
    },
    {
      "cell_type": "markdown",
      "metadata": {
        "id": "bjNlukD_uNSN"
      },
      "source": [
        "### Step3c. Let's take a look at the Loss History\n",
        "\n",
        "Y axis = loss (high at the beginning. goal is to bring it low)\n",
        "\n",
        "X axis = eval_loss ()\n"
      ]
    },
    {
      "cell_type": "code",
      "execution_count": 43,
      "metadata": {
        "colab": {
          "base_uri": "https://localhost:8080/",
          "height": 352
        },
        "id": "lZG9MpNpo6EZ",
        "outputId": "a63fc1d5-3f5c-4581-83b5-7a2cf08cb701"
      },
      "outputs": [
        {
          "output_type": "execute_result",
          "data": {
            "text/plain": [
              "<matplotlib.axes._subplots.AxesSubplot at 0x7f1b39181640>"
            ]
          },
          "metadata": {},
          "execution_count": 43
        },
        {
          "output_type": "display_data",
          "data": {
            "text/plain": [
              "<Figure size 720x360 with 1 Axes>"
            ],
            "image/png": "[encoded data removed]"
          },
          "metadata": {
            "needs_background": "light"
          }
        }
      ],
      "source": [
        "sql_training_info_model.plot(x = 'iteration', y = ['loss','eval_loss'], figsize = (10, 5), grid = True)"
      ]
    },
    {
      "cell_type": "markdown",
      "metadata": {
        "id": "2aaaae772f67"
      },
      "source": [
        "### Step 4: Use the ML.EVALUATE function to evaluate the model data\n",
        "The ML.EVALUATE function is used to evaluate model metrics. It reports the precision, recall, accuracy, f1_score, log_loss * roc_auc\n",
        "\n",
        "Machine learning model evaluation metrics are used to\n",
        "\n",
        "1. assess quality of fit between the model and the data,\n",
        "2. compare different models, and\n",
        "3. in the context of model selection, and to predict how accurate each model can be expected to perform on a specific data set.\n",
        "\n",
        "Read the **BQML ML EVALUATE function** [doc](https://cloud.google.com/bigquery-ml/docs/reference/standard-sql/bigqueryml-syntax-evaluate) reference"
      ]
    },
    {
      "cell_type": "code",
      "execution_count": 44,
      "metadata": {
        "colab": {
          "base_uri": "https://localhost:8080/",
          "height": 269
        },
        "id": "a1f8ac93d570",
        "outputId": "475c838e-6489-4326-b8f8-f37a9af88e97"
      },
      "outputs": [
        {
          "output_type": "stream",
          "name": "stdout",
          "text": [
            "\n",
            "SELECT\n",
            "  *\n",
            "FROM\n",
            "  ML.EVALUATE(MODEL `04_bqml_matrixFactor_movie_recc_prediction.bqml_max_factor_movielens_movie_recc_model`)\n",
            "\n",
            "Finished job_id: ab9ad55c-7102-4210-b370-d1e5c069b408\n"
          ]
        },
        {
          "output_type": "execute_result",
          "data": {
            "text/plain": [
              "   mean_absolute_error  mean_squared_error  mean_squared_log_error  \\\n",
              "0             0.486514            0.396964                0.025596   \n",
              "\n",
              "   median_absolute_error  r2_score  explained_variance  \n",
              "0               0.391139  0.681898            0.681898  "
            ],
            "text/html": [
              "\n",
              "  <div id=\"df-33181f51-4b04-4974-aab5-d7146df01b4d\">\n",
              "    <div class=\"colab-df-container\">\n",
              "      <div>\n",
              "<style scoped>\n",
              "    .dataframe tbody tr th:only-of-type {\n",
              "        vertical-align: middle;\n",
              "    }\n",
              "\n",
              "    .dataframe tbody tr th {\n",
              "        vertical-align: top;\n",
              "    }\n",
              "\n",
              "    .dataframe thead th {\n",
              "        text-align: right;\n",
              "    }\n",
              "</style>\n",
              "<table border=\"1\" class=\"dataframe\">\n",
              "  <thead>\n",
              "    <tr style=\"text-align: right;\">\n",
              "      <th></th>\n",
              "      <th>mean_absolute_error</th>\n",
              "      <th>mean_squared_error</th>\n",
              "      <th>mean_squared_log_error</th>\n",
              "      <th>median_absolute_error</th>\n",
              "      <th>r2_score</th>\n",
              "      <th>explained_variance</th>\n",
              "    </tr>\n",
              "  </thead>\n",
              "  <tbody>\n",
              "    <tr>\n",
              "      <th>0</th>\n",
              "      <td>0.486514</td>\n",
              "      <td>0.396964</td>\n",
              "      <td>0.025596</td>\n",
              "      <td>0.391139</td>\n",
              "      <td>0.681898</td>\n",
              "      <td>0.681898</td>\n",
              "    </tr>\n",
              "  </tbody>\n",
              "</table>\n",
              "</div>\n",
              "      <button class=\"colab-df-convert\" onclick=\"convertToInteractive('df-33181f51-4b04-4974-aab5-d7146df01b4d')\"\n",
              "              title=\"Convert this dataframe to an interactive table.\"\n",
              "              style=\"display:none;\">\n",
              "        \n",
              "  <svg xmlns=\"http://www.w3.org/2000/svg\" height=\"24px\"viewBox=\"0 0 24 24\"\n",
              "       width=\"24px\">\n",
              "    <path d=\"M0 0h24v24H0V0z\" fill=\"none\"/>\n",
              "    <path d=\"M18.56 5.44l.94 2.06.94-2.06 2.06-.94-2.06-.94-.94-2.06-.94 2.06-2.06.94zm-11 1L8.5 8.5l.94-2.06 2.06-.94-2.06-.94L8.5 2.5l-.94 2.06-2.06.94zm10 10l.94 2.06.94-2.06 2.06-.94-2.06-.94-.94-2.06-.94 2.06-2.06.94z\"/><path d=\"M17.41 7.96l-1.37-1.37c-.4-.4-.92-.59-1.43-.59-.52 0-1.04.2-1.43.59L10.3 9.45l-7.72 7.72c-.78.78-.78 2.05 0 2.83L4 21.41c.39.39.9.59 1.41.59.51 0 1.02-.2 1.41-.59l7.78-7.78 2.81-2.81c.8-.78.8-2.07 0-2.86zM5.41 20L4 18.59l7.72-7.72 1.47 1.35L5.41 20z\"/>\n",
              "  </svg>\n",
              "      </button>\n",
              "      \n",
              "  <style>\n",
              "    .colab-df-container {\n",
              "      display:flex;\n",
              "      flex-wrap:wrap;\n",
              "      gap: 12px;\n",
              "    }\n",
              "\n",
              "    .colab-df-convert {\n",
              "      background-color: #E8F0FE;\n",
              "      border: none;\n",
              "      border-radius: 50%;\n",
              "      cursor: pointer;\n",
              "      display: none;\n",
              "      fill: #1967D2;\n",
              "      height: 32px;\n",
              "      padding: 0 0 0 0;\n",
              "      width: 32px;\n",
              "    }\n",
              "\n",
              "    .colab-df-convert:hover {\n",
              "      background-color: #E2EBFA;\n",
              "      box-shadow: 0px 1px 2px rgba(60, 64, 67, 0.3), 0px 1px 3px 1px rgba(60, 64, 67, 0.15);\n",
              "      fill: #174EA6;\n",
              "    }\n",
              "\n",
              "    [theme=dark] .colab-df-convert {\n",
              "      background-color: #3B4455;\n",
              "      fill: #D2E3FC;\n",
              "    }\n",
              "\n",
              "    [theme=dark] .colab-df-convert:hover {\n",
              "      background-color: #434B5C;\n",
              "      box-shadow: 0px 1px 3px 1px rgba(0, 0, 0, 0.15);\n",
              "      filter: drop-shadow(0px 1px 2px rgba(0, 0, 0, 0.3));\n",
              "      fill: #FFFFFF;\n",
              "    }\n",
              "  </style>\n",
              "\n",
              "      <script>\n",
              "        const buttonEl =\n",
              "          document.querySelector('#df-33181f51-4b04-4974-aab5-d7146df01b4d button.colab-df-convert');\n",
              "        buttonEl.style.display =\n",
              "          google.colab.kernel.accessAllowed ? 'block' : 'none';\n",
              "\n",
              "        async function convertToInteractive(key) {\n",
              "          const element = document.querySelector('#df-33181f51-4b04-4974-aab5-d7146df01b4d');\n",
              "          const dataTable =\n",
              "            await google.colab.kernel.invokeFunction('convertToInteractive',\n",
              "                                                     [key], {});\n",
              "          if (!dataTable) return;\n",
              "\n",
              "          const docLinkHtml = 'Like what you see? Visit the ' +\n",
              "            '<a target=\"_blank\" href=https://colab.research.google.com/notebooks/data_table.ipynb>data table notebook</a>'\n",
              "            + ' to learn more about interactive tables.';\n",
              "          element.innerHTML = '';\n",
              "          dataTable['output_type'] = 'display_data';\n",
              "          await google.colab.output.renderOutput(dataTable, element);\n",
              "          const docLink = document.createElement('div');\n",
              "          docLink.innerHTML = docLinkHtml;\n",
              "          element.appendChild(docLink);\n",
              "        }\n",
              "      </script>\n",
              "    </div>\n",
              "  </div>\n",
              "  "
            ]
          },
          "metadata": {},
          "execution_count": 44
        }
      ],
      "source": [
        "sql_evaluate_model = f\"\"\"\n",
        "SELECT\n",
        "  *\n",
        "FROM\n",
        "  ML.EVALUATE(MODEL `{BQ_DATASET_NAME}.{BQML_MODEL_NAME}`)\n",
        "\"\"\"\n",
        "\n",
        "print(sql_evaluate_model)\n",
        "\n",
        "run_bq_query(sql_evaluate_model)"
      ]
    },
    {
      "cell_type": "markdown",
      "metadata": {
        "id": "CLj69y0Iys8f"
      },
      "source": [
        "Another Query for getting evaluation metrics broken out by test, validate and training sets."
      ]
    },
    {
      "cell_type": "markdown",
      "metadata": {
        "id": "d9f807a50f38"
      },
      "source": [
        "\n",
        "### **Commentary**:\n",
        "When evaluating model metrics, a rule of thumb is, what does 0 mean, what does 1 mean?\n",
        "\n",
        "#### **mean_absolute_error**:\n",
        "MAE (Mean Absolute Error) is the average absolute error between actual and predicted values. [1](https://stephenallwright.com/good-mae-score/)\n",
        "\n",
        "The lower the value the better and 0 means the model is perfect.\n",
        "\n",
        "Absolute error, also known as **L1 loss**, is a row-level error calculation where the non-negative difference between the prediction and the actual is calculated.\n",
        "\n",
        "**MAE** is the aggregated mean of these errors, which helps us understand the model performance over the whole dataset.\n",
        "\n",
        "*How its calculated* \\\n",
        "<img src=\"https://stephenallwright.com/content/images/2022/08/mae-definition-pink.png?ezimgfmt=rs:523x230/rscb1\" width=\"300\">\n",
        "\n",
        "**mae** = mean_absolute_error(actual, predicted)\n",
        "\n",
        "The closer MAE is to 0, the more accurate the model is.\n",
        "\n",
        "#### **mean_squared_error**:\n",
        "The lower the value the better and 0 means the model is perfect.\n",
        "\n",
        "Mean Squared Error (MSE) is the average squared error between actual and predicted values.[2](https://stephenallwright.com/good-mse-value/)\n",
        "\n",
        "Squared error, also known as **L2 loss**, is a row-level error calculation where the difference between the prediction and the actual is squared. MSE is the aggregated mean of these errors, which helps us understand the model performance over the whole dataset.\n",
        "\n",
        "The main draw for using MSE is that it squares the error, which results in large errors being punished or clearly highlighted. It’s therefore useful when working on models where occasional large errors must be minimised.\n",
        "\n",
        "<img src=\"https://stephenallwright.com/content/images/2022/08/mse-definition-blue.png?ezimgfmt=rs:523x230/rscb1\" width=\"300\">\n",
        "\n",
        "\n",
        "#### **mean_squared_log_error**:\n",
        "Mean Squared Log Error is the evaluation metrics that computes the ratio of predicted and actual values\n",
        "\n",
        "The smaller the better.\n",
        "\n",
        "This is useful when dealing with right skewed targets, since taking the log transform makes the target more normally distributed. In practice it's usually achieved by changing the target to\n",
        "\n",
        "##### **R2_score**:\n",
        "R-Squared is a measure of fit where the value ranges from 1, where all variance is explained, to 0 where none of the variance is explained. The higher the R-Squared value the better.\n",
        "\n",
        "R-Squared is a metric for assessing the performance of regression machine learning models. Unlike other metrics, such as MAE or RMSE, it is not a measure of how accurate the predictions are, but instead a measure of fit. R-Squared measures how much of the dependent variable variation is explained by the independent variables in the model. [3](https://stephenallwright.com/good-r-squared-value/)\n",
        "\n",
        "\n",
        "<img src=\"https://stephenallwright.com/content/images/2022/08/r-squared-definition.png?ezimgfmt=rs:523x230/rscb1\" width=\"300\">\n",
        "\n",
        "\n",
        "\n",
        "##### **explained_variance**:\n",
        "The number of principal components is selected such that the percentage of variance explained by the principal components is greater than the ratio specified by this argument.\n",
        "\n",
        "The smaller the better.\n",
        "\n",
        "There are various metrics for Matrix Factorization and other model types (full list of metrics can be found in the <a href=\"https://cloud.google.com/bigquery-ml/docs/reference/standard-sql/bigqueryml-syntax-evaluate#mlevaluate_output\" target=\"_blank\">documentation</a>)."
      ]
    },
    {
      "cell_type": "markdown",
      "metadata": {
        "id": "D2Vo2Xyupcmd"
      },
      "source": [
        "### Step 5: Use the `ML.RECOMMEND` function to predict ratings using your model\n",
        "\n",
        "Finally, you use the `ML.RECOMMEND` does not need to take any additional arguments besides the model, but can take in an optional table."
      ]
    },
    {
      "cell_type": "code",
      "execution_count": 35,
      "metadata": {
        "colab": {
          "base_uri": "https://localhost:8080/",
          "height": 523
        },
        "id": "8m9FCEEFpdPq",
        "outputId": "5e74a510-0991-4eaf-936f-e2a00d6fa561"
      },
      "outputs": [
        {
          "output_type": "stream",
          "name": "stdout",
          "text": [
            "\n",
            "\n",
            "SELECT * FROM\n",
            " ML.RECOMMEND (MODEL `04_bqml_matrixFactor_movie_recc_prediction.bqml_max_factor_movielens_movie_recc_model`)\n",
            " where user_id = 1536\n",
            " limit 10\n",
            "\n",
            "\n",
            "Finished job_id: e4cc8e04-1aae-42ce-a184-2a7dd2214ea4\n"
          ]
        },
        {
          "output_type": "execute_result",
          "data": {
            "text/plain": [
              "   predicted_rating  user_id  item_id\n",
              "0          4.782743     1536      536\n",
              "1          3.295425     1536     3597\n",
              "2          4.166948     1536     2580\n",
              "3          3.021081     1536     3857\n",
              "4          4.083758     1536     1303\n",
              "5          3.707790     1536     2567\n",
              "6          5.396894     1536     1310\n",
              "7          4.105408     1536     2078\n",
              "8          4.634110     1536     1299\n",
              "9          5.050978     1536     3101"
            ],
            "text/html": [
              "\n",
              "  <div id=\"df-34333285-1ef1-4fa4-ba48-e7ec9971a2e5\">\n",
              "    <div class=\"colab-df-container\">\n",
              "      <div>\n",
              "<style scoped>\n",
              "    .dataframe tbody tr th:only-of-type {\n",
              "        vertical-align: middle;\n",
              "    }\n",
              "\n",
              "    .dataframe tbody tr th {\n",
              "        vertical-align: top;\n",
              "    }\n",
              "\n",
              "    .dataframe thead th {\n",
              "        text-align: right;\n",
              "    }\n",
              "</style>\n",
              "<table border=\"1\" class=\"dataframe\">\n",
              "  <thead>\n",
              "    <tr style=\"text-align: right;\">\n",
              "      <th></th>\n",
              "      <th>predicted_rating</th>\n",
              "      <th>user_id</th>\n",
              "      <th>item_id</th>\n",
              "    </tr>\n",
              "  </thead>\n",
              "  <tbody>\n",
              "    <tr>\n",
              "      <th>0</th>\n",
              "      <td>4.782743</td>\n",
              "      <td>1536</td>\n",
              "      <td>536</td>\n",
              "    </tr>\n",
              "    <tr>\n",
              "      <th>1</th>\n",
              "      <td>3.295425</td>\n",
              "      <td>1536</td>\n",
              "      <td>3597</td>\n",
              "    </tr>\n",
              "    <tr>\n",
              "      <th>2</th>\n",
              "      <td>4.166948</td>\n",
              "      <td>1536</td>\n",
              "      <td>2580</td>\n",
              "    </tr>\n",
              "    <tr>\n",
              "      <th>3</th>\n",
              "      <td>3.021081</td>\n",
              "      <td>1536</td>\n",
              "      <td>3857</td>\n",
              "    </tr>\n",
              "    <tr>\n",
              "      <th>4</th>\n",
              "      <td>4.083758</td>\n",
              "      <td>1536</td>\n",
              "      <td>1303</td>\n",
              "    </tr>\n",
              "    <tr>\n",
              "      <th>5</th>\n",
              "      <td>3.707790</td>\n",
              "      <td>1536</td>\n",
              "      <td>2567</td>\n",
              "    </tr>\n",
              "    <tr>\n",
              "      <th>6</th>\n",
              "      <td>5.396894</td>\n",
              "      <td>1536</td>\n",
              "      <td>1310</td>\n",
              "    </tr>\n",
              "    <tr>\n",
              "      <th>7</th>\n",
              "      <td>4.105408</td>\n",
              "      <td>1536</td>\n",
              "      <td>2078</td>\n",
              "    </tr>\n",
              "    <tr>\n",
              "      <th>8</th>\n",
              "      <td>4.634110</td>\n",
              "      <td>1536</td>\n",
              "      <td>1299</td>\n",
              "    </tr>\n",
              "    <tr>\n",
              "      <th>9</th>\n",
              "      <td>5.050978</td>\n",
              "      <td>1536</td>\n",
              "      <td>3101</td>\n",
              "    </tr>\n",
              "  </tbody>\n",
              "</table>\n",
              "</div>\n",
              "      <button class=\"colab-df-convert\" onclick=\"convertToInteractive('df-34333285-1ef1-4fa4-ba48-e7ec9971a2e5')\"\n",
              "              title=\"Convert this dataframe to an interactive table.\"\n",
              "              style=\"display:none;\">\n",
              "        \n",
              "  <svg xmlns=\"http://www.w3.org/2000/svg\" height=\"24px\"viewBox=\"0 0 24 24\"\n",
              "       width=\"24px\">\n",
              "    <path d=\"M0 0h24v24H0V0z\" fill=\"none\"/>\n",
              "    <path d=\"M18.56 5.44l.94 2.06.94-2.06 2.06-.94-2.06-.94-.94-2.06-.94 2.06-2.06.94zm-11 1L8.5 8.5l.94-2.06 2.06-.94-2.06-.94L8.5 2.5l-.94 2.06-2.06.94zm10 10l.94 2.06.94-2.06 2.06-.94-2.06-.94-.94-2.06-.94 2.06-2.06.94z\"/><path d=\"M17.41 7.96l-1.37-1.37c-.4-.4-.92-.59-1.43-.59-.52 0-1.04.2-1.43.59L10.3 9.45l-7.72 7.72c-.78.78-.78 2.05 0 2.83L4 21.41c.39.39.9.59 1.41.59.51 0 1.02-.2 1.41-.59l7.78-7.78 2.81-2.81c.8-.78.8-2.07 0-2.86zM5.41 20L4 18.59l7.72-7.72 1.47 1.35L5.41 20z\"/>\n",
              "  </svg>\n",
              "      </button>\n",
              "      \n",
              "  <style>\n",
              "    .colab-df-container {\n",
              "      display:flex;\n",
              "      flex-wrap:wrap;\n",
              "      gap: 12px;\n",
              "    }\n",
              "\n",
              "    .colab-df-convert {\n",
              "      background-color: #E8F0FE;\n",
              "      border: none;\n",
              "      border-radius: 50%;\n",
              "      cursor: pointer;\n",
              "      display: none;\n",
              "      fill: #1967D2;\n",
              "      height: 32px;\n",
              "      padding: 0 0 0 0;\n",
              "      width: 32px;\n",
              "    }\n",
              "\n",
              "    .colab-df-convert:hover {\n",
              "      background-color: #E2EBFA;\n",
              "      box-shadow: 0px 1px 2px rgba(60, 64, 67, 0.3), 0px 1px 3px 1px rgba(60, 64, 67, 0.15);\n",
              "      fill: #174EA6;\n",
              "    }\n",
              "\n",
              "    [theme=dark] .colab-df-convert {\n",
              "      background-color: #3B4455;\n",
              "      fill: #D2E3FC;\n",
              "    }\n",
              "\n",
              "    [theme=dark] .colab-df-convert:hover {\n",
              "      background-color: #434B5C;\n",
              "      box-shadow: 0px 1px 3px 1px rgba(0, 0, 0, 0.15);\n",
              "      filter: drop-shadow(0px 1px 2px rgba(0, 0, 0, 0.3));\n",
              "      fill: #FFFFFF;\n",
              "    }\n",
              "  </style>\n",
              "\n",
              "      <script>\n",
              "        const buttonEl =\n",
              "          document.querySelector('#df-34333285-1ef1-4fa4-ba48-e7ec9971a2e5 button.colab-df-convert');\n",
              "        buttonEl.style.display =\n",
              "          google.colab.kernel.accessAllowed ? 'block' : 'none';\n",
              "\n",
              "        async function convertToInteractive(key) {\n",
              "          const element = document.querySelector('#df-34333285-1ef1-4fa4-ba48-e7ec9971a2e5');\n",
              "          const dataTable =\n",
              "            await google.colab.kernel.invokeFunction('convertToInteractive',\n",
              "                                                     [key], {});\n",
              "          if (!dataTable) return;\n",
              "\n",
              "          const docLinkHtml = 'Like what you see? Visit the ' +\n",
              "            '<a target=\"_blank\" href=https://colab.research.google.com/notebooks/data_table.ipynb>data table notebook</a>'\n",
              "            + ' to learn more about interactive tables.';\n",
              "          element.innerHTML = '';\n",
              "          dataTable['output_type'] = 'display_data';\n",
              "          await google.colab.output.renderOutput(dataTable, element);\n",
              "          const docLink = document.createElement('div');\n",
              "          docLink.innerHTML = docLinkHtml;\n",
              "          element.appendChild(docLink);\n",
              "        }\n",
              "      </script>\n",
              "    </div>\n",
              "  </div>\n",
              "  "
            ]
          },
          "metadata": {},
          "execution_count": 35
        }
      ],
      "source": [
        "# We are using the remainder of our data ot perform predictions by limiting the dataframe to \"PREDICTION\". About 3142 rows.\n",
        "\n",
        "sql_ml_recommend = f\"\"\"\n",
        "\n",
        "SELECT * FROM\n",
        " ML.RECOMMEND (MODEL `{BQ_DATASET_NAME}.{BQML_MODEL_NAME}`)\n",
        " where user_id = 1536\n",
        " limit 10\n",
        "\n",
        "\"\"\"\n",
        "print(sql_ml_recommend)\n",
        "\n",
        "run_bq_query(sql_ml_recommend)"
      ]
    },
    {
      "cell_type": "markdown",
      "metadata": {
        "id": "1odXkGxtFMwP"
      },
      "source": [
        "\n",
        "### **Commentary**:\n",
        "The top-most SELECT statement retrieves the `user`, `item`, and `predicted_rating` column. This last column is generated by the ML.RECOMMEND function.\n",
        "\n",
        "When you use the ML.RECOMMEND function, the output column name for the model is predicted_<rating_column_name>. For explicit matrix factorization models, predicted_rating is the estimated value of rating.\n"
      ]
    },
    {
      "cell_type": "markdown",
      "source": [
        "### Step 6: Generate & Save the Recommendations\n",
        "\n",
        "Using the previous recommendations query, we can order by the predicted rating and output the top predicted items for each user.\n",
        "\n",
        "The following query joins the `item_ids` with the `movie_ids` found in the `movielens.movie_titles` table uploaded earlier and outputs the top 5 recommended movies per user.\n"
      ],
      "metadata": {
        "id": "gjqYL6QVAgVv"
      }
    },
    {
      "cell_type": "code",
      "source": [
        "##\n",
        "# Save the recommendations in a table\n",
        "##\n",
        "sql_ml_recommend_table = f\"\"\"\n",
        "\n",
        "CREATE OR REPLACE TABLE `{DATASET_RECOMMEND}`\n",
        "OPTIONS() AS\n",
        "SELECT\n",
        "*\n",
        "FROM\n",
        "ML.RECOMMEND(MODEL `{BQ_DATASET_NAME}.{BQML_MODEL_NAME}`)\n",
        "\n",
        "\"\"\"\n",
        "print(sql_ml_recommend_table)\n",
        "\n",
        "run_bq_query(sql_ml_recommend_table)\n"
      ],
      "metadata": {
        "colab": {
          "base_uri": "https://localhost:8080/",
          "height": 244
        },
        "id": "zC7Bd1GzDAnh",
        "outputId": "477fa4cf-0b9e-4017-f8c4-b563311d4918"
      },
      "execution_count": 48,
      "outputs": [
        {
          "output_type": "stream",
          "name": "stdout",
          "text": [
            "\n",
            "\n",
            "CREATE OR REPLACE TABLE `04_bqml_matrixFactor_movie_recc_prediction.recommend_1m`\n",
            "OPTIONS() AS\n",
            "SELECT\n",
            "*\n",
            "FROM\n",
            "ML.RECOMMEND(MODEL `04_bqml_matrixFactor_movie_recc_prediction.bqml_max_factor_movielens_movie_recc_model`)\n",
            "\n",
            "\n",
            "Finished job_id: 82e92a83-5bff-465e-bc3c-2420aeaa90bd\n"
          ]
        },
        {
          "output_type": "execute_result",
          "data": {
            "text/plain": [
              "Empty DataFrame\n",
              "Columns: []\n",
              "Index: []"
            ],
            "text/html": [
              "\n",
              "  <div id=\"df-7151266b-6b3e-4840-997e-f3508babd33e\">\n",
              "    <div class=\"colab-df-container\">\n",
              "      <div>\n",
              "<style scoped>\n",
              "    .dataframe tbody tr th:only-of-type {\n",
              "        vertical-align: middle;\n",
              "    }\n",
              "\n",
              "    .dataframe tbody tr th {\n",
              "        vertical-align: top;\n",
              "    }\n",
              "\n",
              "    .dataframe thead th {\n",
              "        text-align: right;\n",
              "    }\n",
              "</style>\n",
              "<table border=\"1\" class=\"dataframe\">\n",
              "  <thead>\n",
              "    <tr style=\"text-align: right;\">\n",
              "      <th></th>\n",
              "    </tr>\n",
              "  </thead>\n",
              "  <tbody>\n",
              "  </tbody>\n",
              "</table>\n",
              "</div>\n",
              "      <button class=\"colab-df-convert\" onclick=\"convertToInteractive('df-7151266b-6b3e-4840-997e-f3508babd33e')\"\n",
              "              title=\"Convert this dataframe to an interactive table.\"\n",
              "              style=\"display:none;\">\n",
              "        \n",
              "  <svg xmlns=\"http://www.w3.org/2000/svg\" height=\"24px\"viewBox=\"0 0 24 24\"\n",
              "       width=\"24px\">\n",
              "    <path d=\"M0 0h24v24H0V0z\" fill=\"none\"/>\n",
              "    <path d=\"M18.56 5.44l.94 2.06.94-2.06 2.06-.94-2.06-.94-.94-2.06-.94 2.06-2.06.94zm-11 1L8.5 8.5l.94-2.06 2.06-.94-2.06-.94L8.5 2.5l-.94 2.06-2.06.94zm10 10l.94 2.06.94-2.06 2.06-.94-2.06-.94-.94-2.06-.94 2.06-2.06.94z\"/><path d=\"M17.41 7.96l-1.37-1.37c-.4-.4-.92-.59-1.43-.59-.52 0-1.04.2-1.43.59L10.3 9.45l-7.72 7.72c-.78.78-.78 2.05 0 2.83L4 21.41c.39.39.9.59 1.41.59.51 0 1.02-.2 1.41-.59l7.78-7.78 2.81-2.81c.8-.78.8-2.07 0-2.86zM5.41 20L4 18.59l7.72-7.72 1.47 1.35L5.41 20z\"/>\n",
              "  </svg>\n",
              "      </button>\n",
              "      \n",
              "  <style>\n",
              "    .colab-df-container {\n",
              "      display:flex;\n",
              "      flex-wrap:wrap;\n",
              "      gap: 12px;\n",
              "    }\n",
              "\n",
              "    .colab-df-convert {\n",
              "      background-color: #E8F0FE;\n",
              "      border: none;\n",
              "      border-radius: 50%;\n",
              "      cursor: pointer;\n",
              "      display: none;\n",
              "      fill: #1967D2;\n",
              "      height: 32px;\n",
              "      padding: 0 0 0 0;\n",
              "      width: 32px;\n",
              "    }\n",
              "\n",
              "    .colab-df-convert:hover {\n",
              "      background-color: #E2EBFA;\n",
              "      box-shadow: 0px 1px 2px rgba(60, 64, 67, 0.3), 0px 1px 3px 1px rgba(60, 64, 67, 0.15);\n",
              "      fill: #174EA6;\n",
              "    }\n",
              "\n",
              "    [theme=dark] .colab-df-convert {\n",
              "      background-color: #3B4455;\n",
              "      fill: #D2E3FC;\n",
              "    }\n",
              "\n",
              "    [theme=dark] .colab-df-convert:hover {\n",
              "      background-color: #434B5C;\n",
              "      box-shadow: 0px 1px 3px 1px rgba(0, 0, 0, 0.15);\n",
              "      filter: drop-shadow(0px 1px 2px rgba(0, 0, 0, 0.3));\n",
              "      fill: #FFFFFF;\n",
              "    }\n",
              "  </style>\n",
              "\n",
              "      <script>\n",
              "        const buttonEl =\n",
              "          document.querySelector('#df-7151266b-6b3e-4840-997e-f3508babd33e button.colab-df-convert');\n",
              "        buttonEl.style.display =\n",
              "          google.colab.kernel.accessAllowed ? 'block' : 'none';\n",
              "\n",
              "        async function convertToInteractive(key) {\n",
              "          const element = document.querySelector('#df-7151266b-6b3e-4840-997e-f3508babd33e');\n",
              "          const dataTable =\n",
              "            await google.colab.kernel.invokeFunction('convertToInteractive',\n",
              "                                                     [key], {});\n",
              "          if (!dataTable) return;\n",
              "\n",
              "          const docLinkHtml = 'Like what you see? Visit the ' +\n",
              "            '<a target=\"_blank\" href=https://colab.research.google.com/notebooks/data_table.ipynb>data table notebook</a>'\n",
              "            + ' to learn more about interactive tables.';\n",
              "          element.innerHTML = '';\n",
              "          dataTable['output_type'] = 'display_data';\n",
              "          await google.colab.output.renderOutput(dataTable, element);\n",
              "          const docLink = document.createElement('div');\n",
              "          docLink.innerHTML = docLinkHtml;\n",
              "          element.appendChild(docLink);\n",
              "        }\n",
              "      </script>\n",
              "    </div>\n",
              "  </div>\n",
              "  "
            ]
          },
          "metadata": {},
          "execution_count": 48
        }
      ]
    },
    {
      "cell_type": "code",
      "source": [
        "##\n",
        "#  generate recommendations\n",
        "##\n",
        "\n",
        "sql_ml_top_recommendations = f\"\"\"\n",
        " SELECT\n",
        "  {USER_COL},\n",
        "  ARRAY_AGG(STRUCT(movie_title, genre, predicted_rating)\n",
        "ORDER BY predicted_rating DESC LIMIT 5)\n",
        "FROM (\n",
        "SELECT\n",
        "  user_id,\n",
        "  item_id,\n",
        "  predicted_rating,\n",
        "  movie_title,\n",
        "  genre\n",
        "FROM\n",
        "  `{DATASET_RECOMMEND}`\n",
        "JOIN\n",
        "   `{DATASET_CONTENT}`\n",
        "ON\n",
        "  {ITEM_COL} = movie_id)\n",
        "GROUP BY\n",
        "  {USER_COL}\n",
        "\"\"\"\n",
        "print(sql_ml_top_recommendations)\n",
        "\n",
        "run_bq_query(sql_ml_top_recommendations)"
      ],
      "metadata": {
        "colab": {
          "base_uri": "https://localhost:8080/",
          "height": 814
        },
        "id": "w-RrcwR1AtpX",
        "outputId": "1c19ac73-71b4-475c-9cb4-56ed351731ab"
      },
      "execution_count": 51,
      "outputs": [
        {
          "output_type": "stream",
          "name": "stdout",
          "text": [
            "\n",
            " SELECT\n",
            "  user_id,\n",
            "  ARRAY_AGG(STRUCT(movie_title, genre, predicted_rating)\n",
            "ORDER BY predicted_rating DESC LIMIT 5)\n",
            "FROM (\n",
            "SELECT\n",
            "  user_id,\n",
            "  item_id,\n",
            "  predicted_rating,\n",
            "  movie_title,\n",
            "  genre\n",
            "FROM\n",
            "  `04_bqml_matrixFactor_movie_recc_prediction.recommend_1m`\n",
            "JOIN\n",
            "   `04_bqml_matrixFactor_movie_recc_prediction.movie_titles`\n",
            "ON\n",
            "  item_id = movie_id)\n",
            "GROUP BY\n",
            "  user_id\n",
            "\n",
            "Finished job_id: 07002727-563b-47b6-8053-babd6415a1b5\n"
          ]
        },
        {
          "output_type": "execute_result",
          "data": {
            "text/plain": [
              "      user_id                                                f0_\n",
              "0        5903  [{'movie_title': 'Funny Bones (1995)', 'genre'...\n",
              "1         537  [{'movie_title': 'Mad Love (1995)', 'genre': '...\n",
              "2        2592  [{'movie_title': 'Assignment, The (1997)', 'ge...\n",
              "3         304  [{'movie_title': 'Life and Times of Hank Green...\n",
              "4        4400  [{'movie_title': 'Song of Freedom (1936)', 'ge...\n",
              "...       ...                                                ...\n",
              "6035     3132  [{'movie_title': 'Song of Freedom (1936)', 'ge...\n",
              "6036     4447  [{'movie_title': 'Song of Freedom (1936)', 'ge...\n",
              "6037     2909  [{'movie_title': 'Whole Wide World, The (1996)...\n",
              "6038     4749  [{'movie_title': 'Song of Freedom (1936)', 'ge...\n",
              "6039     5997  [{'movie_title': 'Song of Freedom (1936)', 'ge...\n",
              "\n",
              "[6040 rows x 2 columns]"
            ],
            "text/html": [
              "\n",
              "  <div id=\"df-84436b3e-d196-48ae-8729-e0fb8237bf95\">\n",
              "    <div class=\"colab-df-container\">\n",
              "      <div>\n",
              "<style scoped>\n",
              "    .dataframe tbody tr th:only-of-type {\n",
              "        vertical-align: middle;\n",
              "    }\n",
              "\n",
              "    .dataframe tbody tr th {\n",
              "        vertical-align: top;\n",
              "    }\n",
              "\n",
              "    .dataframe thead th {\n",
              "        text-align: right;\n",
              "    }\n",
              "</style>\n",
              "<table border=\"1\" class=\"dataframe\">\n",
              "  <thead>\n",
              "    <tr style=\"text-align: right;\">\n",
              "      <th></th>\n",
              "      <th>user_id</th>\n",
              "      <th>f0_</th>\n",
              "    </tr>\n",
              "  </thead>\n",
              "  <tbody>\n",
              "    <tr>\n",
              "      <th>0</th>\n",
              "      <td>5903</td>\n",
              "      <td>[{'movie_title': 'Funny Bones (1995)', 'genre'...</td>\n",
              "    </tr>\n",
              "    <tr>\n",
              "      <th>1</th>\n",
              "      <td>537</td>\n",
              "      <td>[{'movie_title': 'Mad Love (1995)', 'genre': '...</td>\n",
              "    </tr>\n",
              "    <tr>\n",
              "      <th>2</th>\n",
              "      <td>2592</td>\n",
              "      <td>[{'movie_title': 'Assignment, The (1997)', 'ge...</td>\n",
              "    </tr>\n",
              "    <tr>\n",
              "      <th>3</th>\n",
              "      <td>304</td>\n",
              "      <td>[{'movie_title': 'Life and Times of Hank Green...</td>\n",
              "    </tr>\n",
              "    <tr>\n",
              "      <th>4</th>\n",
              "      <td>4400</td>\n",
              "      <td>[{'movie_title': 'Song of Freedom (1936)', 'ge...</td>\n",
              "    </tr>\n",
              "    <tr>\n",
              "      <th>...</th>\n",
              "      <td>...</td>\n",
              "      <td>...</td>\n",
              "    </tr>\n",
              "    <tr>\n",
              "      <th>6035</th>\n",
              "      <td>3132</td>\n",
              "      <td>[{'movie_title': 'Song of Freedom (1936)', 'ge...</td>\n",
              "    </tr>\n",
              "    <tr>\n",
              "      <th>6036</th>\n",
              "      <td>4447</td>\n",
              "      <td>[{'movie_title': 'Song of Freedom (1936)', 'ge...</td>\n",
              "    </tr>\n",
              "    <tr>\n",
              "      <th>6037</th>\n",
              "      <td>2909</td>\n",
              "      <td>[{'movie_title': 'Whole Wide World, The (1996)...</td>\n",
              "    </tr>\n",
              "    <tr>\n",
              "      <th>6038</th>\n",
              "      <td>4749</td>\n",
              "      <td>[{'movie_title': 'Song of Freedom (1936)', 'ge...</td>\n",
              "    </tr>\n",
              "    <tr>\n",
              "      <th>6039</th>\n",
              "      <td>5997</td>\n",
              "      <td>[{'movie_title': 'Song of Freedom (1936)', 'ge...</td>\n",
              "    </tr>\n",
              "  </tbody>\n",
              "</table>\n",
              "<p>6040 rows × 2 columns</p>\n",
              "</div>\n",
              "      <button class=\"colab-df-convert\" onclick=\"convertToInteractive('df-84436b3e-d196-48ae-8729-e0fb8237bf95')\"\n",
              "              title=\"Convert this dataframe to an interactive table.\"\n",
              "              style=\"display:none;\">\n",
              "        \n",
              "  <svg xmlns=\"http://www.w3.org/2000/svg\" height=\"24px\"viewBox=\"0 0 24 24\"\n",
              "       width=\"24px\">\n",
              "    <path d=\"M0 0h24v24H0V0z\" fill=\"none\"/>\n",
              "    <path d=\"M18.56 5.44l.94 2.06.94-2.06 2.06-.94-2.06-.94-.94-2.06-.94 2.06-2.06.94zm-11 1L8.5 8.5l.94-2.06 2.06-.94-2.06-.94L8.5 2.5l-.94 2.06-2.06.94zm10 10l.94 2.06.94-2.06 2.06-.94-2.06-.94-.94-2.06-.94 2.06-2.06.94z\"/><path d=\"M17.41 7.96l-1.37-1.37c-.4-.4-.92-.59-1.43-.59-.52 0-1.04.2-1.43.59L10.3 9.45l-7.72 7.72c-.78.78-.78 2.05 0 2.83L4 21.41c.39.39.9.59 1.41.59.51 0 1.02-.2 1.41-.59l7.78-7.78 2.81-2.81c.8-.78.8-2.07 0-2.86zM5.41 20L4 18.59l7.72-7.72 1.47 1.35L5.41 20z\"/>\n",
              "  </svg>\n",
              "      </button>\n",
              "      \n",
              "  <style>\n",
              "    .colab-df-container {\n",
              "      display:flex;\n",
              "      flex-wrap:wrap;\n",
              "      gap: 12px;\n",
              "    }\n",
              "\n",
              "    .colab-df-convert {\n",
              "      background-color: #E8F0FE;\n",
              "      border: none;\n",
              "      border-radius: 50%;\n",
              "      cursor: pointer;\n",
              "      display: none;\n",
              "      fill: #1967D2;\n",
              "      height: 32px;\n",
              "      padding: 0 0 0 0;\n",
              "      width: 32px;\n",
              "    }\n",
              "\n",
              "    .colab-df-convert:hover {\n",
              "      background-color: #E2EBFA;\n",
              "      box-shadow: 0px 1px 2px rgba(60, 64, 67, 0.3), 0px 1px 3px 1px rgba(60, 64, 67, 0.15);\n",
              "      fill: #174EA6;\n",
              "    }\n",
              "\n",
              "    [theme=dark] .colab-df-convert {\n",
              "      background-color: #3B4455;\n",
              "      fill: #D2E3FC;\n",
              "    }\n",
              "\n",
              "    [theme=dark] .colab-df-convert:hover {\n",
              "      background-color: #434B5C;\n",
              "      box-shadow: 0px 1px 3px 1px rgba(0, 0, 0, 0.15);\n",
              "      filter: drop-shadow(0px 1px 2px rgba(0, 0, 0, 0.3));\n",
              "      fill: #FFFFFF;\n",
              "    }\n",
              "  </style>\n",
              "\n",
              "      <script>\n",
              "        const buttonEl =\n",
              "          document.querySelector('#df-84436b3e-d196-48ae-8729-e0fb8237bf95 button.colab-df-convert');\n",
              "        buttonEl.style.display =\n",
              "          google.colab.kernel.accessAllowed ? 'block' : 'none';\n",
              "\n",
              "        async function convertToInteractive(key) {\n",
              "          const element = document.querySelector('#df-84436b3e-d196-48ae-8729-e0fb8237bf95');\n",
              "          const dataTable =\n",
              "            await google.colab.kernel.invokeFunction('convertToInteractive',\n",
              "                                                     [key], {});\n",
              "          if (!dataTable) return;\n",
              "\n",
              "          const docLinkHtml = 'Like what you see? Visit the ' +\n",
              "            '<a target=\"_blank\" href=https://colab.research.google.com/notebooks/data_table.ipynb>data table notebook</a>'\n",
              "            + ' to learn more about interactive tables.';\n",
              "          element.innerHTML = '';\n",
              "          dataTable['output_type'] = 'display_data';\n",
              "          await google.colab.output.renderOutput(dataTable, element);\n",
              "          const docLink = document.createElement('div');\n",
              "          docLink.innerHTML = docLinkHtml;\n",
              "          element.appendChild(docLink);\n",
              "        }\n",
              "      </script>\n",
              "    </div>\n",
              "  </div>\n",
              "  "
            ]
          },
          "metadata": {},
          "execution_count": 51
        }
      ]
    },
    {
      "cell_type": "markdown",
      "source": [
        "### Commentary\n",
        "Using the previous recommendations query, we can order by the predicted rating and output the top predicted items for each user. The following query joins the `item_ids` with the `movie_ids` found in the movielens.movie_titles table uploaded earlier and outputs the top 5 recommended movies per user.\n",
        "\n"
      ],
      "metadata": {
        "id": "XVIMpJ7EClnJ"
      }
    },
    {
      "cell_type": "markdown",
      "source": [
        "### Step 8 USE ML.PREDICT to make recommendations\n",
        "\n",
        "With the trained model, we can now provide recommendations. For example, let’s find the best comedy movies to recommend to the user whose userId is 903. In the query below, we are calling ML.PREDICT passing in the trained recommendation model and providing a set of movieId and userId to carry out the predictions on. In this case, it’s just one userId (903), but all movies whose genre includes Comedy."
      ],
      "metadata": {
        "id": "fHILyp_TLyZT"
      }
    },
    {
      "cell_type": "code",
      "source": [
        "##\n",
        "#  generate 5 predictions for a specific user ID = 903\n",
        "##\n",
        "\n",
        "sql_ml_user_recommendations = f\"\"\"\n",
        "SELECT * FROM\n",
        "ML.PREDICT(MODEL `{BQ_DATASET_NAME}.{BQML_MODEL_NAME}`, (\n",
        "  SELECT\n",
        "    movie_id, movie_title, user_id\n",
        "  FROM `{DATASET_CONTENT}`\n",
        "  WHERE genre = 'Comedy'\n",
        "  and user_id = 903\n",
        "))\n",
        "ORDER BY predicted_rating DESC\n",
        "LIMIT 5\n",
        "\"\"\"\n",
        "print(sql_ml_user_recommendations)\n",
        "\n",
        "run_bq_query(sql_ml_user_recommendations)"
      ],
      "metadata": {
        "id": "ERokQbTaMXiT"
      },
      "execution_count": null,
      "outputs": []
    },
    {
      "cell_type": "markdown",
      "metadata": {
        "id": "89455f708f54"
      },
      "source": [
        "### Step 9: Use Vertex Endpoints for Online Predictions\n",
        "\n",
        "Endpoints are machine learning models made available for online prediction requests. Endpoints are useful for timely predictions from many users (for example, in response to an application request). You can also request batch predictions if you don't need immediate results.\n",
        "\n",
        "While BigQuery ML supports batch prediction with <a href=\"https://cloud.google.com/bigquery-ml/docs/reference/standard-sql/bigqueryml-syntax-predict\" target=\"_blank\">ML.PREDICT</a> and <a href=\"https://cloud.google.com/bigquery-ml/docs/reference/standard-sql/bigqueryml-syntax-explain-predict\" target=\"_blank\">ML.EXPLAIN_PREDICT</a>, BigQuery ML is not suitable for real-time predictions where you need low latency predictions with potentially high frequency of requests.\n",
        "\n",
        "In other words, deploying the BigQuery ML model to an endpoint enables you to do online predictions.\n"
      ]
    },
    {
      "cell_type": "markdown",
      "metadata": {
        "id": "dc0c1c1b03f9"
      },
      "source": [
        "#### Inspect the model on Vertex AI Model Registry\n",
        "\n",
        "When the model was trained in BigQuery ML, the line `model_registry=\"vertex_ai\"` registered the model to Vertex AI Model Registry automatically upon completion.\n",
        "\n",
        "You can view the model on the <a href=\"https://console.cloud.google.com/vertex-ai/models\" target=\"_blank\">Vertex AI Model Registry page</a>, or use the code below to check that it was successfully registered:"
      ]
    },
    {
      "cell_type": "code",
      "execution_count": null,
      "metadata": {
        "id": "b00664302839"
      },
      "outputs": [],
      "source": [
        "model = vertex_ai.Model(model_name=BQML_MODEL_NAME)\n",
        "print(f'Review the Model in the Console:\\nhttps://console.cloud.google.com/vertex-ai/locations/{REGION}/models/{BQML_MODEL_NAME}?project={PROJECT_ID}')\n",
        "\n",
        "print(model.gca_resource)\n",
        "\n"
      ]
    },
    {
      "cell_type": "markdown",
      "metadata": {
        "id": "e1ab7e1ac83c"
      },
      "source": [
        "### Create the Endpoint"
      ]
    },
    {
      "cell_type": "markdown",
      "metadata": {
        "id": "0a61ea55f685"
      },
      "source": [
        "To deploy your model to an endpoint, you will first need to create an endpoint before you deploy the model to it."
      ]
    },
    {
      "cell_type": "code",
      "execution_count": 52,
      "metadata": {
        "colab": {
          "base_uri": "https://localhost:8080/"
        },
        "id": "b7d80941cf30",
        "outputId": "0f127cf7-a87c-4a08-9a7e-6eee115fc55b"
      },
      "outputs": [
        {
          "output_type": "stream",
          "name": "stdout",
          "text": [
            "Creating Endpoint\n"
          ]
        },
        {
          "output_type": "stream",
          "name": "stderr",
          "text": [
            "INFO:google.cloud.aiplatform.models:Creating Endpoint\n"
          ]
        },
        {
          "output_type": "stream",
          "name": "stdout",
          "text": [
            "Create Endpoint backing LRO: projects/993987777814/locations/us-central1/endpoints/5708088227320037376/operations/2355396692607500288\n"
          ]
        },
        {
          "output_type": "stream",
          "name": "stderr",
          "text": [
            "INFO:google.cloud.aiplatform.models:Create Endpoint backing LRO: projects/993987777814/locations/us-central1/endpoints/5708088227320037376/operations/2355396692607500288\n"
          ]
        },
        {
          "output_type": "stream",
          "name": "stdout",
          "text": [
            "Endpoint created. Resource name: projects/993987777814/locations/us-central1/endpoints/5708088227320037376\n"
          ]
        },
        {
          "output_type": "stream",
          "name": "stderr",
          "text": [
            "INFO:google.cloud.aiplatform.models:Endpoint created. Resource name: projects/993987777814/locations/us-central1/endpoints/5708088227320037376\n"
          ]
        },
        {
          "output_type": "stream",
          "name": "stdout",
          "text": [
            "To use this Endpoint in another session:\n"
          ]
        },
        {
          "output_type": "stream",
          "name": "stderr",
          "text": [
            "INFO:google.cloud.aiplatform.models:To use this Endpoint in another session:\n"
          ]
        },
        {
          "output_type": "stream",
          "name": "stdout",
          "text": [
            "endpoint = aiplatform.Endpoint('projects/993987777814/locations/us-central1/endpoints/5708088227320037376')\n"
          ]
        },
        {
          "output_type": "stream",
          "name": "stderr",
          "text": [
            "INFO:google.cloud.aiplatform.models:endpoint = aiplatform.Endpoint('projects/993987777814/locations/us-central1/endpoints/5708088227320037376')\n"
          ]
        },
        {
          "output_type": "stream",
          "name": "stdout",
          "text": [
            "Endpoint Created: bqml_max_factor_movielens_movie_recc_model_endpoint\n",
            "Review the Endpoint in the Console:\n",
            "https://console.cloud.google.com/vertex-ai/locations/us-central1/endpoints/5708088227320037376?project=paulkamau\n",
            "bqml_max_factor_movielens_movie_recc_model_endpoint\n",
            "projects/993987777814/locations/us-central1/endpoints/5708088227320037376\n"
          ]
        }
      ],
      "source": [
        "# create an endpoint if it doesn't exist\n",
        "endpoints = vertex_ai.Endpoint.list(filter = f\"display_name={BQML_ENDPOINT_NAME}\")\n",
        "\n",
        "if endpoints:\n",
        "    endpoint = endpoints[0]\n",
        "    print(f\"Endpoint Exists: {endpoints[0].display_name}\")\n",
        "else:\n",
        "    endpoint = vertex_ai.Endpoint.create(\n",
        "    display_name=BQML_ENDPOINT_NAME,\n",
        "    location=REGION,\n",
        "    project=PROJECT_ID,\n",
        "    )\n",
        "    print(f\"Endpoint Created: {endpoint.display_name}\")\n",
        "\n",
        "print(f'Review the Endpoint in the Console:\\nhttps://console.cloud.google.com/vertex-ai/locations/{REGION}/endpoints/{endpoint.name}?project={PROJECT_ID}')\n",
        "\n",
        "print(endpoint.display_name)\n",
        "print(endpoint.resource_name)"
      ]
    },
    {
      "cell_type": "markdown",
      "metadata": {
        "id": "6a90be5b77a2"
      },
      "source": [
        "#### Deploy model to Vertex endpoint\n",
        "\n",
        "With the new endpoint, you can now deploy your model."
      ]
    },
    {
      "cell_type": "code",
      "source": [
        "model.deploy(endpoint=endpoint)"
      ],
      "metadata": {
        "colab": {
          "base_uri": "https://localhost:8080/"
        },
        "id": "9xfqXYS_KqCR",
        "outputId": "e8a31044-e142-4b84-e5e8-e765da2ff1e8"
      },
      "execution_count": 56,
      "outputs": [
        {
          "output_type": "stream",
          "name": "stdout",
          "text": [
            "Deploying model to Endpoint : projects/993987777814/locations/us-central1/endpoints/5708088227320037376\n"
          ]
        },
        {
          "output_type": "stream",
          "name": "stderr",
          "text": [
            "INFO:google.cloud.aiplatform.models:Deploying model to Endpoint : projects/993987777814/locations/us-central1/endpoints/5708088227320037376\n"
          ]
        },
        {
          "output_type": "stream",
          "name": "stdout",
          "text": [
            "Using default machine_type: n1-standard-2\n"
          ]
        },
        {
          "output_type": "stream",
          "name": "stderr",
          "text": [
            "INFO:google.cloud.aiplatform.models:Using default machine_type: n1-standard-2\n"
          ]
        },
        {
          "output_type": "stream",
          "name": "stdout",
          "text": [
            "Deploy Endpoint model backing LRO: projects/993987777814/locations/us-central1/endpoints/5708088227320037376/operations/711582828617269248\n"
          ]
        },
        {
          "output_type": "stream",
          "name": "stderr",
          "text": [
            "INFO:google.cloud.aiplatform.models:Deploy Endpoint model backing LRO: projects/993987777814/locations/us-central1/endpoints/5708088227320037376/operations/711582828617269248\n"
          ]
        },
        {
          "output_type": "stream",
          "name": "stdout",
          "text": [
            "Endpoint model deployed. Resource name: projects/993987777814/locations/us-central1/endpoints/5708088227320037376\n"
          ]
        },
        {
          "output_type": "stream",
          "name": "stderr",
          "text": [
            "INFO:google.cloud.aiplatform.models:Endpoint model deployed. Resource name: projects/993987777814/locations/us-central1/endpoints/5708088227320037376\n"
          ]
        },
        {
          "output_type": "execute_result",
          "data": {
            "text/plain": [
              "<google.cloud.aiplatform.models.Endpoint object at 0x7f1b3972c760> \n",
              "resource name: projects/993987777814/locations/us-central1/endpoints/5708088227320037376"
            ]
          },
          "metadata": {},
          "execution_count": 56
        }
      ]
    },
    {
      "cell_type": "code",
      "execution_count": 53,
      "metadata": {
        "id": "99a7rwSiV3c0",
        "colab": {
          "base_uri": "https://localhost:8080/"
        },
        "outputId": "cd973e2e-5f51-48b9-9d41-0961637c9099"
      },
      "outputs": [
        {
          "output_type": "stream",
          "name": "stdout",
          "text": [
            "Deployment Exists: bqml_max_factor_movielens_movie_recc_model_endpoint\n"
          ]
        }
      ],
      "source": [
        "# deploying the model to the endpoint may take 10-15 minutes\n",
        "# Check if Model Deployment Exists\n",
        "deployments = vertex_ai.Endpoint.list(filter = f\"display_name={BQML_ENDPOINT_NAME}\")\n",
        "\n",
        "if deployments:\n",
        "    deployment = deployments[0]\n",
        "    print(f\"Deployment Exists: {deployments[0].display_name}\")\n",
        "else:\n",
        "    model.deploy(endpoint=endpoint)\n",
        "    print(f\"Model deployment Created: {endpoint.display_name}\")"
      ]
    },
    {
      "cell_type": "markdown",
      "metadata": {
        "id": "c303d779477b"
      },
      "source": [
        "You can also check on the status of your model by visiting the <a href=\"https://console.cloud.google.com/vertex-ai/endpoints\" target=\"_blank\">Vertex AI Endpoints page</a>."
      ]
    },
    {
      "cell_type": "markdown",
      "metadata": {
        "id": "2a888784de7b"
      },
      "source": [
        "### Step 9: Make online predictions to the endpoint\n",
        "\n",
        "Using a sample of the training data, you can test the endpoint to make online predictions."
      ]
    },
    {
      "cell_type": "code",
      "execution_count": null,
      "metadata": {
        "id": "f17b049a846c"
      },
      "outputs": [],
      "source": [
        "df_sample_requests_list = [\n",
        "    {\n",
        "        \"age\": 45,\n",
        "        \"workclass\": \"Public\",\n",
        "        \"marital_status\": \"Single\",\n",
        "        \"education_num\": 6,\n",
        "        \"occupation\": \"Exec-managerial\",\n",
        "        \"hours_per_week\": 40,\n",
        "    }\n",
        "]"
      ]
    },
    {
      "cell_type": "code",
      "execution_count": null,
      "metadata": {
        "id": "b4839f31d2f8"
      },
      "outputs": [],
      "source": [
        "prediction = endpoint.predict(df_sample_requests_list)\n",
        "print(prediction)"
      ]
    },
    {
      "cell_type": "markdown",
      "metadata": {
        "id": "347ffda86396"
      },
      "source": [
        "You can then extract the predictions from the prediction response"
      ]
    },
    {
      "cell_type": "code",
      "execution_count": null,
      "metadata": {
        "id": "ea659b7c178d"
      },
      "outputs": [],
      "source": [
        "# to view the prediction for the first row\n",
        "prediction.predictions[1]['prediction']"
      ]
    },
    {
      "cell_type": "markdown",
      "metadata": {
        "id": "TpV-iwP9qw9c"
      },
      "source": [
        "## Cleaning up\n",
        "\n",
        "To clean up all Google Cloud resources used in this project, you can <a href=\"https://cloud.google.com/resource-manager/docs/creating-managing-projects#shutting_down_projects\" target=\"_blank\">delete the Google Cloud\n",
        "project</a> you used for the tutorial.\n",
        "\n",
        "Otherwise, you can delete the individual resources you created in this tutorial:"
      ]
    },
    {
      "cell_type": "code",
      "execution_count": null,
      "metadata": {
        "id": "sx_vKniMq9ZX"
      },
      "outputs": [],
      "source": [
        "# Undeploy model from endpoint and delete endpoint\n",
        "endpoint.undeploy_all()\n",
        "endpoint.delete()\n",
        "\n",
        "# Delete BigQuery dataset, including the BigQuery ML model\n",
        "! bq rm -r -f $PROJECT_ID:$BQ_DATASET_NAME"
      ]
    }
  ],
  "metadata": {
    "colab": {
      "provenance": [],
      "toc_visible": true
    },
    "kernelspec": {
      "display_name": "Python 3.9.6 64-bit",
      "language": "python",
      "name": "python3"
    },
    "language_info": {
      "name": "python",
      "version": "3.9.6 (default, Sep 26 2022, 11:37:49) \n[Clang 14.0.0 (clang-1400.0.29.202)]"
    },
    "vscode": {
      "interpreter": {
        "hash": "31f2aee4e71d21fbe5cf8b01ff0e069b9275f58929596ceb00d14d90e3e16cd6"
      }
    }
  },
  "nbformat": 4,
  "nbformat_minor": 0
}