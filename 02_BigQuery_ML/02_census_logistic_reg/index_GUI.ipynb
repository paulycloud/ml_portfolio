{
 "cells": [
  {
   "cell_type": "markdown",
   "metadata": {},
   "source": [
    "# 02: Using logistic regression model for classification on census data \n",
    "\n",
    "This project used a binary logistic regression model in BigQuery ML to predict the income range of respondents in the US Census Dataset. The dataset [`census_adult_income`](https://pantheon.corp.google.com/bigquery?p=bigquery-public-data&d=census_bureau_usa&page=dataset) has about 32561 rows of data. \n",
    "\n",
    "## Objective \n",
    "1. Create a linear regression model \n",
    "1. Evaluate the linear regression model \n",
    "1. Make the income group predictions using the logistic regression model. \n",
    "\n",
    "## Key Concepts\n",
    "1. Logistic regression \n",
    "1. Explainable AI\n",
    "1. ML.EVALUATE\n",
    "1. ML PREDICT\n",
    "\n",
    "## steps\n",
    "1. Create the dataset \n",
    "1. Use the SELECT statement to examine the data \n",
    "1. Use the CREATE VIEW statement to compile your training data\n",
    "1. Use the CREATE MODEL statement to create your logistic regression model. \n",
    "1. Use the ML.EVALUATE function to evaluate the model data\n",
    "1. Use the ML.PREDICT function to predict the income bracket for a given set of census participants.\n",
    "1. Use the ML.EXPLAIN_PREDICT function to explain prediction results with explainable AI Methods. \n",
    "1. Use the ML.GLOBAL_EXPLAIN function to know which features are the most important to determine the income bracket. \n"
   ]
  },
  {
   "cell_type": "markdown",
   "metadata": {},
   "source": [
    "## Step 1: Create the Dataset and Dataset Table\n",
    "\n",
    "\n"
   ]
  },
  {
   "cell_type": "markdown",
   "metadata": {},
   "source": [
    "Dataset was retrieved from the BQ Marketplace of datasets [US census data](https://cloud.google.com/bigquery/public-data) . \n"
   ]
  },
  {
   "cell_type": "markdown",
   "metadata": {},
   "source": [
    "## Step 2: Use the SELECT statement to examine the data\n",
    "Next the dataset was examined and identified which columns to use as training data for your logistic regression model.\n",
    "\n",
    "```sql\n",
    "SELECT\n",
    " age,\n",
    " workclass,\n",
    " marital_status,\n",
    " education_num,\n",
    " occupation,\n",
    " hours_per_week,\n",
    " income_bracket\n",
    "FROM\n",
    " `bigquery-public-data.ml_datasets.census_adult_income`\n",
    "LIMIT\n",
    " 100;\n",
    "\n",
    "```\n",
    "The data view results show that the income_bracket column in the census_adult_income table has only one of two values: <=50K or >50K. \n",
    "\n",
    "![01](assets/01.png \"01\")\n",
    "\n",
    "\n",
    "It also shows that the columns education and `education_num` in the `census_adult_income` table express the same data in different formats. "
   ]
  },
  {
   "cell_type": "markdown",
   "metadata": {},
   "source": [
    "## Step 3: Use the CREATE VIEW statement to compile the training data\n",
    "\n",
    "The next step was to create a view that compiles the training data. This was done by selecting the data used to train your logistic regression model.The census respondent income prediction is done based on the following attributes:\n",
    "\n",
    "```sql\n",
    "-- This query extracts data on census respondents from the attributes listed, which represent the type of work the respondent performs.\n",
    "CREATE OR REPLACE VIEW\n",
    " `02_bqml_logistic_reg_census_income_prediction.input_view` AS\n",
    "SELECT\n",
    " age,\n",
    " workclass,\n",
    " marital_status,\n",
    " education_num,\n",
    " occupation,\n",
    " hours_per_week,\n",
    " income_bracket,\n",
    " CASE\n",
    "   WHEN MOD(functional_weight, 10) < 8 THEN 'training'\n",
    "   WHEN MOD(functional_weight, 10) = 8 THEN 'evaluation'\n",
    "   WHEN MOD(functional_weight, 10) = 9 THEN 'prediction'\n",
    " END AS dataframe\n",
    "FROM\n",
    "`bigquery-public-data.ml_datasets.census_adult_income`\n",
    "```\n",
    "\n",
    "The query creates a view containing these columns, so that you can use them to perform training and prediction later. The dataframe column used the excluded functional_weight column to label 80% of the data source for training, and reserved the remaining data for evaluation and prediction.\n"
   ]
  },
  {
   "cell_type": "markdown",
   "metadata": {},
   "source": [
    "## Step 4: Use the CREATE MODEL Statement to create your logistic regression model\n",
    "\n",
    "Next, we used the CREATE MODEL statement to train the new logistic regression model with the option 'LOGISTIC_REG' on the view from the previous query.\n",
    "\n",
    "```sql\n",
    "CREATE OR REPLACE MODEL\n",
    " `02_bqml_logistic_reg_census_income_prediction.census_model`\n",
    "OPTIONS\n",
    " ( model_type='LOGISTIC_REG',\n",
    "   auto_class_weights=TRUE, -- Ensures calculations are fair. Balances the class labels in the training data\n",
    "   input_label_cols=['income_bracket'] --the column prediction we’re modeling for\n",
    " ) AS\n",
    "SELECT --The SELECT statement queries the view from Step 2.\n",
    " * EXCEPT(dataframe)\n",
    "FROM\n",
    " `02_bqml_logistic_reg_census_income_prediction.input_view`\n",
    "WHERE\n",
    " dataframe = 'training'\n",
    "\n",
    "```"
   ]
  },
  {
   "cell_type": "markdown",
   "metadata": {},
   "source": [
    "## Step 5: Use the ML.EVALUATE function to evaluate the model data\n",
    "\n",
    "Then, use the ML.EVALUATE function to provide statistics about model performance.\n",
    "\n",
    "```sql\n",
    "SELECT\n",
    " *\n",
    "FROM\n",
    " ML.EVALUATE (MODEL `02_bqml_logistic_reg_census_income_prediction.census_model`,\n",
    "   (\n",
    "   SELECT\n",
    "     *\n",
    "   FROM\n",
    "     `02_bqml_logistic_reg_census_income_prediction.input_view`\n",
    "   WHERE\n",
    "     dataframe = 'evaluation'\n",
    "   )\n",
    " )\n",
    "```"
   ]
  },
  {
   "cell_type": "markdown",
   "metadata": {},
   "source": [
    "## Step 6: Use the ML.PREDICT function to predict the income bracket for a given set of census participants.\n",
    "\n",
    "Finally, you use the ML.PREDICT function to predict the income bracket for a given set of census participants.\n",
    "\n",
    "```sql\n",
    "SELECT\n",
    " *\n",
    "FROM\n",
    " ML.PREDICT (MODEL `02_bqml_logistic_reg_census_income_prediction.census_model`,\n",
    "   (\n",
    "   SELECT\n",
    "     *\n",
    "   FROM\n",
    "     `02_bqml_logistic_reg_census_income_prediction.input_view`\n",
    "   WHERE\n",
    "     dataframe = 'prediction'\n",
    "    )\n",
    " )\n",
    "```\n"
   ]
  },
  {
   "cell_type": "markdown",
   "metadata": {},
   "source": [
    "## Step 7: Use the ML.EXPLAIN_PREDICT function to know which features are the most important to determine the weight. \n",
    "\n",
    "To understand why the model is generating these prediction results, you can use the ML.EXPLAIN_PREDICT function.\n",
    "\n",
    "```sql\n",
    "-- Use the ML.EXPLAIN_PREDICT function to explain prediction results with explainable AI Methods.\n",
    "\n",
    "SELECT\n",
    "*\n",
    "FROM\n",
    "ML.EXPLAIN_PREDICT(MODEL `02_bqml_logistic_reg_census_income_prediction.census_model`,\n",
    " (\n",
    " SELECT\n",
    "   *\n",
    " FROM\n",
    "   `02_bqml_logistic_reg_census_income_prediction.input_view`\n",
    " WHERE\n",
    "   dataframe = 'evaluation'),\n",
    " STRUCT(3 as top_k_features))\n",
    "```\n"
   ]
  },
  {
   "cell_type": "markdown",
   "metadata": {},
   "source": [
    "## Step 8: Globally Explain the Model \n",
    "\n",
    "```sql\n",
    "/** 8. Use the ML.GLOBAL_EXPLAIN function to know which features are the most important to determine the income bracket. **/\n",
    "\n",
    "SELECT\n",
    "*\n",
    "FROM\n",
    " ML.GLOBAL_EXPLAIN(MODEL `02_bqml_logistic_reg_census_income_prediction.census_model`);\n",
    "\n",
    "```"
   ]
  }
 ],
 "metadata": {
  "kernelspec": {
   "display_name": "Python 3.8.9 64-bit",
   "language": "python",
   "name": "python3"
  },
  "language_info": {
   "name": "python",
   "version": "3.9.6"
  },
  "orig_nbformat": 4,
  "vscode": {
   "interpreter": {
    "hash": "31f2aee4e71d21fbe5cf8b01ff0e069b9275f58929596ceb00d14d90e3e16cd6"
   }
  }
 },
 "nbformat": 4,
 "nbformat_minor": 2
}
