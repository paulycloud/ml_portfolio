{
  "cells": [
    {
      "cell_type": "markdown",
      "metadata": {
        "id": "JAPoU8Sm5E6e"
      },
      "source": [
        "\n",
        "### How to use a logistic classification regression model to predict Income bucket on census data using  BigQueryML\n"
      ]
    },
    {
      "cell_type": "markdown",
      "metadata": {
        "id": "tvgnzT1CKxrO"
      },
      "source": [
        "### Summary\n",
        "\n",
        "This project uses a logisitic classification regression model to predict churn for real-time inference, with the data in BigQuery and model trained using BigQuery ML, registered to Vertex AI Model Registry, and deployed to an endpoint on Vertex AI for online predictions.\n",
        "\n",
        "This tutorial uses the following Google Cloud data analytics and ML services:\n",
        "\n",
        "## Key Concepts\n",
        "- BigQuery\n",
        "- BigQuery ML\n",
        "- Vertex AI Model Registry\n",
        "- Vertex endpoints\n",
        "1. Logistic regression \n",
        "1. Explainable AI\n",
        "1. ML.EVALUATE\n",
        "1. ML PREDICT\n",
        "\n",
        "## steps\n",
        "1. Create the dataset \n",
        "1. Use the SELECT statement to examine the data \n",
        "1. Use the CREATE VIEW statement to compile your training data\n",
        "1. Use the CREATE MODEL statement to create your logistic regression model. \n",
        "1. Use the ML.EVALUATE function to evaluate the model data\n",
        "1. Use the ML.PREDICT function to predict the income bracket for a given set of census participants.\n",
        "1. Use the ML.EXPLAIN_PREDICT function to explain prediction results with explainable AI Methods. \n",
        "1. Use the ML.GLOBAL_EXPLAIN function to know which features are the most important to determine the income bracket. \n",
        "\n",
        "#### Execute notebook in Colab\n",
        "<a href=\"https://colab.research.google.com/github/paulycloud/ml_portfolio/blob/main/AutoML/01_image_classification/02_salad_categories/index.ipynb\">\n",
        "    <img src=\"https://cloud.google.com/ml-engine/images/colab-logo-32px.png\" alt=\"Colab logo\"> Run in Colab\n",
        "</a>\n"
      ]
    },
    {
      "cell_type": "markdown",
      "metadata": {
        "id": "c640527e06e6"
      },
      "source": [
        "### Dataset\n",
        "\n",
        " The dataset [`census_adult_income`](https://cloud.google.com/bigquery?p=bigquery-public-data&d=census_bureau_usa&page=dataset) has about 32561 rows of data. "
      ]
    },
    {
      "cell_type": "markdown",
      "metadata": {
        "id": "i7EUnXsZhAGF"
      },
      "source": [
        "### Install additional packages\n",
        "\n",
        "Install the following packages required to execute this notebook. "
      ]
    },
    {
      "cell_type": "code",
      "execution_count": 1,
      "metadata": {
        "colab": {
          "base_uri": "https://localhost:8080/"
        },
        "id": "2b4ef9b72d43",
        "outputId": "28afa9f4-9a3b-4c71-9731-9189566b1185"
      },
      "outputs": [
        {
          "name": "stdout",
          "output_type": "stream",
          "text": [
            "\u001b[K     |████████████████████████████████| 2.3 MB 7.9 MB/s \n",
            "\u001b[K     |████████████████████████████████| 211 kB 25.3 MB/s \n",
            "\u001b[K     |████████████████████████████████| 115 kB 32.9 MB/s \n",
            "\u001b[K     |████████████████████████████████| 233 kB 48.2 MB/s \n",
            "\u001b[K     |████████████████████████████████| 408 kB 9.9 MB/s \n",
            "\u001b[K     |████████████████████████████████| 206 kB 13.5 MB/s \n",
            "\u001b[K     |████████████████████████████████| 47 kB 2.2 MB/s \n",
            "\u001b[K     |████████████████████████████████| 106 kB 40.7 MB/s \n",
            "\u001b[K     |████████████████████████████████| 1.0 MB 27.9 MB/s \n",
            "\u001b[K     |████████████████████████████████| 77 kB 1.4 MB/s \n",
            "\u001b[31mERROR: pip's dependency resolver does not currently take into account all the packages that are installed. This behaviour is the source of the following dependency conflicts.\n",
            "tensorflow 2.9.2 requires protobuf<3.20,>=3.9.2, but you have protobuf 3.20.3 which is incompatible.\n",
            "tensorboard 2.9.1 requires protobuf<3.20,>=3.9.2, but you have protobuf 3.20.3 which is incompatible.\n",
            "pandas-gbq 0.13.3 requires google-cloud-bigquery[bqstorage,pandas]<2.0.0dev,>=1.11.1, but you have google-cloud-bigquery 2.34.4 which is incompatible.\n",
            "google-cloud-translate 1.5.0 requires google-api-core[grpc]<2.0.0dev,>=1.6.0, but you have google-api-core 2.10.2 which is incompatible.\n",
            "google-cloud-translate 1.5.0 requires google-cloud-core<2.0dev,>=1.0.0, but you have google-cloud-core 2.3.2 which is incompatible.\n",
            "google-cloud-language 1.2.0 requires google-api-core[grpc]<2.0.0dev,>=1.6.0, but you have google-api-core 2.10.2 which is incompatible.\n",
            "google-cloud-firestore 1.7.0 requires google-api-core[grpc]<2.0.0dev,>=1.14.0, but you have google-api-core 2.10.2 which is incompatible.\n",
            "google-cloud-firestore 1.7.0 requires google-cloud-core<2.0dev,>=1.0.3, but you have google-cloud-core 2.3.2 which is incompatible.\n",
            "google-cloud-datastore 1.8.0 requires google-api-core[grpc]<2.0.0dev,>=1.6.0, but you have google-api-core 2.10.2 which is incompatible.\n",
            "google-cloud-datastore 1.8.0 requires google-cloud-core<2.0dev,>=1.0.0, but you have google-cloud-core 2.3.2 which is incompatible.\n",
            "firebase-admin 4.4.0 requires google-api-core[grpc]<2.0.0dev,>=1.14.0; platform_python_implementation != \"PyPy\", but you have google-api-core 2.10.2 which is incompatible.\u001b[0m\n",
            "\u001b[?25h"
          ]
        }
      ],
      "source": [
        "import os\n",
        "\n",
        "# The Vertex AI Workbench Notebook product has specific requirements\n",
        "IS_WORKBENCH_NOTEBOOK = os.getenv(\"DL_ANACONDA_HOME\")\n",
        "IS_USER_MANAGED_WORKBENCH_NOTEBOOK = os.path.exists(\n",
        "    \"/opt/deeplearning/metadata/env_version\"\n",
        ")\n",
        "\n",
        "# Vertex AI Notebook requires dependencies to be installed with '--user'\n",
        "USER_FLAG = \"\"\n",
        "if IS_WORKBENCH_NOTEBOOK:\n",
        "    USER_FLAG = \"--user\"\n",
        "\n",
        "! pip3 install --upgrade google-cloud-aiplatform {USER_FLAG} -q google-cloud-bigquery db-dtypes"
      ]
    },
    {
      "cell_type": "markdown",
      "metadata": {
        "id": "hhq5zEbGg0XX"
      },
      "source": [
        "### Restart the kernel\n",
        "\n",
        "After you install the additional packages, you need to restart the notebook kernel so it can find the packages."
      ]
    },
    {
      "cell_type": "code",
      "execution_count": 2,
      "metadata": {
        "id": "EzrelQZ22IZj"
      },
      "outputs": [],
      "source": [
        "# Automatically restart kernel after installs\n",
        "import os\n",
        "\n",
        "if not os.getenv(\"IS_TESTING\"):\n",
        "    # Automatically restart kernel after installs\n",
        "    import IPython\n",
        "\n",
        "    app = IPython.Application.instance()\n",
        "    app.kernel.do_shutdown(True)"
      ]
    },
    {
      "cell_type": "markdown",
      "metadata": {
        "id": "1eqwLyLiibss"
      },
      "source": [
        "## Project Variables "
      ]
    },
    {
      "cell_type": "code",
      "execution_count": 18,
      "metadata": {
        "id": "HBUd-MvjhFDR"
      },
      "outputs": [],
      "source": [
        "# Project variables \n",
        "#\n",
        "# These are the project variable used in this ML Model: \n",
        "#\n",
        "\n",
        "PROJECT_ID = \"\" # @param {type:\"string\"}\n",
        "bqml_type = \"log_reg\" # @param {type:\"string\"}\n",
        "BQML_MODEL_NAME = \"bqml_log_reg_census_income_predict_model\"\n",
        "job_display_name = BQML_MODEL_NAME + \"_job\"\n",
        "ENDPOINT_NAME = BQML_MODEL_NAME + \"_endpoint\"\n",
        "\n",
        "# datasets\n",
        "BQ_DATASET_NAME = BQML_MODEL_NAME + \"_dataset\"\n",
        "sql_create_dataset = f\"\"\"CREATE SCHEMA IF NOT EXISTS {BQ_DATASET_NAME}\"\"\"\n",
        "BQ_PUBLIC_DATASET = \"bigquery-public-data.ml_datasets.census_adult_income\"\n",
        "\n",
        "# bucket details\n",
        "BUCKET_NAME = \"bqml_tutorials\"\n",
        "BUCKET_URI = f\"gs://{BUCKET_NAME}/{bqml_type}/\"\n",
        "OUTPUTBUCKET = f\"gs://bqml_datasets_predictions/{bqml_type}/\"\n",
        "\n",
        "# Region \n",
        "REGION = \"us-central1\" # @param {type: \"string\"} "
      ]
    },
    {
      "cell_type": "markdown",
      "metadata": {
        "id": "qJYoRfYng0XZ"
      },
      "source": [
        "Otherwise, set your project ID here."
      ]
    },
    {
      "cell_type": "markdown",
      "metadata": {
        "id": "region"
      },
      "source": [
        "#### Region\n",
        "\n",
        "You can also change the `REGION` variable, which is used for operations\n",
        "throughout the rest of this notebook.  Below are regions supported for Vertex AI. We recommend that you choose the region closest to you.\n",
        "\n",
        "- Americas: `us-central1`\n",
        "- Europe: `europe-west4`\n",
        "- Asia Pacific: `asia-east1`\n",
        "\n",
        "You might not be able to use a multi-regional bucket for training with Vertex AI. Not all regions provide support for all Vertex AI services.\n",
        "\n",
        "Learn more about <a href=\"https://cloud.google.com/vertex-ai/docs/general/locations\" target=\"_blank\">Vertex AI regions</a>."
      ]
    },
    {
      "cell_type": "code",
      "execution_count": 2,
      "metadata": {
        "id": "PyQmSRbKA8r-"
      },
      "outputs": [],
      "source": [
        "# If you are running this notebook in Colab, run this cell and follow the\n",
        "# instructions to authenticate your GCP account. This provides access to your\n",
        "# Cloud Storage bucket and lets you submit training jobs and prediction\n",
        "# requests.\n",
        "\n",
        "import os\n",
        "import sys\n",
        "\n",
        "# If on Vertex AI Workbench, then don't execute this code\n",
        "IS_COLAB = \"google.colab\" in sys.modules\n",
        "if not os.path.exists(\"/opt/deeplearning/metadata/env_version\") and not os.getenv(\n",
        "    \"DL_ANACONDA_HOME\"\n",
        "):\n",
        "    if \"google.colab\" in sys.modules:\n",
        "        from google.colab import auth as google_auth\n",
        "\n",
        "        google_auth.authenticate_user()\n",
        "\n",
        "    # If you are running this notebook locally, replace the string below with the\n",
        "    # path to your service account key and run this cell to authenticate your GCP\n",
        "    # account.\n",
        "    elif not os.getenv(\"IS_TESTING\"):\n",
        "        %env GOOGLE_APPLICATION_CREDENTIALS ''"
      ]
    },
    {
      "cell_type": "code",
      "execution_count": 4,
      "metadata": {
        "colab": {
          "base_uri": "https://localhost:8080/"
        },
        "id": "set_service_account",
        "outputId": "de9b7305-d24e-423c-cf1f-a5ed1e4a0d97"
      },
      "outputs": [
        {
          "name": "stdout",
          "output_type": "stream",
          "text": [
            "\n"
          ]
        }
      ],
      "source": [
        "SERVICE_ACCOUNT = \"\"  # @param {type:\"string\"}\n",
        "print(SERVICE_ACCOUNT)"
      ]
    },
    {
      "cell_type": "code",
      "execution_count": null,
      "metadata": {
        "colab": {
          "base_uri": "https://localhost:8080/"
        },
        "id": "autoset_service_account",
        "outputId": "e9df2163-081e-4dc6-c00b-e20d5842cd86"
      },
      "outputs": [],
      "source": [
        "if (\n",
        "    SERVICE_ACCOUNT == \"\"\n",
        "    or SERVICE_ACCOUNT is None\n",
        "    or SERVICE_ACCOUNT == \"[your-service-account]\"\n",
        "):\n",
        "    # Get your service account from gcloud\n",
        "    if not IS_COLAB:\n",
        "        shell_output = !gcloud auth list 2>/dev/null\n",
        "        SERVICE_ACCOUNT = shell_output[2].replace(\"*\", \"\").strip()\n",
        "\n",
        "    else:  # IS_COLAB:\n",
        "        shell_output = ! gcloud projects describe  $PROJECT_ID\n",
        "        project_number = shell_output[-1].split(\":\")[1].strip().replace(\"'\", \"\")\n",
        "        SERVICE_ACCOUNT = f\"{project_number}-compute@developer.gserviceaccount.com\"\n",
        "\n",
        "    print(\"Service Account:\", SERVICE_ACCOUNT)"
      ]
    },
    {
      "cell_type": "markdown",
      "metadata": {
        "id": "XoEqT2Y4DJmf"
      },
      "source": [
        "### Import libraries"
      ]
    },
    {
      "cell_type": "code",
      "execution_count": 6,
      "metadata": {
        "id": "pRUOFELefqf1"
      },
      "outputs": [],
      "source": [
        "from typing import Union\n",
        "\n",
        "import google.cloud.aiplatform as vertex_ai\n",
        "import pandas as pd\n",
        "from google.cloud import bigquery"
      ]
    },
    {
      "cell_type": "markdown",
      "metadata": {
        "id": "init_aip:mbsdk,all"
      },
      "source": [
        "### Initialize Vertex AI and BigQuery SDKs for Python\n",
        "\n",
        "Initialize the Vertex AI SDK for Python for your project and corresponding bucket."
      ]
    },
    {
      "cell_type": "code",
      "execution_count": 7,
      "metadata": {
        "id": "toA0pXPnZ2f-"
      },
      "outputs": [],
      "source": [
        "vertex_ai.init(project=PROJECT_ID, location=REGION)"
      ]
    },
    {
      "cell_type": "markdown",
      "metadata": {
        "id": "83859376c893"
      },
      "source": [
        "Create the BigQuery client."
      ]
    },
    {
      "cell_type": "code",
      "execution_count": 8,
      "metadata": {
        "id": "0ab485806b17"
      },
      "outputs": [],
      "source": [
        "bq_client = bigquery.Client(project=PROJECT_ID)"
      ]
    },
    {
      "cell_type": "markdown",
      "metadata": {
        "id": "f94734ac9312"
      },
      "source": [
        "Use a helper function for sending queries to BigQuery."
      ]
    },
    {
      "cell_type": "code",
      "execution_count": 9,
      "metadata": {
        "id": "e364dab1d353"
      },
      "outputs": [],
      "source": [
        "# Wrapper to use BigQuery client to run query/job, return job ID or result as DF\n",
        "def run_bq_query(sql: str) -> Union[str, pd.DataFrame]:\n",
        "    \"\"\"\n",
        "    Input: SQL query, as a string, to execute in BigQuery\n",
        "    Returns the query results as a pandas DataFrame, or error, if any\n",
        "    \"\"\"\n",
        "\n",
        "    # Try dry run before executing query to catch any errors\n",
        "    job_config = bigquery.QueryJobConfig(dry_run=True, use_query_cache=False)\n",
        "    bq_client.query(sql, job_config=job_config)\n",
        "\n",
        "    # If dry run succeeds without errors, proceed to run query\n",
        "    job_config = bigquery.QueryJobConfig()\n",
        "    client_result = bq_client.query(sql, job_config=job_config)\n",
        "\n",
        "    job_id = client_result.job_id\n",
        "\n",
        "    # Wait for query/job to finish running. then get & return data frame\n",
        "    df = client_result.result().to_arrow().to_pandas()\n",
        "    print(f\"Finished job_id: {job_id}\")\n",
        "    return df"
      ]
    },
    {
      "cell_type": "markdown",
      "metadata": {
        "id": "a4a686de97f5"
      },
      "source": [
        "## BigQuery ML Model Training & Validation\n",
        "\n",
        "BigQuery ML (BQML) provides the capability to train ML tabular models, such as classification, regression, forecasting, and matrix factorization, in BigQuery using SQL syntax directly. BigQuery ML uses the scalable infrastructure of BigQuery ML so you don't need to set up additional infrastructure for training or batch serving."
      ]
    },
    {
      "cell_type": "code",
      "execution_count": 10,
      "metadata": {
        "colab": {
          "base_uri": "https://localhost:8080/",
          "height": 84
        },
        "id": "088e3b9577b3",
        "outputId": "6be8477e-e61f-488b-f4e8-ab43e3dae974"
      },
      "outputs": [
        {
          "name": "stdout",
          "output_type": "stream",
          "text": [
            "CREATE SCHEMA IF NOT EXISTS bqml_log_reg_census_income_predict_model_dataset\n",
            "Finished job_id: c50a7b25-251c-41ae-95e8-11ab5cfd59e1\n"
          ]
        },
        {
          "data": {
            "text/html": [
              "\n",
              "  <div id=\"df-b88945b8-2071-4923-aa24-21ecf8670d6e\">\n",
              "    <div class=\"colab-df-container\">\n",
              "      <div>\n",
              "<style scoped>\n",
              "    .dataframe tbody tr th:only-of-type {\n",
              "        vertical-align: middle;\n",
              "    }\n",
              "\n",
              "    .dataframe tbody tr th {\n",
              "        vertical-align: top;\n",
              "    }\n",
              "\n",
              "    .dataframe thead th {\n",
              "        text-align: right;\n",
              "    }\n",
              "</style>\n",
              "<table border=\"1\" class=\"dataframe\">\n",
              "  <thead>\n",
              "    <tr style=\"text-align: right;\">\n",
              "      <th></th>\n",
              "    </tr>\n",
              "  </thead>\n",
              "  <tbody>\n",
              "  </tbody>\n",
              "</table>\n",
              "</div>\n",
              "      <button class=\"colab-df-convert\" onclick=\"convertToInteractive('df-b88945b8-2071-4923-aa24-21ecf8670d6e')\"\n",
              "              title=\"Convert this dataframe to an interactive table.\"\n",
              "              style=\"display:none;\">\n",
              "        \n",
              "  <svg xmlns=\"http://www.w3.org/2000/svg\" height=\"24px\"viewBox=\"0 0 24 24\"\n",
              "       width=\"24px\">\n",
              "    <path d=\"M0 0h24v24H0V0z\" fill=\"none\"/>\n",
              "    <path d=\"M18.56 5.44l.94 2.06.94-2.06 2.06-.94-2.06-.94-.94-2.06-.94 2.06-2.06.94zm-11 1L8.5 8.5l.94-2.06 2.06-.94-2.06-.94L8.5 2.5l-.94 2.06-2.06.94zm10 10l.94 2.06.94-2.06 2.06-.94-2.06-.94-.94-2.06-.94 2.06-2.06.94z\"/><path d=\"M17.41 7.96l-1.37-1.37c-.4-.4-.92-.59-1.43-.59-.52 0-1.04.2-1.43.59L10.3 9.45l-7.72 7.72c-.78.78-.78 2.05 0 2.83L4 21.41c.39.39.9.59 1.41.59.51 0 1.02-.2 1.41-.59l7.78-7.78 2.81-2.81c.8-.78.8-2.07 0-2.86zM5.41 20L4 18.59l7.72-7.72 1.47 1.35L5.41 20z\"/>\n",
              "  </svg>\n",
              "      </button>\n",
              "      \n",
              "  <style>\n",
              "    .colab-df-container {\n",
              "      display:flex;\n",
              "      flex-wrap:wrap;\n",
              "      gap: 12px;\n",
              "    }\n",
              "\n",
              "    .colab-df-convert {\n",
              "      background-color: #E8F0FE;\n",
              "      border: none;\n",
              "      border-radius: 50%;\n",
              "      cursor: pointer;\n",
              "      display: none;\n",
              "      fill: #1967D2;\n",
              "      height: 32px;\n",
              "      padding: 0 0 0 0;\n",
              "      width: 32px;\n",
              "    }\n",
              "\n",
              "    .colab-df-convert:hover {\n",
              "      background-color: #E2EBFA;\n",
              "      box-shadow: 0px 1px 2px rgba(60, 64, 67, 0.3), 0px 1px 3px 1px rgba(60, 64, 67, 0.15);\n",
              "      fill: #174EA6;\n",
              "    }\n",
              "\n",
              "    [theme=dark] .colab-df-convert {\n",
              "      background-color: #3B4455;\n",
              "      fill: #D2E3FC;\n",
              "    }\n",
              "\n",
              "    [theme=dark] .colab-df-convert:hover {\n",
              "      background-color: #434B5C;\n",
              "      box-shadow: 0px 1px 3px 1px rgba(0, 0, 0, 0.15);\n",
              "      filter: drop-shadow(0px 1px 2px rgba(0, 0, 0, 0.3));\n",
              "      fill: #FFFFFF;\n",
              "    }\n",
              "  </style>\n",
              "\n",
              "      <script>\n",
              "        const buttonEl =\n",
              "          document.querySelector('#df-b88945b8-2071-4923-aa24-21ecf8670d6e button.colab-df-convert');\n",
              "        buttonEl.style.display =\n",
              "          google.colab.kernel.accessAllowed ? 'block' : 'none';\n",
              "\n",
              "        async function convertToInteractive(key) {\n",
              "          const element = document.querySelector('#df-b88945b8-2071-4923-aa24-21ecf8670d6e');\n",
              "          const dataTable =\n",
              "            await google.colab.kernel.invokeFunction('convertToInteractive',\n",
              "                                                     [key], {});\n",
              "          if (!dataTable) return;\n",
              "\n",
              "          const docLinkHtml = 'Like what you see? Visit the ' +\n",
              "            '<a target=\"_blank\" href=https://colab.research.google.com/notebooks/data_table.ipynb>data table notebook</a>'\n",
              "            + ' to learn more about interactive tables.';\n",
              "          element.innerHTML = '';\n",
              "          dataTable['output_type'] = 'display_data';\n",
              "          await google.colab.output.renderOutput(dataTable, element);\n",
              "          const docLink = document.createElement('div');\n",
              "          docLink.innerHTML = docLinkHtml;\n",
              "          element.appendChild(docLink);\n",
              "        }\n",
              "      </script>\n",
              "    </div>\n",
              "  </div>\n",
              "  "
            ],
            "text/plain": [
              "Empty DataFrame\n",
              "Columns: []\n",
              "Index: []"
            ]
          },
          "execution_count": 10,
          "metadata": {},
          "output_type": "execute_result"
        }
      ],
      "source": [
        "sql_create_dataset = f\"\"\"CREATE SCHEMA IF NOT EXISTS {BQ_DATASET_NAME}\"\"\"\n",
        "\n",
        "print(sql_create_dataset)\n",
        "\n",
        "run_bq_query(sql_create_dataset)"
      ]
    },
    {
      "cell_type": "markdown",
      "metadata": {
        "id": "13b6ce9f8d8b"
      },
      "source": [
        "### Using logistic regression model for income bucket classification on census data "
      ]
    },
    {
      "cell_type": "markdown",
      "metadata": {
        "id": "49dd00d5fbe5"
      },
      "source": [
        "Inpect data that has been pre-processed from  [`census_adult_income`](https://cloud.google.com/bigquery?p=bigquery-public-data&d=census_bureau_usa&page=dataset)  so that it can be used for classification.\n",
        "\n",
        "The data view results show that the **``income_bracket``** column in the census_adult_income table has only one of two values: <=50K or >50K.\n"
      ]
    },
    {
      "cell_type": "code",
      "execution_count": 11,
      "metadata": {
        "colab": {
          "base_uri": "https://localhost:8080/",
          "height": 496
        },
        "id": "0916b03610bd",
        "outputId": "2b210e19-edb6-4b65-d05c-0822c08ac76a"
      },
      "outputs": [
        {
          "name": "stderr",
          "output_type": "stream",
          "text": [
            "/usr/local/lib/python3.7/dist-packages/google/cloud/bigquery/table.py:1567: UserWarning: Dependency google-cloud-bigquery-storage is outdated, please upgrade it to version >= 2.0.0 (version found: 0.0.0).\n",
            "  warnings.warn(str(exc))\n"
          ]
        },
        {
          "name": "stdout",
          "output_type": "stream",
          "text": [
            "Finished job_id: b69ba246-a320-40da-be26-05a42a1cb877\n"
          ]
        },
        {
          "data": {
            "text/html": [
              "\n",
              "  <div id=\"df-0bd64104-26a9-40ea-88f2-080fd7fccb92\">\n",
              "    <div class=\"colab-df-container\">\n",
              "      <div>\n",
              "<style scoped>\n",
              "    .dataframe tbody tr th:only-of-type {\n",
              "        vertical-align: middle;\n",
              "    }\n",
              "\n",
              "    .dataframe tbody tr th {\n",
              "        vertical-align: top;\n",
              "    }\n",
              "\n",
              "    .dataframe thead th {\n",
              "        text-align: right;\n",
              "    }\n",
              "</style>\n",
              "<table border=\"1\" class=\"dataframe\">\n",
              "  <thead>\n",
              "    <tr style=\"text-align: right;\">\n",
              "      <th></th>\n",
              "      <th>age</th>\n",
              "      <th>workclass</th>\n",
              "      <th>marital_status</th>\n",
              "      <th>education_num</th>\n",
              "      <th>occupation</th>\n",
              "      <th>hours_per_week</th>\n",
              "      <th>income_bracket</th>\n",
              "    </tr>\n",
              "  </thead>\n",
              "  <tbody>\n",
              "    <tr>\n",
              "      <th>0</th>\n",
              "      <td>34</td>\n",
              "      <td>?</td>\n",
              "      <td>Married-civ-spouse</td>\n",
              "      <td>7</td>\n",
              "      <td>?</td>\n",
              "      <td>8</td>\n",
              "      <td>&lt;=50K</td>\n",
              "    </tr>\n",
              "    <tr>\n",
              "      <th>1</th>\n",
              "      <td>21</td>\n",
              "      <td>?</td>\n",
              "      <td>Married-civ-spouse</td>\n",
              "      <td>7</td>\n",
              "      <td>?</td>\n",
              "      <td>56</td>\n",
              "      <td>&lt;=50K</td>\n",
              "    </tr>\n",
              "    <tr>\n",
              "      <th>2</th>\n",
              "      <td>28</td>\n",
              "      <td>?</td>\n",
              "      <td>Married-civ-spouse</td>\n",
              "      <td>9</td>\n",
              "      <td>?</td>\n",
              "      <td>17</td>\n",
              "      <td>&lt;=50K</td>\n",
              "    </tr>\n",
              "    <tr>\n",
              "      <th>3</th>\n",
              "      <td>47</td>\n",
              "      <td>?</td>\n",
              "      <td>Married-civ-spouse</td>\n",
              "      <td>9</td>\n",
              "      <td>?</td>\n",
              "      <td>8</td>\n",
              "      <td>&gt;50K</td>\n",
              "    </tr>\n",
              "    <tr>\n",
              "      <th>4</th>\n",
              "      <td>22</td>\n",
              "      <td>?</td>\n",
              "      <td>Married-civ-spouse</td>\n",
              "      <td>9</td>\n",
              "      <td>?</td>\n",
              "      <td>22</td>\n",
              "      <td>&lt;=50K</td>\n",
              "    </tr>\n",
              "    <tr>\n",
              "      <th>...</th>\n",
              "      <td>...</td>\n",
              "      <td>...</td>\n",
              "      <td>...</td>\n",
              "      <td>...</td>\n",
              "      <td>...</td>\n",
              "      <td>...</td>\n",
              "      <td>...</td>\n",
              "    </tr>\n",
              "    <tr>\n",
              "      <th>95</th>\n",
              "      <td>63</td>\n",
              "      <td>?</td>\n",
              "      <td>Married-civ-spouse</td>\n",
              "      <td>13</td>\n",
              "      <td>?</td>\n",
              "      <td>54</td>\n",
              "      <td>&gt;50K</td>\n",
              "    </tr>\n",
              "    <tr>\n",
              "      <th>96</th>\n",
              "      <td>47</td>\n",
              "      <td>?</td>\n",
              "      <td>Married-civ-spouse</td>\n",
              "      <td>13</td>\n",
              "      <td>?</td>\n",
              "      <td>18</td>\n",
              "      <td>&lt;=50K</td>\n",
              "    </tr>\n",
              "    <tr>\n",
              "      <th>97</th>\n",
              "      <td>73</td>\n",
              "      <td>?</td>\n",
              "      <td>Married-civ-spouse</td>\n",
              "      <td>13</td>\n",
              "      <td>?</td>\n",
              "      <td>5</td>\n",
              "      <td>&lt;=50K</td>\n",
              "    </tr>\n",
              "    <tr>\n",
              "      <th>98</th>\n",
              "      <td>66</td>\n",
              "      <td>?</td>\n",
              "      <td>Married-civ-spouse</td>\n",
              "      <td>13</td>\n",
              "      <td>?</td>\n",
              "      <td>6</td>\n",
              "      <td>&lt;=50K</td>\n",
              "    </tr>\n",
              "    <tr>\n",
              "      <th>99</th>\n",
              "      <td>72</td>\n",
              "      <td>?</td>\n",
              "      <td>Married-civ-spouse</td>\n",
              "      <td>16</td>\n",
              "      <td>?</td>\n",
              "      <td>6</td>\n",
              "      <td>&gt;50K</td>\n",
              "    </tr>\n",
              "  </tbody>\n",
              "</table>\n",
              "<p>100 rows × 7 columns</p>\n",
              "</div>\n",
              "      <button class=\"colab-df-convert\" onclick=\"convertToInteractive('df-0bd64104-26a9-40ea-88f2-080fd7fccb92')\"\n",
              "              title=\"Convert this dataframe to an interactive table.\"\n",
              "              style=\"display:none;\">\n",
              "        \n",
              "  <svg xmlns=\"http://www.w3.org/2000/svg\" height=\"24px\"viewBox=\"0 0 24 24\"\n",
              "       width=\"24px\">\n",
              "    <path d=\"M0 0h24v24H0V0z\" fill=\"none\"/>\n",
              "    <path d=\"M18.56 5.44l.94 2.06.94-2.06 2.06-.94-2.06-.94-.94-2.06-.94 2.06-2.06.94zm-11 1L8.5 8.5l.94-2.06 2.06-.94-2.06-.94L8.5 2.5l-.94 2.06-2.06.94zm10 10l.94 2.06.94-2.06 2.06-.94-2.06-.94-.94-2.06-.94 2.06-2.06.94z\"/><path d=\"M17.41 7.96l-1.37-1.37c-.4-.4-.92-.59-1.43-.59-.52 0-1.04.2-1.43.59L10.3 9.45l-7.72 7.72c-.78.78-.78 2.05 0 2.83L4 21.41c.39.39.9.59 1.41.59.51 0 1.02-.2 1.41-.59l7.78-7.78 2.81-2.81c.8-.78.8-2.07 0-2.86zM5.41 20L4 18.59l7.72-7.72 1.47 1.35L5.41 20z\"/>\n",
              "  </svg>\n",
              "      </button>\n",
              "      \n",
              "  <style>\n",
              "    .colab-df-container {\n",
              "      display:flex;\n",
              "      flex-wrap:wrap;\n",
              "      gap: 12px;\n",
              "    }\n",
              "\n",
              "    .colab-df-convert {\n",
              "      background-color: #E8F0FE;\n",
              "      border: none;\n",
              "      border-radius: 50%;\n",
              "      cursor: pointer;\n",
              "      display: none;\n",
              "      fill: #1967D2;\n",
              "      height: 32px;\n",
              "      padding: 0 0 0 0;\n",
              "      width: 32px;\n",
              "    }\n",
              "\n",
              "    .colab-df-convert:hover {\n",
              "      background-color: #E2EBFA;\n",
              "      box-shadow: 0px 1px 2px rgba(60, 64, 67, 0.3), 0px 1px 3px 1px rgba(60, 64, 67, 0.15);\n",
              "      fill: #174EA6;\n",
              "    }\n",
              "\n",
              "    [theme=dark] .colab-df-convert {\n",
              "      background-color: #3B4455;\n",
              "      fill: #D2E3FC;\n",
              "    }\n",
              "\n",
              "    [theme=dark] .colab-df-convert:hover {\n",
              "      background-color: #434B5C;\n",
              "      box-shadow: 0px 1px 3px 1px rgba(0, 0, 0, 0.15);\n",
              "      filter: drop-shadow(0px 1px 2px rgba(0, 0, 0, 0.3));\n",
              "      fill: #FFFFFF;\n",
              "    }\n",
              "  </style>\n",
              "\n",
              "      <script>\n",
              "        const buttonEl =\n",
              "          document.querySelector('#df-0bd64104-26a9-40ea-88f2-080fd7fccb92 button.colab-df-convert');\n",
              "        buttonEl.style.display =\n",
              "          google.colab.kernel.accessAllowed ? 'block' : 'none';\n",
              "\n",
              "        async function convertToInteractive(key) {\n",
              "          const element = document.querySelector('#df-0bd64104-26a9-40ea-88f2-080fd7fccb92');\n",
              "          const dataTable =\n",
              "            await google.colab.kernel.invokeFunction('convertToInteractive',\n",
              "                                                     [key], {});\n",
              "          if (!dataTable) return;\n",
              "\n",
              "          const docLinkHtml = 'Like what you see? Visit the ' +\n",
              "            '<a target=\"_blank\" href=https://colab.research.google.com/notebooks/data_table.ipynb>data table notebook</a>'\n",
              "            + ' to learn more about interactive tables.';\n",
              "          element.innerHTML = '';\n",
              "          dataTable['output_type'] = 'display_data';\n",
              "          await google.colab.output.renderOutput(dataTable, element);\n",
              "          const docLink = document.createElement('div');\n",
              "          docLink.innerHTML = docLinkHtml;\n",
              "          element.appendChild(docLink);\n",
              "        }\n",
              "      </script>\n",
              "    </div>\n",
              "  </div>\n",
              "  "
            ],
            "text/plain": [
              "    age workclass       marital_status  education_num occupation  \\\n",
              "0    34         ?   Married-civ-spouse              7          ?   \n",
              "1    21         ?   Married-civ-spouse              7          ?   \n",
              "2    28         ?   Married-civ-spouse              9          ?   \n",
              "3    47         ?   Married-civ-spouse              9          ?   \n",
              "4    22         ?   Married-civ-spouse              9          ?   \n",
              "..  ...       ...                  ...            ...        ...   \n",
              "95   63         ?   Married-civ-spouse             13          ?   \n",
              "96   47         ?   Married-civ-spouse             13          ?   \n",
              "97   73         ?   Married-civ-spouse             13          ?   \n",
              "98   66         ?   Married-civ-spouse             13          ?   \n",
              "99   72         ?   Married-civ-spouse             16          ?   \n",
              "\n",
              "    hours_per_week income_bracket  \n",
              "0                8          <=50K  \n",
              "1               56          <=50K  \n",
              "2               17          <=50K  \n",
              "3                8           >50K  \n",
              "4               22          <=50K  \n",
              "..             ...            ...  \n",
              "95              54           >50K  \n",
              "96              18          <=50K  \n",
              "97               5          <=50K  \n",
              "98               6          <=50K  \n",
              "99               6           >50K  \n",
              "\n",
              "[100 rows x 7 columns]"
            ]
          },
          "execution_count": 11,
          "metadata": {},
          "output_type": "execute_result"
        }
      ],
      "source": [
        "sql_inspect = \"\"\"\n",
        "SELECT\n",
        " age,\n",
        " workclass,\n",
        " marital_status,\n",
        " education_num,\n",
        " occupation,\n",
        " hours_per_week,\n",
        " income_bracket\n",
        "FROM\n",
        " {BQ_PUBLIC_DATASET}\n",
        "LIMIT\n",
        " 100;\n",
        "\"\"\"\n",
        "run_bq_query(sql_inspect)"
      ]
    },
    {
      "cell_type": "markdown",
      "metadata": {
        "id": "bAMRjx_wkj-D"
      },
      "source": [
        "### Use the CREATE VIEW statement to compile the training data\n",
        "\n",
        "The next step was to create a view that compiles the training data. This was done by selecting the data used to train your logistic regression model.The census respondent income prediction is done based on the following attributes:"
      ]
    },
    {
      "cell_type": "code",
      "execution_count": 13,
      "metadata": {
        "colab": {
          "base_uri": "https://localhost:8080/",
          "height": 436
        },
        "id": "ctpaMNZxkkjx",
        "outputId": "2ef89813-3694-40cb-82cb-c004ba5a0982"
      },
      "outputs": [
        {
          "name": "stdout",
          "output_type": "stream",
          "text": [
            "\n",
            "CREATE OR REPLACE VIEW bqml_log_reg_census_income_predict_model_dataset.input_view AS\n",
            "SELECT\n",
            " age,\n",
            " workclass,\n",
            " marital_status,\n",
            " education_num,\n",
            " occupation,\n",
            " hours_per_week,\n",
            " income_bracket,\n",
            " CASE\n",
            "   WHEN MOD(functional_weight, 10) < 8 THEN 'training'\n",
            "   WHEN MOD(functional_weight, 10) = 8 THEN 'evaluation'\n",
            "   WHEN MOD(functional_weight, 10) = 9 THEN 'prediction'\n",
            " END AS dataframe\n",
            "FROM\n",
            "bigquery-public-data.ml_datasets.census_adult_income\n",
            "\n",
            "Finished job_id: 16598f86-d037-4978-a440-914e7b1b632e\n"
          ]
        },
        {
          "data": {
            "text/html": [
              "\n",
              "  <div id=\"df-bfa56605-7b6f-4677-99b5-c0b09a2376d8\">\n",
              "    <div class=\"colab-df-container\">\n",
              "      <div>\n",
              "<style scoped>\n",
              "    .dataframe tbody tr th:only-of-type {\n",
              "        vertical-align: middle;\n",
              "    }\n",
              "\n",
              "    .dataframe tbody tr th {\n",
              "        vertical-align: top;\n",
              "    }\n",
              "\n",
              "    .dataframe thead th {\n",
              "        text-align: right;\n",
              "    }\n",
              "</style>\n",
              "<table border=\"1\" class=\"dataframe\">\n",
              "  <thead>\n",
              "    <tr style=\"text-align: right;\">\n",
              "      <th></th>\n",
              "    </tr>\n",
              "  </thead>\n",
              "  <tbody>\n",
              "  </tbody>\n",
              "</table>\n",
              "</div>\n",
              "      <button class=\"colab-df-convert\" onclick=\"convertToInteractive('df-bfa56605-7b6f-4677-99b5-c0b09a2376d8')\"\n",
              "              title=\"Convert this dataframe to an interactive table.\"\n",
              "              style=\"display:none;\">\n",
              "        \n",
              "  <svg xmlns=\"http://www.w3.org/2000/svg\" height=\"24px\"viewBox=\"0 0 24 24\"\n",
              "       width=\"24px\">\n",
              "    <path d=\"M0 0h24v24H0V0z\" fill=\"none\"/>\n",
              "    <path d=\"M18.56 5.44l.94 2.06.94-2.06 2.06-.94-2.06-.94-.94-2.06-.94 2.06-2.06.94zm-11 1L8.5 8.5l.94-2.06 2.06-.94-2.06-.94L8.5 2.5l-.94 2.06-2.06.94zm10 10l.94 2.06.94-2.06 2.06-.94-2.06-.94-.94-2.06-.94 2.06-2.06.94z\"/><path d=\"M17.41 7.96l-1.37-1.37c-.4-.4-.92-.59-1.43-.59-.52 0-1.04.2-1.43.59L10.3 9.45l-7.72 7.72c-.78.78-.78 2.05 0 2.83L4 21.41c.39.39.9.59 1.41.59.51 0 1.02-.2 1.41-.59l7.78-7.78 2.81-2.81c.8-.78.8-2.07 0-2.86zM5.41 20L4 18.59l7.72-7.72 1.47 1.35L5.41 20z\"/>\n",
              "  </svg>\n",
              "      </button>\n",
              "      \n",
              "  <style>\n",
              "    .colab-df-container {\n",
              "      display:flex;\n",
              "      flex-wrap:wrap;\n",
              "      gap: 12px;\n",
              "    }\n",
              "\n",
              "    .colab-df-convert {\n",
              "      background-color: #E8F0FE;\n",
              "      border: none;\n",
              "      border-radius: 50%;\n",
              "      cursor: pointer;\n",
              "      display: none;\n",
              "      fill: #1967D2;\n",
              "      height: 32px;\n",
              "      padding: 0 0 0 0;\n",
              "      width: 32px;\n",
              "    }\n",
              "\n",
              "    .colab-df-convert:hover {\n",
              "      background-color: #E2EBFA;\n",
              "      box-shadow: 0px 1px 2px rgba(60, 64, 67, 0.3), 0px 1px 3px 1px rgba(60, 64, 67, 0.15);\n",
              "      fill: #174EA6;\n",
              "    }\n",
              "\n",
              "    [theme=dark] .colab-df-convert {\n",
              "      background-color: #3B4455;\n",
              "      fill: #D2E3FC;\n",
              "    }\n",
              "\n",
              "    [theme=dark] .colab-df-convert:hover {\n",
              "      background-color: #434B5C;\n",
              "      box-shadow: 0px 1px 3px 1px rgba(0, 0, 0, 0.15);\n",
              "      filter: drop-shadow(0px 1px 2px rgba(0, 0, 0, 0.3));\n",
              "      fill: #FFFFFF;\n",
              "    }\n",
              "  </style>\n",
              "\n",
              "      <script>\n",
              "        const buttonEl =\n",
              "          document.querySelector('#df-bfa56605-7b6f-4677-99b5-c0b09a2376d8 button.colab-df-convert');\n",
              "        buttonEl.style.display =\n",
              "          google.colab.kernel.accessAllowed ? 'block' : 'none';\n",
              "\n",
              "        async function convertToInteractive(key) {\n",
              "          const element = document.querySelector('#df-bfa56605-7b6f-4677-99b5-c0b09a2376d8');\n",
              "          const dataTable =\n",
              "            await google.colab.kernel.invokeFunction('convertToInteractive',\n",
              "                                                     [key], {});\n",
              "          if (!dataTable) return;\n",
              "\n",
              "          const docLinkHtml = 'Like what you see? Visit the ' +\n",
              "            '<a target=\"_blank\" href=https://colab.research.google.com/notebooks/data_table.ipynb>data table notebook</a>'\n",
              "            + ' to learn more about interactive tables.';\n",
              "          element.innerHTML = '';\n",
              "          dataTable['output_type'] = 'display_data';\n",
              "          await google.colab.output.renderOutput(dataTable, element);\n",
              "          const docLink = document.createElement('div');\n",
              "          docLink.innerHTML = docLinkHtml;\n",
              "          element.appendChild(docLink);\n",
              "        }\n",
              "      </script>\n",
              "    </div>\n",
              "  </div>\n",
              "  "
            ],
            "text/plain": [
              "Empty DataFrame\n",
              "Columns: []\n",
              "Index: []"
            ]
          },
          "execution_count": 13,
          "metadata": {},
          "output_type": "execute_result"
        }
      ],
      "source": [
        "\n",
        "sql_create_view_bqml = f\"\"\"\n",
        "CREATE OR REPLACE VIEW {BQ_DATASET_NAME}.input_view AS\n",
        "SELECT\n",
        " age,\n",
        " workclass,\n",
        " marital_status,\n",
        " education_num,\n",
        " occupation,\n",
        " hours_per_week,\n",
        " income_bracket,\n",
        " CASE\n",
        "   WHEN MOD(functional_weight, 10) < 8 THEN 'training'\n",
        "   WHEN MOD(functional_weight, 10) = 8 THEN 'evaluation'\n",
        "   WHEN MOD(functional_weight, 10) = 9 THEN 'prediction'\n",
        " END AS dataframe\n",
        "FROM\n",
        "{BQ_PUBLIC_DATASET}\n",
        "\"\"\"\n",
        "\n",
        "print(sql_create_view_bqml)\n",
        "\n",
        "run_bq_query(sql_create_view_bqml)"
      ]
    },
    {
      "cell_type": "markdown",
      "metadata": {
        "id": "02f304053600"
      },
      "source": [
        "### Use the CREATE MODEL statement to create your logistic regression model."
      ]
    },
    {
      "cell_type": "markdown",
      "metadata": {
        "id": "566f3395f20b"
      },
      "source": [
        "The query below trains a logistic regression model using BigQuery ML. BigQuery resources are used to train the model.\n",
        "\n",
        "In the `OPTIONS` parameter:\n",
        "* with `model_registry=\"vertex_ai\"`, the BigQuery ML model will automatically be <a href=\"https://cloud.google.com/vertex-ai/docs/model-registry/model-registry-bqml\" target=\"_blank\">registered to Vertex AI Model Registry</a>, which enables you to view all of your registered models and its versions on Google Cloud in one place.\n",
        "\n",
        "* `vertex_ai_model_version_aliases allows you to set aliases to help you keep track of your model version (<a href=\"https://cloud.google.com/vertex-ai/docs/model-registry/model-alias\" target=\"_blank\">documentation</a>)."
      ]
    },
    {
      "cell_type": "code",
      "execution_count": 16,
      "metadata": {
        "colab": {
          "base_uri": "https://localhost:8080/",
          "height": 439
        },
        "id": "414c45011c1f",
        "outputId": "fe831738-b183-4509-9491-f3dadbf88050"
      },
      "outputs": [
        {
          "name": "stdout",
          "output_type": "stream",
          "text": [
            "\n",
            "CREATE OR REPLACE MODEL bqml_log_reg_census_income_predict_model_dataset.bqml_log_reg_census_income_predict_model OPTIONS (\n",
            "  model_type = 'LOGISTIC_REG',\n",
            "  auto_class_weights = TRUE, -- Balances the class labels in the training data\n",
            "  input_label_cols = ['income_bracket'], -- prediction column\n",
            "  model_registry = \"vertex_ai\",\n",
            "  vertex_ai_model_version_aliases = ['logistic_reg', 'experimental']\n",
            ") AS\n",
            "SELECT --The SELECT statement queries the view from Step 3.\n",
            "  *\n",
            "EXCEPT\n",
            "(dataframe)\n",
            "FROM\n",
            "  bqml_log_reg_census_income_predict_model_dataset.input_view\n",
            "WHERE\n",
            "  dataframe = 'training'\n",
            "\n",
            "Finished job_id: 2c888196-948c-40cd-a2fb-e63a7e699dc3\n"
          ]
        },
        {
          "data": {
            "text/html": [
              "\n",
              "  <div id=\"df-05725e29-b219-43aa-b65a-e945110ee99a\">\n",
              "    <div class=\"colab-df-container\">\n",
              "      <div>\n",
              "<style scoped>\n",
              "    .dataframe tbody tr th:only-of-type {\n",
              "        vertical-align: middle;\n",
              "    }\n",
              "\n",
              "    .dataframe tbody tr th {\n",
              "        vertical-align: top;\n",
              "    }\n",
              "\n",
              "    .dataframe thead th {\n",
              "        text-align: right;\n",
              "    }\n",
              "</style>\n",
              "<table border=\"1\" class=\"dataframe\">\n",
              "  <thead>\n",
              "    <tr style=\"text-align: right;\">\n",
              "      <th></th>\n",
              "    </tr>\n",
              "  </thead>\n",
              "  <tbody>\n",
              "  </tbody>\n",
              "</table>\n",
              "</div>\n",
              "      <button class=\"colab-df-convert\" onclick=\"convertToInteractive('df-05725e29-b219-43aa-b65a-e945110ee99a')\"\n",
              "              title=\"Convert this dataframe to an interactive table.\"\n",
              "              style=\"display:none;\">\n",
              "        \n",
              "  <svg xmlns=\"http://www.w3.org/2000/svg\" height=\"24px\"viewBox=\"0 0 24 24\"\n",
              "       width=\"24px\">\n",
              "    <path d=\"M0 0h24v24H0V0z\" fill=\"none\"/>\n",
              "    <path d=\"M18.56 5.44l.94 2.06.94-2.06 2.06-.94-2.06-.94-.94-2.06-.94 2.06-2.06.94zm-11 1L8.5 8.5l.94-2.06 2.06-.94-2.06-.94L8.5 2.5l-.94 2.06-2.06.94zm10 10l.94 2.06.94-2.06 2.06-.94-2.06-.94-.94-2.06-.94 2.06-2.06.94z\"/><path d=\"M17.41 7.96l-1.37-1.37c-.4-.4-.92-.59-1.43-.59-.52 0-1.04.2-1.43.59L10.3 9.45l-7.72 7.72c-.78.78-.78 2.05 0 2.83L4 21.41c.39.39.9.59 1.41.59.51 0 1.02-.2 1.41-.59l7.78-7.78 2.81-2.81c.8-.78.8-2.07 0-2.86zM5.41 20L4 18.59l7.72-7.72 1.47 1.35L5.41 20z\"/>\n",
              "  </svg>\n",
              "      </button>\n",
              "      \n",
              "  <style>\n",
              "    .colab-df-container {\n",
              "      display:flex;\n",
              "      flex-wrap:wrap;\n",
              "      gap: 12px;\n",
              "    }\n",
              "\n",
              "    .colab-df-convert {\n",
              "      background-color: #E8F0FE;\n",
              "      border: none;\n",
              "      border-radius: 50%;\n",
              "      cursor: pointer;\n",
              "      display: none;\n",
              "      fill: #1967D2;\n",
              "      height: 32px;\n",
              "      padding: 0 0 0 0;\n",
              "      width: 32px;\n",
              "    }\n",
              "\n",
              "    .colab-df-convert:hover {\n",
              "      background-color: #E2EBFA;\n",
              "      box-shadow: 0px 1px 2px rgba(60, 64, 67, 0.3), 0px 1px 3px 1px rgba(60, 64, 67, 0.15);\n",
              "      fill: #174EA6;\n",
              "    }\n",
              "\n",
              "    [theme=dark] .colab-df-convert {\n",
              "      background-color: #3B4455;\n",
              "      fill: #D2E3FC;\n",
              "    }\n",
              "\n",
              "    [theme=dark] .colab-df-convert:hover {\n",
              "      background-color: #434B5C;\n",
              "      box-shadow: 0px 1px 3px 1px rgba(0, 0, 0, 0.15);\n",
              "      filter: drop-shadow(0px 1px 2px rgba(0, 0, 0, 0.3));\n",
              "      fill: #FFFFFF;\n",
              "    }\n",
              "  </style>\n",
              "\n",
              "      <script>\n",
              "        const buttonEl =\n",
              "          document.querySelector('#df-05725e29-b219-43aa-b65a-e945110ee99a button.colab-df-convert');\n",
              "        buttonEl.style.display =\n",
              "          google.colab.kernel.accessAllowed ? 'block' : 'none';\n",
              "\n",
              "        async function convertToInteractive(key) {\n",
              "          const element = document.querySelector('#df-05725e29-b219-43aa-b65a-e945110ee99a');\n",
              "          const dataTable =\n",
              "            await google.colab.kernel.invokeFunction('convertToInteractive',\n",
              "                                                     [key], {});\n",
              "          if (!dataTable) return;\n",
              "\n",
              "          const docLinkHtml = 'Like what you see? Visit the ' +\n",
              "            '<a target=\"_blank\" href=https://colab.research.google.com/notebooks/data_table.ipynb>data table notebook</a>'\n",
              "            + ' to learn more about interactive tables.';\n",
              "          element.innerHTML = '';\n",
              "          dataTable['output_type'] = 'display_data';\n",
              "          await google.colab.output.renderOutput(dataTable, element);\n",
              "          const docLink = document.createElement('div');\n",
              "          docLink.innerHTML = docLinkHtml;\n",
              "          element.appendChild(docLink);\n",
              "        }\n",
              "      </script>\n",
              "    </div>\n",
              "  </div>\n",
              "  "
            ],
            "text/plain": [
              "Empty DataFrame\n",
              "Columns: []\n",
              "Index: []"
            ]
          },
          "execution_count": 16,
          "metadata": {},
          "output_type": "execute_result"
        }
      ],
      "source": [
        "# this cell may take ~1 min to run\n",
        "\n",
        "sql_train_model_bqml = f\"\"\"\n",
        "CREATE OR REPLACE MODEL {BQ_DATASET_NAME}.{BQML_MODEL_NAME} OPTIONS (\n",
        "  model_type = 'LOGISTIC_REG',\n",
        "  auto_class_weights = TRUE, -- Balances the class labels in the training data\n",
        "  input_label_cols = ['income_bracket'], -- prediction column\n",
        "  model_registry = \"vertex_ai\",\n",
        "  vertex_ai_model_version_aliases = ['logistic_reg', 'experimental']\n",
        ") AS\n",
        "SELECT --The SELECT statement queries the view from Step 3.\n",
        "  *\n",
        "EXCEPT\n",
        "(dataframe)\n",
        "FROM\n",
        "  {BQ_DATASET_NAME}.input_view\n",
        "WHERE\n",
        "  dataframe = 'training'\n",
        "\"\"\"\n",
        "\n",
        "print(sql_train_model_bqml)\n",
        "\n",
        "run_bq_query(sql_train_model_bqml)"
      ]
    },
    {
      "cell_type": "markdown",
      "metadata": {
        "id": "a90e98c72a05"
      },
      "source": [
        "### Use the ML.EVALUATE function to evaluate the model data"
      ]
    },
    {
      "cell_type": "markdown",
      "metadata": {
        "id": "2aaaae772f67"
      },
      "source": [
        "With the model created, you can now evaluate the logistic regression model. Behind the scenes, BigQuery ML automatically <a href=\"https://cloud.google.com/bigquery-ml/docs/reference/standard-sql/bigqueryml-syntax-create#data_split_method\" target=\"_blank\">split the data</a>, which makes it easier to quickly train and evaluate models."
      ]
    },
    {
      "cell_type": "code",
      "execution_count": 17,
      "metadata": {
        "colab": {
          "base_uri": "https://localhost:8080/",
          "height": 257
        },
        "id": "a1f8ac93d570",
        "outputId": "d5cde87b-e9be-4d63-f9de-8cc9072da77e"
      },
      "outputs": [
        {
          "name": "stdout",
          "output_type": "stream",
          "text": [
            "\n",
            "SELECT\n",
            "  *\n",
            "FROM\n",
            "  ML.EVALUATE(MODEL bqml_log_reg_census_income_predict_model_dataset.bqml_log_reg_census_income_predict_model)\n",
            "\n"
          ]
        },
        {
          "name": "stderr",
          "output_type": "stream",
          "text": [
            "/usr/local/lib/python3.7/dist-packages/google/cloud/bigquery/table.py:1567: UserWarning: Dependency google-cloud-bigquery-storage is outdated, please upgrade it to version >= 2.0.0 (version found: 0.0.0).\n",
            "  warnings.warn(str(exc))\n"
          ]
        },
        {
          "name": "stdout",
          "output_type": "stream",
          "text": [
            "Finished job_id: 1e7a424c-86d2-479a-b7f3-47cd7c1f2ac2\n"
          ]
        },
        {
          "data": {
            "text/html": [
              "\n",
              "  <div id=\"df-be591557-ccaf-4b28-879c-1e497c665ddb\">\n",
              "    <div class=\"colab-df-container\">\n",
              "      <div>\n",
              "<style scoped>\n",
              "    .dataframe tbody tr th:only-of-type {\n",
              "        vertical-align: middle;\n",
              "    }\n",
              "\n",
              "    .dataframe tbody tr th {\n",
              "        vertical-align: top;\n",
              "    }\n",
              "\n",
              "    .dataframe thead th {\n",
              "        text-align: right;\n",
              "    }\n",
              "</style>\n",
              "<table border=\"1\" class=\"dataframe\">\n",
              "  <thead>\n",
              "    <tr style=\"text-align: right;\">\n",
              "      <th></th>\n",
              "      <th>precision</th>\n",
              "      <th>recall</th>\n",
              "      <th>accuracy</th>\n",
              "      <th>f1_score</th>\n",
              "      <th>log_loss</th>\n",
              "      <th>roc_auc</th>\n",
              "    </tr>\n",
              "  </thead>\n",
              "  <tbody>\n",
              "    <tr>\n",
              "      <th>0</th>\n",
              "      <td>0.581818</td>\n",
              "      <td>0.750586</td>\n",
              "      <td>0.808175</td>\n",
              "      <td>0.655514</td>\n",
              "      <td>0.402187</td>\n",
              "      <td>0.881006</td>\n",
              "    </tr>\n",
              "  </tbody>\n",
              "</table>\n",
              "</div>\n",
              "      <button class=\"colab-df-convert\" onclick=\"convertToInteractive('df-be591557-ccaf-4b28-879c-1e497c665ddb')\"\n",
              "              title=\"Convert this dataframe to an interactive table.\"\n",
              "              style=\"display:none;\">\n",
              "        \n",
              "  <svg xmlns=\"http://www.w3.org/2000/svg\" height=\"24px\"viewBox=\"0 0 24 24\"\n",
              "       width=\"24px\">\n",
              "    <path d=\"M0 0h24v24H0V0z\" fill=\"none\"/>\n",
              "    <path d=\"M18.56 5.44l.94 2.06.94-2.06 2.06-.94-2.06-.94-.94-2.06-.94 2.06-2.06.94zm-11 1L8.5 8.5l.94-2.06 2.06-.94-2.06-.94L8.5 2.5l-.94 2.06-2.06.94zm10 10l.94 2.06.94-2.06 2.06-.94-2.06-.94-.94-2.06-.94 2.06-2.06.94z\"/><path d=\"M17.41 7.96l-1.37-1.37c-.4-.4-.92-.59-1.43-.59-.52 0-1.04.2-1.43.59L10.3 9.45l-7.72 7.72c-.78.78-.78 2.05 0 2.83L4 21.41c.39.39.9.59 1.41.59.51 0 1.02-.2 1.41-.59l7.78-7.78 2.81-2.81c.8-.78.8-2.07 0-2.86zM5.41 20L4 18.59l7.72-7.72 1.47 1.35L5.41 20z\"/>\n",
              "  </svg>\n",
              "      </button>\n",
              "      \n",
              "  <style>\n",
              "    .colab-df-container {\n",
              "      display:flex;\n",
              "      flex-wrap:wrap;\n",
              "      gap: 12px;\n",
              "    }\n",
              "\n",
              "    .colab-df-convert {\n",
              "      background-color: #E8F0FE;\n",
              "      border: none;\n",
              "      border-radius: 50%;\n",
              "      cursor: pointer;\n",
              "      display: none;\n",
              "      fill: #1967D2;\n",
              "      height: 32px;\n",
              "      padding: 0 0 0 0;\n",
              "      width: 32px;\n",
              "    }\n",
              "\n",
              "    .colab-df-convert:hover {\n",
              "      background-color: #E2EBFA;\n",
              "      box-shadow: 0px 1px 2px rgba(60, 64, 67, 0.3), 0px 1px 3px 1px rgba(60, 64, 67, 0.15);\n",
              "      fill: #174EA6;\n",
              "    }\n",
              "\n",
              "    [theme=dark] .colab-df-convert {\n",
              "      background-color: #3B4455;\n",
              "      fill: #D2E3FC;\n",
              "    }\n",
              "\n",
              "    [theme=dark] .colab-df-convert:hover {\n",
              "      background-color: #434B5C;\n",
              "      box-shadow: 0px 1px 3px 1px rgba(0, 0, 0, 0.15);\n",
              "      filter: drop-shadow(0px 1px 2px rgba(0, 0, 0, 0.3));\n",
              "      fill: #FFFFFF;\n",
              "    }\n",
              "  </style>\n",
              "\n",
              "      <script>\n",
              "        const buttonEl =\n",
              "          document.querySelector('#df-be591557-ccaf-4b28-879c-1e497c665ddb button.colab-df-convert');\n",
              "        buttonEl.style.display =\n",
              "          google.colab.kernel.accessAllowed ? 'block' : 'none';\n",
              "\n",
              "        async function convertToInteractive(key) {\n",
              "          const element = document.querySelector('#df-be591557-ccaf-4b28-879c-1e497c665ddb');\n",
              "          const dataTable =\n",
              "            await google.colab.kernel.invokeFunction('convertToInteractive',\n",
              "                                                     [key], {});\n",
              "          if (!dataTable) return;\n",
              "\n",
              "          const docLinkHtml = 'Like what you see? Visit the ' +\n",
              "            '<a target=\"_blank\" href=https://colab.research.google.com/notebooks/data_table.ipynb>data table notebook</a>'\n",
              "            + ' to learn more about interactive tables.';\n",
              "          element.innerHTML = '';\n",
              "          dataTable['output_type'] = 'display_data';\n",
              "          await google.colab.output.renderOutput(dataTable, element);\n",
              "          const docLink = document.createElement('div');\n",
              "          docLink.innerHTML = docLinkHtml;\n",
              "          element.appendChild(docLink);\n",
              "        }\n",
              "      </script>\n",
              "    </div>\n",
              "  </div>\n",
              "  "
            ],
            "text/plain": [
              "   precision    recall  accuracy  f1_score  log_loss   roc_auc\n",
              "0   0.581818  0.750586  0.808175  0.655514  0.402187  0.881006"
            ]
          },
          "execution_count": 17,
          "metadata": {},
          "output_type": "execute_result"
        }
      ],
      "source": [
        "sql_evaluate_model = f\"\"\"\n",
        "SELECT\n",
        "  *\n",
        "FROM\n",
        "  ML.EVALUATE(MODEL {BQ_DATASET_NAME}.{BQML_MODEL_NAME})\n",
        "\"\"\"\n",
        "\n",
        "print(sql_evaluate_model)\n",
        "\n",
        "run_bq_query(sql_evaluate_model)"
      ]
    },
    {
      "cell_type": "markdown",
      "metadata": {
        "id": "d9f807a50f38"
      },
      "source": [
        "These metrics help you understand the performance of the model. \n",
        "\n",
        "There are various metrics for logistic regression and other model types (full list of metrics can be found in the <a href=\"https://cloud.google.com/bigquery-ml/docs/reference/standard-sql/bigqueryml-syntax-evaluate#mlevaluate_output\" target=\"_blank\">documentation</a>)."
      ]
    },
    {
      "cell_type": "markdown",
      "metadata": {
        "id": "D2Vo2Xyupcmd"
      },
      "source": [
        "### Use the ML.PREDICT function to predict the income bracket for a given set of census participants.\n",
        "\n",
        "Finally, you use the ML.PREDICT function to predict the income bracket for a given set of census participants.\n"
      ]
    },
    {
      "cell_type": "code",
      "execution_count": 19,
      "metadata": {
        "colab": {
          "base_uri": "https://localhost:8080/",
          "height": 991
        },
        "id": "8m9FCEEFpdPq",
        "outputId": "aae1488a-c2e5-4961-dd37-7303064c9f43"
      },
      "outputs": [
        {
          "name": "stdout",
          "output_type": "stream",
          "text": [
            "\n",
            "\n",
            "SELECT\n",
            " *\n",
            "FROM\n",
            " ML.PREDICT (MODEL bqml_log_reg_census_income_predict_model_dataset.bqml_log_reg_census_income_predict_model,\n",
            "   (\n",
            "   SELECT\n",
            "     *\n",
            "   FROM\n",
            "     bqml_log_reg_census_income_predict_model_dataset.input_view\n",
            "   WHERE\n",
            "     dataframe = 'prediction'\n",
            "    )\n",
            " )\n",
            "\n"
          ]
        },
        {
          "name": "stderr",
          "output_type": "stream",
          "text": [
            "/usr/local/lib/python3.7/dist-packages/google/cloud/bigquery/table.py:1567: UserWarning: Dependency google-cloud-bigquery-storage is outdated, please upgrade it to version >= 2.0.0 (version found: 0.0.0).\n",
            "  warnings.warn(str(exc))\n"
          ]
        },
        {
          "name": "stdout",
          "output_type": "stream",
          "text": [
            "Finished job_id: 44996c10-a439-4d35-9d1f-e39d463c3ef9\n"
          ]
        },
        {
          "data": {
            "text/html": [
              "\n",
              "  <div id=\"df-70eb7b81-5bf6-44c7-afc9-46913e45ba79\">\n",
              "    <div class=\"colab-df-container\">\n",
              "      <div>\n",
              "<style scoped>\n",
              "    .dataframe tbody tr th:only-of-type {\n",
              "        vertical-align: middle;\n",
              "    }\n",
              "\n",
              "    .dataframe tbody tr th {\n",
              "        vertical-align: top;\n",
              "    }\n",
              "\n",
              "    .dataframe thead th {\n",
              "        text-align: right;\n",
              "    }\n",
              "</style>\n",
              "<table border=\"1\" class=\"dataframe\">\n",
              "  <thead>\n",
              "    <tr style=\"text-align: right;\">\n",
              "      <th></th>\n",
              "      <th>predicted_income_bracket</th>\n",
              "      <th>predicted_income_bracket_probs</th>\n",
              "      <th>age</th>\n",
              "      <th>workclass</th>\n",
              "      <th>marital_status</th>\n",
              "      <th>education_num</th>\n",
              "      <th>occupation</th>\n",
              "      <th>hours_per_week</th>\n",
              "      <th>income_bracket</th>\n",
              "      <th>dataframe</th>\n",
              "    </tr>\n",
              "  </thead>\n",
              "  <tbody>\n",
              "    <tr>\n",
              "      <th>0</th>\n",
              "      <td>&lt;=50K</td>\n",
              "      <td>[{'label': ' &gt;50K', 'prob': 0.0546065818652878...</td>\n",
              "      <td>34</td>\n",
              "      <td>?</td>\n",
              "      <td>Married-civ-spouse</td>\n",
              "      <td>7</td>\n",
              "      <td>?</td>\n",
              "      <td>8</td>\n",
              "      <td>&lt;=50K</td>\n",
              "      <td>prediction</td>\n",
              "    </tr>\n",
              "    <tr>\n",
              "      <th>1</th>\n",
              "      <td>&lt;=50K</td>\n",
              "      <td>[{'label': ' &gt;50K', 'prob': 0.0630589207946214...</td>\n",
              "      <td>25</td>\n",
              "      <td>?</td>\n",
              "      <td>Married-civ-spouse</td>\n",
              "      <td>9</td>\n",
              "      <td>?</td>\n",
              "      <td>4</td>\n",
              "      <td>&lt;=50K</td>\n",
              "      <td>prediction</td>\n",
              "    </tr>\n",
              "    <tr>\n",
              "      <th>2</th>\n",
              "      <td>&lt;=50K</td>\n",
              "      <td>[{'label': ' &gt;50K', 'prob': 0.1069501440592713...</td>\n",
              "      <td>75</td>\n",
              "      <td>?</td>\n",
              "      <td>Married-civ-spouse</td>\n",
              "      <td>5</td>\n",
              "      <td>?</td>\n",
              "      <td>5</td>\n",
              "      <td>&lt;=50K</td>\n",
              "      <td>prediction</td>\n",
              "    </tr>\n",
              "    <tr>\n",
              "      <th>3</th>\n",
              "      <td>&lt;=50K</td>\n",
              "      <td>[{'label': ' &gt;50K', 'prob': 0.0994746477046556...</td>\n",
              "      <td>67</td>\n",
              "      <td>?</td>\n",
              "      <td>Married-civ-spouse</td>\n",
              "      <td>6</td>\n",
              "      <td>?</td>\n",
              "      <td>2</td>\n",
              "      <td>&lt;=50K</td>\n",
              "      <td>prediction</td>\n",
              "    </tr>\n",
              "    <tr>\n",
              "      <th>4</th>\n",
              "      <td>&lt;=50K</td>\n",
              "      <td>[{'label': ' &gt;50K', 'prob': 0.4422743244662300...</td>\n",
              "      <td>59</td>\n",
              "      <td>?</td>\n",
              "      <td>Married-civ-spouse</td>\n",
              "      <td>9</td>\n",
              "      <td>?</td>\n",
              "      <td>41</td>\n",
              "      <td>&gt;50K</td>\n",
              "      <td>prediction</td>\n",
              "    </tr>\n",
              "    <tr>\n",
              "      <th>...</th>\n",
              "      <td>...</td>\n",
              "      <td>...</td>\n",
              "      <td>...</td>\n",
              "      <td>...</td>\n",
              "      <td>...</td>\n",
              "      <td>...</td>\n",
              "      <td>...</td>\n",
              "      <td>...</td>\n",
              "      <td>...</td>\n",
              "      <td>...</td>\n",
              "    </tr>\n",
              "    <tr>\n",
              "      <th>3137</th>\n",
              "      <td>&gt;50K</td>\n",
              "      <td>[{'label': ' &gt;50K', 'prob': 0.8335553388676905...</td>\n",
              "      <td>51</td>\n",
              "      <td>Local-gov</td>\n",
              "      <td>Married-civ-spouse</td>\n",
              "      <td>9</td>\n",
              "      <td>Protective-serv</td>\n",
              "      <td>70</td>\n",
              "      <td>&lt;=50K</td>\n",
              "      <td>prediction</td>\n",
              "    </tr>\n",
              "    <tr>\n",
              "      <th>3138</th>\n",
              "      <td>&gt;50K</td>\n",
              "      <td>[{'label': ' &gt;50K', 'prob': 0.8505311791530946...</td>\n",
              "      <td>46</td>\n",
              "      <td>Local-gov</td>\n",
              "      <td>Married-civ-spouse</td>\n",
              "      <td>10</td>\n",
              "      <td>Protective-serv</td>\n",
              "      <td>70</td>\n",
              "      <td>&gt;50K</td>\n",
              "      <td>prediction</td>\n",
              "    </tr>\n",
              "    <tr>\n",
              "      <th>3139</th>\n",
              "      <td>&gt;50K</td>\n",
              "      <td>[{'label': ' &gt;50K', 'prob': 0.6321767600301973...</td>\n",
              "      <td>36</td>\n",
              "      <td>Private</td>\n",
              "      <td>Married-civ-spouse</td>\n",
              "      <td>9</td>\n",
              "      <td>Transport-moving</td>\n",
              "      <td>70</td>\n",
              "      <td>&gt;50K</td>\n",
              "      <td>prediction</td>\n",
              "    </tr>\n",
              "    <tr>\n",
              "      <th>3140</th>\n",
              "      <td>&gt;50K</td>\n",
              "      <td>[{'label': ' &gt;50K', 'prob': 0.5648379516096959...</td>\n",
              "      <td>28</td>\n",
              "      <td>Private</td>\n",
              "      <td>Married-civ-spouse</td>\n",
              "      <td>9</td>\n",
              "      <td>Transport-moving</td>\n",
              "      <td>70</td>\n",
              "      <td>&lt;=50K</td>\n",
              "      <td>prediction</td>\n",
              "    </tr>\n",
              "    <tr>\n",
              "      <th>3141</th>\n",
              "      <td>&lt;=50K</td>\n",
              "      <td>[{'label': ' &gt;50K', 'prob': 0.1563143130161199...</td>\n",
              "      <td>32</td>\n",
              "      <td>Private</td>\n",
              "      <td>Separated</td>\n",
              "      <td>10</td>\n",
              "      <td>Machine-op-inspct</td>\n",
              "      <td>70</td>\n",
              "      <td>&lt;=50K</td>\n",
              "      <td>prediction</td>\n",
              "    </tr>\n",
              "  </tbody>\n",
              "</table>\n",
              "<p>3142 rows × 10 columns</p>\n",
              "</div>\n",
              "      <button class=\"colab-df-convert\" onclick=\"convertToInteractive('df-70eb7b81-5bf6-44c7-afc9-46913e45ba79')\"\n",
              "              title=\"Convert this dataframe to an interactive table.\"\n",
              "              style=\"display:none;\">\n",
              "        \n",
              "  <svg xmlns=\"http://www.w3.org/2000/svg\" height=\"24px\"viewBox=\"0 0 24 24\"\n",
              "       width=\"24px\">\n",
              "    <path d=\"M0 0h24v24H0V0z\" fill=\"none\"/>\n",
              "    <path d=\"M18.56 5.44l.94 2.06.94-2.06 2.06-.94-2.06-.94-.94-2.06-.94 2.06-2.06.94zm-11 1L8.5 8.5l.94-2.06 2.06-.94-2.06-.94L8.5 2.5l-.94 2.06-2.06.94zm10 10l.94 2.06.94-2.06 2.06-.94-2.06-.94-.94-2.06-.94 2.06-2.06.94z\"/><path d=\"M17.41 7.96l-1.37-1.37c-.4-.4-.92-.59-1.43-.59-.52 0-1.04.2-1.43.59L10.3 9.45l-7.72 7.72c-.78.78-.78 2.05 0 2.83L4 21.41c.39.39.9.59 1.41.59.51 0 1.02-.2 1.41-.59l7.78-7.78 2.81-2.81c.8-.78.8-2.07 0-2.86zM5.41 20L4 18.59l7.72-7.72 1.47 1.35L5.41 20z\"/>\n",
              "  </svg>\n",
              "      </button>\n",
              "      \n",
              "  <style>\n",
              "    .colab-df-container {\n",
              "      display:flex;\n",
              "      flex-wrap:wrap;\n",
              "      gap: 12px;\n",
              "    }\n",
              "\n",
              "    .colab-df-convert {\n",
              "      background-color: #E8F0FE;\n",
              "      border: none;\n",
              "      border-radius: 50%;\n",
              "      cursor: pointer;\n",
              "      display: none;\n",
              "      fill: #1967D2;\n",
              "      height: 32px;\n",
              "      padding: 0 0 0 0;\n",
              "      width: 32px;\n",
              "    }\n",
              "\n",
              "    .colab-df-convert:hover {\n",
              "      background-color: #E2EBFA;\n",
              "      box-shadow: 0px 1px 2px rgba(60, 64, 67, 0.3), 0px 1px 3px 1px rgba(60, 64, 67, 0.15);\n",
              "      fill: #174EA6;\n",
              "    }\n",
              "\n",
              "    [theme=dark] .colab-df-convert {\n",
              "      background-color: #3B4455;\n",
              "      fill: #D2E3FC;\n",
              "    }\n",
              "\n",
              "    [theme=dark] .colab-df-convert:hover {\n",
              "      background-color: #434B5C;\n",
              "      box-shadow: 0px 1px 3px 1px rgba(0, 0, 0, 0.15);\n",
              "      filter: drop-shadow(0px 1px 2px rgba(0, 0, 0, 0.3));\n",
              "      fill: #FFFFFF;\n",
              "    }\n",
              "  </style>\n",
              "\n",
              "      <script>\n",
              "        const buttonEl =\n",
              "          document.querySelector('#df-70eb7b81-5bf6-44c7-afc9-46913e45ba79 button.colab-df-convert');\n",
              "        buttonEl.style.display =\n",
              "          google.colab.kernel.accessAllowed ? 'block' : 'none';\n",
              "\n",
              "        async function convertToInteractive(key) {\n",
              "          const element = document.querySelector('#df-70eb7b81-5bf6-44c7-afc9-46913e45ba79');\n",
              "          const dataTable =\n",
              "            await google.colab.kernel.invokeFunction('convertToInteractive',\n",
              "                                                     [key], {});\n",
              "          if (!dataTable) return;\n",
              "\n",
              "          const docLinkHtml = 'Like what you see? Visit the ' +\n",
              "            '<a target=\"_blank\" href=https://colab.research.google.com/notebooks/data_table.ipynb>data table notebook</a>'\n",
              "            + ' to learn more about interactive tables.';\n",
              "          element.innerHTML = '';\n",
              "          dataTable['output_type'] = 'display_data';\n",
              "          await google.colab.output.renderOutput(dataTable, element);\n",
              "          const docLink = document.createElement('div');\n",
              "          docLink.innerHTML = docLinkHtml;\n",
              "          element.appendChild(docLink);\n",
              "        }\n",
              "      </script>\n",
              "    </div>\n",
              "  </div>\n",
              "  "
            ],
            "text/plain": [
              "     predicted_income_bracket  \\\n",
              "0                       <=50K   \n",
              "1                       <=50K   \n",
              "2                       <=50K   \n",
              "3                       <=50K   \n",
              "4                       <=50K   \n",
              "...                       ...   \n",
              "3137                     >50K   \n",
              "3138                     >50K   \n",
              "3139                     >50K   \n",
              "3140                     >50K   \n",
              "3141                    <=50K   \n",
              "\n",
              "                         predicted_income_bracket_probs  age   workclass  \\\n",
              "0     [{'label': ' >50K', 'prob': 0.0546065818652878...   34           ?   \n",
              "1     [{'label': ' >50K', 'prob': 0.0630589207946214...   25           ?   \n",
              "2     [{'label': ' >50K', 'prob': 0.1069501440592713...   75           ?   \n",
              "3     [{'label': ' >50K', 'prob': 0.0994746477046556...   67           ?   \n",
              "4     [{'label': ' >50K', 'prob': 0.4422743244662300...   59           ?   \n",
              "...                                                 ...  ...         ...   \n",
              "3137  [{'label': ' >50K', 'prob': 0.8335553388676905...   51   Local-gov   \n",
              "3138  [{'label': ' >50K', 'prob': 0.8505311791530946...   46   Local-gov   \n",
              "3139  [{'label': ' >50K', 'prob': 0.6321767600301973...   36     Private   \n",
              "3140  [{'label': ' >50K', 'prob': 0.5648379516096959...   28     Private   \n",
              "3141  [{'label': ' >50K', 'prob': 0.1563143130161199...   32     Private   \n",
              "\n",
              "           marital_status  education_num          occupation  hours_per_week  \\\n",
              "0      Married-civ-spouse              7                   ?               8   \n",
              "1      Married-civ-spouse              9                   ?               4   \n",
              "2      Married-civ-spouse              5                   ?               5   \n",
              "3      Married-civ-spouse              6                   ?               2   \n",
              "4      Married-civ-spouse              9                   ?              41   \n",
              "...                   ...            ...                 ...             ...   \n",
              "3137   Married-civ-spouse              9     Protective-serv              70   \n",
              "3138   Married-civ-spouse             10     Protective-serv              70   \n",
              "3139   Married-civ-spouse              9    Transport-moving              70   \n",
              "3140   Married-civ-spouse              9    Transport-moving              70   \n",
              "3141            Separated             10   Machine-op-inspct              70   \n",
              "\n",
              "     income_bracket   dataframe  \n",
              "0             <=50K  prediction  \n",
              "1             <=50K  prediction  \n",
              "2             <=50K  prediction  \n",
              "3             <=50K  prediction  \n",
              "4              >50K  prediction  \n",
              "...             ...         ...  \n",
              "3137          <=50K  prediction  \n",
              "3138           >50K  prediction  \n",
              "3139           >50K  prediction  \n",
              "3140          <=50K  prediction  \n",
              "3141          <=50K  prediction  \n",
              "\n",
              "[3142 rows x 10 columns]"
            ]
          },
          "execution_count": 19,
          "metadata": {},
          "output_type": "execute_result"
        }
      ],
      "source": [
        "sql_ml_predict = f\"\"\"\n",
        "\n",
        "SELECT\n",
        " *\n",
        "FROM\n",
        " ML.PREDICT (MODEL {BQ_DATASET_NAME}.{BQML_MODEL_NAME},\n",
        "   (\n",
        "   SELECT\n",
        "     *\n",
        "   FROM\n",
        "     {BQ_DATASET_NAME}.input_view\n",
        "   WHERE\n",
        "     dataframe = 'prediction'\n",
        "    )\n",
        " )\n",
        "\"\"\"\n",
        "\n",
        "print(sql_ml_predict)\n",
        "\n",
        "run_bq_query(sql_ml_predict)"
      ]
    },
    {
      "cell_type": "markdown",
      "metadata": {
        "id": "7e806ebc48a2"
      },
      "source": [
        "### Use the ML.EXPLAIN_PREDICT function to know which features are the most important to determine the weight.\n"
      ]
    },
    {
      "cell_type": "markdown",
      "metadata": {
        "id": "d31605829283"
      },
      "source": [
        "To understand why the model is generating these prediction results, you can use the ML.EXPLAIN_PREDICT function.\n",
        "\n",
        "\n",
        "<a href=\"https://cloud.google.com/bigquery-ml/docs/reference/standard-sql/bigqueryml-syntax-explain-predict\" target=\"_blank\">ML.EXPLAIN_PREDICT</a> has built-in <a href=\"https://cloud.google.com/bigquery-ml/docs/reference/standard-sql/bigqueryml-syntax-xai-overview\" target=\"_blank\">Explainable AI</a>. This allows you to see the top contributing features to each prediction and interpret how it was computed."
      ]
    },
    {
      "cell_type": "code",
      "execution_count": 23,
      "metadata": {
        "colab": {
          "base_uri": "https://localhost:8080/",
          "height": 887
        },
        "id": "2d500fdbfb44",
        "outputId": "dd30c364-a7e2-4f2b-e506-78bd4c6e25bb"
      },
      "outputs": [
        {
          "name": "stdout",
          "output_type": "stream",
          "text": [
            "\n",
            "\n",
            "SELECT * FROM\n",
            "ML.EXPLAIN_PREDICT(MODEL bqml_log_reg_census_income_predict_model_dataset.bqml_log_reg_census_income_predict_model,\n",
            " (\n",
            "  SELECT * FROM bqml_log_reg_census_income_predict_model_dataset.input_view\n",
            "  WHERE dataframe = 'prediction'),\n",
            "  STRUCT(3 as top_k_features)  \n",
            " )\n",
            "\n"
          ]
        },
        {
          "name": "stderr",
          "output_type": "stream",
          "text": [
            "/usr/local/lib/python3.7/dist-packages/google/cloud/bigquery/table.py:1567: UserWarning: Dependency google-cloud-bigquery-storage is outdated, please upgrade it to version >= 2.0.0 (version found: 0.0.0).\n",
            "  warnings.warn(str(exc))\n"
          ]
        },
        {
          "name": "stdout",
          "output_type": "stream",
          "text": [
            "Finished job_id: 704ddb1f-6574-42e9-ad2d-28f655d3e8a6\n"
          ]
        },
        {
          "data": {
            "text/html": [
              "\n",
              "  <div id=\"df-0b3941c5-9169-4f72-b348-6919ffc5a95e\">\n",
              "    <div class=\"colab-df-container\">\n",
              "      <div>\n",
              "<style scoped>\n",
              "    .dataframe tbody tr th:only-of-type {\n",
              "        vertical-align: middle;\n",
              "    }\n",
              "\n",
              "    .dataframe tbody tr th {\n",
              "        vertical-align: top;\n",
              "    }\n",
              "\n",
              "    .dataframe thead th {\n",
              "        text-align: right;\n",
              "    }\n",
              "</style>\n",
              "<table border=\"1\" class=\"dataframe\">\n",
              "  <thead>\n",
              "    <tr style=\"text-align: right;\">\n",
              "      <th></th>\n",
              "      <th>predicted_income_bracket</th>\n",
              "      <th>probability</th>\n",
              "      <th>top_feature_attributions</th>\n",
              "      <th>baseline_prediction_value</th>\n",
              "      <th>prediction_value</th>\n",
              "      <th>approximation_error</th>\n",
              "      <th>age</th>\n",
              "      <th>workclass</th>\n",
              "      <th>marital_status</th>\n",
              "      <th>education_num</th>\n",
              "      <th>occupation</th>\n",
              "      <th>hours_per_week</th>\n",
              "      <th>income_bracket</th>\n",
              "      <th>dataframe</th>\n",
              "    </tr>\n",
              "  </thead>\n",
              "  <tbody>\n",
              "    <tr>\n",
              "      <th>0</th>\n",
              "      <td>&lt;=50K</td>\n",
              "      <td>0.945393</td>\n",
              "      <td>[{'feature': 'hours_per_week', 'attribution': ...</td>\n",
              "      <td>-0.298787</td>\n",
              "      <td>-2.851447</td>\n",
              "      <td>0.0</td>\n",
              "      <td>34</td>\n",
              "      <td>?</td>\n",
              "      <td>Married-civ-spouse</td>\n",
              "      <td>7</td>\n",
              "      <td>?</td>\n",
              "      <td>8</td>\n",
              "      <td>&lt;=50K</td>\n",
              "      <td>prediction</td>\n",
              "    </tr>\n",
              "    <tr>\n",
              "      <th>1</th>\n",
              "      <td>&lt;=50K</td>\n",
              "      <td>0.936941</td>\n",
              "      <td>[{'feature': 'hours_per_week', 'attribution': ...</td>\n",
              "      <td>-0.298787</td>\n",
              "      <td>-2.698551</td>\n",
              "      <td>0.0</td>\n",
              "      <td>25</td>\n",
              "      <td>?</td>\n",
              "      <td>Married-civ-spouse</td>\n",
              "      <td>9</td>\n",
              "      <td>?</td>\n",
              "      <td>4</td>\n",
              "      <td>&lt;=50K</td>\n",
              "      <td>prediction</td>\n",
              "    </tr>\n",
              "    <tr>\n",
              "      <th>2</th>\n",
              "      <td>&lt;=50K</td>\n",
              "      <td>0.893050</td>\n",
              "      <td>[{'feature': 'education_num', 'attribution': -...</td>\n",
              "      <td>-0.298787</td>\n",
              "      <td>-2.122280</td>\n",
              "      <td>0.0</td>\n",
              "      <td>75</td>\n",
              "      <td>?</td>\n",
              "      <td>Married-civ-spouse</td>\n",
              "      <td>5</td>\n",
              "      <td>?</td>\n",
              "      <td>5</td>\n",
              "      <td>&lt;=50K</td>\n",
              "      <td>prediction</td>\n",
              "    </tr>\n",
              "    <tr>\n",
              "      <th>3</th>\n",
              "      <td>&lt;=50K</td>\n",
              "      <td>0.900525</td>\n",
              "      <td>[{'feature': 'hours_per_week', 'attribution': ...</td>\n",
              "      <td>-0.298787</td>\n",
              "      <td>-2.203076</td>\n",
              "      <td>0.0</td>\n",
              "      <td>67</td>\n",
              "      <td>?</td>\n",
              "      <td>Married-civ-spouse</td>\n",
              "      <td>6</td>\n",
              "      <td>?</td>\n",
              "      <td>2</td>\n",
              "      <td>&lt;=50K</td>\n",
              "      <td>prediction</td>\n",
              "    </tr>\n",
              "    <tr>\n",
              "      <th>4</th>\n",
              "      <td>&lt;=50K</td>\n",
              "      <td>0.557726</td>\n",
              "      <td>[{'feature': 'marital_status', 'attribution': ...</td>\n",
              "      <td>-0.298787</td>\n",
              "      <td>-0.231937</td>\n",
              "      <td>0.0</td>\n",
              "      <td>59</td>\n",
              "      <td>?</td>\n",
              "      <td>Married-civ-spouse</td>\n",
              "      <td>9</td>\n",
              "      <td>?</td>\n",
              "      <td>41</td>\n",
              "      <td>&gt;50K</td>\n",
              "      <td>prediction</td>\n",
              "    </tr>\n",
              "    <tr>\n",
              "      <th>...</th>\n",
              "      <td>...</td>\n",
              "      <td>...</td>\n",
              "      <td>...</td>\n",
              "      <td>...</td>\n",
              "      <td>...</td>\n",
              "      <td>...</td>\n",
              "      <td>...</td>\n",
              "      <td>...</td>\n",
              "      <td>...</td>\n",
              "      <td>...</td>\n",
              "      <td>...</td>\n",
              "      <td>...</td>\n",
              "      <td>...</td>\n",
              "      <td>...</td>\n",
              "    </tr>\n",
              "    <tr>\n",
              "      <th>3137</th>\n",
              "      <td>&gt;50K</td>\n",
              "      <td>0.833555</td>\n",
              "      <td>[{'feature': 'hours_per_week', 'attribution': ...</td>\n",
              "      <td>-0.298787</td>\n",
              "      <td>1.611037</td>\n",
              "      <td>0.0</td>\n",
              "      <td>51</td>\n",
              "      <td>Local-gov</td>\n",
              "      <td>Married-civ-spouse</td>\n",
              "      <td>9</td>\n",
              "      <td>Protective-serv</td>\n",
              "      <td>70</td>\n",
              "      <td>&lt;=50K</td>\n",
              "      <td>prediction</td>\n",
              "    </tr>\n",
              "    <tr>\n",
              "      <th>3138</th>\n",
              "      <td>&gt;50K</td>\n",
              "      <td>0.850531</td>\n",
              "      <td>[{'feature': 'hours_per_week', 'attribution': ...</td>\n",
              "      <td>-0.298787</td>\n",
              "      <td>1.738773</td>\n",
              "      <td>0.0</td>\n",
              "      <td>46</td>\n",
              "      <td>Local-gov</td>\n",
              "      <td>Married-civ-spouse</td>\n",
              "      <td>10</td>\n",
              "      <td>Protective-serv</td>\n",
              "      <td>70</td>\n",
              "      <td>&gt;50K</td>\n",
              "      <td>prediction</td>\n",
              "    </tr>\n",
              "    <tr>\n",
              "      <th>3139</th>\n",
              "      <td>&gt;50K</td>\n",
              "      <td>0.632177</td>\n",
              "      <td>[{'feature': 'hours_per_week', 'attribution': ...</td>\n",
              "      <td>-0.298787</td>\n",
              "      <td>0.541567</td>\n",
              "      <td>0.0</td>\n",
              "      <td>36</td>\n",
              "      <td>Private</td>\n",
              "      <td>Married-civ-spouse</td>\n",
              "      <td>9</td>\n",
              "      <td>Transport-moving</td>\n",
              "      <td>70</td>\n",
              "      <td>&gt;50K</td>\n",
              "      <td>prediction</td>\n",
              "    </tr>\n",
              "    <tr>\n",
              "      <th>3140</th>\n",
              "      <td>&gt;50K</td>\n",
              "      <td>0.564838</td>\n",
              "      <td>[{'feature': 'hours_per_week', 'attribution': ...</td>\n",
              "      <td>-0.298787</td>\n",
              "      <td>0.260820</td>\n",
              "      <td>0.0</td>\n",
              "      <td>28</td>\n",
              "      <td>Private</td>\n",
              "      <td>Married-civ-spouse</td>\n",
              "      <td>9</td>\n",
              "      <td>Transport-moving</td>\n",
              "      <td>70</td>\n",
              "      <td>&lt;=50K</td>\n",
              "      <td>prediction</td>\n",
              "    </tr>\n",
              "    <tr>\n",
              "      <th>3141</th>\n",
              "      <td>&lt;=50K</td>\n",
              "      <td>0.843686</td>\n",
              "      <td>[{'feature': 'marital_status', 'attribution': ...</td>\n",
              "      <td>-0.298787</td>\n",
              "      <td>-1.685911</td>\n",
              "      <td>0.0</td>\n",
              "      <td>32</td>\n",
              "      <td>Private</td>\n",
              "      <td>Separated</td>\n",
              "      <td>10</td>\n",
              "      <td>Machine-op-inspct</td>\n",
              "      <td>70</td>\n",
              "      <td>&lt;=50K</td>\n",
              "      <td>prediction</td>\n",
              "    </tr>\n",
              "  </tbody>\n",
              "</table>\n",
              "<p>3142 rows × 14 columns</p>\n",
              "</div>\n",
              "      <button class=\"colab-df-convert\" onclick=\"convertToInteractive('df-0b3941c5-9169-4f72-b348-6919ffc5a95e')\"\n",
              "              title=\"Convert this dataframe to an interactive table.\"\n",
              "              style=\"display:none;\">\n",
              "        \n",
              "  <svg xmlns=\"http://www.w3.org/2000/svg\" height=\"24px\"viewBox=\"0 0 24 24\"\n",
              "       width=\"24px\">\n",
              "    <path d=\"M0 0h24v24H0V0z\" fill=\"none\"/>\n",
              "    <path d=\"M18.56 5.44l.94 2.06.94-2.06 2.06-.94-2.06-.94-.94-2.06-.94 2.06-2.06.94zm-11 1L8.5 8.5l.94-2.06 2.06-.94-2.06-.94L8.5 2.5l-.94 2.06-2.06.94zm10 10l.94 2.06.94-2.06 2.06-.94-2.06-.94-.94-2.06-.94 2.06-2.06.94z\"/><path d=\"M17.41 7.96l-1.37-1.37c-.4-.4-.92-.59-1.43-.59-.52 0-1.04.2-1.43.59L10.3 9.45l-7.72 7.72c-.78.78-.78 2.05 0 2.83L4 21.41c.39.39.9.59 1.41.59.51 0 1.02-.2 1.41-.59l7.78-7.78 2.81-2.81c.8-.78.8-2.07 0-2.86zM5.41 20L4 18.59l7.72-7.72 1.47 1.35L5.41 20z\"/>\n",
              "  </svg>\n",
              "      </button>\n",
              "      \n",
              "  <style>\n",
              "    .colab-df-container {\n",
              "      display:flex;\n",
              "      flex-wrap:wrap;\n",
              "      gap: 12px;\n",
              "    }\n",
              "\n",
              "    .colab-df-convert {\n",
              "      background-color: #E8F0FE;\n",
              "      border: none;\n",
              "      border-radius: 50%;\n",
              "      cursor: pointer;\n",
              "      display: none;\n",
              "      fill: #1967D2;\n",
              "      height: 32px;\n",
              "      padding: 0 0 0 0;\n",
              "      width: 32px;\n",
              "    }\n",
              "\n",
              "    .colab-df-convert:hover {\n",
              "      background-color: #E2EBFA;\n",
              "      box-shadow: 0px 1px 2px rgba(60, 64, 67, 0.3), 0px 1px 3px 1px rgba(60, 64, 67, 0.15);\n",
              "      fill: #174EA6;\n",
              "    }\n",
              "\n",
              "    [theme=dark] .colab-df-convert {\n",
              "      background-color: #3B4455;\n",
              "      fill: #D2E3FC;\n",
              "    }\n",
              "\n",
              "    [theme=dark] .colab-df-convert:hover {\n",
              "      background-color: #434B5C;\n",
              "      box-shadow: 0px 1px 3px 1px rgba(0, 0, 0, 0.15);\n",
              "      filter: drop-shadow(0px 1px 2px rgba(0, 0, 0, 0.3));\n",
              "      fill: #FFFFFF;\n",
              "    }\n",
              "  </style>\n",
              "\n",
              "      <script>\n",
              "        const buttonEl =\n",
              "          document.querySelector('#df-0b3941c5-9169-4f72-b348-6919ffc5a95e button.colab-df-convert');\n",
              "        buttonEl.style.display =\n",
              "          google.colab.kernel.accessAllowed ? 'block' : 'none';\n",
              "\n",
              "        async function convertToInteractive(key) {\n",
              "          const element = document.querySelector('#df-0b3941c5-9169-4f72-b348-6919ffc5a95e');\n",
              "          const dataTable =\n",
              "            await google.colab.kernel.invokeFunction('convertToInteractive',\n",
              "                                                     [key], {});\n",
              "          if (!dataTable) return;\n",
              "\n",
              "          const docLinkHtml = 'Like what you see? Visit the ' +\n",
              "            '<a target=\"_blank\" href=https://colab.research.google.com/notebooks/data_table.ipynb>data table notebook</a>'\n",
              "            + ' to learn more about interactive tables.';\n",
              "          element.innerHTML = '';\n",
              "          dataTable['output_type'] = 'display_data';\n",
              "          await google.colab.output.renderOutput(dataTable, element);\n",
              "          const docLink = document.createElement('div');\n",
              "          docLink.innerHTML = docLinkHtml;\n",
              "          element.appendChild(docLink);\n",
              "        }\n",
              "      </script>\n",
              "    </div>\n",
              "  </div>\n",
              "  "
            ],
            "text/plain": [
              "     predicted_income_bracket  probability  \\\n",
              "0                       <=50K     0.945393   \n",
              "1                       <=50K     0.936941   \n",
              "2                       <=50K     0.893050   \n",
              "3                       <=50K     0.900525   \n",
              "4                       <=50K     0.557726   \n",
              "...                       ...          ...   \n",
              "3137                     >50K     0.833555   \n",
              "3138                     >50K     0.850531   \n",
              "3139                     >50K     0.632177   \n",
              "3140                     >50K     0.564838   \n",
              "3141                    <=50K     0.843686   \n",
              "\n",
              "                               top_feature_attributions  \\\n",
              "0     [{'feature': 'hours_per_week', 'attribution': ...   \n",
              "1     [{'feature': 'hours_per_week', 'attribution': ...   \n",
              "2     [{'feature': 'education_num', 'attribution': -...   \n",
              "3     [{'feature': 'hours_per_week', 'attribution': ...   \n",
              "4     [{'feature': 'marital_status', 'attribution': ...   \n",
              "...                                                 ...   \n",
              "3137  [{'feature': 'hours_per_week', 'attribution': ...   \n",
              "3138  [{'feature': 'hours_per_week', 'attribution': ...   \n",
              "3139  [{'feature': 'hours_per_week', 'attribution': ...   \n",
              "3140  [{'feature': 'hours_per_week', 'attribution': ...   \n",
              "3141  [{'feature': 'marital_status', 'attribution': ...   \n",
              "\n",
              "      baseline_prediction_value  prediction_value  approximation_error  age  \\\n",
              "0                     -0.298787         -2.851447                  0.0   34   \n",
              "1                     -0.298787         -2.698551                  0.0   25   \n",
              "2                     -0.298787         -2.122280                  0.0   75   \n",
              "3                     -0.298787         -2.203076                  0.0   67   \n",
              "4                     -0.298787         -0.231937                  0.0   59   \n",
              "...                         ...               ...                  ...  ...   \n",
              "3137                  -0.298787          1.611037                  0.0   51   \n",
              "3138                  -0.298787          1.738773                  0.0   46   \n",
              "3139                  -0.298787          0.541567                  0.0   36   \n",
              "3140                  -0.298787          0.260820                  0.0   28   \n",
              "3141                  -0.298787         -1.685911                  0.0   32   \n",
              "\n",
              "       workclass       marital_status  education_num          occupation  \\\n",
              "0              ?   Married-civ-spouse              7                   ?   \n",
              "1              ?   Married-civ-spouse              9                   ?   \n",
              "2              ?   Married-civ-spouse              5                   ?   \n",
              "3              ?   Married-civ-spouse              6                   ?   \n",
              "4              ?   Married-civ-spouse              9                   ?   \n",
              "...          ...                  ...            ...                 ...   \n",
              "3137   Local-gov   Married-civ-spouse              9     Protective-serv   \n",
              "3138   Local-gov   Married-civ-spouse             10     Protective-serv   \n",
              "3139     Private   Married-civ-spouse              9    Transport-moving   \n",
              "3140     Private   Married-civ-spouse              9    Transport-moving   \n",
              "3141     Private            Separated             10   Machine-op-inspct   \n",
              "\n",
              "      hours_per_week income_bracket   dataframe  \n",
              "0                  8          <=50K  prediction  \n",
              "1                  4          <=50K  prediction  \n",
              "2                  5          <=50K  prediction  \n",
              "3                  2          <=50K  prediction  \n",
              "4                 41           >50K  prediction  \n",
              "...              ...            ...         ...  \n",
              "3137              70          <=50K  prediction  \n",
              "3138              70           >50K  prediction  \n",
              "3139              70           >50K  prediction  \n",
              "3140              70          <=50K  prediction  \n",
              "3141              70          <=50K  prediction  \n",
              "\n",
              "[3142 rows x 14 columns]"
            ]
          },
          "execution_count": 23,
          "metadata": {},
          "output_type": "execute_result"
        }
      ],
      "source": [
        "sql_explain_predict = f\"\"\"\n",
        "\n",
        "SELECT * FROM\n",
        "ML.EXPLAIN_PREDICT(MODEL {BQ_DATASET_NAME}.{BQML_MODEL_NAME},\n",
        " (\n",
        "  SELECT * FROM {BQ_DATASET_NAME}.input_view\n",
        "  WHERE dataframe = 'prediction'),\n",
        "  STRUCT(3 as top_k_features)  \n",
        " )\n",
        "\"\"\"\n",
        "\n",
        "print(sql_explain_predict)\n",
        "\n",
        "run_bq_query(sql_explain_predict)"
      ]
    },
    {
      "cell_type": "markdown",
      "metadata": {
        "id": "dc0c1c1b03f9"
      },
      "source": [
        "### Inspect the model on Vertex AI Model Registry"
      ]
    },
    {
      "cell_type": "markdown",
      "metadata": {
        "id": "0144d67a298e"
      },
      "source": [
        "When the model was trained in BigQuery ML, the line `model_registry=\"vertex_ai\"` registered the model to Vertex AI Model Registry automatically upon completion.\n",
        "\n",
        "You can view the model on the <a href=\"https://console.cloud.google.com/vertex-ai/models\" target=\"_blank\">Vertex AI Model Registry page</a>, or use the code below to check that it was successfully registered:"
      ]
    },
    {
      "cell_type": "code",
      "execution_count": 30,
      "metadata": {
        "colab": {
          "base_uri": "https://localhost:8080/"
        },
        "id": "b00664302839",
        "outputId": "8d10f67d-54ec-43bf-be1a-0d91901be77e"
      },
      "outputs": [
        {
          "name": "stdout",
          "output_type": "stream",
          "text": [
            "name: \"projects/993987777814/locations/us-central1/models/bqml_log_reg_census_income_predict_model\"\n",
            "display_name: \"bqml_log_reg_census_income_predict_model\"\n",
            "supported_deployment_resources_types: DEDICATED_RESOURCES\n",
            "supported_input_storage_formats: \"jsonl\"\n",
            "supported_input_storage_formats: \"bigquery\"\n",
            "supported_input_storage_formats: \"csv\"\n",
            "supported_input_storage_formats: \"tf-record\"\n",
            "supported_input_storage_formats: \"tf-record-gzip\"\n",
            "supported_input_storage_formats: \"file-list\"\n",
            "supported_output_storage_formats: \"jsonl\"\n",
            "supported_output_storage_formats: \"bigquery\"\n",
            "create_time {\n",
            "  seconds: 1667581691\n",
            "  nanos: 345408000\n",
            "}\n",
            "update_time {\n",
            "  seconds: 1667581732\n",
            "  nanos: 587274000\n",
            "}\n",
            "etag: \"AMEw9yPdtq_-FN0lSvQuTl-899Cy8rMjvdHpxlKZTUgRF-9495hQftyvPmjSLQKtvvBD\"\n",
            "version_id: \"1\"\n",
            "version_aliases: \"logistic_reg\"\n",
            "version_aliases: \"experimental\"\n",
            "version_aliases: \"default\"\n",
            "version_create_time {\n",
            "  seconds: 1667581691\n",
            "  nanos: 345408000\n",
            "}\n",
            "version_update_time {\n",
            "  seconds: 1667581732\n",
            "  nanos: 465828000\n",
            "}\n",
            "model_source_info {\n",
            "  source_type: BQML\n",
            "}\n",
            "\n"
          ]
        }
      ],
      "source": [
        "model = vertex_ai.Model(model_name=BQML_MODEL_NAME)\n",
        "\n",
        "print(model.gca_resource)"
      ]
    },
    {
      "cell_type": "markdown",
      "metadata": {
        "id": "89455f708f54"
      },
      "source": [
        "### Deploy the model to an endpoint"
      ]
    },
    {
      "cell_type": "markdown",
      "metadata": {
        "id": "b6120dcc1ff6"
      },
      "source": [
        "While BigQuery ML supports batch prediction with <a href=\"https://cloud.google.com/bigquery-ml/docs/reference/standard-sql/bigqueryml-syntax-predict\" target=\"_blank\">ML.PREDICT</a> and <a href=\"https://cloud.google.com/bigquery-ml/docs/reference/standard-sql/bigqueryml-syntax-explain-predict\" target=\"_blank\">ML.EXPLAIN_PREDICT</a>, BigQuery ML is not suitable for real-time predictions where you need low latency predictions with potentially high frequency of requests.\n",
        "\n",
        "In other words, deploying the BigQuery ML model to an endpoint enables you to do online predictions."
      ]
    },
    {
      "cell_type": "markdown",
      "metadata": {
        "id": "e1ab7e1ac83c"
      },
      "source": [
        "#### Create a Vertex AI endpoint"
      ]
    },
    {
      "cell_type": "markdown",
      "metadata": {
        "id": "0a61ea55f685"
      },
      "source": [
        "To deploy your model to an endpoint, you will first need to create an endpoint before you deploy the model to it."
      ]
    },
    {
      "cell_type": "code",
      "execution_count": 31,
      "metadata": {
        "colab": {
          "base_uri": "https://localhost:8080/"
        },
        "id": "b7d80941cf30",
        "outputId": "612fc7c9-41fa-42a6-e325-75fbcb5b5d04"
      },
      "outputs": [
        {
          "name": "stdout",
          "output_type": "stream",
          "text": [
            "Creating Endpoint\n"
          ]
        },
        {
          "name": "stderr",
          "output_type": "stream",
          "text": [
            "INFO:google.cloud.aiplatform.models:Creating Endpoint\n"
          ]
        },
        {
          "name": "stdout",
          "output_type": "stream",
          "text": [
            "Create Endpoint backing LRO: projects/993987777814/locations/us-central1/endpoints/1139626210003779584/operations/3098416414088757248\n"
          ]
        },
        {
          "name": "stderr",
          "output_type": "stream",
          "text": [
            "INFO:google.cloud.aiplatform.models:Create Endpoint backing LRO: projects/993987777814/locations/us-central1/endpoints/1139626210003779584/operations/3098416414088757248\n"
          ]
        },
        {
          "name": "stdout",
          "output_type": "stream",
          "text": [
            "Endpoint created. Resource name: projects/993987777814/locations/us-central1/endpoints/1139626210003779584\n"
          ]
        },
        {
          "name": "stderr",
          "output_type": "stream",
          "text": [
            "INFO:google.cloud.aiplatform.models:Endpoint created. Resource name: projects/993987777814/locations/us-central1/endpoints/1139626210003779584\n"
          ]
        },
        {
          "name": "stdout",
          "output_type": "stream",
          "text": [
            "To use this Endpoint in another session:\n"
          ]
        },
        {
          "name": "stderr",
          "output_type": "stream",
          "text": [
            "INFO:google.cloud.aiplatform.models:To use this Endpoint in another session:\n"
          ]
        },
        {
          "name": "stdout",
          "output_type": "stream",
          "text": [
            "endpoint = aiplatform.Endpoint('projects/993987777814/locations/us-central1/endpoints/1139626210003779584')\n"
          ]
        },
        {
          "name": "stderr",
          "output_type": "stream",
          "text": [
            "INFO:google.cloud.aiplatform.models:endpoint = aiplatform.Endpoint('projects/993987777814/locations/us-central1/endpoints/1139626210003779584')\n"
          ]
        },
        {
          "name": "stdout",
          "output_type": "stream",
          "text": [
            "bqml_log_reg_census_income_predict_model_endpoint\n",
            "projects/993987777814/locations/us-central1/endpoints/1139626210003779584\n"
          ]
        }
      ],
      "source": [
        "\n",
        "endpoint = vertex_ai.Endpoint.create(\n",
        "    display_name=ENDPOINT_NAME,\n",
        "    project=PROJECT_ID,\n",
        "    location=REGION,\n",
        ")\n",
        "\n",
        "print(endpoint.display_name)\n",
        "print(endpoint.resource_name)"
      ]
    },
    {
      "cell_type": "markdown",
      "metadata": {
        "id": "b58a104207d2"
      },
      "source": [
        "#### List endpoints"
      ]
    },
    {
      "cell_type": "markdown",
      "metadata": {
        "id": "951ed1693f6b"
      },
      "source": [
        "List the endpoints to make sure it has successfully been created. (You can also view your endpoints on the <a href=\"https://console.cloud.google.com/vertex-ai/endpoints\" target=\"_blank\">Vertex AI Endpoints page</a>)."
      ]
    },
    {
      "cell_type": "code",
      "execution_count": 32,
      "metadata": {
        "colab": {
          "base_uri": "https://localhost:8080/"
        },
        "id": "c4d7707910bc",
        "outputId": "173cc7b0-038d-4c78-db4d-0c2e69c7bacb"
      },
      "outputs": [
        {
          "data": {
            "text/plain": [
              "[<google.cloud.aiplatform.models.Endpoint object at 0x7f564a7e1850> \n",
              " resource name: projects/993987777814/locations/us-central1/endpoints/1139626210003779584,\n",
              " <google.cloud.aiplatform.models.Endpoint object at 0x7f564a7da850> \n",
              " resource name: projects/993987777814/locations/us-central1/endpoints/4502689231742697472,\n",
              " <google.cloud.aiplatform.models.Endpoint object at 0x7f564a7e6d90> \n",
              " resource name: projects/993987777814/locations/us-central1/endpoints/369919692048957440,\n",
              " <google.cloud.aiplatform.models.Endpoint object at 0x7f564a7f39d0> \n",
              " resource name: projects/993987777814/locations/us-central1/endpoints/1236862620317777920,\n",
              " <google.cloud.aiplatform.models.Endpoint object at 0x7f564a782550> \n",
              " resource name: projects/993987777814/locations/us-central1/endpoints/5420706674144968704,\n",
              " <google.cloud.aiplatform.models.Endpoint object at 0x7f564a7efc50> \n",
              " resource name: projects/993987777814/locations/us-central1/endpoints/7994667792815095808]"
            ]
          },
          "execution_count": 32,
          "metadata": {},
          "output_type": "execute_result"
        }
      ],
      "source": [
        "endpoint.list()"
      ]
    },
    {
      "cell_type": "markdown",
      "metadata": {
        "id": "ba0d40b26cfb"
      },
      "source": [
        "#### Deploy model to Vertex endpoint"
      ]
    },
    {
      "cell_type": "markdown",
      "metadata": {
        "id": "6a90be5b77a2"
      },
      "source": [
        "With the new endpoint, you can now deploy your model."
      ]
    },
    {
      "cell_type": "code",
      "execution_count": 33,
      "metadata": {
        "colab": {
          "base_uri": "https://localhost:8080/"
        },
        "id": "c70ecc568ee5",
        "outputId": "c6af4a3e-b4c3-4d5a-ec9c-b19b0aa43f2a"
      },
      "outputs": [
        {
          "name": "stdout",
          "output_type": "stream",
          "text": [
            "Deploying model to Endpoint : projects/993987777814/locations/us-central1/endpoints/1139626210003779584\n"
          ]
        },
        {
          "name": "stderr",
          "output_type": "stream",
          "text": [
            "INFO:google.cloud.aiplatform.models:Deploying model to Endpoint : projects/993987777814/locations/us-central1/endpoints/1139626210003779584\n"
          ]
        },
        {
          "name": "stdout",
          "output_type": "stream",
          "text": [
            "Using default machine_type: n1-standard-2\n"
          ]
        },
        {
          "name": "stderr",
          "output_type": "stream",
          "text": [
            "INFO:google.cloud.aiplatform.models:Using default machine_type: n1-standard-2\n"
          ]
        },
        {
          "name": "stdout",
          "output_type": "stream",
          "text": [
            "Deploy Endpoint model backing LRO: projects/993987777814/locations/us-central1/endpoints/1139626210003779584/operations/1002096340664057856\n"
          ]
        },
        {
          "name": "stderr",
          "output_type": "stream",
          "text": [
            "INFO:google.cloud.aiplatform.models:Deploy Endpoint model backing LRO: projects/993987777814/locations/us-central1/endpoints/1139626210003779584/operations/1002096340664057856\n"
          ]
        },
        {
          "name": "stdout",
          "output_type": "stream",
          "text": [
            "Endpoint model deployed. Resource name: projects/993987777814/locations/us-central1/endpoints/1139626210003779584\n"
          ]
        },
        {
          "name": "stderr",
          "output_type": "stream",
          "text": [
            "INFO:google.cloud.aiplatform.models:Endpoint model deployed. Resource name: projects/993987777814/locations/us-central1/endpoints/1139626210003779584\n"
          ]
        },
        {
          "data": {
            "text/plain": [
              "<google.cloud.aiplatform.models.Endpoint object at 0x7f565837e190> \n",
              "resource name: projects/993987777814/locations/us-central1/endpoints/1139626210003779584"
            ]
          },
          "execution_count": 33,
          "metadata": {},
          "output_type": "execute_result"
        }
      ],
      "source": [
        "# deploying the model to the endpoint may take 10-15 minutes\n",
        "model.deploy(endpoint=endpoint)"
      ]
    },
    {
      "cell_type": "markdown",
      "metadata": {
        "id": "c303d779477b"
      },
      "source": [
        "You can also check on the status of your model by visiting the <a href=\"https://console.cloud.google.com/vertex-ai/endpoints\" target=\"_blank\">Vertex AI Endpoints page</a>."
      ]
    },
    {
      "cell_type": "markdown",
      "metadata": {
        "id": "4cb04d49c6f1"
      },
      "source": [
        "### Make online predictions to the endpoint"
      ]
    },
    {
      "cell_type": "markdown",
      "metadata": {
        "id": "2a888784de7b"
      },
      "source": [
        "Using a sample of the training data, you can test the endpoint to make online predictions."
      ]
    },
    {
      "cell_type": "code",
      "execution_count": 40,
      "metadata": {
        "id": "f17b049a846c"
      },
      "outputs": [],
      "source": [
        "df_sample_requests_list = [\n",
        "    {\n",
        "        \"age\": 45,\n",
        "        \"workclass\": \"Private\",\n",
        "        \"marital_status\": \"Single\",\n",
        "        \"education_num\": 6,\n",
        "        \"occupation\": \"Exec-managerial\",\n",
        "        \"hours_per_week\": 40,\n",
        "    },\n",
        "    {\n",
        "        \"age\": 30,\n",
        "        \"workclass\": \"Private\",\n",
        "        \"marital_status\": \"Married\",\n",
        "        \"education_num\": 2,\n",
        "        \"occupation\": \"Machine-op-inspct\",\n",
        "        \"hours_per_week\": 50,\n",
        "    }\n",
        "]"
      ]
    },
    {
      "cell_type": "code",
      "execution_count": 41,
      "metadata": {
        "colab": {
          "base_uri": "https://localhost:8080/"
        },
        "id": "b4839f31d2f8",
        "outputId": "2b00256e-c6ca-47d5-b545-f37ae2e4e71b"
      },
      "outputs": [
        {
          "name": "stdout",
          "output_type": "stream",
          "text": [
            "Prediction(predictions=[{'income_bracket_probs': [0.2098744173305852, 0.7901255826694148], 'predicted_income_bracket': [' <=50K'], 'income_bracket_values': [' >50K', ' <=50K']}, {'income_bracket_values': [' >50K', ' <=50K'], 'predicted_income_bracket': [' <=50K'], 'income_bracket_probs': [0.06176187987532602, 0.938238120124674]}], deployed_model_id='1547676965304008704', model_version_id='1', model_resource_name='projects/993987777814/locations/us-central1/models/bqml_log_reg_census_income_predict_model', explanations=None)\n"
          ]
        }
      ],
      "source": [
        "prediction = endpoint.predict(df_sample_requests_list)\n",
        "print(prediction)"
      ]
    },
    {
      "cell_type": "markdown",
      "metadata": {
        "id": "347ffda86396"
      },
      "source": [
        "You can then extract the predictions from the prediction response"
      ]
    },
    {
      "cell_type": "code",
      "execution_count": 42,
      "metadata": {
        "colab": {
          "base_uri": "https://localhost:8080/"
        },
        "id": "ea659b7c178d",
        "outputId": "538fd3a1-d374-47be-81f2-66b46bc97dcc"
      },
      "outputs": [
        {
          "data": {
            "text/plain": [
              "[{'income_bracket_probs': [0.2098744173305852, 0.7901255826694148],\n",
              "  'predicted_income_bracket': [' <=50K'],\n",
              "  'income_bracket_values': [' >50K', ' <=50K']},\n",
              " {'income_bracket_values': [' >50K', ' <=50K'],\n",
              "  'predicted_income_bracket': [' <=50K'],\n",
              "  'income_bracket_probs': [0.06176187987532602, 0.938238120124674]}]"
            ]
          },
          "execution_count": 42,
          "metadata": {},
          "output_type": "execute_result"
        }
      ],
      "source": [
        "prediction.predictions"
      ]
    },
    {
      "cell_type": "markdown",
      "metadata": {
        "id": "TpV-iwP9qw9c"
      },
      "source": [
        "## Cleaning up\n",
        "\n",
        "To clean up all Google Cloud resources used in this project, you can <a href=\"https://cloud.google.com/resource-manager/docs/creating-managing-projects#shutting_down_projects\" target=\"_blank\">delete the Google Cloud\n",
        "project</a> you used for the tutorial.\n",
        "\n",
        "Otherwise, you can delete the individual resources you created in this tutorial:"
      ]
    },
    {
      "cell_type": "code",
      "execution_count": null,
      "metadata": {
        "id": "sx_vKniMq9ZX"
      },
      "outputs": [],
      "source": [
        "# Undeploy model from endpoint and delete endpoint\n",
        "endpoint.undeploy_all()\n",
        "endpoint.delete()\n",
        "\n",
        "# Delete BigQuery dataset, including the BigQuery ML model\n",
        "! bq rm -r -f $PROJECT_ID:$BQ_DATASET_NAME"
      ]
    }
  ],
  "metadata": {
    "colab": {
      "collapsed_sections": [],
      "provenance": [],
      "toc_visible": true
    },
    "kernelspec": {
      "display_name": "Python 3.9.6 64-bit",
      "language": "python",
      "name": "python3"
    },
    "language_info": {
      "name": "python",
      "version": "3.9.6"
    },
    "vscode": {
      "interpreter": {
        "hash": "31f2aee4e71d21fbe5cf8b01ff0e069b9275f58929596ceb00d14d90e3e16cd6"
      }
    }
  },
  "nbformat": 4,
  "nbformat_minor": 0
}
