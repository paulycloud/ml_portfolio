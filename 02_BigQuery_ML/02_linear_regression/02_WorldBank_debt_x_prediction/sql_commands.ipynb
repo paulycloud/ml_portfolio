{
 "cells": [
  {
   "attachments": {},
   "cell_type": "markdown",
   "metadata": {},
   "source": [
    "<!-- SQL to create a pivot table which reates column data out of the row data from internation_debt table -->\n",
    "\n",
    "\n",
    "```sql\n",
    "DECLARE IndicatorCodes STRING;\n",
    "\n",
    "SET IndicatorCodes = (\n",
    "  SELECT \n",
    "    CONCAT('(\"', STRING_AGG(DISTINCT replace(indicator_code,\".\",\"_\"), '\", \"'), '\")'),\n",
    "  FROM `bigquery-public-data.world_bank_intl_debt.international_debt`\n",
    ");\n",
    "\n",
    "EXECUTE IMMEDIATE format(\"\"\"\n",
    "CREATE TABLE IF NOT EXISTS `paulkamau.WorldBank_Debt.international_debt_pivot` as \n",
    "SELECT * FROM\n",
    "(\n",
    "  SELECT country_name, country_code, replace(indicator_code,\".\",\"_\") as ic, indicator_name,value, year\n",
    "  FROM `bigquery-public-data.world_bank_intl_debt.international_debt`\n",
    ") \n",
    "PIVOT\n",
    "(\n",
    "  MAX(value)\n",
    "  FOR ic in %s\n",
    ")\n",
    "ORDER BY country_name ASC\n",
    "\"\"\",\n",
    "IndicatorCodes);\n",
    "\n",
    "```"
   ]
  }
 ],
 "metadata": {
  "kernelspec": {
   "display_name": "Python 3",
   "language": "python",
   "name": "python3"
  },
  "language_info": {
   "name": "python",
   "version": "3.9.6 (default, Oct 18 2022, 12:41:40) \n[Clang 14.0.0 (clang-1400.0.29.202)]"
  },
  "orig_nbformat": 4,
  "vscode": {
   "interpreter": {
    "hash": "31f2aee4e71d21fbe5cf8b01ff0e069b9275f58929596ceb00d14d90e3e16cd6"
   }
  }
 },
 "nbformat": 4,
 "nbformat_minor": 2
}
