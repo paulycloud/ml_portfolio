{
 "cells": [
  {
   "attachments": {},
   "cell_type": "markdown",
   "metadata": {},
   "source": [
    "# Data operations for prepping the WorldBank_Health Dataset \n",
    "\n",
    "### Summary: \n",
    "The dataset [`world_bank_health_population`](https://cloud.google.com/bigquery?sq=1057666841514:3bb229234d7f4b379098581f0101e923&_ga=2.81369303.-1379782407.1673021064&project=paulkamau&ws=!1m9!1m3!3m2!1sbigquery-public-data!2sworld_bank_health_population!1m4!4m3!1sbigquery-public-data!2sworld_bank_health_population!3scountry_series_definitions) combines key health statistics from a variety of sources to provide a look at global health and population trends. It includes information on nutrition, reproductive health, education, immunization, and diseases from over 200 countries.\n",
    "\n",
    "\n",
    "Multiple tables have been used to compile the data. The data was flattened to create a single working set: \n",
    "\n",
    "- Country series definitions \n",
    "- Country summary \n",
    "- Health nutrition population\n",
    "- International debt\n",
    "- Series summary \n",
    "- Series times\n",
    "\n",
    "### Actions: \n",
    "1. Created a pivot table which takes the indicator codes as rows and tranforms them into columns in a new table. \n",
    "1. Created a merged table of the countries_data and the new pivot table we made\n",
    "1. Created a table definition of the indicator_code and their description"
   ]
  },
  {
   "attachments": {},
   "cell_type": "markdown",
   "metadata": {},
   "source": [
    "### 1. Pivot Query. Convert the row values into column values \n",
    "\n",
    "<!-- SQL to create a pivot table which reates column data out of the row data from internation_debt table -->\n",
    "\n",
    "original table we want: \n",
    "  `bigquery-public-data.world_bank_intl_debt.international_debt`\n",
    "\n",
    "New pivot table with everything: \n",
    "--paulkamau.WorldBank_Debt.international_debt_pivot\n",
    "\n",
    "```sql\n",
    "\n",
    "DECLARE IndicatorCodes STRING;\n",
    "\n",
    "SET IndicatorCodes = (\n",
    "  SELECT \n",
    "    CONCAT('(\"', STRING_AGG(DISTINCT replace(indicator_code,\".\",\"_\"), '\", \"'), '\")'),\n",
    "  FROM `bigquery-public-data.world_bank_intl_debt.international_debt` where value is not null\n",
    ");\n",
    "\n",
    "\n",
    "EXECUTE IMMEDIATE format(\"\"\"\n",
    "CREATE TABLE IF NOT EXISTS `paulkamau.WorldBank_Debt.international_debt_pivot` as \n",
    "SELECT * FROM\n",
    "(\n",
    "  SELECT country_name, country_code, replace(indicator_code,\".\",\"_\") as ic,value\n",
    "  FROM `bigquery-public-data.world_bank_intl_debt.international_debt`\n",
    ") \n",
    "PIVOT\n",
    "(\n",
    "  MAX(value)\n",
    "  FOR ic in %s\n",
    ")\n",
    "ORDER BY country_name ASC\n",
    "\"\"\",\n",
    "IndicatorCodes);\n",
    "\n",
    "```"
   ]
  },
  {
   "attachments": {},
   "cell_type": "markdown",
   "metadata": {},
   "source": [
    "## Create the country_data table \n",
    "\n",
    "```sql\n",
    "\n",
    "CREATE TABLE IF NOT EXISTS `paulkamau.WorldBank_Debt.countries_data` as \n",
    "SELECT \n",
    "country_code, short_name, currency_unit, income_group, national_accounts_base_year, sna_price_valuation, system_of_national_accounts, system_of_trade, government_accounting_concept\n",
    " FROM `bigquery-public-data.world_bank_intl_debt.country_summary`\n",
    "where system_of_trade is not null\n",
    "LIMIT 1000;\n",
    "\n",
    "```\n"
   ]
  }
 ],
 "metadata": {
  "kernelspec": {
   "display_name": "Python 3",
   "language": "python",
   "name": "python3"
  },
  "language_info": {
   "name": "python",
   "version": "3.9.6 (default, Oct 18 2022, 12:41:40) \n[Clang 14.0.0 (clang-1400.0.29.202)]"
  },
  "orig_nbformat": 4,
  "vscode": {
   "interpreter": {
    "hash": "31f2aee4e71d21fbe5cf8b01ff0e069b9275f58929596ceb00d14d90e3e16cd6"
   }
  }
 },
 "nbformat": 4,
 "nbformat_minor": 2
}
