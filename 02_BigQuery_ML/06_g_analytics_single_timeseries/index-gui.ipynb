{
 "cells": [
  {
   "cell_type": "markdown",
   "metadata": {},
   "source": [
    "# 06: Single time-series forecasting from Google Analytics data\n",
    "This project used the ARIMA time series model in BigQuery ML to perform a single forecast of daily total visits  using the google analytics sample ga_sessions dataset. The ga_sessions table contains information about a slice of session data collected by Google Analytics 360 and sent to BigQuery.\n",
    "\n",
    "\n",
    "## Key Concepts: \n",
    "- ML.ARIMA_EVALUATE\n",
    "- ML.ARIMA_COEFFICIENTS\n",
    "- ML.FORECAST \n",
    "- ML.EXPLAIN_FORECAST\n",
    "- ML.WEIGHTS\n",
    "\n",
    "## Objectives\n",
    "1. Create a time series model using the CREATE MODEL statement.\n",
    "1. Use the ML.ARIMA_EVALUATE function to evaluate the ML Models. \n",
    "1. Use the ML.ARIMA_COEFFCIENTS function to inspect the model coefficients.\n",
    "1. Use the ML.FORECAST function to forecast daily total visits. \n",
    "1. Use the ML.EXPLAIN_FORECAST function to retrieve the various components of the time series (e.g. seasonality & trends) that can be used to explain the forecast results. \n",
    "1. Use Google Data Studio to visualize the forecasting results.  \n",
    "\n",
    "\n",
    "## Steps\n",
    "1. Create the dataset & load the dataset into BQ\n",
    "1. Use the ```SELECT``` statement to examine the data \n",
    "1. Use ```Google Data Studio``` to visualize the forecasting results.  \n",
    "1. Use the ```CREATE MODEL``` statement to create the time series model. \n",
    "1. Use the ```ML.EVALUATE``` function to inspect the evaluation metrics of all evaluated models.\n",
    "1. Use the ```ML.ARIMA_COEFFICIENTS``` function to retrieve the models coefficients of your ARIMA_PLUS model \n",
    "1. Use the ```ML.FORECAST``` function to to forecast the future time series values with a prediction interval using the generated model \n",
    "1. Use the ```ML.EXPLAIN_FORECAST```function to visualize the forecasting results of all the separate components to understand the forecast. \n",
    "1. Use the decompose_time_series option to concatenate the history time series and the forecasted time series using the UNION_ALL clause and the ML.FORECAST function. \n"
   ]
  },
  {
   "cell_type": "markdown",
   "metadata": {},
   "source": [
    "### Step 1: Create the dataset & load the dataset into BQ\n",
    "\n"
   ]
  },
  {
   "cell_type": "markdown",
   "metadata": {},
   "source": [
    "### Step 2: Use the SELECT statement to examine the data \n",
    "\n"
   ]
  },
  {
   "cell_type": "markdown",
   "metadata": {},
   "source": [
    "### Step 3: Use Google Data Studio to visualize the forecasting results.  \n"
   ]
  },
  {
   "cell_type": "markdown",
   "metadata": {},
   "source": [
    "### Step 4: Use the CREATE MODEL statement to create the time series model. \n",
    "\n"
   ]
  },
  {
   "cell_type": "markdown",
   "metadata": {},
   "source": [
    "### Step 4: Use the ML.EVALUATE function to inspect the evaluation metrics of all evaluated models.\n",
    "\n"
   ]
  },
  {
   "cell_type": "markdown",
   "metadata": {},
   "source": [
    "### Step 5: Use the ML.ARIMA_COEFFICIENTS function to retrieve the models coefficients of your ARIMA_PLUS model \n",
    "\n"
   ]
  },
  {
   "cell_type": "markdown",
   "metadata": {},
   "source": [
    "### Step 6: Use the ML.FORECAST function to to forecast the future time series values with a prediction interval using the generated model \n",
    "\n"
   ]
  },
  {
   "cell_type": "markdown",
   "metadata": {},
   "source": [
    "### Step 7: Use the ML.EXPLAIN_FORECAST function to visualize the forecasting results of all the separate components to understand the forecast. \n",
    "\n"
   ]
  },
  {
   "cell_type": "markdown",
   "metadata": {},
   "source": [
    "### Step 8: Use the decompose_time_series option to concatenate the history time series and the forecasted time series using the UNION_ALL clause and the ML.FORECAST function. \n"
   ]
  }
 ],
 "metadata": {
  "kernelspec": {
   "display_name": "Python 3.8.9 64-bit",
   "language": "python",
   "name": "python3"
  },
  "language_info": {
   "name": "python",
   "version": "3.9.6"
  },
  "orig_nbformat": 4,
  "vscode": {
   "interpreter": {
    "hash": "31f2aee4e71d21fbe5cf8b01ff0e069b9275f58929596ceb00d14d90e3e16cd6"
   }
  }
 },
 "nbformat": 4,
 "nbformat_minor": 2
}
