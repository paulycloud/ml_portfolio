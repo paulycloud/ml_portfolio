{
  "cells": [
    {
      "cell_type": "markdown",
      "metadata": {
        "colab_type": "text",
        "id": "2GQvgCkBJEU7"
      },
      "source": [
        "# Using BQML ARIMA models to Predict Demand for NYC Taxis based on the Weather Forecast\n",
        "\n",
        "This project used the ARIMA Time Series Model in BigQuery ML to perform multiple time-series forecasts with a single query. Different fast training strategies were applied to significantly speed up the query and evaluate forecasting accuracy. \n",
        "\n",
        "Goal is to build a predictive model using only BigQuery standard SQL. Since this is a Python notebook, we'll use some of the features of Python to analyze the data (ie. a loss function for calculating RSME), but the model itself and it's preditive comes comes from BigQuery alone. This is called BigQuery ML (BQML) and we couldn't be more excited to try it out!\n",
        "\n",
        "\n"
      ]
    },
    {
      "cell_type": "code",
      "execution_count": null,
      "metadata": {
        "colab": {},
        "colab_type": "code",
        "id": "2vuXf9sjMfuS"
      },
      "outputs": [],
      "source": [
        "import pandas as pd\n",
        "import numpy as np\n",
        "import sys\n",
        "from google.cloud import bigquery\n",
        "from google.colab import auth\n",
        "auth.authenticate_user()"
      ]
    },
    {
      "cell_type": "markdown",
      "metadata": {
        "colab_type": "text",
        "id": "mdXecGNpiCFU"
      },
      "source": [
        "You'll need to define some variables that will be used throughout the notebook. These are the GCP `project_id`, the `model_name` can be any name you prefer, and finally the `dateset_name`. The dataset needs to exist in the same project as the `project_id` and you need to have sufficient access to create and delete."
      ]
    },
    {
      "cell_type": "code",
      "execution_count": null,
      "metadata": {
        "colab": {},
        "colab_type": "code",
        "id": "cyFfGIHmNMVt"
      },
      "outputs": [],
      "source": [
        "#@title Setup Project Variables { run: \"auto\", display-mode: \"form\" }\n",
        "project_id = 'confidential' #@param {type:\"string\"}\n",
        "dataset_name = \"pats_dataset\" #@param {type:\"string\"}\n",
        "model_name = \"pats_taxi_model\" #@param {type:\"string\"}\n",
        "eval_name = model_name + \"_eval\"\n",
        "client = bigquery.Client(project=project_id)"
      ]
    },
    {
      "cell_type": "markdown",
      "metadata": {
        "colab_type": "text",
        "id": "O62ZVAjmQreq"
      },
      "source": [
        "## Create a Linear Regression Model"
      ]
    },
    {
      "cell_type": "markdown",
      "metadata": {
        "colab_type": "text",
        "id": "t8_d_PHsi7P0"
      },
      "source": [
        "### Creating labeled data\n",
        "This query can be run in BigQuery on its own. Try it out! This query gives us 3 years of taxi and weather data for the NYC region. Those two datasets represent our labeled data: weather as our features (or metrics) and taxi trips as our label (target, class, objective, etc...)."
      ]
    },
    {
      "cell_type": "code",
      "execution_count": 4,
      "metadata": {
        "colab": {
          "base_uri": "https://localhost:8080/",
          "height": 35
        },
        "colab_type": "code",
        "id": "eCp07Yr1nXu6",
        "outputId": "6726c291-2ab7-42f5-9556-7fcdc3d8d73b"
      },
      "outputs": [
        {
          "name": "stdout",
          "output_type": "stream",
          "text": [
            "Maximum number of trips in a day: 574530\n"
          ]
        }
      ],
      "source": [
        "query = \"\"\"\n",
        "WITH trips AS (\n",
        "  SELECT \n",
        "      EXTRACT (YEAR from pickup_datetime) AS year, \n",
        "      EXTRACT (DAYOFYEAR from pickup_datetime) AS daynumber \n",
        "  FROM `bigquery-public-data.new_york.tlc_yellow_trips_*`\n",
        "  where _TABLE_SUFFIX between '2014' and '2016'\n",
        ")\n",
        "SELECT  cast(year as STRING) as year, daynumber, COUNT(1) AS numtrips FROM trips\n",
        "GROUP BY year, daynumber \n",
        "\"\"\"\n",
        "df = client.query(query).to_dataframe()\n",
        "maxtrips = df.numtrips.max()\n",
        "print \"Maximum number of trips in a day: {}\".format(maxtrips)"
      ]
    },
    {
      "cell_type": "code",
      "execution_count": 5,
      "metadata": {
        "colab": {
          "base_uri": "https://localhost:8080/",
          "height": 35
        },
        "colab_type": "code",
        "id": "TL80EPsU9K6E",
        "outputId": "67e34eb0-fb7b-4d88-a58c-b10bb39082ee"
      },
      "outputs": [
        {
          "name": "stdout",
          "output_type": "stream",
          "text": [
            "(1096, 5)\n"
          ]
        }
      ],
      "source": [
        "taxidemand = \"\"\"\n",
        "  -- WEATHER DATA\n",
        "  with wd as (\n",
        "    SELECT \n",
        "        cast(year as STRING) as year,\n",
        "        EXTRACT (DAYOFYEAR FROM CAST(CONCAT(year,'-',mo,'-',da) AS TIMESTAMP)) AS daynumber, \n",
        "        MIN(EXTRACT (DAYOFWEEK FROM CAST(CONCAT(year,'-',mo,'-',da) AS TIMESTAMP))) dayofweek,\n",
        "        MIN(min) mintemp, MAX(max) maxtemp, MAX(IF(prcp=99.99,0,prcp)) rain\n",
        "    FROM `bigquery-public-data.noaa_gsod.gsod*`\n",
        "    WHERE stn='725030'  AND _TABLE_SUFFIX between '2014' and '2016' --station id 725030=LaGuardia\n",
        "    GROUP BY 1,2 \n",
        "  \n",
        "  -- TAXI DATA\n",
        "  ), td as (  \n",
        "    WITH trips AS (\n",
        "      SELECT \n",
        "          EXTRACT (YEAR from pickup_datetime) AS year, \n",
        "          EXTRACT (DAYOFYEAR from pickup_datetime) AS daynumber \n",
        "      FROM `bigquery-public-data.new_york.tlc_yellow_trips_*`\n",
        "      where _TABLE_SUFFIX between '2014' and '2016'\n",
        "    )\n",
        "    SELECT  cast(year as STRING) as year, daynumber, COUNT(1) AS numtrips FROM trips\n",
        "    GROUP BY year, daynumber \n",
        "  )\n",
        "  \n",
        "  -- JOIN WEATHER AND TAXI DATA\n",
        "    SELECT cast(wd.dayofweek as STRING) as dayofweek, \n",
        "    wd.mintemp, \n",
        "    wd.maxtemp, \n",
        "    wd.rain,\n",
        "    td.numtrips / max(td.numtrips) OVER () as label \n",
        "  FROM wd, td\n",
        "  where wd.year = td.year AND\n",
        "  wd.daynumber = td.daynumber\n",
        "  group by dayofweek, mintemp, maxtemp, rain, numtrips\n",
        "\"\"\"\n",
        "data = client.query(taxidemand).to_dataframe()\n",
        "print data.shape"
      ]
    },
    {
      "cell_type": "markdown",
      "metadata": {
        "colab_type": "text",
        "id": "rg9TOfUi_q3G"
      },
      "source": [
        "### Data Exploration"
      ]
    },
    {
      "cell_type": "code",
      "execution_count": 7,
      "metadata": {
        "colab": {
          "base_uri": "https://localhost:8080/",
          "height": 441
        },
        "colab_type": "code",
        "id": "OqdO153Y0ZYi",
        "outputId": "57a59985-d00d-4f4b-d548-8b64dc597f12"
      },
      "outputs": [
        {
          "data": {
            "image/png": "[encoded data removed]",
            "text/plain": [
              "<Figure size 783.565x432 with 1 Axes>"
            ]
          },
          "metadata": {
            "tags": []
          },
          "output_type": "display_data"
        }
      ],
      "source": [
        "import seaborn\n",
        "from  matplotlib import pyplot as plt\n",
        "fg = seaborn.FacetGrid(data=data, hue='dayofweek', height=6,aspect=1.67)\n",
        "fg = fg.map(plt.scatter, 'label', 'maxtemp').add_legend()\n",
        "fg = fg.set_axis_labels(x_var=\"Number of Trips\", y_var=\"Maximum Temperature\")"
      ]
    },
    {
      "cell_type": "code",
      "execution_count": 8,
      "metadata": {
        "colab": {
          "base_uri": "https://localhost:8080/",
          "height": 233
        },
        "colab_type": "code",
        "id": "v79jdqO2Zqno",
        "outputId": "fe0c173c-f092-47e9-823a-f8f5d24545c1"
      },
      "outputs": [
        {
          "data": {
            "image/png": "[encoded data removed]",
            "text/plain": [
              "<Figure size 1152x216 with 7 Axes>"
            ]
          },
          "metadata": {
            "tags": []
          },
          "output_type": "display_data"
        }
      ],
      "source": [
        "_ = data.hist(column='label',by='dayofweek', layout=(1,7), figsize=(16,3), sharey=True, sharex=True)"
      ]
    },
    {
      "cell_type": "code",
      "execution_count": 9,
      "metadata": {
        "colab": {
          "base_uri": "https://localhost:8080/",
          "height": 405
        },
        "colab_type": "code",
        "id": "Dc1VNUnVcpVH",
        "outputId": "dd9556c3-9bc5-4565-cb47-d4f8407457cb"
      },
      "outputs": [
        {
          "data": {
            "image/png": "[encoded data removed]",
            "text/plain": [
              "<Figure size 720x432 with 1 Axes>"
            ]
          },
          "metadata": {
            "tags": []
          },
          "output_type": "display_data"
        }
      ],
      "source": [
        "df = data[data.dayofweek == '7']\n",
        "x = df.label\n",
        "y = df.maxtemp\n",
        "df.plot(kind=\"scatter\",x=\"label\",y=\"maxtemp\", figsize=[10,6],ylim=0,xlim=0)\n",
        "z = np.polyfit(x, y, 1)\n",
        "p = np.poly1d(z)\n",
        "plt.plot(x,p(x),\"r\")\n",
        "plt.title(\"Saturday Taxi Trips by Maximum Temp.\")\n",
        "plt.show()"
      ]
    },
    {
      "cell_type": "markdown",
      "metadata": {
        "colab_type": "text",
        "id": "H_jFTiE4_1OO"
      },
      "source": [
        "We see that trips made on a Saturday have a strong correlation with the maximum temperature. As the temperature descreases the demand for taxis increases. Our model is likely going to be able to use the predictive power found within this relationship between feature inputs and our target variable."
      ]
    },
    {
      "cell_type": "markdown",
      "metadata": {
        "colab_type": "text",
        "id": "Eij4o-fDlpd8"
      },
      "source": [
        "### Defining Model Parameters"
      ]
    },
    {
      "cell_type": "markdown",
      "metadata": {
        "colab_type": "text",
        "id": "S2S4NJ9plHrp"
      },
      "source": [
        "In order to turn the above SQL into a predictive model, we simply need to `CREATE` the `MODEL` specifiying `linear_reg` or `logistic_reg`. This lets you build models for both regression (continous variable prediction) or classification (discreet variable prediction). Refer to the BQML documentation for more information on options and configuring your predictive model."
      ]
    },
    {
      "cell_type": "code",
      "execution_count": null,
      "metadata": {
        "colab": {},
        "colab_type": "code",
        "id": "lpPdV_PXMfvU"
      },
      "outputs": [],
      "source": [
        "query = \"\"\"\n",
        "  CREATE OR REPLACE MODEL {0}.{1} \n",
        "    OPTIONS (\n",
        "      model_type='linear_reg'\n",
        "    ) as {2}\n",
        "\"\"\".format(dataset_name, model_name, taxidemand)"
      ]
    },
    {
      "cell_type": "markdown",
      "metadata": {
        "colab_type": "text",
        "id": "XQ_rGCZQN-0c"
      },
      "source": [
        "### `CREATE MODEL` using `linear_reg`\n",
        "The `for` loop will kick-off the `query_job` that has the `query` waiting to be processed. Once the job finishes it will continue through the `query_job` iterator until finished. At this point in time, the Google Cloud Python BigQuery API is throwing errors; these will be addressed in the near future."
      ]
    },
    {
      "cell_type": "code",
      "execution_count": 34,
      "metadata": {
        "colab": {
          "base_uri": "https://localhost:8080/",
          "height": 35
        },
        "colab_type": "code",
        "id": "3tmKmnutUvuC",
        "outputId": "b97b8d56-2c18-4073-ee80-a6c7ca1f173a"
      },
      "outputs": [
        {
          "name": "stdout",
          "output_type": "stream",
          "text": [
            "pats_taxi_model\n"
          ]
        }
      ],
      "source": [
        "query_job = client.query(query)\n",
        "dataset_ref = client.dataset(dataset_name)\n",
        "try: \n",
        "  for row in query_job:\n",
        "    print row\n",
        "except:\n",
        "  print \"ignoring this error: {}\".format(sys.exc_info()) #  the model was successfully created\n",
        "\n",
        "# confirm new tables exist in dataset\n",
        "for i in client.list_tables(dataset_ref):\n",
        "  if (i.table_id == model_name or i.table_id == eval_name):\n",
        "     print i.table_id"
      ]
    },
    {
      "cell_type": "markdown",
      "metadata": {
        "colab_type": "text",
        "id": "7Rujpd463BIc"
      },
      "source": [
        "## Get `ml.EVALUATE()` info"
      ]
    },
    {
      "cell_type": "markdown",
      "metadata": {
        "colab_type": "text",
        "id": "iHkVfKg0ASrN"
      },
      "source": [
        "### Baseline Mean Absolute Error\n",
        "We want to establish a baseline to measure ourselves against. Below, we take the entire dataset (using the `taxidemand` query). Taking the mean of `numtrips` gives us an average daily trip count of `403,642`.  We'll use Pandas Mean Absolute Deviation function to calculate our MAE."
      ]
    },
    {
      "cell_type": "code",
      "execution_count": 35,
      "metadata": {
        "colab": {
          "base_uri": "https://localhost:8080/",
          "height": 35
        },
        "colab_type": "code",
        "id": "JOgEN2pkGGG4",
        "outputId": "24869d2f-59f4-41e5-970d-0ebc3d0d042f"
      },
      "outputs": [
        {
          "name": "stdout",
          "output_type": "stream",
          "text": [
            "Average trips=403642 with a MAE of 50419\n"
          ]
        }
      ],
      "source": [
        "# Our prediction should beat the average MAE\n",
        "df = client.query(taxidemand).to_dataframe()\n",
        "print 'Average trips={0} with a MAE of {1}'.format(\n",
        "    int(df.label.mean()*maxtrips), # scale value using the maxtrips variable\n",
        "    int(df.label.mad()*maxtrips) # MAE, MAD = Mean Absolute Error, Mean Absolute Difference\n",
        ")"
      ]
    },
    {
      "cell_type": "markdown",
      "metadata": {
        "colab_type": "text",
        "id": "zFxtDZJr4uWU"
      },
      "source": [
        "### `ml.EVALUATE()`\n",
        "We're looking to beat the MAE (shown below as `mean_absolute_error`)  of `50,419`. Fingers crossed!"
      ]
    },
    {
      "cell_type": "code",
      "execution_count": 36,
      "metadata": {
        "colab": {
          "base_uri": "https://localhost:8080/",
          "height": 79
        },
        "colab_type": "code",
        "id": "R2oulkWuojqf",
        "outputId": "1de1141c-a649-4c91-a7a1-b2011d85a5d2"
      },
      "outputs": [
        {
          "data": {
            "text/html": [
              "<div>\n",
              "<style scoped>\n",
              "    .dataframe tbody tr th:only-of-type {\n",
              "        vertical-align: middle;\n",
              "    }\n",
              "\n",
              "    .dataframe tbody tr th {\n",
              "        vertical-align: top;\n",
              "    }\n",
              "\n",
              "    .dataframe thead th {\n",
              "        text-align: right;\n",
              "    }\n",
              "</style>\n",
              "<table border=\"1\" class=\"dataframe\">\n",
              "  <thead>\n",
              "    <tr style=\"text-align: right;\">\n",
              "      <th></th>\n",
              "      <th>mean_absolute_error</th>\n",
              "      <th>mean_squared_error</th>\n",
              "      <th>mean_squared_log_error</th>\n",
              "      <th>median_absolute_error</th>\n",
              "      <th>r2_score</th>\n",
              "      <th>explained_variance</th>\n",
              "    </tr>\n",
              "  </thead>\n",
              "  <tbody>\n",
              "    <tr>\n",
              "      <th>0</th>\n",
              "      <td>43548</td>\n",
              "      <td>0.009718</td>\n",
              "      <td>0.003547</td>\n",
              "      <td>0.064124</td>\n",
              "      <td>0.210453</td>\n",
              "      <td>0.21047</td>\n",
              "    </tr>\n",
              "  </tbody>\n",
              "</table>\n",
              "</div>"
            ],
            "text/plain": [
              "   mean_absolute_error  mean_squared_error  ...  r2_score  explained_variance\n",
              "0                43548            0.009718  ...  0.210453             0.21047\n",
              "\n",
              "[1 rows x 6 columns]"
            ]
          },
          "execution_count": 36,
          "metadata": {
            "tags": []
          },
          "output_type": "execute_result"
        }
      ],
      "source": [
        "query = (\"select * from ml.EVALUATE(MODEL {0}.{1}, ({2}))\") \\\n",
        "  .format(dataset_name, model_name, taxidemand)\n",
        "df = client.query(query).to_dataframe()\n",
        "df[\"mean_absolute_error\"] = np.multiply(df[\"mean_absolute_error\"],maxtrips).astype(int)\n",
        "df"
      ]
    },
    {
      "cell_type": "markdown",
      "metadata": {
        "colab_type": "text",
        "id": "HPezziG9o8vT"
      },
      "source": [
        "Smashed it!"
      ]
    },
    {
      "cell_type": "markdown",
      "metadata": {
        "colab_type": "text",
        "id": "LW_s7hxdpmYU"
      },
      "source": [
        "### Custom Loss Function\n",
        "Do you read the articles that include \"the hard way\" in them? Perhaps you like to to see the math in action. Below we create a custom loss function and evaluate it against our model. We'll do this using the entire dataset (as defined by `taxidemand`).  We'd expect our `model_MAE` to match the `mean_absolute_error` value returned by the `ml.EVALUATE` function above.  Fingers crossed!"
      ]
    },
    {
      "cell_type": "code",
      "execution_count": 37,
      "metadata": {
        "colab": {
          "base_uri": "https://localhost:8080/",
          "height": 35
        },
        "colab_type": "code",
        "id": "FJIH7C828L3t",
        "outputId": "92ffd2f3-37e1-462a-b1cc-f88a82ab08d0"
      },
      "outputs": [
        {
          "name": "stdout",
          "output_type": "stream",
          "text": [
            "43548\n"
          ]
        }
      ],
      "source": [
        "query = \"\"\"\n",
        "SELECT SUM(error) / COUNT(*) as model_MAE from (\n",
        "  SELECT  abs(predicted_label-label) as error\n",
        "          FROM ML.PREDICT(MODEL `{0}.{1}` , ({2}))\n",
        ")\n",
        "\"\"\".format(dataset_name, model_name, taxidemand)\n",
        "df = client.query(query).to_dataframe()\n",
        "print int(df.model_MAE*maxtrips)"
      ]
    },
    {
      "cell_type": "markdown",
      "metadata": {
        "colab_type": "text",
        "id": "Zxk23tcsqkEq"
      },
      "source": [
        "Sure enough, the math adds up!"
      ]
    },
    {
      "cell_type": "markdown",
      "metadata": {
        "colab_type": "text",
        "id": "6YGJebMOBN8O"
      },
      "source": [
        "## Get `ml.TRAINING_INFO()` for the model\n",
        "This shows us how many training procedures were needed to reach convergence, and provides various metrics associated with the training run. The system performs hyperparameter tuning automatically in order to establish the best model settings."
      ]
    },
    {
      "cell_type": "code",
      "execution_count": 38,
      "metadata": {
        "colab": {
          "base_uri": "https://localhost:8080/",
          "height": 79
        },
        "colab_type": "code",
        "id": "7DFpB7z8_gkC",
        "outputId": "60a36256-447d-4cc8-d63b-a990bf9ac519"
      },
      "outputs": [
        {
          "data": {
            "text/html": [
              "<div>\n",
              "<style scoped>\n",
              "    .dataframe tbody tr th:only-of-type {\n",
              "        vertical-align: middle;\n",
              "    }\n",
              "\n",
              "    .dataframe tbody tr th {\n",
              "        vertical-align: top;\n",
              "    }\n",
              "\n",
              "    .dataframe thead th {\n",
              "        text-align: right;\n",
              "    }\n",
              "</style>\n",
              "<table border=\"1\" class=\"dataframe\">\n",
              "  <thead>\n",
              "    <tr style=\"text-align: right;\">\n",
              "      <th></th>\n",
              "      <th>training_run</th>\n",
              "      <th>iteration</th>\n",
              "      <th>loss</th>\n",
              "      <th>eval_loss</th>\n",
              "      <th>duration_ms</th>\n",
              "      <th>learning_rate</th>\n",
              "    </tr>\n",
              "  </thead>\n",
              "  <tbody>\n",
              "    <tr>\n",
              "      <th>0</th>\n",
              "      <td>0</td>\n",
              "      <td>0</td>\n",
              "      <td>0.009589</td>\n",
              "      <td>0.010288</td>\n",
              "      <td>5221</td>\n",
              "      <td>None</td>\n",
              "    </tr>\n",
              "  </tbody>\n",
              "</table>\n",
              "</div>"
            ],
            "text/plain": [
              "   training_run  iteration      loss  eval_loss  duration_ms learning_rate\n",
              "0             0          0  0.009589   0.010288         5221          None"
            ]
          },
          "execution_count": 38,
          "metadata": {
            "tags": []
          },
          "output_type": "execute_result"
        }
      ],
      "source": [
        "query = \"select * from ml.TRAINING_INFO(MODEL {0}.{1})\".format(dataset_name, model_name)\n",
        "df = client.query(query).to_dataframe()\n",
        "df"
      ]
    },
    {
      "cell_type": "code",
      "execution_count": 39,
      "metadata": {
        "colab": {
          "base_uri": "https://localhost:8080/",
          "height": 279
        },
        "colab_type": "code",
        "id": "REPBeyzo4C0n",
        "outputId": "038a54c8-6ca7-4896-ab36-3bd1d8b2d805"
      },
      "outputs": [
        {
          "data": {
            "image/png": "[encoded data removed]",
            "text/plain": [
              "<Figure size 432x288 with 1 Axes>"
            ]
          },
          "metadata": {
            "tags": []
          },
          "output_type": "display_data"
        }
      ],
      "source": [
        "_ = df[['loss','eval_loss']].plot(kind='bar').set_xlabel('iterations')"
      ]
    },
    {
      "cell_type": "markdown",
      "metadata": {
        "colab_type": "text",
        "id": "jM4drx_3dODo"
      },
      "source": [
        "## Get ml.FEATURE_INFO() for the model\n",
        "This function prints out the descriptive statistics for the numerical features: min(), max(), avg(), and standard deviation. The category count shows the number of distinct values found within a categorical feature. Null count is important to note because the model will automatically convert nulls to the mean of the feature set (fairly standard practice, but could be controversial!)"
      ]
    },
    {
      "cell_type": "code",
      "execution_count": 40,
      "metadata": {
        "colab": {
          "base_uri": "https://localhost:8080/",
          "height": 171
        },
        "colab_type": "code",
        "id": "SAISuAh1dche",
        "outputId": "3e5e7a8c-0fbd-49c3-a76c-69cb4b67e3c9"
      },
      "outputs": [
        {
          "data": {
            "text/html": [
              "<div>\n",
              "<style scoped>\n",
              "    .dataframe tbody tr th:only-of-type {\n",
              "        vertical-align: middle;\n",
              "    }\n",
              "\n",
              "    .dataframe tbody tr th {\n",
              "        vertical-align: top;\n",
              "    }\n",
              "\n",
              "    .dataframe thead th {\n",
              "        text-align: right;\n",
              "    }\n",
              "</style>\n",
              "<table border=\"1\" class=\"dataframe\">\n",
              "  <thead>\n",
              "    <tr style=\"text-align: right;\">\n",
              "      <th></th>\n",
              "      <th>input</th>\n",
              "      <th>min</th>\n",
              "      <th>max</th>\n",
              "      <th>mean</th>\n",
              "      <th>median</th>\n",
              "      <th>stddev</th>\n",
              "      <th>category_count</th>\n",
              "      <th>null_count</th>\n",
              "    </tr>\n",
              "  </thead>\n",
              "  <tbody>\n",
              "    <tr>\n",
              "      <th>0</th>\n",
              "      <td>dayofweek</td>\n",
              "      <td>NaN</td>\n",
              "      <td>NaN</td>\n",
              "      <td>NaN</td>\n",
              "      <td>NaN</td>\n",
              "      <td>NaN</td>\n",
              "      <td>7.0</td>\n",
              "      <td>0</td>\n",
              "    </tr>\n",
              "    <tr>\n",
              "      <th>1</th>\n",
              "      <td>mintemp</td>\n",
              "      <td>1.0</td>\n",
              "      <td>82.00</td>\n",
              "      <td>48.696756</td>\n",
              "      <td>50.0</td>\n",
              "      <td>17.919895</td>\n",
              "      <td>NaN</td>\n",
              "      <td>0</td>\n",
              "    </tr>\n",
              "    <tr>\n",
              "      <th>2</th>\n",
              "      <td>maxtemp</td>\n",
              "      <td>21.0</td>\n",
              "      <td>99.00</td>\n",
              "      <td>66.765324</td>\n",
              "      <td>69.1</td>\n",
              "      <td>18.344989</td>\n",
              "      <td>NaN</td>\n",
              "      <td>0</td>\n",
              "    </tr>\n",
              "    <tr>\n",
              "      <th>3</th>\n",
              "      <td>rain</td>\n",
              "      <td>0.0</td>\n",
              "      <td>4.88</td>\n",
              "      <td>0.110626</td>\n",
              "      <td>0.0</td>\n",
              "      <td>0.318496</td>\n",
              "      <td>NaN</td>\n",
              "      <td>0</td>\n",
              "    </tr>\n",
              "  </tbody>\n",
              "</table>\n",
              "</div>"
            ],
            "text/plain": [
              "       input   min    max  ...     stddev  category_count  null_count\n",
              "0  dayofweek   NaN    NaN  ...        NaN             7.0           0\n",
              "1    mintemp   1.0  82.00  ...  17.919895             NaN           0\n",
              "2    maxtemp  21.0  99.00  ...  18.344989             NaN           0\n",
              "3       rain   0.0   4.88  ...   0.318496             NaN           0\n",
              "\n",
              "[4 rows x 8 columns]"
            ]
          },
          "execution_count": 40,
          "metadata": {
            "tags": []
          },
          "output_type": "execute_result"
        }
      ],
      "source": [
        "query = \"select * from ml.FEATURE_INFO(MODEL {0}.{1})\".format(dataset_name, model_name)\n",
        "df = client.query(query).to_dataframe()\n",
        "df"
      ]
    },
    {
      "cell_type": "markdown",
      "metadata": {
        "colab_type": "text",
        "id": "gjMcaw5pDOgO"
      },
      "source": [
        "## Get `ml.WEIGHTS()` for the `dayofweek`\n",
        "We created a linear model, here are the weights applied to the features of that model."
      ]
    },
    {
      "cell_type": "code",
      "execution_count": 41,
      "metadata": {
        "colab": {
          "base_uri": "https://localhost:8080/",
          "height": 202
        },
        "colab_type": "code",
        "id": "jHQkhHQ1w72e",
        "outputId": "6ff320ba-1e29-42e6-a128-30af29cb0974"
      },
      "outputs": [
        {
          "data": {
            "text/html": [
              "<div>\n",
              "<style scoped>\n",
              "    .dataframe tbody tr th:only-of-type {\n",
              "        vertical-align: middle;\n",
              "    }\n",
              "\n",
              "    .dataframe tbody tr th {\n",
              "        vertical-align: top;\n",
              "    }\n",
              "\n",
              "    .dataframe thead th {\n",
              "        text-align: right;\n",
              "    }\n",
              "</style>\n",
              "<table border=\"1\" class=\"dataframe\">\n",
              "  <thead>\n",
              "    <tr style=\"text-align: right;\">\n",
              "      <th></th>\n",
              "      <th>processed_input</th>\n",
              "      <th>weights</th>\n",
              "    </tr>\n",
              "  </thead>\n",
              "  <tbody>\n",
              "    <tr>\n",
              "      <th>0</th>\n",
              "      <td>dayofweek</td>\n",
              "      <td>NaN</td>\n",
              "    </tr>\n",
              "    <tr>\n",
              "      <th>1</th>\n",
              "      <td>mintemp</td>\n",
              "      <td>-0.003137</td>\n",
              "    </tr>\n",
              "    <tr>\n",
              "      <th>2</th>\n",
              "      <td>maxtemp</td>\n",
              "      <td>0.001394</td>\n",
              "    </tr>\n",
              "    <tr>\n",
              "      <th>3</th>\n",
              "      <td>rain</td>\n",
              "      <td>-0.005294</td>\n",
              "    </tr>\n",
              "    <tr>\n",
              "      <th>4</th>\n",
              "      <td>__INTERCEPT__</td>\n",
              "      <td>8.815234</td>\n",
              "    </tr>\n",
              "  </tbody>\n",
              "</table>\n",
              "</div>"
            ],
            "text/plain": [
              "  processed_input   weights\n",
              "0       dayofweek       NaN\n",
              "1         mintemp -0.003137\n",
              "2         maxtemp  0.001394\n",
              "3            rain -0.005294\n",
              "4   __INTERCEPT__  8.815234"
            ]
          },
          "execution_count": 41,
          "metadata": {
            "tags": []
          },
          "output_type": "execute_result"
        }
      ],
      "source": [
        "query = \"select * from ml.WEIGHTS(MODEL {0}.{1})\".format(dataset_name, model_name)\n",
        "df = client.query(query).to_dataframe()\n",
        "pd.DataFrame({ \n",
        "    \"processed_input\" : df.processed_input,\n",
        "    \"weights\": df.weight \n",
        "})"
      ]
    },
    {
      "cell_type": "code",
      "execution_count": 42,
      "metadata": {
        "colab": {
          "base_uri": "https://localhost:8080/",
          "height": 263
        },
        "colab_type": "code",
        "id": "6eBq-uLFDMCk",
        "outputId": "fb05747e-9043-40f0-e7cd-ef7bd7649e6f"
      },
      "outputs": [
        {
          "data": {
            "text/html": [
              "<div>\n",
              "<style scoped>\n",
              "    .dataframe tbody tr th:only-of-type {\n",
              "        vertical-align: middle;\n",
              "    }\n",
              "\n",
              "    .dataframe tbody tr th {\n",
              "        vertical-align: top;\n",
              "    }\n",
              "\n",
              "    .dataframe thead th {\n",
              "        text-align: right;\n",
              "    }\n",
              "</style>\n",
              "<table border=\"1\" class=\"dataframe\">\n",
              "  <thead>\n",
              "    <tr style=\"text-align: right;\">\n",
              "      <th></th>\n",
              "      <th>category</th>\n",
              "      <th>weight</th>\n",
              "    </tr>\n",
              "  </thead>\n",
              "  <tbody>\n",
              "    <tr>\n",
              "      <th>2</th>\n",
              "      <td>1</td>\n",
              "      <td>-8.08</td>\n",
              "    </tr>\n",
              "    <tr>\n",
              "      <th>1</th>\n",
              "      <td>2</td>\n",
              "      <td>-8.13</td>\n",
              "    </tr>\n",
              "    <tr>\n",
              "      <th>6</th>\n",
              "      <td>3</td>\n",
              "      <td>-8.07</td>\n",
              "    </tr>\n",
              "    <tr>\n",
              "      <th>3</th>\n",
              "      <td>4</td>\n",
              "      <td>-8.04</td>\n",
              "    </tr>\n",
              "    <tr>\n",
              "      <th>0</th>\n",
              "      <td>5</td>\n",
              "      <td>-8.03</td>\n",
              "    </tr>\n",
              "    <tr>\n",
              "      <th>4</th>\n",
              "      <td>6</td>\n",
              "      <td>-8.01</td>\n",
              "    </tr>\n",
              "    <tr>\n",
              "      <th>5</th>\n",
              "      <td>7</td>\n",
              "      <td>-8.00</td>\n",
              "    </tr>\n",
              "  </tbody>\n",
              "</table>\n",
              "</div>"
            ],
            "text/plain": [
              "  category  weight\n",
              "2        1   -8.08\n",
              "1        2   -8.13\n",
              "6        3   -8.07\n",
              "3        4   -8.04\n",
              "0        5   -8.03\n",
              "4        6   -8.01\n",
              "5        7   -8.00"
            ]
          },
          "execution_count": 42,
          "metadata": {
            "tags": []
          },
          "output_type": "execute_result"
        }
      ],
      "source": [
        "query = \"select * from ml.WEIGHTS(MODEL {0}.{1})\".format(dataset_name, model_name)\n",
        "df = client.query(query).to_dataframe()\n",
        "df = pd.DataFrame(df.category_weights[0]).sort_values(by='category')\n",
        "df.round(2)"
      ]
    },
    {
      "cell_type": "markdown",
      "metadata": {
        "colab_type": "text",
        "id": "tw9YQ3HwJkr_"
      },
      "source": [
        "## Make Predictions\n",
        "Adjust the sliders to create new input values to be evaluated by the model.  The model takes the min and max tempertatures plus rainfall for any given day of the week and returns the predicted number of taxi trips that will occur that day. "
      ]
    },
    {
      "cell_type": "code",
      "execution_count": 58,
      "metadata": {
        "colab": {
          "base_uri": "https://localhost:8080/",
          "height": 79
        },
        "colab_type": "code",
        "id": "G1fIhe5sIS8P",
        "outputId": "d74a59ed-3b19-4dc4-a715-9874d825dd71"
      },
      "outputs": [
        {
          "data": {
            "text/html": [
              "<div>\n",
              "<style scoped>\n",
              "    .dataframe tbody tr th:only-of-type {\n",
              "        vertical-align: middle;\n",
              "    }\n",
              "\n",
              "    .dataframe tbody tr th {\n",
              "        vertical-align: top;\n",
              "    }\n",
              "\n",
              "    .dataframe thead th {\n",
              "        text-align: right;\n",
              "    }\n",
              "</style>\n",
              "<table border=\"1\" class=\"dataframe\">\n",
              "  <thead>\n",
              "    <tr style=\"text-align: right;\">\n",
              "      <th></th>\n",
              "      <th>predicted_label</th>\n",
              "      <th>dayofweek</th>\n",
              "      <th>mintemp</th>\n",
              "      <th>maxtemp</th>\n",
              "      <th>rain</th>\n",
              "    </tr>\n",
              "  </thead>\n",
              "  <tbody>\n",
              "    <tr>\n",
              "      <th>0</th>\n",
              "      <td>432094</td>\n",
              "      <td>4</td>\n",
              "      <td>49</td>\n",
              "      <td>93</td>\n",
              "      <td>0</td>\n",
              "    </tr>\n",
              "  </tbody>\n",
              "</table>\n",
              "</div>"
            ],
            "text/plain": [
              "   predicted_label dayofweek  mintemp  maxtemp  rain\n",
              "0           432094         4       49       93     0"
            ]
          },
          "execution_count": 58,
          "metadata": {
            "tags": []
          },
          "output_type": "execute_result"
        }
      ],
      "source": [
        "#@title Select your input parameters { run: \"auto\", display-mode: \"form\" }\n",
        "mintemp = 49 #@param {type:\"slider\", min:1, max:90, step:1}\n",
        "maxtemp = 93 #@param {type:\"slider\", min:10, max:110, step:1}\n",
        "rain = 0 #@param {type:\"slider\", min:0, max:5, step:0.1}\n",
        "dayofweek = 4 #@param {type:\"slider\", min:1, max:7, step:1}\n",
        "\n",
        "query = \"\"\"\n",
        "  select *\n",
        "  from ml.PREDICT(\n",
        "    MODEL {0}.{1},  (\n",
        "      select  '{5}' as dayofweek,  \n",
        "              {2} as mintemp,  \n",
        "              {3} as maxtemp, \n",
        "              {4} as rain\n",
        "    )\n",
        "  )\n",
        "\"\"\".format(dataset_name, \n",
        "           model_name, \n",
        "           mintemp,\n",
        "           maxtemp,\n",
        "           rain,\n",
        "           dayofweek)\n",
        "\n",
        "df = client.query(query).to_dataframe()\n",
        "df[\"predicted_label\"] = np.multiply(df[\"predicted_label\"],maxtrips).astype(int)\n",
        "df"
      ]
    }
  ],
  "metadata": {
    "colab": {
      "collapsed_sections": [],
      "include_colab_link": true,
      "name": "ML Demo | Using BQML to make predictions.ipynb",
      "provenance": [],
      "toc_visible": true,
      "version": "0.3.2"
    },
    "kernelspec": {
      "display_name": "Python 3.9.6 64-bit",
      "language": "python",
      "name": "python3"
    },
    "language_info": {
      "name": "python",
      "version": "3.9.6"
    },
    "vscode": {
      "interpreter": {
        "hash": "31f2aee4e71d21fbe5cf8b01ff0e069b9275f58929596ceb00d14d90e3e16cd6"
      }
    }
  },
  "nbformat": 4,
  "nbformat_minor": 0
}
